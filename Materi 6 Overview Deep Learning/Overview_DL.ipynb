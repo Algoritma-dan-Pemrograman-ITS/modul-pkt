{
  "nbformat": 4,
  "nbformat_minor": 0,
  "metadata": {
    "colab": {
      "provenance": []
    },
    "kernelspec": {
      "name": "python3",
      "display_name": "Python 3"
    },
    "language_info": {
      "name": "python"
    }
  },
  "cells": [
    {
      "cell_type": "markdown",
      "source": [
        "## Overview Deep Learning\n",
        "\n",
        "Deep Learning adalah subbidang dari machine learning yang berfokus pada penggunaan jaringan neural (neural networks) untuk mempelajari representasi data secara otomatis melalui beberapa lapisan transformasi yang berurutan. Jaringan neural yang digunakan dalam deep learning terdiri dari banyak lapisan (deep neural networks), yang membuat model ini sangat kuat dalam menangkap pola kompleks dari data yang besar dan beragam.\n",
        "\n",
        "### Arsitektur-Arsitektur Dasar Neural Network\n",
        "\n",
        "#### 1. **Artificial Neural Network (ANN)**\n",
        "   - **Deskripsi**: ANN adalah arsitektur neural network yang paling sederhana. ANN terdiri dari lapisan input, satu atau lebih lapisan tersembunyi (hidden layers), dan lapisan output. Setiap lapisan terdiri dari neuron yang terhubung dengan neuron pada lapisan berikutnya melalui bobot (weights).\n",
        "   - **Aplikasi**: Umumnya digunakan untuk data tabular dalam klasifikasi dan regresi.\n",
        "   - [Link referensi](https://www.kaggle.com/code/niteshyadav3103/image-classification-with-ann)\n",
        "\n",
        "#### 2. **Recurrent Neural Network (RNN)**\n",
        "   - **Deskripsi**: RNN dirancang untuk memproses data sekuensial atau data yang memiliki dependensi temporal. RNN memiliki memori internal yang memungkinkan informasi dari langkah sebelumnya dalam sekuens untuk mempengaruhi output saat ini.\n",
        "   - **Aplikasi**: Banyak digunakan dalam pemrosesan bahasa alami (NLP), seperti teks dan suara, untuk tugas seperti penerjemahan bahasa dan analisis sentimen.\n",
        "   - [Link referensi](https://www.kaggle.com/code/kcsener/8-recurrent-neural-network-rnn-tutorial)\n",
        "\n",
        "#### 3. **Long Short-Term Memory (LSTM)**\n",
        "   - **Deskripsi**: LSTM adalah varian dari RNN yang dirancang untuk mengatasi masalah long-term dependencies, di mana informasi penting yang dibutuhkan untuk prediksi mungkin terletak jauh di masa lalu dalam sekuens. LSTM menggunakan unit memori dan gerbang untuk mengatur aliran informasi.\n",
        "   - **Aplikasi**: Digunakan dalam tugas yang membutuhkan pengolahan sekuens panjang, seperti terjemahan bahasa, analisis sentimen, dan pengenalan suara.\n",
        "   - [Link referensi](https://www.kaggle.com/code/alierenaltindag/long-short-term-memory-lstm-example)\n",
        "\n",
        "#### 4. **Convolutional Neural Network (CNN)**\n",
        "   - **Deskripsi**: CNN adalah arsitektur yang dirancang khusus untuk pengolahan data berbentuk grid, seperti gambar. CNN menggunakan lapisan konvolusi yang menerapkan filter untuk mendeteksi fitur lokal seperti tepi, sudut, dan pola visual lainnya.\n",
        "   - **Aplikasi**: Sangat populer dalam pengolahan citra dan video, termasuk klasifikasi gambar, deteksi objek, dan segmentasi gambar.\n",
        "   - [Link referensi](https://www.kaggle.com/code/kanncaa1/convolutional-neural-network-cnn-tutorial)\n",
        "\n",
        "#### 5. **Transformer**\n",
        "   - **Deskripsi**: Transformer adalah arsitektur yang diperkenalkan dalam model NLP dan kini juga digunakan dalam tugas-tugas lainnya. Transformer menggunakan mekanisme self-attention untuk memungkinkan model memperhatikan semua bagian dari input sekuens sekaligus, yang sangat efektif dalam menangkap hubungan jangka panjang dalam data.\n",
        "   - **Aplikasi**: Sangat sukses dalam NLP, digunakan dalam model seperti BERT, GPT, dan sejenisnya. Juga mulai digunakan dalam tugas lain seperti pengolahan gambar (misalnya, Vision Transformers).\n",
        "   - [Link referensi](https://pub.towardsai.net/text-classification-with-simple-transformers-a29d13358135)\n",
        "\n",
        "#### 6. **Lainnya**\n",
        "   - **GANs (Generative Adversarial Networks)**: Digunakan untuk menghasilkan data baru yang mirip dengan data asli, misalnya dalam pembuatan gambar.\n",
        "   - **Autoencoders**: Digunakan untuk reduksi dimensi dan deteksi anomali, serta generasi data.\n",
        "\n",
        "### Aplikasi pada Data Tabular, Gambar, dan Teks\n",
        "\n",
        "#### 1. **Data Tabular**\n",
        "   - **Model**: ANN sering digunakan. Deep learning sering kali tidak diperlukan untuk data tabular sederhana, tetapi dapat digunakan ketika data sangat besar atau kompleks.\n",
        "   - **Contoh Aplikasi**: Prediksi risiko kredit, analisis churn pelanggan, dan klasifikasi penyakit dalam data medis.\n",
        "\n",
        "#### 2. **Gambar**\n",
        "   - **Model**: CNN adalah model yang paling umum digunakan untuk pengolahan citra. CNN digunakan dalam berbagai tugas seperti klasifikasi gambar, segmentasi, dan deteksi objek.\n",
        "   - **YOLO (You Only Look Once)**: YOLO adalah arsitektur khusus untuk deteksi objek dalam gambar. Ini sangat efisien dan dapat melakukan deteksi dalam waktu nyata, menjadikannya pilihan populer untuk aplikasi pengawasan dan kendaraan otonom.\n",
        "   - **Contoh Aplikasi**: Deteksi wajah, klasifikasi objek dalam citra satelit, dan pengenalan tulisan tangan.\n",
        "\n",
        "#### 3. **Teks**\n",
        "   - **Model**: RNN, LSTM, dan Transformer adalah model utama yang digunakan dalam pengolahan teks. Transformer, khususnya, telah merevolusi NLP dengan model seperti BERT (Bidirectional Encoder Representations from Transformers) dan GPT (Generative Pretrained Transformer).\n",
        "   - **BERT**: BERT adalah model Transformer yang digunakan untuk tugas NLP seperti klasifikasi teks, analisis sentimen, dan pertanyaan-jawaban. BERT dilatih untuk memahami konteks kedua arah dalam teks, yang memungkinkan pemahaman yang lebih dalam terhadap makna teks.\n",
        "   - **Contoh Aplikasi**: Penerjemahan bahasa otomatis, chatbot, analisis sentimen media sosial, dan pencarian kontekstual.\n"
      ],
      "metadata": {
        "id": "Nwm72hLPa_sL"
      }
    },
    {
      "cell_type": "code",
      "execution_count": null,
      "metadata": {
        "id": "lVnSEJN-a52h"
      },
      "outputs": [],
      "source": []
    }
  ]
}