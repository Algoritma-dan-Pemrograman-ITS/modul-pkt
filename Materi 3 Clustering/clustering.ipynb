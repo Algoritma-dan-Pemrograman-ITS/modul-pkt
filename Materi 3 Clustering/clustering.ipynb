{
  "cells": [
    {
      "cell_type": "markdown",
      "metadata": {
        "id": "x_NBfyqxMQFs"
      },
      "source": [
        "## Business Understanding\n",
        "[Google Colab Terbaru](https://colab.research.google.com/drive/1MWkH0j0BuHP_khtcQ-7PUKdURDSUsJkw?usp=sharing)"
      ]
    },
    {
      "cell_type": "markdown",
      "metadata": {
        "id": "T5oKpL_xLA7M"
      },
      "source": [
        "> Dataset yang digunakan adalah data pelanggan di suatu mall\n",
        "\n",
        "<p align=\"center\">\n",
        "  <img src=\"https://hqlco.github.io/dataset/Mall-of-the-Emirates.webp\" alt=\"Deskripsi Gambar\" width=\"500\" height=\"300\">\n",
        "</p>\n",
        "\n",
        "#### **1. Latar Belakang**\n",
        "Mall atau pusat perbelanjaan adalah tempat yang menawarkan berbagai macam produk dan layanan kepada konsumen. Untuk meningkatkan keuntungan dan efisiensi pemasaran, manajemen mall perlu memahami perilaku pelanggan mereka. Pemahaman ini memungkinkan mall untuk menargetkan pelanggan yang tepat dengan penawaran yang relevan, sehingga meningkatkan pengalaman berbelanja dan loyalitas pelanggan.\n",
        "\n",
        "#### **2. Tujuan**\n",
        "Tujuan utama dari analisis ini adalah untuk mengidentifikasi segmen-segmen pelanggan berdasarkan perilaku mereka dalam hal pendapatan tahunan dan pola pengeluaran. Dengan memisahkan pelanggan ke dalam segmen yang berbeda, mall dapat merancang strategi pemasaran yang lebih terarah dan efektif, misalnya dengan menyesuaikan promosi, tata letak toko, atau layanan khusus untuk setiap segmen pelanggan.\n",
        "\n",
        "#### **3. Implikasi Keputusan**\n",
        "Setelah segmen pelanggan diidentifikasi melalui analisis ini, manajemen mall dapat membuat keputusan yang lebih baik terkait alokasi anggaran pemasaran, penempatan produk, penawaran khusus, dan pengembangan fasilitas yang lebih menarik bagi segmen pelanggan yang paling menguntungkan."
      ]
    },
    {
      "cell_type": "markdown",
      "metadata": {
        "id": "9L9LeTCfM5zL"
      },
      "source": [
        "### Load Dataset"
      ]
    },
    {
      "cell_type": "code",
      "execution_count": null,
      "metadata": {
        "colab": {
          "base_uri": "https://localhost:8080/",
          "height": 206
        },
        "id": "Jl97gb_eiPOX",
        "outputId": "c2295caa-fa92-48ab-c3c1-b16890a15cbc"
      },
      "outputs": [
        {
          "data": {
            "application/vnd.google.colaboratory.intrinsic+json": {
              "summary": "{\n  \"name\": \"df\",\n  \"rows\": 200,\n  \"fields\": [\n    {\n      \"column\": \"CustomerID\",\n      \"properties\": {\n        \"dtype\": \"number\",\n        \"std\": 57,\n        \"min\": 1,\n        \"max\": 200,\n        \"num_unique_values\": 200,\n        \"samples\": [\n          96,\n          16,\n          31\n        ],\n        \"semantic_type\": \"\",\n        \"description\": \"\"\n      }\n    },\n    {\n      \"column\": \"Genre\",\n      \"properties\": {\n        \"dtype\": \"category\",\n        \"num_unique_values\": 2,\n        \"samples\": [\n          \"Female\",\n          \"Male\"\n        ],\n        \"semantic_type\": \"\",\n        \"description\": \"\"\n      }\n    },\n    {\n      \"column\": \"Age\",\n      \"properties\": {\n        \"dtype\": \"number\",\n        \"std\": 13,\n        \"min\": 18,\n        \"max\": 70,\n        \"num_unique_values\": 51,\n        \"samples\": [\n          55,\n          26\n        ],\n        \"semantic_type\": \"\",\n        \"description\": \"\"\n      }\n    },\n    {\n      \"column\": \"Annual Income (k$)\",\n      \"properties\": {\n        \"dtype\": \"number\",\n        \"std\": 26,\n        \"min\": 15,\n        \"max\": 137,\n        \"num_unique_values\": 64,\n        \"samples\": [\n          87,\n          101\n        ],\n        \"semantic_type\": \"\",\n        \"description\": \"\"\n      }\n    },\n    {\n      \"column\": \"Spending Score (1-100)\",\n      \"properties\": {\n        \"dtype\": \"number\",\n        \"std\": 25,\n        \"min\": 1,\n        \"max\": 99,\n        \"num_unique_values\": 84,\n        \"samples\": [\n          83,\n          39\n        ],\n        \"semantic_type\": \"\",\n        \"description\": \"\"\n      }\n    }\n  ]\n}",
              "type": "dataframe",
              "variable_name": "df"
            },
            "text/html": [
              "\n",
              "  <div id=\"df-031bb5a7-3c25-4e4d-b276-28d1ffcf0a29\" class=\"colab-df-container\">\n",
              "    <div>\n",
              "<style scoped>\n",
              "    .dataframe tbody tr th:only-of-type {\n",
              "        vertical-align: middle;\n",
              "    }\n",
              "\n",
              "    .dataframe tbody tr th {\n",
              "        vertical-align: top;\n",
              "    }\n",
              "\n",
              "    .dataframe thead th {\n",
              "        text-align: right;\n",
              "    }\n",
              "</style>\n",
              "<table border=\"1\" class=\"dataframe\">\n",
              "  <thead>\n",
              "    <tr style=\"text-align: right;\">\n",
              "      <th></th>\n",
              "      <th>CustomerID</th>\n",
              "      <th>Genre</th>\n",
              "      <th>Age</th>\n",
              "      <th>Annual Income (k$)</th>\n",
              "      <th>Spending Score (1-100)</th>\n",
              "    </tr>\n",
              "  </thead>\n",
              "  <tbody>\n",
              "    <tr>\n",
              "      <th>0</th>\n",
              "      <td>1</td>\n",
              "      <td>Male</td>\n",
              "      <td>19</td>\n",
              "      <td>15</td>\n",
              "      <td>39</td>\n",
              "    </tr>\n",
              "    <tr>\n",
              "      <th>1</th>\n",
              "      <td>2</td>\n",
              "      <td>Male</td>\n",
              "      <td>21</td>\n",
              "      <td>15</td>\n",
              "      <td>81</td>\n",
              "    </tr>\n",
              "    <tr>\n",
              "      <th>2</th>\n",
              "      <td>3</td>\n",
              "      <td>Female</td>\n",
              "      <td>20</td>\n",
              "      <td>16</td>\n",
              "      <td>6</td>\n",
              "    </tr>\n",
              "    <tr>\n",
              "      <th>3</th>\n",
              "      <td>4</td>\n",
              "      <td>Female</td>\n",
              "      <td>23</td>\n",
              "      <td>16</td>\n",
              "      <td>77</td>\n",
              "    </tr>\n",
              "    <tr>\n",
              "      <th>4</th>\n",
              "      <td>5</td>\n",
              "      <td>Female</td>\n",
              "      <td>31</td>\n",
              "      <td>17</td>\n",
              "      <td>40</td>\n",
              "    </tr>\n",
              "  </tbody>\n",
              "</table>\n",
              "</div>\n",
              "    <div class=\"colab-df-buttons\">\n",
              "\n",
              "  <div class=\"colab-df-container\">\n",
              "    <button class=\"colab-df-convert\" onclick=\"convertToInteractive('df-031bb5a7-3c25-4e4d-b276-28d1ffcf0a29')\"\n",
              "            title=\"Convert this dataframe to an interactive table.\"\n",
              "            style=\"display:none;\">\n",
              "\n",
              "  <svg xmlns=\"http://www.w3.org/2000/svg\" height=\"24px\" viewBox=\"0 -960 960 960\">\n",
              "    <path d=\"M120-120v-720h720v720H120Zm60-500h600v-160H180v160Zm220 220h160v-160H400v160Zm0 220h160v-160H400v160ZM180-400h160v-160H180v160Zm440 0h160v-160H620v160ZM180-180h160v-160H180v160Zm440 0h160v-160H620v160Z\"/>\n",
              "  </svg>\n",
              "    </button>\n",
              "\n",
              "  <style>\n",
              "    .colab-df-container {\n",
              "      display:flex;\n",
              "      gap: 12px;\n",
              "    }\n",
              "\n",
              "    .colab-df-convert {\n",
              "      background-color: #E8F0FE;\n",
              "      border: none;\n",
              "      border-radius: 50%;\n",
              "      cursor: pointer;\n",
              "      display: none;\n",
              "      fill: #1967D2;\n",
              "      height: 32px;\n",
              "      padding: 0 0 0 0;\n",
              "      width: 32px;\n",
              "    }\n",
              "\n",
              "    .colab-df-convert:hover {\n",
              "      background-color: #E2EBFA;\n",
              "      box-shadow: 0px 1px 2px rgba(60, 64, 67, 0.3), 0px 1px 3px 1px rgba(60, 64, 67, 0.15);\n",
              "      fill: #174EA6;\n",
              "    }\n",
              "\n",
              "    .colab-df-buttons div {\n",
              "      margin-bottom: 4px;\n",
              "    }\n",
              "\n",
              "    [theme=dark] .colab-df-convert {\n",
              "      background-color: #3B4455;\n",
              "      fill: #D2E3FC;\n",
              "    }\n",
              "\n",
              "    [theme=dark] .colab-df-convert:hover {\n",
              "      background-color: #434B5C;\n",
              "      box-shadow: 0px 1px 3px 1px rgba(0, 0, 0, 0.15);\n",
              "      filter: drop-shadow(0px 1px 2px rgba(0, 0, 0, 0.3));\n",
              "      fill: #FFFFFF;\n",
              "    }\n",
              "  </style>\n",
              "\n",
              "    <script>\n",
              "      const buttonEl =\n",
              "        document.querySelector('#df-031bb5a7-3c25-4e4d-b276-28d1ffcf0a29 button.colab-df-convert');\n",
              "      buttonEl.style.display =\n",
              "        google.colab.kernel.accessAllowed ? 'block' : 'none';\n",
              "\n",
              "      async function convertToInteractive(key) {\n",
              "        const element = document.querySelector('#df-031bb5a7-3c25-4e4d-b276-28d1ffcf0a29');\n",
              "        const dataTable =\n",
              "          await google.colab.kernel.invokeFunction('convertToInteractive',\n",
              "                                                    [key], {});\n",
              "        if (!dataTable) return;\n",
              "\n",
              "        const docLinkHtml = 'Like what you see? Visit the ' +\n",
              "          '<a target=\"_blank\" href=https://colab.research.google.com/notebooks/data_table.ipynb>data table notebook</a>'\n",
              "          + ' to learn more about interactive tables.';\n",
              "        element.innerHTML = '';\n",
              "        dataTable['output_type'] = 'display_data';\n",
              "        await google.colab.output.renderOutput(dataTable, element);\n",
              "        const docLink = document.createElement('div');\n",
              "        docLink.innerHTML = docLinkHtml;\n",
              "        element.appendChild(docLink);\n",
              "      }\n",
              "    </script>\n",
              "  </div>\n",
              "\n",
              "\n",
              "<div id=\"df-444c539a-6283-4585-81d9-f3a52d1ed66a\">\n",
              "  <button class=\"colab-df-quickchart\" onclick=\"quickchart('df-444c539a-6283-4585-81d9-f3a52d1ed66a')\"\n",
              "            title=\"Suggest charts\"\n",
              "            style=\"display:none;\">\n",
              "\n",
              "<svg xmlns=\"http://www.w3.org/2000/svg\" height=\"24px\"viewBox=\"0 0 24 24\"\n",
              "     width=\"24px\">\n",
              "    <g>\n",
              "        <path d=\"M19 3H5c-1.1 0-2 .9-2 2v14c0 1.1.9 2 2 2h14c1.1 0 2-.9 2-2V5c0-1.1-.9-2-2-2zM9 17H7v-7h2v7zm4 0h-2V7h2v10zm4 0h-2v-4h2v4z\"/>\n",
              "    </g>\n",
              "</svg>\n",
              "  </button>\n",
              "\n",
              "<style>\n",
              "  .colab-df-quickchart {\n",
              "      --bg-color: #E8F0FE;\n",
              "      --fill-color: #1967D2;\n",
              "      --hover-bg-color: #E2EBFA;\n",
              "      --hover-fill-color: #174EA6;\n",
              "      --disabled-fill-color: #AAA;\n",
              "      --disabled-bg-color: #DDD;\n",
              "  }\n",
              "\n",
              "  [theme=dark] .colab-df-quickchart {\n",
              "      --bg-color: #3B4455;\n",
              "      --fill-color: #D2E3FC;\n",
              "      --hover-bg-color: #434B5C;\n",
              "      --hover-fill-color: #FFFFFF;\n",
              "      --disabled-bg-color: #3B4455;\n",
              "      --disabled-fill-color: #666;\n",
              "  }\n",
              "\n",
              "  .colab-df-quickchart {\n",
              "    background-color: var(--bg-color);\n",
              "    border: none;\n",
              "    border-radius: 50%;\n",
              "    cursor: pointer;\n",
              "    display: none;\n",
              "    fill: var(--fill-color);\n",
              "    height: 32px;\n",
              "    padding: 0;\n",
              "    width: 32px;\n",
              "  }\n",
              "\n",
              "  .colab-df-quickchart:hover {\n",
              "    background-color: var(--hover-bg-color);\n",
              "    box-shadow: 0 1px 2px rgba(60, 64, 67, 0.3), 0 1px 3px 1px rgba(60, 64, 67, 0.15);\n",
              "    fill: var(--button-hover-fill-color);\n",
              "  }\n",
              "\n",
              "  .colab-df-quickchart-complete:disabled,\n",
              "  .colab-df-quickchart-complete:disabled:hover {\n",
              "    background-color: var(--disabled-bg-color);\n",
              "    fill: var(--disabled-fill-color);\n",
              "    box-shadow: none;\n",
              "  }\n",
              "\n",
              "  .colab-df-spinner {\n",
              "    border: 2px solid var(--fill-color);\n",
              "    border-color: transparent;\n",
              "    border-bottom-color: var(--fill-color);\n",
              "    animation:\n",
              "      spin 1s steps(1) infinite;\n",
              "  }\n",
              "\n",
              "  @keyframes spin {\n",
              "    0% {\n",
              "      border-color: transparent;\n",
              "      border-bottom-color: var(--fill-color);\n",
              "      border-left-color: var(--fill-color);\n",
              "    }\n",
              "    20% {\n",
              "      border-color: transparent;\n",
              "      border-left-color: var(--fill-color);\n",
              "      border-top-color: var(--fill-color);\n",
              "    }\n",
              "    30% {\n",
              "      border-color: transparent;\n",
              "      border-left-color: var(--fill-color);\n",
              "      border-top-color: var(--fill-color);\n",
              "      border-right-color: var(--fill-color);\n",
              "    }\n",
              "    40% {\n",
              "      border-color: transparent;\n",
              "      border-right-color: var(--fill-color);\n",
              "      border-top-color: var(--fill-color);\n",
              "    }\n",
              "    60% {\n",
              "      border-color: transparent;\n",
              "      border-right-color: var(--fill-color);\n",
              "    }\n",
              "    80% {\n",
              "      border-color: transparent;\n",
              "      border-right-color: var(--fill-color);\n",
              "      border-bottom-color: var(--fill-color);\n",
              "    }\n",
              "    90% {\n",
              "      border-color: transparent;\n",
              "      border-bottom-color: var(--fill-color);\n",
              "    }\n",
              "  }\n",
              "</style>\n",
              "\n",
              "  <script>\n",
              "    async function quickchart(key) {\n",
              "      const quickchartButtonEl =\n",
              "        document.querySelector('#' + key + ' button');\n",
              "      quickchartButtonEl.disabled = true;  // To prevent multiple clicks.\n",
              "      quickchartButtonEl.classList.add('colab-df-spinner');\n",
              "      try {\n",
              "        const charts = await google.colab.kernel.invokeFunction(\n",
              "            'suggestCharts', [key], {});\n",
              "      } catch (error) {\n",
              "        console.error('Error during call to suggestCharts:', error);\n",
              "      }\n",
              "      quickchartButtonEl.classList.remove('colab-df-spinner');\n",
              "      quickchartButtonEl.classList.add('colab-df-quickchart-complete');\n",
              "    }\n",
              "    (() => {\n",
              "      let quickchartButtonEl =\n",
              "        document.querySelector('#df-444c539a-6283-4585-81d9-f3a52d1ed66a button');\n",
              "      quickchartButtonEl.style.display =\n",
              "        google.colab.kernel.accessAllowed ? 'block' : 'none';\n",
              "    })();\n",
              "  </script>\n",
              "</div>\n",
              "\n",
              "    </div>\n",
              "  </div>\n"
            ],
            "text/plain": [
              "   CustomerID   Genre  Age  Annual Income (k$)  Spending Score (1-100)\n",
              "0           1    Male   19                  15                      39\n",
              "1           2    Male   21                  15                      81\n",
              "2           3  Female   20                  16                       6\n",
              "3           4  Female   23                  16                      77\n",
              "4           5  Female   31                  17                      40"
            ]
          },
          "execution_count": 1,
          "metadata": {},
          "output_type": "execute_result"
        }
      ],
      "source": [
        "import pandas as pd\n",
        "df = pd.read_csv(\"https://hqlco.github.io/dataset/Mall_Customers.csv\")\n",
        "df.head()"
      ]
    },
    {
      "cell_type": "markdown",
      "metadata": {
        "id": "Sh72zjSQMSnO"
      },
      "source": [
        "## Data Understanding"
      ]
    },
    {
      "cell_type": "markdown",
      "metadata": {
        "id": "ElMbiVecnWsQ"
      },
      "source": [
        "Tahap awal dalam proses data science atau machine learning yang bertujuan untuk memahami karakteristik, struktur, dan kualitas data yang tersedia. Tahap ini sangat penting karena pemahaman yang baik tentang data akan mempengaruhi keputusan dan langkah-langkah selanjutnya dalam proyek analisis data atau pengembangan model."
      ]
    },
    {
      "cell_type": "markdown",
      "metadata": {
        "id": "OsgwuDf1wmaD"
      },
      "source": [
        "- Menampilkan lima baris pertama dari dataset"
      ]
    },
    {
      "cell_type": "code",
      "execution_count": null,
      "metadata": {
        "colab": {
          "base_uri": "https://localhost:8080/"
        },
        "id": "-EGdLNPtwlLX",
        "outputId": "03841dee-e5d9-4095-9cc2-8e8a866c4795"
      },
      "outputs": [
        {
          "name": "stdout",
          "output_type": "stream",
          "text": [
            "Lima baris pertama dari dataset:\n",
            "   CustomerID   Genre  Age  Annual Income (k$)  Spending Score (1-100)\n",
            "0           1    Male   19                  15                      39\n",
            "1           2    Male   21                  15                      81\n",
            "2           3  Female   20                  16                       6\n",
            "3           4  Female   23                  16                      77\n",
            "4           5  Female   31                  17                      40\n"
          ]
        }
      ],
      "source": [
        "# Menampilkan lima baris pertama dari dataset\n",
        "print(\"Lima baris pertama dari dataset:\")\n",
        "print(df.head())"
      ]
    },
    {
      "cell_type": "markdown",
      "metadata": {
        "id": "6bPNfyAQwwjA"
      },
      "source": [
        "- Menampilkan informasi tentang dataset"
      ]
    },
    {
      "cell_type": "code",
      "execution_count": null,
      "metadata": {
        "colab": {
          "base_uri": "https://localhost:8080/"
        },
        "id": "4oWJdcr5w3-U",
        "outputId": "550fbf7c-7da8-4cc5-9016-060d81c9640a"
      },
      "outputs": [
        {
          "name": "stdout",
          "output_type": "stream",
          "text": [
            "\n",
            "Informasi tentang dataset:\n",
            "<class 'pandas.core.frame.DataFrame'>\n",
            "RangeIndex: 200 entries, 0 to 199\n",
            "Data columns (total 5 columns):\n",
            " #   Column                  Non-Null Count  Dtype \n",
            "---  ------                  --------------  ----- \n",
            " 0   CustomerID              200 non-null    int64 \n",
            " 1   Genre                   200 non-null    object\n",
            " 2   Age                     200 non-null    int64 \n",
            " 3   Annual Income (k$)      200 non-null    int64 \n",
            " 4   Spending Score (1-100)  200 non-null    int64 \n",
            "dtypes: int64(4), object(1)\n",
            "memory usage: 7.9+ KB\n",
            "None\n"
          ]
        }
      ],
      "source": [
        "# Menampilkan informasi tentang dataset\n",
        "print(\"\\nInformasi tentang dataset:\")\n",
        "print(df.info())"
      ]
    },
    {
      "cell_type": "markdown",
      "metadata": {
        "id": "nnN3_y-lw6vk"
      },
      "source": [
        "- Menampilkan statistik ringkasan dari dataset"
      ]
    },
    {
      "cell_type": "code",
      "execution_count": null,
      "metadata": {
        "colab": {
          "base_uri": "https://localhost:8080/"
        },
        "id": "--jIoVAGw_DD",
        "outputId": "d64b7301-c7c0-4add-9e8e-d548da9361f8"
      },
      "outputs": [
        {
          "name": "stdout",
          "output_type": "stream",
          "text": [
            "\n",
            "Statistik ringkasan dari dataset:\n",
            "       CustomerID         Age  Annual Income (k$)  Spending Score (1-100)\n",
            "count  200.000000  200.000000          200.000000              200.000000\n",
            "mean   100.500000   38.850000           60.560000               50.200000\n",
            "std     57.879185   13.969007           26.264721               25.823522\n",
            "min      1.000000   18.000000           15.000000                1.000000\n",
            "25%     50.750000   28.750000           41.500000               34.750000\n",
            "50%    100.500000   36.000000           61.500000               50.000000\n",
            "75%    150.250000   49.000000           78.000000               73.000000\n",
            "max    200.000000   70.000000          137.000000               99.000000\n"
          ]
        }
      ],
      "source": [
        "# Menampilkan statistik ringkasan dari dataset\n",
        "print(\"\\nStatistik ringkasan dari dataset:\")\n",
        "print(df.describe())"
      ]
    },
    {
      "cell_type": "markdown",
      "metadata": {
        "id": "J5YpDS7Tw_0P"
      },
      "source": [
        "- Memeriksa missing values"
      ]
    },
    {
      "cell_type": "code",
      "execution_count": null,
      "metadata": {
        "colab": {
          "base_uri": "https://localhost:8080/"
        },
        "id": "9S5jkov-xAHL",
        "outputId": "bcc90600-4ff0-444b-fb07-aad2488c2846"
      },
      "outputs": [
        {
          "name": "stdout",
          "output_type": "stream",
          "text": [
            "\n",
            "Missing values dalam dataset:\n",
            "CustomerID                0\n",
            "Genre                     0\n",
            "Age                       0\n",
            "Annual Income (k$)        0\n",
            "Spending Score (1-100)    0\n",
            "dtype: int64\n"
          ]
        }
      ],
      "source": [
        "# Memeriksa missing values\n",
        "print(\"\\nMissing values dalam dataset:\")\n",
        "print(df.isnull().sum())"
      ]
    },
    {
      "cell_type": "markdown",
      "metadata": {
        "id": "26AML2S7xWpQ"
      },
      "source": [
        "- Menampilkan distribusi data untuk fitur kategorikal"
      ]
    },
    {
      "cell_type": "code",
      "execution_count": null,
      "metadata": {
        "colab": {
          "base_uri": "https://localhost:8080/"
        },
        "id": "rNHNAd7kxXJM",
        "outputId": "5319807a-074f-4646-955f-37e0fa639d3d"
      },
      "outputs": [
        {
          "name": "stdout",
          "output_type": "stream",
          "text": [
            "\n",
            "Distribusi fitur kategorikal:\n",
            "Genre\n",
            "Female    112\n",
            "Male       88\n",
            "Name: count, dtype: int64\n"
          ]
        }
      ],
      "source": [
        "# Menampilkan distribusi data untuk fitur kategorikal\n",
        "print(\"\\nDistribusi fitur kategorikal:\")\n",
        "print(df['Genre'].value_counts())"
      ]
    },
    {
      "cell_type": "markdown",
      "metadata": {
        "id": "PEljYMUSMS6g"
      },
      "source": [
        "## Data Preprocessing"
      ]
    },
    {
      "cell_type": "markdown",
      "metadata": {
        "id": "ER9W1oLEngz2"
      },
      "source": [
        "Tahap Selanjutnya dalam data science atau machine learning, di mana data mentah yang telah dikumpulkan dan dipahami diolah dan dipersiapkan agar siap digunakan dalam analisis atau pembangunan model. Proses ini bertujuan untuk memastikan bahwa data yang digunakan berkualitas tinggi, bebas dari kesalahan, dan dalam format yang sesuai untuk teknik analitis atau algoritma yang akan digunakan."
      ]
    },
    {
      "cell_type": "markdown",
      "metadata": {
        "id": "DPyhjlu1xoAw"
      },
      "source": [
        "- Mengonversi data kategorikal menjadi numerik (jika diperlukan)"
      ]
    },
    {
      "cell_type": "code",
      "execution_count": null,
      "metadata": {
        "id": "Zxp-aInZxotg"
      },
      "outputs": [],
      "source": [
        "# Mengonversi data kategorikal menjadi numerik (jika diperlukan)\n",
        "df['Genre'] = df['Genre'].map({'Male': 0, 'Female': 1})"
      ]
    },
    {
      "cell_type": "markdown",
      "metadata": {
        "id": "gPCA1Wzax2Cz"
      },
      "source": [
        "- Memeriksa outlier menggunakan metode IQR"
      ]
    },
    {
      "cell_type": "code",
      "execution_count": null,
      "metadata": {
        "colab": {
          "base_uri": "https://localhost:8080/"
        },
        "id": "2rC6W5nHx5Sd",
        "outputId": "e03c3909-9e4b-424a-f350-054a581de126"
      },
      "outputs": [
        {
          "name": "stdout",
          "output_type": "stream",
          "text": [
            "\n",
            "Jumlah outlier di setiap kolom:\n",
            "CustomerID                0\n",
            "Genre                     0\n",
            "Age                       0\n",
            "Annual Income (k$)        2\n",
            "Spending Score (1-100)    0\n",
            "dtype: int64\n"
          ]
        }
      ],
      "source": [
        "# Memeriksa outlier menggunakan metode IQR\n",
        "Q1 = df.quantile(0.25)\n",
        "Q3 = df.quantile(0.75)\n",
        "IQR = Q3 - Q1\n",
        "outliers = ((df < (Q1 - 1.5 * IQR)) | (df > (Q3 + 1.5 * IQR))).sum()\n",
        "\n",
        "print(\"\\nJumlah outlier di setiap kolom:\")\n",
        "print(outliers)"
      ]
    },
    {
      "cell_type": "markdown",
      "metadata": {
        "id": "Ta_co3U3yY7m"
      },
      "source": [
        "- Menyaring data outlier"
      ]
    },
    {
      "cell_type": "code",
      "execution_count": null,
      "metadata": {
        "colab": {
          "base_uri": "https://localhost:8080/"
        },
        "id": "Yty0jWjuyXpS",
        "outputId": "9896456a-b6d0-4992-8774-ed1b1f61711c"
      },
      "outputs": [
        {
          "name": "stdout",
          "output_type": "stream",
          "text": [
            "\n",
            "Data yang merupakan outlier:\n",
            "     CustomerID  Genre  Age  Annual Income (k$)  Spending Score (1-100)\n",
            "198         199      0   32                 137                      18\n",
            "199         200      0   30                 137                      83\n"
          ]
        }
      ],
      "source": [
        "# Menyaring data outlier\n",
        "outliers = df[((df < (Q1 - 1.5 * IQR)) | (df > (Q3 + 1.5 * IQR))).any(axis=1)]\n",
        "\n",
        "print(\"\\nData yang merupakan outlier:\")\n",
        "print(outliers)"
      ]
    },
    {
      "cell_type": "markdown",
      "metadata": {
        "id": "fRdr9s4ayfj2"
      },
      "source": [
        "- Drop data yang mengandung outlier data"
      ]
    },
    {
      "cell_type": "code",
      "execution_count": null,
      "metadata": {
        "id": "lBJcXK04yoAZ"
      },
      "outputs": [],
      "source": [
        "df = df.drop(outliers.index)"
      ]
    },
    {
      "cell_type": "markdown",
      "metadata": {
        "id": "trDEWRYCnsD2"
      },
      "source": [
        "# Algoritma Clustering"
      ]
    },
    {
      "cell_type": "markdown",
      "metadata": {
        "id": "EPH4Q7asy0Mj"
      },
      "source": [
        "## K-MEANS"
      ]
    },
    {
      "cell_type": "markdown",
      "metadata": {
        "id": "2z6I5uUoIu5Q"
      },
      "source": [
        "#### Apa itu K-Means?\n",
        "K-Means adalah algoritma **unsupervised learning** yang digunakan untuk mengelompokkan data ke dalam sejumlah klaster yang telah ditentukan sebelumnya. Tujuan utama K-Means adalah untuk meminimalkan variasi (jarak) dalam setiap klaster dan memaksimalkan variasi antara klaster yang berbeda.\n",
        "\n",
        "Contoh sederhana ilustrasi algoritma K-Means:\n",
        "\n",
        "<p align=\"center\">\n",
        "  <img src=\"https://hqlco.github.io/dataset/kmeans-gif.gif\" alt=\"Deskripsi Gambar\" width=\"500\" height=\"400\">\n",
        "</p>\n",
        "\n",
        "\n",
        "#### Langkah-Langkah Algoritma K-Means:\n",
        "Berikut adalah langkah-langkah algoritma K-Means secara lebih rinci, termasuk perhitungan matematis yang terlibat:\n",
        "\n",
        "### 1. Inisialisasi\n",
        "\n",
        "- **Pilih jumlah klaster (k):**\n",
        "  Tentukan jumlah klaster yang diinginkan (`k`), yang akan menjadi jumlah kelompok yang terbentuk dari data.\n",
        "\n",
        "- **Pilih centroid awal:**\n",
        "  Secara acak pilih `k` titik dari dataset sebagai centroid awal. Centroid ini akan menjadi titik pusat dari klaster awal yang terbentuk.\n",
        "\n",
        "### 2. Penugasan Klaster\n",
        "\n",
        "- **Hitung jarak:**\n",
        "  Untuk setiap titik data `x_i`, hitung jarak ke setiap centroid `C_j` menggunakan rumus jarak, biasanya Euclidean distance:\n",
        "\n",
        "  $$\n",
        "  d(x_i, C_j) = \\sqrt{(x_{i1} - C_{j1})^2 + (x_{i2} - C_{j2})^2 + \\dots + (x_{in} - C_{jn})^2}\n",
        "  $$\n",
        "\n",
        "  Di sini, $x_i$ dan $C_j$ adalah vektor dari titik data dan centroid ke-j, masing-masing.\n",
        "\n",
        "- **Tetapkan ke klaster terdekat:**\n",
        "  Tetapkan setiap titik data ke klaster dengan centroid terdekat, yaitu klaster dengan nilai jarak terendah.\n",
        "\n",
        "### 3. Menghitung Ulang Centroid\n",
        "\n",
        "- **Hitung centroid baru:**\n",
        "  Setelah semua titik data ditetapkan ke klaster, hitung ulang centroid untuk setiap klaster. Centroid baru dihitung sebagai rata-rata dari semua titik data dalam klaster tersebut:\n",
        "\n",
        "  $$\n",
        "  C_j = \\frac{1}{n_j} \\sum_{i=1}^{n_j} x_i\n",
        "  $$\n",
        "\n",
        "  Di sini, $ C_j $ adalah centroid baru dari klaster ke-j, $ n_j $ adalah jumlah titik dalam klaster ke-j, dan $ x_i $ adalah vektor dari titik data yang termasuk dalam klaster tersebut.\n",
        "\n",
        "### 4. Iterasi\n",
        "\n",
        "- **Periksa konvergensi:**\n",
        "  Ulangi langkah penugasan klaster dan menghitung ulang centroid hingga kondisi konvergensi tercapai. Kondisi konvergensi biasanya dicapai jika:\n",
        "  - Centroid tidak lagi berubah posisi secara signifikan, yaitu perubahan dalam posisi centroid berada di bawah ambang batas yang ditentukan.\n",
        "  - Atau telah mencapai iterasi maksimum yang telah ditetapkan sebelumnya.\n",
        "\n",
        "### 5. Hasil Akhir\n",
        "\n",
        "- **Output klaster:**\n",
        "  Setelah iterasi selesai, algoritma menghasilkan pembagian data menjadi `k` klaster. Setiap klaster memiliki centroid yang mewakili pusat dari klaster tersebut, dan setiap titik data ditetapkan ke salah satu dari `k` klaster.\n",
        "\n",
        "### Contoh Perhitungan Sederhana\n",
        "\n",
        "Misalkan kita memiliki dataset dua dimensi dengan tiga titik data: A (1,2), B (2,3), C (4,5) dan kita ingin membaginya menjadi dua klaster (k=2).\n",
        "\n",
        "1. **Inisialisasi:**\n",
        "   Pilih centroid awal, misalnya A dan C sebagai centroid awal (C1 = A = (1,2), C2 = C = (4,5)).\n",
        "\n",
        "2. **Penugasan Klaster:**\n",
        "   - Hitung jarak dari B ke C1 dan C2:\n",
        "     - $$\\( d(B, C1) = \\sqrt{(2-1)^2 + (3-2)^2} = \\sqrt{1+1} = \\sqrt{2} \\)$$\n",
        "     - $$\\( d(B, C2) = \\sqrt{(2-4)^2 + (3-5)^2} = \\sqrt{4+4} = \\sqrt{8} \\)$$\n",
        "   - B lebih dekat ke C1, jadi B ditetapkan ke klaster dengan centroid C1.\n",
        "\n",
        "3. **Menghitung Ulang Centroid:**\n",
        "   - Hitung centroid baru untuk klaster 1 (yang berisi A dan B):\n",
        "     - $$\\( C1_{\\text{baru}} = \\frac{(1,2) + (2,3)}{2} = (1.5, 2.5) \\)$$\n",
        "   - Klaster 2 tetap hanya berisi C, jadi centroidnya tidak berubah.\n",
        "\n",
        "4. **Iterasi:**\n",
        "   - Ulangi penugasan klaster dan perhitungan centroid hingga tidak ada perubahan yang signifikan pada centroid atau jumlah iterasi maksimum tercapai.\n",
        "\n",
        "5. **Hasil Akhir:**\n",
        "   - Data terkelompok menjadi dua klaster dengan centroid final yang mewakili masing-masing klaster.\n",
        "\n",
        "\n",
        "\n"
      ]
    },
    {
      "cell_type": "markdown",
      "metadata": {
        "id": "MQC_j898MTSv"
      },
      "source": [
        "### Modeling"
      ]
    },
    {
      "cell_type": "markdown",
      "metadata": {
        "id": "0M_wZXZrF84r"
      },
      "source": [
        "- Import library"
      ]
    },
    {
      "cell_type": "code",
      "execution_count": null,
      "metadata": {
        "id": "3Y6r0Ggryz6H"
      },
      "outputs": [],
      "source": [
        "import pandas as pd\n",
        "import matplotlib.pyplot as plt\n",
        "from sklearn.cluster import KMeans"
      ]
    },
    {
      "cell_type": "markdown",
      "metadata": {
        "id": "QEQP0FtoGGX3"
      },
      "source": [
        "- Memilih fitur yang digunakan untuk K-Means (Annual Income dan Spending Score)"
      ]
    },
    {
      "cell_type": "code",
      "execution_count": null,
      "metadata": {
        "id": "tqpQSa6mGKqS"
      },
      "outputs": [],
      "source": [
        "X = df[['Annual Income (k$)', 'Spending Score (1-100)']]"
      ]
    },
    {
      "cell_type": "markdown",
      "metadata": {
        "id": "Kn0EDtltGLiK"
      },
      "source": [
        "- Tentukan jumlah klaster yang diinginkan dan lakukan modeling"
      ]
    },
    {
      "cell_type": "code",
      "execution_count": null,
      "metadata": {
        "colab": {
          "base_uri": "https://localhost:8080/",
          "height": 131
        },
        "id": "R4hklEooGPts",
        "outputId": "a8af7acd-f36d-4f85-9ce4-5a6d28f5c2cb"
      },
      "outputs": [
        {
          "name": "stderr",
          "output_type": "stream",
          "text": [
            "/usr/local/lib/python3.10/dist-packages/sklearn/cluster/_kmeans.py:1416: FutureWarning: The default value of `n_init` will change from 10 to 'auto' in 1.4. Set the value of `n_init` explicitly to suppress the warning\n",
            "  super()._check_params_vs_input(X, default_n_init=10)\n"
          ]
        },
        {
          "data": {
            "text/html": [
              "<style>#sk-container-id-1 {color: black;}#sk-container-id-1 pre{padding: 0;}#sk-container-id-1 div.sk-toggleable {background-color: white;}#sk-container-id-1 label.sk-toggleable__label {cursor: pointer;display: block;width: 100%;margin-bottom: 0;padding: 0.3em;box-sizing: border-box;text-align: center;}#sk-container-id-1 label.sk-toggleable__label-arrow:before {content: \"▸\";float: left;margin-right: 0.25em;color: #696969;}#sk-container-id-1 label.sk-toggleable__label-arrow:hover:before {color: black;}#sk-container-id-1 div.sk-estimator:hover label.sk-toggleable__label-arrow:before {color: black;}#sk-container-id-1 div.sk-toggleable__content {max-height: 0;max-width: 0;overflow: hidden;text-align: left;background-color: #f0f8ff;}#sk-container-id-1 div.sk-toggleable__content pre {margin: 0.2em;color: black;border-radius: 0.25em;background-color: #f0f8ff;}#sk-container-id-1 input.sk-toggleable__control:checked~div.sk-toggleable__content {max-height: 200px;max-width: 100%;overflow: auto;}#sk-container-id-1 input.sk-toggleable__control:checked~label.sk-toggleable__label-arrow:before {content: \"▾\";}#sk-container-id-1 div.sk-estimator input.sk-toggleable__control:checked~label.sk-toggleable__label {background-color: #d4ebff;}#sk-container-id-1 div.sk-label input.sk-toggleable__control:checked~label.sk-toggleable__label {background-color: #d4ebff;}#sk-container-id-1 input.sk-hidden--visually {border: 0;clip: rect(1px 1px 1px 1px);clip: rect(1px, 1px, 1px, 1px);height: 1px;margin: -1px;overflow: hidden;padding: 0;position: absolute;width: 1px;}#sk-container-id-1 div.sk-estimator {font-family: monospace;background-color: #f0f8ff;border: 1px dotted black;border-radius: 0.25em;box-sizing: border-box;margin-bottom: 0.5em;}#sk-container-id-1 div.sk-estimator:hover {background-color: #d4ebff;}#sk-container-id-1 div.sk-parallel-item::after {content: \"\";width: 100%;border-bottom: 1px solid gray;flex-grow: 1;}#sk-container-id-1 div.sk-label:hover label.sk-toggleable__label {background-color: #d4ebff;}#sk-container-id-1 div.sk-serial::before {content: \"\";position: absolute;border-left: 1px solid gray;box-sizing: border-box;top: 0;bottom: 0;left: 50%;z-index: 0;}#sk-container-id-1 div.sk-serial {display: flex;flex-direction: column;align-items: center;background-color: white;padding-right: 0.2em;padding-left: 0.2em;position: relative;}#sk-container-id-1 div.sk-item {position: relative;z-index: 1;}#sk-container-id-1 div.sk-parallel {display: flex;align-items: stretch;justify-content: center;background-color: white;position: relative;}#sk-container-id-1 div.sk-item::before, #sk-container-id-1 div.sk-parallel-item::before {content: \"\";position: absolute;border-left: 1px solid gray;box-sizing: border-box;top: 0;bottom: 0;left: 50%;z-index: -1;}#sk-container-id-1 div.sk-parallel-item {display: flex;flex-direction: column;z-index: 1;position: relative;background-color: white;}#sk-container-id-1 div.sk-parallel-item:first-child::after {align-self: flex-end;width: 50%;}#sk-container-id-1 div.sk-parallel-item:last-child::after {align-self: flex-start;width: 50%;}#sk-container-id-1 div.sk-parallel-item:only-child::after {width: 0;}#sk-container-id-1 div.sk-dashed-wrapped {border: 1px dashed gray;margin: 0 0.4em 0.5em 0.4em;box-sizing: border-box;padding-bottom: 0.4em;background-color: white;}#sk-container-id-1 div.sk-label label {font-family: monospace;font-weight: bold;display: inline-block;line-height: 1.2em;}#sk-container-id-1 div.sk-label-container {text-align: center;}#sk-container-id-1 div.sk-container {/* jupyter's `normalize.less` sets `[hidden] { display: none; }` but bootstrap.min.css set `[hidden] { display: none !important; }` so we also need the `!important` here to be able to override the default hidden behavior on the sphinx rendered scikit-learn.org. See: https://github.com/scikit-learn/scikit-learn/issues/21755 */display: inline-block !important;position: relative;}#sk-container-id-1 div.sk-text-repr-fallback {display: none;}</style><div id=\"sk-container-id-1\" class=\"sk-top-container\"><div class=\"sk-text-repr-fallback\"><pre>KMeans(n_clusters=5, random_state=42)</pre><b>In a Jupyter environment, please rerun this cell to show the HTML representation or trust the notebook. <br />On GitHub, the HTML representation is unable to render, please try loading this page with nbviewer.org.</b></div><div class=\"sk-container\" hidden><div class=\"sk-item\"><div class=\"sk-estimator sk-toggleable\"><input class=\"sk-toggleable__control sk-hidden--visually\" id=\"sk-estimator-id-1\" type=\"checkbox\" checked><label for=\"sk-estimator-id-1\" class=\"sk-toggleable__label sk-toggleable__label-arrow\">KMeans</label><div class=\"sk-toggleable__content\"><pre>KMeans(n_clusters=5, random_state=42)</pre></div></div></div></div></div>"
            ],
            "text/plain": [
              "KMeans(n_clusters=5, random_state=42)"
            ]
          },
          "execution_count": 18,
          "metadata": {},
          "output_type": "execute_result"
        }
      ],
      "source": [
        "kmeans = KMeans(n_clusters=5, random_state=42)\n",
        "kmeans.fit(X)"
      ]
    },
    {
      "cell_type": "markdown",
      "metadata": {
        "id": "QRQnDClRGWRc"
      },
      "source": [
        "- Menambahkan label klaster ke dalam dataset"
      ]
    },
    {
      "cell_type": "code",
      "execution_count": null,
      "metadata": {
        "id": "YSSFDUSqGcD0"
      },
      "outputs": [],
      "source": [
        "df['Cluster'] = kmeans.labels_"
      ]
    },
    {
      "cell_type": "markdown",
      "metadata": {
        "id": "Lc8P9fmnGcwT"
      },
      "source": [
        "- Visualisasi hasil clustering"
      ]
    },
    {
      "cell_type": "code",
      "execution_count": null,
      "metadata": {
        "colab": {
          "base_uri": "https://localhost:8080/",
          "height": 564
        },
        "id": "jnamzq4IGgGI",
        "outputId": "9d8240d1-263d-4930-8f1b-0d5d52e7b00e"
      },
      "outputs": [
        {
          "data": {
            "image/png": "[encoded data removed]",
            "text/plain": [
              "<Figure size 1000x600 with 1 Axes>"
            ]
          },
          "metadata": {},
          "output_type": "display_data"
        }
      ],
      "source": [
        "# Visualisasi hasil clustering\n",
        "plt.figure(figsize=(10, 6))\n",
        "\n",
        "# Plot data dengan warna berbeda untuk setiap klaster\n",
        "plt.scatter(X['Annual Income (k$)'], X['Spending Score (1-100)'],\n",
        "            c=df['Cluster'], cmap='viridis', s=50)\n",
        "\n",
        "# Menampilkan centroid\n",
        "centroids = kmeans.cluster_centers_\n",
        "plt.scatter(centroids[:, 0], centroids[:, 1],\n",
        "            c='red', s=200, alpha=0.75, marker='X')\n",
        "\n",
        "plt.title('K-Means Clustering of Customers')\n",
        "plt.xlabel('Annual Income (k$)')\n",
        "plt.ylabel('Spending Score (1-100)')\n",
        "plt.show()"
      ]
    },
    {
      "cell_type": "markdown",
      "metadata": {
        "id": "NnyT0qSKMfjD"
      },
      "source": [
        "### Evaluasi\n"
      ]
    },
    {
      "cell_type": "markdown",
      "metadata": {
        "id": "n2cRtfO1lv5m"
      },
      "source": [
        "<p align=\"center\">\n",
        "  <img src=\"https://hqlco.github.io/dataset/kmeans-eval.png\" alt=\"Deskripsi Gambar\" width=\"600\" height=\"300\">\n",
        "</p>"
      ]
    },
    {
      "cell_type": "markdown",
      "metadata": {
        "id": "XjX9d2XTIH2Z"
      },
      "source": [
        "\n",
        "Dimana:\n",
        "- **WCSS(k)** adalah jumlah kuadrat dari jarak antara setiap titik data dan centroid klaster di mana titik tersebut dimasukkan, untuk semua klaster `k`.\n",
        "- **k** adalah jumlah klaster.\n",
        "- **$x_i$** adalah titik data individual dalam klaster.\n",
        "- **$\\bar{x}_j$** adalah rata-rata (centroid) dari klaster ke-j.\n",
        "- **$\\|x_i - \\bar{x}_j\\|^2$** adalah jarak Euclidean yang dikuadratkan antara titik data $x_i$ dan centroid $ \\bar{x}_j $.\n",
        "\n",
        "### Apa itu WCSS?\n",
        "- **WCSS** adalah ukuran variasi dalam klaster. Lebih khusus lagi, ini menghitung seberapa tersebar titik-titik data dalam klaster mereka sendiri.\n",
        "- Tujuan dari algoritma K-Means adalah untuk meminimalkan WCSS, yang berarti kita ingin klaster yang terbentuk sepadat mungkin.\n",
        "\n",
        "### Cara Kerja:\n",
        "1. **Langkah Pertama** adalah menghitung centroid atau rata-rata dari semua titik data dalam satu klaster. Centroid ini adalah representasi pusat dari klaster.\n",
        "   \n",
        "2. **Langkah Selanjutnya** adalah menghitung jarak dari setiap titik data dalam klaster ke centroid klaster tersebut. Jarak ini kemudian dikuadratkan untuk memastikan bahwa nilai jarak positif dan untuk menghukum titik yang jauh lebih berat daripada titik yang dekat.\n",
        "   \n",
        "3. **Langkah Terakhir** adalah menjumlahkan semua jarak kuadrat ini untuk semua titik dalam satu klaster, dan kemudian mengulangi proses tersebut untuk setiap klaster, lalu menjumlahkan hasilnya.\n",
        "\n",
        "### Fungsi WCSS dalam K-Means:\n",
        "- **Menerapkan Elbow Method** adalah teknik di mana WCSS digunakan untuk menentukan jumlah klaster optimal. Saat kita memplot WCSS untuk berbagai nilai `k` (jumlah klaster), kita mencari \"titik siku\" (elbow point) pada grafik yang menunjukkan bahwa menambah jumlah klaster lebih lanjut tidak menghasilkan pengurangan signifikan pada WCSS.\n"
      ]
    },
    {
      "cell_type": "code",
      "execution_count": null,
      "metadata": {
        "colab": {
          "base_uri": "https://localhost:8080/"
        },
        "id": "oQgW98EB-XgK",
        "outputId": "9af2d752-361e-4b5e-9b3e-0b036371bc10"
      },
      "outputs": [
        {
          "name": "stderr",
          "output_type": "stream",
          "text": [
            "/usr/local/lib/python3.10/dist-packages/sklearn/cluster/_kmeans.py:1416: FutureWarning: The default value of `n_init` will change from 10 to 'auto' in 1.4. Set the value of `n_init` explicitly to suppress the warning\n",
            "  super()._check_params_vs_input(X, default_n_init=10)\n",
            "/usr/local/lib/python3.10/dist-packages/sklearn/cluster/_kmeans.py:1416: FutureWarning: The default value of `n_init` will change from 10 to 'auto' in 1.4. Set the value of `n_init` explicitly to suppress the warning\n",
            "  super()._check_params_vs_input(X, default_n_init=10)\n",
            "/usr/local/lib/python3.10/dist-packages/sklearn/cluster/_kmeans.py:1416: FutureWarning: The default value of `n_init` will change from 10 to 'auto' in 1.4. Set the value of `n_init` explicitly to suppress the warning\n",
            "  super()._check_params_vs_input(X, default_n_init=10)\n",
            "/usr/local/lib/python3.10/dist-packages/sklearn/cluster/_kmeans.py:1416: FutureWarning: The default value of `n_init` will change from 10 to 'auto' in 1.4. Set the value of `n_init` explicitly to suppress the warning\n",
            "  super()._check_params_vs_input(X, default_n_init=10)\n",
            "/usr/local/lib/python3.10/dist-packages/sklearn/cluster/_kmeans.py:1416: FutureWarning: The default value of `n_init` will change from 10 to 'auto' in 1.4. Set the value of `n_init` explicitly to suppress the warning\n",
            "  super()._check_params_vs_input(X, default_n_init=10)\n",
            "/usr/local/lib/python3.10/dist-packages/sklearn/cluster/_kmeans.py:1416: FutureWarning: The default value of `n_init` will change from 10 to 'auto' in 1.4. Set the value of `n_init` explicitly to suppress the warning\n",
            "  super()._check_params_vs_input(X, default_n_init=10)\n",
            "/usr/local/lib/python3.10/dist-packages/sklearn/cluster/_kmeans.py:1416: FutureWarning: The default value of `n_init` will change from 10 to 'auto' in 1.4. Set the value of `n_init` explicitly to suppress the warning\n",
            "  super()._check_params_vs_input(X, default_n_init=10)\n",
            "/usr/local/lib/python3.10/dist-packages/sklearn/cluster/_kmeans.py:1416: FutureWarning: The default value of `n_init` will change from 10 to 'auto' in 1.4. Set the value of `n_init` explicitly to suppress the warning\n",
            "  super()._check_params_vs_input(X, default_n_init=10)\n",
            "/usr/local/lib/python3.10/dist-packages/sklearn/cluster/_kmeans.py:1416: FutureWarning: The default value of `n_init` will change from 10 to 'auto' in 1.4. Set the value of `n_init` explicitly to suppress the warning\n",
            "  super()._check_params_vs_input(X, default_n_init=10)\n",
            "/usr/local/lib/python3.10/dist-packages/sklearn/cluster/_kmeans.py:1416: FutureWarning: The default value of `n_init` will change from 10 to 'auto' in 1.4. Set the value of `n_init` explicitly to suppress the warning\n",
            "  super()._check_params_vs_input(X, default_n_init=10)\n"
          ]
        }
      ],
      "source": [
        "wcss = []\n",
        "for i in range(1, 11):\n",
        "    kmeans = KMeans(n_clusters=i, init='k-means++', random_state=42)\n",
        "    kmeans.fit(X)\n",
        "    wcss.append(kmeans.inertia_)"
      ]
    },
    {
      "cell_type": "markdown",
      "metadata": {
        "id": "xuc2DxWuIMjb"
      },
      "source": [
        "- Visualisasi Elbow Method"
      ]
    },
    {
      "cell_type": "code",
      "execution_count": null,
      "metadata": {
        "colab": {
          "base_uri": "https://localhost:8080/",
          "height": 564
        },
        "id": "Y5K74LX4ITRc",
        "outputId": "1a6f8844-9ad8-4beb-9e8e-2fe365aa712c"
      },
      "outputs": [
        {
          "data": {
            "image/png": "[encoded data removed]",
            "text/plain": [
              "<Figure size 1000x600 with 1 Axes>"
            ]
          },
          "metadata": {},
          "output_type": "display_data"
        }
      ],
      "source": [
        "plt.figure(figsize=(10, 6))\n",
        "plt.plot(range(1, 11), wcss, marker='o', linestyle='--')\n",
        "plt.title('Elbow Method for Optimal Number of Clusters')\n",
        "plt.xlabel('Number of Clusters')\n",
        "plt.ylabel('WCSS (Within-Cluster Sum of Square)')\n",
        "plt.xticks(range(1, 11))\n",
        "plt.grid(True)\n",
        "plt.show()"
      ]
    },
    {
      "cell_type": "markdown",
      "metadata": {
        "id": "iVartwCEIYCc"
      },
      "source": [
        "> Grafik Elbow di atas menunjukkan bahwa penurunan WCSS (Within-Cluster Sum of Squares) yang paling signifikan terjadi antara 1 hingga 3 klaster, dengan titik siku (elbow) yang jelas di klaster ke-3. Setelah klaster ke-3, penurunan WCSS melambat secara signifikan, meskipun ada sedikit penurunan hingga klaster ke-5. Oleh karena itu, jumlah klaster yang optimal tampaknya berada di antara 3 atau 5 klaster, dengan 3 klaster sebagai pilihan yang lebih efisien dan sederhana."
      ]
    },
    {
      "cell_type": "markdown",
      "metadata": {
        "id": "jrdbiimslrcw"
      },
      "source": [
        "#### Kelebihan K-Means:\n",
        "- **Sederhana dan Cepat**: Mudah diimplementasikan dan cukup cepat untuk data berukuran besar.\n",
        "- **Skalabilitas**: Mampu menangani dataset dengan banyak dimensi dan data point.\n",
        "\n",
        "#### Kekurangan K-Means:\n",
        "- **Jumlah Klaster Harus Diketahui**: Pengguna harus menentukan jumlah klaster \\(k\\) di awal.\n",
        "- **Sensitif Terhadap Inisialisasi**: Hasil akhir dapat bervariasi tergantung pada inisialisasi centroid.\n",
        "- **Tidak Cocok untuk Klaster Tidak Bulat**: K-Means cenderung lebih baik pada klaster yang berbentuk bulat dan memiliki ukuran yang kurang lebih sama.\n",
        "\n",
        "#### Kapan Menggunakan K-Means?\n",
        "K-Means sangat berguna ketika Anda memiliki dataset yang ingin Anda kelompokkan berdasarkan kesamaan fitur, tetapi tidak memiliki label kelas yang sudah ada. Algoritma ini cocok untuk segmentasi pasar, pengelompokan dokumen, pengenalan pola, dan aplikasi lain yang membutuhkan pengelompokan data."
      ]
    },
    {
      "cell_type": "markdown",
      "metadata": {
        "id": "hqso6uvFGyA5"
      },
      "source": [
        "## DBSCAN"
      ]
    },
    {
      "cell_type": "markdown",
      "metadata": {
        "id": "sPXw8uc5WKA5"
      },
      "source": [
        "<p align=\"center\">\n",
        "  <img src=\"https://hqlco.github.io/dataset/DBSCAN.gif\" alt=\"Deskripsi Gambar\" width=\"600\" height=\"400\">\n",
        "</p>\n",
        "\n",
        "DBSCAN (Density-Based Spatial Clustering of Applications with Noise) adalah salah satu algoritma clustering yang populer dalam bidang data mining dan machine learning. Algoritma ini digunakan untuk mengelompokkan data berdasarkan kepadatan titik-titik dalam suatu ruang. Berikut adalah penjelasan tentang bagaimana DBSCAN bekerja dan konsep-konsep penting yang terkait dengannya:\n",
        "\n",
        "### 1. **Konsep Dasar DBSCAN**\n",
        "DBSCAN bekerja dengan mengidentifikasi area dengan kepadatan tinggi dan memisahkannya dari area dengan kepadatan rendah. Ada dua parameter utama dalam DBSCAN:\n",
        "   - **Epsilon (ε)**: Jarak maksimum antara dua titik sehingga masih bisa dianggap sebagai tetangga.\n",
        "   - **MinPts**: Jumlah minimum titik yang diperlukan untuk membentuk sebuah cluster.\n",
        "\n",
        "### 2. **Jenis Titik dalam DBSCAN**\n",
        "DBSCAN mengkategorikan titik-titik dalam dataset menjadi tiga jenis:\n",
        "   - **Core Point**: Titik yang memiliki setidaknya MinPts tetangga dalam radius ε. Titik ini merupakan pusat dari sebuah cluster.\n",
        "   - **Border Point**: Titik yang berada dalam radius ε dari Core Point tetapi tidak memiliki cukup titik tetangga untuk menjadi Core Point. Titik ini terletak di tepi cluster.\n",
        "   - **Noise Point**: Titik yang bukan merupakan Core Point atau Border Point. Titik ini tidak termasuk dalam cluster manapun.\n",
        "\n",
        "### 3. **Langkah-langkah Algoritma DBSCAN**\n",
        "   1. **Pemilihan Titik Awal**: Algoritma dimulai dengan memilih titik yang belum dikunjungi dari dataset.\n",
        "   2. **Mengecek Tetangga**: Titik yang dipilih akan dievaluasi apakah memiliki setidaknya MinPts tetangga dalam radius ε.\n",
        "   3. **Membentuk Cluster**: Jika titik tersebut adalah Core Point, cluster baru dibentuk, dan semua tetangganya yang belum dikunjungi akan ditambahkan ke dalam cluster. Langkah ini diulangi untuk semua tetangga yang memenuhi syarat.\n",
        "   4. **Mengidentifikasi Noise**: Titik yang tidak memenuhi syarat sebagai Core Point atau Border Point akan dianggap sebagai Noise.\n",
        "   5. **Ulangi**: Proses ini diulangi hingga semua titik dalam dataset telah dikunjungi.\n",
        "\n",
        "### 4. **Kelebihan DBSCAN**\n",
        "   - **Tidak perlu menentukan jumlah cluster di awal**, berbeda dengan algoritma seperti K-Means.\n",
        "   - **Efektif untuk data dengan bentuk yang tidak teratur** karena tidak mengasumsikan bentuk cluster tertentu.\n",
        "   - **Dapat mengidentifikasi noise dan outlier** secara otomatis.\n",
        "\n",
        "### 5. **Kekurangan DBSCAN**\n",
        "   - **Sensitif terhadap parameter ε dan MinPts**. Pemilihan parameter yang salah dapat menghasilkan cluster yang buruk.\n",
        "   - **Kurang efektif pada dataset dengan kepadatan yang bervariasi** karena sulit menentukan nilai ε yang sesuai untuk semua cluster.\n",
        "   - **Memiliki kesulitan pada data berdimensi tinggi** karena jarak Euclidean menjadi kurang bermakna.\n"
      ]
    },
    {
      "cell_type": "markdown",
      "metadata": {
        "id": "em9vrMBrG3dJ"
      },
      "source": [
        "### Modeling"
      ]
    },
    {
      "cell_type": "markdown",
      "metadata": {
        "id": "cPX0Qp2gX0Km"
      },
      "source": [
        "- Import library"
      ]
    },
    {
      "cell_type": "code",
      "execution_count": null,
      "metadata": {
        "id": "MueHIjPHPTBY"
      },
      "outputs": [],
      "source": [
        "import pandas as pd\n",
        "import numpy as np\n",
        "import matplotlib.pyplot as plt\n",
        "from sklearn.cluster import DBSCAN\n",
        "from sklearn.preprocessing import StandardScaler"
      ]
    },
    {
      "cell_type": "code",
      "execution_count": null,
      "metadata": {
        "id": "JncEzzRGPfRh"
      },
      "outputs": [],
      "source": [
        "X = df[['Annual Income (k$)', 'Spending Score (1-100)']]"
      ]
    },
    {
      "cell_type": "markdown",
      "metadata": {
        "id": "jdWtzax1X5GA"
      },
      "source": [
        "- Standarisasi data"
      ]
    },
    {
      "cell_type": "code",
      "execution_count": null,
      "metadata": {
        "id": "UiaJbDH7PcMl"
      },
      "outputs": [],
      "source": [
        "scaler = StandardScaler()\n",
        "X_scaled = scaler.fit_transform(X)"
      ]
    },
    {
      "cell_type": "markdown",
      "metadata": {
        "id": "_0v9A3W7YL4m"
      },
      "source": [
        "Modeling\n",
        "\n",
        "**`dbscan = DBSCAN(eps=0.5, min_samples=5)`**:\n",
        "- **`DBSCAN`**: Ini adalah kelas dalam pustaka scikit-learn yang mengimplementasikan algoritma DBSCAN untuk clustering.\n",
        "- **`eps=0.5`**: Parameter `eps` (epsilon) menentukan jarak maksimum yang masih dianggap sebagai tetangga dalam ruang data. Dua titik yang jaraknya lebih kecil atau sama dengan `eps` akan dianggap sebagai tetangga.\n",
        "- **`min_samples=5`**: Parameter `min_samples` menentukan jumlah minimum titik dalam radius `eps` yang diperlukan untuk membentuk sebuah cluster. Jika sebuah titik memiliki setidaknya `min_samples` titik tetangga dalam radius `eps`, titik tersebut akan dianggap sebagai **Core Point**.\n",
        "\n"
      ]
    },
    {
      "cell_type": "code",
      "execution_count": null,
      "metadata": {
        "id": "X10I2ux9PmPz"
      },
      "outputs": [],
      "source": [
        "dbscan = DBSCAN(eps=0.4, min_samples=5)\n",
        "dbscan.fit(X_scaled)\n",
        "\n",
        "labels = dbscan.fit_predict(X_scaled)"
      ]
    },
    {
      "cell_type": "markdown",
      "metadata": {
        "id": "U2b6kyNFYAUq"
      },
      "source": [
        "- Visualisasi"
      ]
    },
    {
      "cell_type": "code",
      "execution_count": null,
      "metadata": {
        "id": "ZCIg9hICPrfY"
      },
      "outputs": [],
      "source": [
        "df['Cluster'] = dbscan.labels_"
      ]
    },
    {
      "cell_type": "code",
      "execution_count": null,
      "metadata": {
        "colab": {
          "base_uri": "https://localhost:8080/"
        },
        "id": "xEiGXc6z1O_h",
        "outputId": "12e1e2d5-6647-42a1-f54f-d8ea5b551782"
      },
      "outputs": [
        {
          "name": "stdout",
          "output_type": "stream",
          "text": [
            "Cluster\n",
            " 0    115\n",
            " 2     32\n",
            " 3     27\n",
            "-1     15\n",
            " 1     11\n",
            "Name: count, dtype: int64\n"
          ]
        }
      ],
      "source": [
        "# Menghitung jumlah kemunculan masing-masing label dalam kolom 'Cluster'\n",
        "cluster_counts = df['Cluster'].value_counts()\n",
        "\n",
        "# Menampilkan hasil\n",
        "print(cluster_counts)"
      ]
    },
    {
      "cell_type": "code",
      "execution_count": null,
      "metadata": {
        "colab": {
          "base_uri": "https://localhost:8080/",
          "height": 564
        },
        "id": "VQ_1jTHmPsgq",
        "outputId": "b0790df1-a476-4125-d463-cbc0ee0646a3"
      },
      "outputs": [
        {
          "data": {
            "image/png": "[encoded data removed]",
            "text/plain": [
              "<Figure size 1000x600 with 1 Axes>"
            ]
          },
          "metadata": {},
          "output_type": "display_data"
        }
      ],
      "source": [
        "# Visualisasi hasil clustering\n",
        "plt.figure(figsize=(10, 6))\n",
        "\n",
        "# Plot data dengan warna berbeda untuk setiap klaster, -1 untuk noise\n",
        "plt.scatter(X['Annual Income (k$)'], X['Spending Score (1-100)'],\n",
        "            c=df['Cluster'], cmap='plasma', s=50)\n",
        "\n",
        "plt.title('DBSCAN Clustering of Customers')\n",
        "plt.xlabel('Annual Income (k$)')\n",
        "plt.ylabel('Spending Score (1-100)')\n",
        "plt.show()"
      ]
    },
    {
      "cell_type": "markdown",
      "metadata": {
        "id": "-k9Vb3OiG5QW"
      },
      "source": [
        "### Evaluasi"
      ]
    },
    {
      "cell_type": "markdown",
      "metadata": {
        "id": "1JqmPIrkyqPY"
      },
      "source": [
        "Berikut adalah beberapa metrik evaluasi yang umum digunakan untuk menilai hasil clustering dari DBSCAN:\n",
        "\n",
        "### 1. **Silhouette Score**\n",
        "   - **Definisi:** Silhouette score mengukur seberapa mirip sebuah titik data dengan klusternya sendiri dibandingkan dengan kluster lain. Nilainya berkisar dari -1 hingga 1, di mana nilai yang lebih tinggi menunjukkan bahwa klaster tersebut baik dan jelas.\n",
        "   - **Perhitungan:** Silhouette score \\( s(i) \\) untuk sebuah titik data \\( i \\) didefinisikan sebagai:\n",
        "$$\n",
        "s(i) = \\frac{b(i) - a(i)}{\\max(a(i), b(i))}\n",
        "$$\n",
        "     Di mana:\n",
        "     - $\\( a(i) \\)$ adalah rata-rata jarak antara \\( i \\) dan semua titik data lain dalam klusternya.\n",
        "     - $\\( b(i) \\)$ adalah rata-rata jarak antara \\( i \\) dan semua titik data di kluster terdekat yang tidak mengandung \\( i \\).\n",
        "\n",
        "### 2. **Noise Ratio**\n",
        "   - **Definisi:** Noise Ratio mengukur proporsi titik data yang dianggap noise oleh DBSCAN. Noise adalah titik-titik yang tidak masuk ke dalam klaster manapun.\n",
        "   - **Penggunaan:** Metrik ini penting untuk memahami berapa banyak data yang tidak terklasifikasi (tidak dimasukkan ke dalam klaster) oleh algoritma. Noise ratio yang tinggi mungkin menunjukkan bahwa parameter \\( \\epsilon \\) (radius) atau minPts (jumlah minimum titik yang diperlukan untuk membentuk klaster) perlu disesuaikan.\n",
        "\n",
        "### 3. **Contoh Penggunaan:**\n",
        "   - **Silhouette Score:** Berguna saat klaster yang terbentuk memiliki perbedaan yang jelas dan ingin mengukur kualitas pengelompokan secara individual.\n",
        "   - **Noise Ratio:** Digunakan untuk mengidentifikasi seberapa besar bagian dari dataset yang dianggap sebagai noise oleh DBSCAN.\n"
      ]
    },
    {
      "cell_type": "code",
      "execution_count": null,
      "metadata": {
        "colab": {
          "base_uri": "https://localhost:8080/"
        },
        "id": "2eaBfL5C0CcM",
        "outputId": "7ea8c7a5-7b3d-4bef-e060-bf829fb0007f"
      },
      "outputs": [
        {
          "name": "stdout",
          "output_type": "stream",
          "text": [
            "Silhouette Score: 0.41277734797686433\n",
            "Noise Ratio: 0.075\n"
          ]
        }
      ],
      "source": [
        "from sklearn.metrics import silhouette_score\n",
        "from sklearn.cluster import DBSCAN\n",
        "# Menghitung Silhouette Score\n",
        "silhouette_avg = silhouette_score(X, labels)\n",
        "print(f\"Silhouette Score: {silhouette_avg}\")\n",
        "# Menghitung Noise Ratio\n",
        "n_noise = np.sum(labels == -1)\n",
        "noise_ratio = n_noise / len(X)\n",
        "print(f\"Noise Ratio: {noise_ratio}\")"
      ]
    },
    {
      "cell_type": "markdown",
      "metadata": {
        "id": "fi7gpsBn5KxX"
      },
      "source": [
        "\n",
        "**Silhouette Score (0.4128)**:\n",
        "   - Nilai ini menunjukkan bahwa klaster yang dihasilkan memiliki kualitas yang cukup baik, meskipun masih jauh dari sempurna. Skor ini menunjukkan bahwa mayoritas titik data lebih dekat dengan klaster mereka sendiri daripada dengan klaster lain. Namun, nilai di sekitar 0.41 ini juga menunjukkan bahwa ada kemungkinan overlap antar klaster, atau adanya titik-titik yang berada di dekat batas antara klaster yang berbeda. Dengan kata lain, meskipun klasterisasi sudah menunjukkan hasil yang berarti, beberapa titik data mungkin tidak sepenuhnya sesuai dengan satu klaster tertentu.\n",
        "   \n",
        "**Noise Ratio (0.075)**:\n",
        "   - Noise ratio sebesar 7.5% menunjukkan bahwa sekitar 7.5% dari total data dianggap sebagai \"noise\" oleh DBSCAN, yaitu data yang tidak dapat dimasukkan ke dalam klaster mana pun. Noise dalam konteks DBSCAN adalah titik data yang tidak memiliki cukup titik tetangga yang berdekatan untuk dianggap sebagai bagian dari suatu klaster. Rasio noise yang relatif rendah ini menunjukkan bahwa sebagian besar data dapat dikelompokkan ke dalam klaster yang jelas, dengan hanya sebagian kecil data yang dianggap tidak sesuai dengan klaster manapun."
      ]
    },
    {
      "cell_type": "markdown",
      "metadata": {
        "id": "9lLqkOTL5cs5"
      },
      "source": [
        "Dalam Berapa kasus DBSCAN dapat memiliki peforma yang lebih baik dari K-Means:\n",
        "<p align=\"center\">\n",
        "  <img src=\"https://hqlco.github.io/dataset/perb-kmenas.png\" alt=\"Deskripsi Gambar\" width=\"700\" height=\"300\">\n",
        "</p>\n",
        "\n",
        "### Penjelasan Gambar:\n",
        "1. **DBSCAN (Density-Based Spatial Clustering of Applications with Noise):**\n",
        "   - **Klasterisasi**: DBSCAN mampu mengidentifikasi dua klaster utama yang terlihat jelas, dengan satu klaster di bagian tengah (diwarnai kuning) dan klaster lainnya di bagian luar (diwarnai hijau). Beberapa titik data yang terisolasi (diwarnai ungu) dianggap sebagai *noise* oleh DBSCAN, karena mereka tidak memenuhi kriteria kepadatan untuk dimasukkan ke dalam klaster mana pun.\n",
        "   - **Bentuk Klaster**: DBSCAN dapat mengidentifikasi klaster dengan bentuk yang tidak teratur (seperti cincin luar), sesuai dengan keunggulan algoritma ini yang tidak bergantung pada asumsi bentuk klaster yang bulat atau sferis.\n",
        "\n",
        "2. **K-Means:**\n",
        "   - **Klasterisasi**: K-Means juga menghasilkan dua klaster utama, namun distribusi titik data berbeda dari DBSCAN. K-Means cenderung membagi data secara merata berdasarkan jarak ke centroid, yang membuat klaster menjadi lebih simetris dan berbentuk bulat. Hal ini menyebabkan beberapa titik data yang seharusnya teridentifikasi sebagai bagian dari klaster tertentu (misalnya cincin luar) justru dimasukkan ke klaster yang berbeda (di tengah).\n",
        "   - **Keterbatasan Bentuk Klaster**: Karena K-Means mengasumsikan bahwa klaster berbentuk sferis (bulat), ia kesulitan untuk mengidentifikasi struktur cincin dengan baik. Klaster yang terbentuk cenderung memotong bagian tengah dari cincin tersebut, yang tidak sesuai dengan pola asli data.\n",
        "\n",
        "### Kesimpulan:\n",
        "- **DBSCAN** lebih efektif dalam menangani data dengan bentuk klaster yang tidak teratur dan mampu mengidentifikasi *noise*. Algoritma ini cocok untuk dataset di mana klaster tidak berbentuk bulat dan memiliki kepadatan yang berbeda.\n",
        "- **K-Means**, di sisi lain, cenderung kurang cocok untuk data yang memiliki klaster dengan bentuk kompleks seperti cincin, karena asumsi bentuk bulat dari klaster. Algoritma ini lebih baik digunakan ketika klaster memiliki bentuk sferis dan distribusi yang merata.\n",
        "\n"
      ]
    },
    {
      "cell_type": "markdown",
      "metadata": {
        "id": "ZoGXvROijfQQ"
      },
      "source": [
        "## Perbandingan"
      ]
    },
    {
      "cell_type": "markdown",
      "metadata": {
        "id": "5LGxLt4mmNcY"
      },
      "source": [
        "| **Aspek**                                   | **KMeans**                                                              | **DBSCAN**                                                           |\n",
        "|---------------------------------------------|-------------------------------------------------------------------------|----------------------------------------------------------------------|\n",
        "| **Pendekatan Klasterisasi**                 | Berbasis *centroid* (meminimalkan jarak dalam klaster)                  | Berbasis kepadatan (mengidentifikasi area dengan kepadatan tinggi)   |\n",
        "| **Parameter yang Diperlukan**               | Jumlah klaster (*K*)                                                    | Radius maksimum (*eps*) dan jumlah titik minimum (*minPts*)          |\n",
        "| **Bentuk Klaster**                          | Klaster cenderung berbentuk bulat atau sferis                           | Klaster dapat berbentuk sembarang, fleksibel                         |\n",
        "| **Pengaruh Skala Data**                     | Sangat sensitif terhadap skala data, memerlukan normalisasi             | Kurang sensitif terhadap skala data                                  |\n",
        "| **Kekebalan terhadap Outlier**              | Tidak tahan terhadap outlier                                            | Tahan terhadap outlier (outlier dianggap sebagai noise)              |\n",
        "| **Kinerja pada Data Berukuran Besar**       | Biasanya lebih cepat pada dataset besar                                 | Lebih lambat pada dataset besar jika parameter tidak diatur dengan baik |\n",
        "| **Kebutuhan Normalisasi Data**              | Diperlukan normalisasi untuk hasil optimal                              | Kurang bergantung pada normalisasi data                              |\n",
        "| **Kemampuan Menangani Klaster dengan Kepadatan Berbeda** | Sulit menangani klaster dengan kepadatan berbeda               | Sangat baik dalam menangani klaster dengan kepadatan berbeda         |\n",
        "| **Kriteria Penghentian**                    | Penghentian ketika perubahan klasterisasi menjadi sangat kecil          | Penghentian ketika tidak ada lagi titik yang dapat ditambahkan ke klaster |\n",
        "| **Penggunaan di Dunia Nyata**               | Digunakan dalam pengelompokan pelanggan, segmentasi pasar               | Digunakan dalam deteksi anomali, segmentasi gambar                   |\n"
      ]
    }
  ],
  "metadata": {
    "colab": {
      "provenance": []
    },
    "kernelspec": {
      "display_name": "Python 3",
      "name": "python3"
    },
    "language_info": {
      "name": "python"
    }
  },
  "nbformat": 4,
  "nbformat_minor": 0
}
