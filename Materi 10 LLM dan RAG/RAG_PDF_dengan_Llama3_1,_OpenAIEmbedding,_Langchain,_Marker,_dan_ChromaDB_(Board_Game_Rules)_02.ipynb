{
  "cells": [
    {
      "cell_type": "markdown",
      "metadata": {
        "id": "tWQc7q0Be7Pk"
      },
      "source": [
        "# Google Colab Link\n",
        "[Google Colab](https://colab.research.google.com/drive/1dy5EQQxC56m9PQdW30cGIdsoqmAVd6d5?usp=sharing)"
      ]
    },
    {
      "cell_type": "markdown",
      "metadata": {
        "id": "xB-P2Ua2JWkG"
      },
      "source": [
        "# Reference\n",
        "- https://www.youtube.com/watch?v=rV0yqqQeeLw&t=1s\n",
        "- https://youtu.be/2TJxpyO3ei4?si=DWIijcF_EDrSgzvm\n",
        "- https://github.com/AITwinMinds/Ollama-in-Google-Colab"
      ]
    },
    {
      "cell_type": "markdown",
      "metadata": {
        "id": "HZMJuAhOLGNZ"
      },
      "source": [
        "# Clone Reference Repository"
      ]
    },
    {
      "cell_type": "code",
      "execution_count": null,
      "metadata": {
        "colab": {
          "base_uri": "https://localhost:8080/"
        },
        "id": "U_6XVlBdLIxn",
        "outputId": "296569af-73a1-454c-c4d5-8b0f06a51fda"
      },
      "outputs": [
        {
          "name": "stdout",
          "output_type": "stream",
          "text": [
            "Cloning into 'rag-tutorial-v2'...\n",
            "remote: Enumerating objects: 18, done.\u001b[K\n",
            "remote: Counting objects: 100% (15/15), done.\u001b[K\n",
            "remote: Compressing objects: 100% (11/11), done.\u001b[K\n",
            "remote: Total 18 (delta 0), reused 10 (delta 0), pack-reused 3 (from 1)\u001b[K\n",
            "Receiving objects: 100% (18/18), 3.89 MiB | 14.82 MiB/s, done.\n",
            "Cloning into 'langchain-rag-tutorial'...\n",
            "remote: Enumerating objects: 41, done.\u001b[K\n",
            "remote: Counting objects: 100% (14/14), done.\u001b[K\n",
            "remote: Compressing objects: 100% (9/9), done.\u001b[K\n",
            "remote: Total 41 (delta 9), reused 5 (delta 5), pack-reused 27 (from 1)\u001b[K\n",
            "Receiving objects: 100% (41/41), 78.44 KiB | 26.15 MiB/s, done.\n",
            "Resolving deltas: 100% (15/15), done.\n"
          ]
        }
      ],
      "source": [
        "!git clone https://github.com/pixegami/rag-tutorial-v2\n",
        "!git clone https://github.com/pixegami/langchain-rag-tutorial.git"
      ]
    },
    {
      "cell_type": "markdown",
      "metadata": {
        "id": "8DBVKobQLCt3"
      },
      "source": [
        "# Install Libraries"
      ]
    },
    {
      "cell_type": "code",
      "execution_count": null,
      "metadata": {
        "colab": {
          "base_uri": "https://localhost:8080/"
        },
        "id": "sBnqrFuNHv0V",
        "outputId": "696b861b-425a-4358-eb51-8cc9773cac38"
      },
      "outputs": [
        {
          "name": "stdout",
          "output_type": "stream",
          "text": [
            "Reading package lists... Done\n",
            "Building dependency tree... Done\n",
            "Reading state information... Done\n",
            "The following additional packages will be installed:\n",
            "  libpci3 pci.ids\n",
            "The following NEW packages will be installed:\n",
            "  libpci3 pci.ids pciutils\n",
            "0 upgraded, 3 newly installed, 0 to remove and 45 not upgraded.\n",
            "Need to get 343 kB of archives.\n",
            "After this operation, 1,581 kB of additional disk space will be used.\n",
            "Get:1 http://archive.ubuntu.com/ubuntu jammy/main amd64 pci.ids all 0.0~2022.01.22-1 [251 kB]\n",
            "Get:2 http://archive.ubuntu.com/ubuntu jammy/main amd64 libpci3 amd64 1:3.7.0-6 [28.9 kB]\n",
            "Get:3 http://archive.ubuntu.com/ubuntu jammy/main amd64 pciutils amd64 1:3.7.0-6 [63.6 kB]\n",
            "Fetched 343 kB in 2s (197 kB/s)\n",
            "debconf: unable to initialize frontend: Dialog\n",
            "debconf: (No usable dialog-like program is installed, so the dialog based frontend cannot be used. at /usr/share/perl5/Debconf/FrontEnd/Dialog.pm line 78, <> line 3.)\n",
            "debconf: falling back to frontend: Readline\n",
            "debconf: unable to initialize frontend: Readline\n",
            "debconf: (This frontend requires a controlling tty.)\n",
            "debconf: falling back to frontend: Teletype\n",
            "dpkg-preconfigure: unable to re-open stdin: \n",
            "Selecting previously unselected package pci.ids.\n",
            "(Reading database ... 123595 files and directories currently installed.)\n",
            "Preparing to unpack .../pci.ids_0.0~2022.01.22-1_all.deb ...\n",
            "Unpacking pci.ids (0.0~2022.01.22-1) ...\n",
            "Selecting previously unselected package libpci3:amd64.\n",
            "Preparing to unpack .../libpci3_1%3a3.7.0-6_amd64.deb ...\n",
            "Unpacking libpci3:amd64 (1:3.7.0-6) ...\n",
            "Selecting previously unselected package pciutils.\n",
            "Preparing to unpack .../pciutils_1%3a3.7.0-6_amd64.deb ...\n",
            "Unpacking pciutils (1:3.7.0-6) ...\n",
            "Setting up pci.ids (0.0~2022.01.22-1) ...\n",
            "Setting up libpci3:amd64 (1:3.7.0-6) ...\n",
            "Setting up pciutils (1:3.7.0-6) ...\n",
            "Processing triggers for man-db (2.10.2-1) ...\n",
            "Processing triggers for libc-bin (2.35-0ubuntu3.4) ...\n",
            "/sbin/ldconfig.real: /usr/local/lib/libtbbmalloc_proxy.so.2 is not a symbolic link\n",
            "\n",
            "/sbin/ldconfig.real: /usr/local/lib/libtbb.so.12 is not a symbolic link\n",
            "\n",
            "/sbin/ldconfig.real: /usr/local/lib/libtbbmalloc.so.2 is not a symbolic link\n",
            "\n",
            "/sbin/ldconfig.real: /usr/local/lib/libur_adapter_opencl.so.0 is not a symbolic link\n",
            "\n",
            "/sbin/ldconfig.real: /usr/local/lib/libtbbbind.so.3 is not a symbolic link\n",
            "\n",
            "/sbin/ldconfig.real: /usr/local/lib/libur_adapter_level_zero.so.0 is not a symbolic link\n",
            "\n",
            "/sbin/ldconfig.real: /usr/local/lib/libur_loader.so.0 is not a symbolic link\n",
            "\n",
            "/sbin/ldconfig.real: /usr/local/lib/libtbbbind_2_5.so.3 is not a symbolic link\n",
            "\n",
            "/sbin/ldconfig.real: /usr/local/lib/libtbbbind_2_0.so.3 is not a symbolic link\n",
            "\n",
            ">>> Installing ollama to /usr/local\n",
            ">>> Downloading Linux amd64 CLI\n",
            "############################################################################################# 100.0%\n",
            ">>> Making ollama accessible in the PATH in /usr/local/bin\n",
            ">>> Creating ollama user...\n",
            ">>> Adding ollama user to video group...\n",
            ">>> Adding current user to ollama group...\n",
            ">>> Creating ollama systemd service...\n",
            ">>> NVIDIA GPU installed.\n",
            ">>> The Ollama API is now available at 127.0.0.1:11434.\n",
            ">>> Install complete. Run \"ollama\" from the command line.\n"
          ]
        }
      ],
      "source": [
        "# Install necessary tools\n",
        "!sudo apt-get install -y pciutils\n",
        "# download ollama api\n",
        "!curl -fsSL https://ollama.com/install.sh | sh\n",
        "from IPython.display import clear_output"
      ]
    },
    {
      "cell_type": "code",
      "execution_count": null,
      "metadata": {
        "id": "tlO6rehFH0xE"
      },
      "outputs": [],
      "source": [
        "# Create a Python script to start the Ollama API server in a separate thread\n",
        "import os\n",
        "import threading\n",
        "import subprocess\n",
        "import requests\n",
        "import json\n",
        "\n",
        "\n",
        "def ollama():\n",
        "    os.environ['OLLAMA_HOST'] = '0.0.0.0:11434'\n",
        "    os.environ['OLLAMA_ORIGINS'] = '*'\n",
        "    subprocess.Popen([\"ollama\", \"serve\"])\n",
        "\n",
        "\n",
        "ollama_thread = threading.Thread(target=ollama)\n",
        "ollama_thread.start()"
      ]
    },
    {
      "cell_type": "code",
      "execution_count": null,
      "metadata": {
        "id": "TEUNG9msIQJz"
      },
      "outputs": [],
      "source": [
        "!ollama pull llama3.1\n",
        "clear_output()"
      ]
    },
    {
      "cell_type": "code",
      "execution_count": null,
      "metadata": {
        "colab": {
          "base_uri": "https://localhost:8080/"
        },
        "id": "IIBV5msqiqZy",
        "outputId": "51ac50bd-4647-403f-8e09-f6ee36efb6c4"
      },
      "outputs": [
        {
          "name": "stdout",
          "output_type": "stream",
          "text": [
            "Collecting ollama\n",
            "  Downloading ollama-0.3.1-py3-none-any.whl.metadata (3.8 kB)\n",
            "Collecting httpx<0.28.0,>=0.27.0 (from ollama)\n",
            "  Downloading httpx-0.27.0-py3-none-any.whl.metadata (7.2 kB)\n",
            "Requirement already satisfied: anyio in /usr/local/lib/python3.10/dist-packages (from httpx<0.28.0,>=0.27.0->ollama) (3.7.1)\n",
            "Requirement already satisfied: certifi in /usr/local/lib/python3.10/dist-packages (from httpx<0.28.0,>=0.27.0->ollama) (2024.7.4)\n",
            "Collecting httpcore==1.* (from httpx<0.28.0,>=0.27.0->ollama)\n",
            "  Downloading httpcore-1.0.5-py3-none-any.whl.metadata (20 kB)\n",
            "Requirement already satisfied: idna in /usr/local/lib/python3.10/dist-packages (from httpx<0.28.0,>=0.27.0->ollama) (3.7)\n",
            "Requirement already satisfied: sniffio in /usr/local/lib/python3.10/dist-packages (from httpx<0.28.0,>=0.27.0->ollama) (1.3.1)\n",
            "Collecting h11<0.15,>=0.13 (from httpcore==1.*->httpx<0.28.0,>=0.27.0->ollama)\n",
            "  Downloading h11-0.14.0-py3-none-any.whl.metadata (8.2 kB)\n",
            "Requirement already satisfied: exceptiongroup in /usr/local/lib/python3.10/dist-packages (from anyio->httpx<0.28.0,>=0.27.0->ollama) (1.2.2)\n",
            "Downloading ollama-0.3.1-py3-none-any.whl (10 kB)\n",
            "Downloading httpx-0.27.0-py3-none-any.whl (75 kB)\n",
            "\u001b[2K   \u001b[90m━━━━━━━━━━━━━━━━━━━━━━━━━━━━━━━━━━━━━━━━\u001b[0m \u001b[32m75.6/75.6 kB\u001b[0m \u001b[31m6.8 MB/s\u001b[0m eta \u001b[36m0:00:00\u001b[0m\n",
            "\u001b[?25hDownloading httpcore-1.0.5-py3-none-any.whl (77 kB)\n",
            "\u001b[2K   \u001b[90m━━━━━━━━━━━━━━━━━━━━━━━━━━━━━━━━━━━━━━━━\u001b[0m \u001b[32m77.9/77.9 kB\u001b[0m \u001b[31m7.6 MB/s\u001b[0m eta \u001b[36m0:00:00\u001b[0m\n",
            "\u001b[?25hDownloading h11-0.14.0-py3-none-any.whl (58 kB)\n",
            "\u001b[2K   \u001b[90m━━━━━━━━━━━━━━━━━━━━━━━━━━━━━━━━━━━━━━━━\u001b[0m \u001b[32m58.3/58.3 kB\u001b[0m \u001b[31m4.1 MB/s\u001b[0m eta \u001b[36m0:00:00\u001b[0m\n",
            "\u001b[?25hInstalling collected packages: h11, httpcore, httpx, ollama\n",
            "Successfully installed h11-0.14.0 httpcore-1.0.5 httpx-0.27.0 ollama-0.3.1\n"
          ]
        }
      ],
      "source": [
        "!pip install ollama"
      ]
    },
    {
      "cell_type": "code",
      "execution_count": null,
      "metadata": {
        "colab": {
          "base_uri": "https://localhost:8080/"
        },
        "id": "V095t5y4Ld_n",
        "outputId": "0d1bf91b-ad90-492b-d3da-4fbdc0ad7549"
      },
      "outputs": [
        {
          "name": "stdout",
          "output_type": "stream",
          "text": [
            "Collecting python-dotenv==1.0.1 (from -r /content/langchain-rag-tutorial/requirements.txt (line 1))\n",
            "  Downloading python_dotenv-1.0.1-py3-none-any.whl.metadata (23 kB)\n",
            "Collecting langchain==0.2.2 (from -r /content/langchain-rag-tutorial/requirements.txt (line 2))\n",
            "  Downloading langchain-0.2.2-py3-none-any.whl.metadata (13 kB)\n",
            "Collecting langchain-community==0.2.3 (from -r /content/langchain-rag-tutorial/requirements.txt (line 3))\n",
            "  Downloading langchain_community-0.2.3-py3-none-any.whl.metadata (9.0 kB)\n",
            "Collecting langchain-openai==0.1.8 (from -r /content/langchain-rag-tutorial/requirements.txt (line 4))\n",
            "  Downloading langchain_openai-0.1.8-py3-none-any.whl.metadata (2.5 kB)\n",
            "Collecting unstructured==0.14.4 (from -r /content/langchain-rag-tutorial/requirements.txt (line 5))\n",
            "  Downloading unstructured-0.14.4-py3-none-any.whl.metadata (28 kB)\n",
            "Collecting chromadb==0.5.0 (from -r /content/langchain-rag-tutorial/requirements.txt (line 9))\n",
            "  Downloading chromadb-0.5.0-py3-none-any.whl.metadata (7.3 kB)\n",
            "Collecting openai==1.31.1 (from -r /content/langchain-rag-tutorial/requirements.txt (line 10))\n",
            "  Downloading openai-1.31.1-py3-none-any.whl.metadata (21 kB)\n",
            "Collecting tiktoken==0.7.0 (from -r /content/langchain-rag-tutorial/requirements.txt (line 11))\n",
            "  Downloading tiktoken-0.7.0-cp310-cp310-manylinux_2_17_x86_64.manylinux2014_x86_64.whl.metadata (6.6 kB)\n",
            "Requirement already satisfied: PyYAML>=5.3 in /usr/local/lib/python3.10/dist-packages (from langchain==0.2.2->-r /content/langchain-rag-tutorial/requirements.txt (line 2)) (6.0.2)\n",
            "Requirement already satisfied: SQLAlchemy<3,>=1.4 in /usr/local/lib/python3.10/dist-packages (from langchain==0.2.2->-r /content/langchain-rag-tutorial/requirements.txt (line 2)) (2.0.32)\n",
            "Requirement already satisfied: aiohttp<4.0.0,>=3.8.3 in /usr/local/lib/python3.10/dist-packages (from langchain==0.2.2->-r /content/langchain-rag-tutorial/requirements.txt (line 2)) (3.10.5)\n",
            "Requirement already satisfied: async-timeout<5.0.0,>=4.0.0 in /usr/local/lib/python3.10/dist-packages (from langchain==0.2.2->-r /content/langchain-rag-tutorial/requirements.txt (line 2)) (4.0.3)\n",
            "Collecting langchain-core<0.3.0,>=0.2.0 (from langchain==0.2.2->-r /content/langchain-rag-tutorial/requirements.txt (line 2))\n",
            "  Downloading langchain_core-0.2.34-py3-none-any.whl.metadata (6.2 kB)\n",
            "Collecting langchain-text-splitters<0.3.0,>=0.2.0 (from langchain==0.2.2->-r /content/langchain-rag-tutorial/requirements.txt (line 2))\n",
            "  Downloading langchain_text_splitters-0.2.2-py3-none-any.whl.metadata (2.1 kB)\n",
            "Collecting langsmith<0.2.0,>=0.1.17 (from langchain==0.2.2->-r /content/langchain-rag-tutorial/requirements.txt (line 2))\n",
            "  Downloading langsmith-0.1.104-py3-none-any.whl.metadata (13 kB)\n",
            "Requirement already satisfied: numpy<2,>=1 in /usr/local/lib/python3.10/dist-packages (from langchain==0.2.2->-r /content/langchain-rag-tutorial/requirements.txt (line 2)) (1.26.4)\n",
            "Requirement already satisfied: pydantic<3,>=1 in /usr/local/lib/python3.10/dist-packages (from langchain==0.2.2->-r /content/langchain-rag-tutorial/requirements.txt (line 2)) (2.8.2)\n",
            "Requirement already satisfied: requests<3,>=2 in /usr/local/lib/python3.10/dist-packages (from langchain==0.2.2->-r /content/langchain-rag-tutorial/requirements.txt (line 2)) (2.32.3)\n",
            "Collecting tenacity<9.0.0,>=8.1.0 (from langchain==0.2.2->-r /content/langchain-rag-tutorial/requirements.txt (line 2))\n",
            "  Downloading tenacity-8.5.0-py3-none-any.whl.metadata (1.2 kB)\n",
            "Collecting dataclasses-json<0.7,>=0.5.7 (from langchain-community==0.2.3->-r /content/langchain-rag-tutorial/requirements.txt (line 3))\n",
            "  Downloading dataclasses_json-0.6.7-py3-none-any.whl.metadata (25 kB)\n",
            "Requirement already satisfied: chardet in /usr/local/lib/python3.10/dist-packages (from unstructured==0.14.4->-r /content/langchain-rag-tutorial/requirements.txt (line 5)) (5.2.0)\n",
            "Collecting filetype (from unstructured==0.14.4->-r /content/langchain-rag-tutorial/requirements.txt (line 5))\n",
            "  Downloading filetype-1.2.0-py2.py3-none-any.whl.metadata (6.5 kB)\n",
            "Collecting python-magic (from unstructured==0.14.4->-r /content/langchain-rag-tutorial/requirements.txt (line 5))\n",
            "  Downloading python_magic-0.4.27-py2.py3-none-any.whl.metadata (5.8 kB)\n",
            "Requirement already satisfied: lxml in /usr/local/lib/python3.10/dist-packages (from unstructured==0.14.4->-r /content/langchain-rag-tutorial/requirements.txt (line 5)) (4.9.4)\n",
            "Requirement already satisfied: nltk in /usr/local/lib/python3.10/dist-packages (from unstructured==0.14.4->-r /content/langchain-rag-tutorial/requirements.txt (line 5)) (3.8.1)\n",
            "Requirement already satisfied: tabulate in /usr/local/lib/python3.10/dist-packages (from unstructured==0.14.4->-r /content/langchain-rag-tutorial/requirements.txt (line 5)) (0.9.0)\n",
            "Requirement already satisfied: beautifulsoup4 in /usr/local/lib/python3.10/dist-packages (from unstructured==0.14.4->-r /content/langchain-rag-tutorial/requirements.txt (line 5)) (4.12.3)\n",
            "Collecting emoji (from unstructured==0.14.4->-r /content/langchain-rag-tutorial/requirements.txt (line 5))\n",
            "  Downloading emoji-2.12.1-py3-none-any.whl.metadata (5.4 kB)\n",
            "Collecting python-iso639 (from unstructured==0.14.4->-r /content/langchain-rag-tutorial/requirements.txt (line 5))\n",
            "  Downloading python_iso639-2024.4.27-py3-none-any.whl.metadata (13 kB)\n",
            "Collecting langdetect (from unstructured==0.14.4->-r /content/langchain-rag-tutorial/requirements.txt (line 5))\n",
            "  Downloading langdetect-1.0.9.tar.gz (981 kB)\n",
            "\u001b[2K     \u001b[90m━━━━━━━━━━━━━━━━━━━━━━━━━━━━━━━━━━━━━━━━\u001b[0m \u001b[32m981.5/981.5 kB\u001b[0m \u001b[31m49.0 MB/s\u001b[0m eta \u001b[36m0:00:00\u001b[0m\n",
            "\u001b[?25h  Preparing metadata (setup.py) ... \u001b[?25l\u001b[?25hdone\n",
            "Collecting rapidfuzz (from unstructured==0.14.4->-r /content/langchain-rag-tutorial/requirements.txt (line 5))\n",
            "  Downloading rapidfuzz-3.9.6-cp310-cp310-manylinux_2_17_x86_64.manylinux2014_x86_64.whl.metadata (12 kB)\n",
            "Collecting backoff (from unstructured==0.14.4->-r /content/langchain-rag-tutorial/requirements.txt (line 5))\n",
            "  Downloading backoff-2.2.1-py3-none-any.whl.metadata (14 kB)\n",
            "Requirement already satisfied: typing-extensions in /usr/local/lib/python3.10/dist-packages (from unstructured==0.14.4->-r /content/langchain-rag-tutorial/requirements.txt (line 5)) (4.12.2)\n",
            "Collecting unstructured-client (from unstructured==0.14.4->-r /content/langchain-rag-tutorial/requirements.txt (line 5))\n",
            "  Downloading unstructured_client-0.25.5-py3-none-any.whl.metadata (13 kB)\n",
            "Requirement already satisfied: wrapt in /usr/local/lib/python3.10/dist-packages (from unstructured==0.14.4->-r /content/langchain-rag-tutorial/requirements.txt (line 5)) (1.16.0)\n",
            "Requirement already satisfied: build>=1.0.3 in /usr/local/lib/python3.10/dist-packages (from chromadb==0.5.0->-r /content/langchain-rag-tutorial/requirements.txt (line 9)) (1.2.1)\n",
            "Collecting chroma-hnswlib==0.7.3 (from chromadb==0.5.0->-r /content/langchain-rag-tutorial/requirements.txt (line 9))\n",
            "  Downloading chroma_hnswlib-0.7.3-cp310-cp310-manylinux_2_17_x86_64.manylinux2014_x86_64.whl.metadata (252 bytes)\n",
            "Collecting fastapi>=0.95.2 (from chromadb==0.5.0->-r /content/langchain-rag-tutorial/requirements.txt (line 9))\n",
            "  Downloading fastapi-0.112.2-py3-none-any.whl.metadata (27 kB)\n",
            "Collecting uvicorn>=0.18.3 (from uvicorn[standard]>=0.18.3->chromadb==0.5.0->-r /content/langchain-rag-tutorial/requirements.txt (line 9))\n",
            "  Downloading uvicorn-0.30.6-py3-none-any.whl.metadata (6.6 kB)\n",
            "Collecting posthog>=2.4.0 (from chromadb==0.5.0->-r /content/langchain-rag-tutorial/requirements.txt (line 9))\n",
            "  Downloading posthog-3.5.2-py2.py3-none-any.whl.metadata (2.0 kB)\n",
            "Collecting onnxruntime>=1.14.1 (from chromadb==0.5.0->-r /content/langchain-rag-tutorial/requirements.txt (line 9))\n",
            "  Downloading onnxruntime-1.19.0-cp310-cp310-manylinux_2_27_x86_64.manylinux_2_28_x86_64.whl.metadata (4.3 kB)\n",
            "Collecting opentelemetry-api>=1.2.0 (from chromadb==0.5.0->-r /content/langchain-rag-tutorial/requirements.txt (line 9))\n",
            "  Downloading opentelemetry_api-1.26.0-py3-none-any.whl.metadata (1.4 kB)\n",
            "Collecting opentelemetry-exporter-otlp-proto-grpc>=1.2.0 (from chromadb==0.5.0->-r /content/langchain-rag-tutorial/requirements.txt (line 9))\n",
            "  Downloading opentelemetry_exporter_otlp_proto_grpc-1.26.0-py3-none-any.whl.metadata (2.3 kB)\n",
            "Collecting opentelemetry-instrumentation-fastapi>=0.41b0 (from chromadb==0.5.0->-r /content/langchain-rag-tutorial/requirements.txt (line 9))\n",
            "  Downloading opentelemetry_instrumentation_fastapi-0.47b0-py3-none-any.whl.metadata (2.1 kB)\n",
            "Collecting opentelemetry-sdk>=1.2.0 (from chromadb==0.5.0->-r /content/langchain-rag-tutorial/requirements.txt (line 9))\n",
            "  Downloading opentelemetry_sdk-1.26.0-py3-none-any.whl.metadata (1.5 kB)\n",
            "Requirement already satisfied: tokenizers>=0.13.2 in /usr/local/lib/python3.10/dist-packages (from chromadb==0.5.0->-r /content/langchain-rag-tutorial/requirements.txt (line 9)) (0.19.1)\n",
            "Collecting pypika>=0.48.9 (from chromadb==0.5.0->-r /content/langchain-rag-tutorial/requirements.txt (line 9))\n",
            "  Downloading PyPika-0.48.9.tar.gz (67 kB)\n",
            "\u001b[2K     \u001b[90m━━━━━━━━━━━━━━━━━━━━━━━━━━━━━━━━━━━━━━━━\u001b[0m \u001b[32m67.3/67.3 kB\u001b[0m \u001b[31m5.4 MB/s\u001b[0m eta \u001b[36m0:00:00\u001b[0m\n",
            "\u001b[?25h  Installing build dependencies ... \u001b[?25l\u001b[?25hdone\n",
            "  Getting requirements to build wheel ... \u001b[?25l\u001b[?25hdone\n",
            "  Preparing metadata (pyproject.toml) ... \u001b[?25l\u001b[?25hdone\n",
            "Requirement already satisfied: tqdm>=4.65.0 in /usr/local/lib/python3.10/dist-packages (from chromadb==0.5.0->-r /content/langchain-rag-tutorial/requirements.txt (line 9)) (4.66.5)\n",
            "Collecting overrides>=7.3.1 (from chromadb==0.5.0->-r /content/langchain-rag-tutorial/requirements.txt (line 9))\n",
            "  Downloading overrides-7.7.0-py3-none-any.whl.metadata (5.8 kB)\n",
            "Requirement already satisfied: importlib-resources in /usr/local/lib/python3.10/dist-packages (from chromadb==0.5.0->-r /content/langchain-rag-tutorial/requirements.txt (line 9)) (6.4.3)\n",
            "Requirement already satisfied: grpcio>=1.58.0 in /usr/local/lib/python3.10/dist-packages (from chromadb==0.5.0->-r /content/langchain-rag-tutorial/requirements.txt (line 9)) (1.64.1)\n",
            "Collecting bcrypt>=4.0.1 (from chromadb==0.5.0->-r /content/langchain-rag-tutorial/requirements.txt (line 9))\n",
            "  Downloading bcrypt-4.2.0-cp39-abi3-manylinux_2_28_x86_64.whl.metadata (9.6 kB)\n",
            "Requirement already satisfied: typer>=0.9.0 in /usr/local/lib/python3.10/dist-packages (from chromadb==0.5.0->-r /content/langchain-rag-tutorial/requirements.txt (line 9)) (0.12.4)\n",
            "Collecting kubernetes>=28.1.0 (from chromadb==0.5.0->-r /content/langchain-rag-tutorial/requirements.txt (line 9))\n",
            "  Downloading kubernetes-30.1.0-py2.py3-none-any.whl.metadata (1.5 kB)\n",
            "Collecting mmh3>=4.0.1 (from chromadb==0.5.0->-r /content/langchain-rag-tutorial/requirements.txt (line 9))\n",
            "  Downloading mmh3-4.1.0-cp310-cp310-manylinux_2_5_x86_64.manylinux1_x86_64.manylinux_2_17_x86_64.manylinux2014_x86_64.whl.metadata (13 kB)\n",
            "Collecting orjson>=3.9.12 (from chromadb==0.5.0->-r /content/langchain-rag-tutorial/requirements.txt (line 9))\n",
            "  Downloading orjson-3.10.7-cp310-cp310-manylinux_2_17_x86_64.manylinux2014_x86_64.whl.metadata (50 kB)\n",
            "\u001b[2K     \u001b[90m━━━━━━━━━━━━━━━━━━━━━━━━━━━━━━━━━━━━━━━━\u001b[0m \u001b[32m50.4/50.4 kB\u001b[0m \u001b[31m3.6 MB/s\u001b[0m eta \u001b[36m0:00:00\u001b[0m\n",
            "\u001b[?25hRequirement already satisfied: anyio<5,>=3.5.0 in /usr/local/lib/python3.10/dist-packages (from openai==1.31.1->-r /content/langchain-rag-tutorial/requirements.txt (line 10)) (3.7.1)\n",
            "Requirement already satisfied: distro<2,>=1.7.0 in /usr/lib/python3/dist-packages (from openai==1.31.1->-r /content/langchain-rag-tutorial/requirements.txt (line 10)) (1.7.0)\n",
            "Requirement already satisfied: httpx<1,>=0.23.0 in /usr/local/lib/python3.10/dist-packages (from openai==1.31.1->-r /content/langchain-rag-tutorial/requirements.txt (line 10)) (0.27.0)\n",
            "Requirement already satisfied: sniffio in /usr/local/lib/python3.10/dist-packages (from openai==1.31.1->-r /content/langchain-rag-tutorial/requirements.txt (line 10)) (1.3.1)\n",
            "Requirement already satisfied: regex>=2022.1.18 in /usr/local/lib/python3.10/dist-packages (from tiktoken==0.7.0->-r /content/langchain-rag-tutorial/requirements.txt (line 11)) (2024.5.15)\n",
            "Requirement already satisfied: aiohappyeyeballs>=2.3.0 in /usr/local/lib/python3.10/dist-packages (from aiohttp<4.0.0,>=3.8.3->langchain==0.2.2->-r /content/langchain-rag-tutorial/requirements.txt (line 2)) (2.4.0)\n",
            "Requirement already satisfied: aiosignal>=1.1.2 in /usr/local/lib/python3.10/dist-packages (from aiohttp<4.0.0,>=3.8.3->langchain==0.2.2->-r /content/langchain-rag-tutorial/requirements.txt (line 2)) (1.3.1)\n",
            "Requirement already satisfied: attrs>=17.3.0 in /usr/local/lib/python3.10/dist-packages (from aiohttp<4.0.0,>=3.8.3->langchain==0.2.2->-r /content/langchain-rag-tutorial/requirements.txt (line 2)) (24.2.0)\n",
            "Requirement already satisfied: frozenlist>=1.1.1 in /usr/local/lib/python3.10/dist-packages (from aiohttp<4.0.0,>=3.8.3->langchain==0.2.2->-r /content/langchain-rag-tutorial/requirements.txt (line 2)) (1.4.1)\n",
            "Requirement already satisfied: multidict<7.0,>=4.5 in /usr/local/lib/python3.10/dist-packages (from aiohttp<4.0.0,>=3.8.3->langchain==0.2.2->-r /content/langchain-rag-tutorial/requirements.txt (line 2)) (6.0.5)\n",
            "Requirement already satisfied: yarl<2.0,>=1.0 in /usr/local/lib/python3.10/dist-packages (from aiohttp<4.0.0,>=3.8.3->langchain==0.2.2->-r /content/langchain-rag-tutorial/requirements.txt (line 2)) (1.9.4)\n",
            "Requirement already satisfied: idna>=2.8 in /usr/local/lib/python3.10/dist-packages (from anyio<5,>=3.5.0->openai==1.31.1->-r /content/langchain-rag-tutorial/requirements.txt (line 10)) (3.7)\n",
            "Requirement already satisfied: exceptiongroup in /usr/local/lib/python3.10/dist-packages (from anyio<5,>=3.5.0->openai==1.31.1->-r /content/langchain-rag-tutorial/requirements.txt (line 10)) (1.2.2)\n",
            "Requirement already satisfied: packaging>=19.1 in /usr/local/lib/python3.10/dist-packages (from build>=1.0.3->chromadb==0.5.0->-r /content/langchain-rag-tutorial/requirements.txt (line 9)) (24.1)\n",
            "Requirement already satisfied: pyproject_hooks in /usr/local/lib/python3.10/dist-packages (from build>=1.0.3->chromadb==0.5.0->-r /content/langchain-rag-tutorial/requirements.txt (line 9)) (1.1.0)\n",
            "Requirement already satisfied: tomli>=1.1.0 in /usr/local/lib/python3.10/dist-packages (from build>=1.0.3->chromadb==0.5.0->-r /content/langchain-rag-tutorial/requirements.txt (line 9)) (2.0.1)\n",
            "Collecting marshmallow<4.0.0,>=3.18.0 (from dataclasses-json<0.7,>=0.5.7->langchain-community==0.2.3->-r /content/langchain-rag-tutorial/requirements.txt (line 3))\n",
            "  Downloading marshmallow-3.22.0-py3-none-any.whl.metadata (7.2 kB)\n",
            "Collecting typing-inspect<1,>=0.4.0 (from dataclasses-json<0.7,>=0.5.7->langchain-community==0.2.3->-r /content/langchain-rag-tutorial/requirements.txt (line 3))\n",
            "  Downloading typing_inspect-0.9.0-py3-none-any.whl.metadata (1.5 kB)\n",
            "Collecting starlette<0.39.0,>=0.37.2 (from fastapi>=0.95.2->chromadb==0.5.0->-r /content/langchain-rag-tutorial/requirements.txt (line 9))\n",
            "  Downloading starlette-0.38.2-py3-none-any.whl.metadata (5.9 kB)\n",
            "Requirement already satisfied: certifi in /usr/local/lib/python3.10/dist-packages (from httpx<1,>=0.23.0->openai==1.31.1->-r /content/langchain-rag-tutorial/requirements.txt (line 10)) (2024.7.4)\n",
            "Requirement already satisfied: httpcore==1.* in /usr/local/lib/python3.10/dist-packages (from httpx<1,>=0.23.0->openai==1.31.1->-r /content/langchain-rag-tutorial/requirements.txt (line 10)) (1.0.5)\n",
            "Requirement already satisfied: h11<0.15,>=0.13 in /usr/local/lib/python3.10/dist-packages (from httpcore==1.*->httpx<1,>=0.23.0->openai==1.31.1->-r /content/langchain-rag-tutorial/requirements.txt (line 10)) (0.14.0)\n",
            "Requirement already satisfied: six>=1.9.0 in /usr/local/lib/python3.10/dist-packages (from kubernetes>=28.1.0->chromadb==0.5.0->-r /content/langchain-rag-tutorial/requirements.txt (line 9)) (1.16.0)\n",
            "Requirement already satisfied: python-dateutil>=2.5.3 in /usr/local/lib/python3.10/dist-packages (from kubernetes>=28.1.0->chromadb==0.5.0->-r /content/langchain-rag-tutorial/requirements.txt (line 9)) (2.8.2)\n",
            "Requirement already satisfied: google-auth>=1.0.1 in /usr/local/lib/python3.10/dist-packages (from kubernetes>=28.1.0->chromadb==0.5.0->-r /content/langchain-rag-tutorial/requirements.txt (line 9)) (2.27.0)\n",
            "Requirement already satisfied: websocket-client!=0.40.0,!=0.41.*,!=0.42.*,>=0.32.0 in /usr/local/lib/python3.10/dist-packages (from kubernetes>=28.1.0->chromadb==0.5.0->-r /content/langchain-rag-tutorial/requirements.txt (line 9)) (1.8.0)\n",
            "Requirement already satisfied: requests-oauthlib in /usr/local/lib/python3.10/dist-packages (from kubernetes>=28.1.0->chromadb==0.5.0->-r /content/langchain-rag-tutorial/requirements.txt (line 9)) (1.3.1)\n",
            "Requirement already satisfied: oauthlib>=3.2.2 in /usr/local/lib/python3.10/dist-packages (from kubernetes>=28.1.0->chromadb==0.5.0->-r /content/langchain-rag-tutorial/requirements.txt (line 9)) (3.2.2)\n",
            "Requirement already satisfied: urllib3>=1.24.2 in /usr/local/lib/python3.10/dist-packages (from kubernetes>=28.1.0->chromadb==0.5.0->-r /content/langchain-rag-tutorial/requirements.txt (line 9)) (2.0.7)\n",
            "Collecting jsonpatch<2.0,>=1.33 (from langchain-core<0.3.0,>=0.2.0->langchain==0.2.2->-r /content/langchain-rag-tutorial/requirements.txt (line 2))\n",
            "  Downloading jsonpatch-1.33-py2.py3-none-any.whl.metadata (3.0 kB)\n",
            "Collecting coloredlogs (from onnxruntime>=1.14.1->chromadb==0.5.0->-r /content/langchain-rag-tutorial/requirements.txt (line 9))\n",
            "  Downloading coloredlogs-15.0.1-py2.py3-none-any.whl.metadata (12 kB)\n",
            "Requirement already satisfied: flatbuffers in /usr/local/lib/python3.10/dist-packages (from onnxruntime>=1.14.1->chromadb==0.5.0->-r /content/langchain-rag-tutorial/requirements.txt (line 9)) (24.3.25)\n",
            "Requirement already satisfied: protobuf in /usr/local/lib/python3.10/dist-packages (from onnxruntime>=1.14.1->chromadb==0.5.0->-r /content/langchain-rag-tutorial/requirements.txt (line 9)) (3.20.3)\n",
            "Requirement already satisfied: sympy in /usr/local/lib/python3.10/dist-packages (from onnxruntime>=1.14.1->chromadb==0.5.0->-r /content/langchain-rag-tutorial/requirements.txt (line 9)) (1.13.2)\n",
            "Collecting deprecated>=1.2.6 (from opentelemetry-api>=1.2.0->chromadb==0.5.0->-r /content/langchain-rag-tutorial/requirements.txt (line 9))\n",
            "  Downloading Deprecated-1.2.14-py2.py3-none-any.whl.metadata (5.4 kB)\n",
            "Collecting importlib-metadata<=8.0.0,>=6.0 (from opentelemetry-api>=1.2.0->chromadb==0.5.0->-r /content/langchain-rag-tutorial/requirements.txt (line 9))\n",
            "  Downloading importlib_metadata-8.0.0-py3-none-any.whl.metadata (4.6 kB)\n",
            "Requirement already satisfied: googleapis-common-protos~=1.52 in /usr/local/lib/python3.10/dist-packages (from opentelemetry-exporter-otlp-proto-grpc>=1.2.0->chromadb==0.5.0->-r /content/langchain-rag-tutorial/requirements.txt (line 9)) (1.63.2)\n",
            "Collecting opentelemetry-exporter-otlp-proto-common==1.26.0 (from opentelemetry-exporter-otlp-proto-grpc>=1.2.0->chromadb==0.5.0->-r /content/langchain-rag-tutorial/requirements.txt (line 9))\n",
            "  Downloading opentelemetry_exporter_otlp_proto_common-1.26.0-py3-none-any.whl.metadata (1.8 kB)\n",
            "Collecting opentelemetry-proto==1.26.0 (from opentelemetry-exporter-otlp-proto-grpc>=1.2.0->chromadb==0.5.0->-r /content/langchain-rag-tutorial/requirements.txt (line 9))\n",
            "  Downloading opentelemetry_proto-1.26.0-py3-none-any.whl.metadata (2.3 kB)\n",
            "Collecting opentelemetry-instrumentation-asgi==0.47b0 (from opentelemetry-instrumentation-fastapi>=0.41b0->chromadb==0.5.0->-r /content/langchain-rag-tutorial/requirements.txt (line 9))\n",
            "  Downloading opentelemetry_instrumentation_asgi-0.47b0-py3-none-any.whl.metadata (2.0 kB)\n",
            "Collecting opentelemetry-instrumentation==0.47b0 (from opentelemetry-instrumentation-fastapi>=0.41b0->chromadb==0.5.0->-r /content/langchain-rag-tutorial/requirements.txt (line 9))\n",
            "  Downloading opentelemetry_instrumentation-0.47b0-py3-none-any.whl.metadata (6.1 kB)\n",
            "Collecting opentelemetry-semantic-conventions==0.47b0 (from opentelemetry-instrumentation-fastapi>=0.41b0->chromadb==0.5.0->-r /content/langchain-rag-tutorial/requirements.txt (line 9))\n",
            "  Downloading opentelemetry_semantic_conventions-0.47b0-py3-none-any.whl.metadata (2.4 kB)\n",
            "Collecting opentelemetry-util-http==0.47b0 (from opentelemetry-instrumentation-fastapi>=0.41b0->chromadb==0.5.0->-r /content/langchain-rag-tutorial/requirements.txt (line 9))\n",
            "  Downloading opentelemetry_util_http-0.47b0-py3-none-any.whl.metadata (2.5 kB)\n",
            "Requirement already satisfied: setuptools>=16.0 in /usr/local/lib/python3.10/dist-packages (from opentelemetry-instrumentation==0.47b0->opentelemetry-instrumentation-fastapi>=0.41b0->chromadb==0.5.0->-r /content/langchain-rag-tutorial/requirements.txt (line 9)) (71.0.4)\n",
            "Collecting asgiref~=3.0 (from opentelemetry-instrumentation-asgi==0.47b0->opentelemetry-instrumentation-fastapi>=0.41b0->chromadb==0.5.0->-r /content/langchain-rag-tutorial/requirements.txt (line 9))\n",
            "  Downloading asgiref-3.8.1-py3-none-any.whl.metadata (9.3 kB)\n",
            "Collecting monotonic>=1.5 (from posthog>=2.4.0->chromadb==0.5.0->-r /content/langchain-rag-tutorial/requirements.txt (line 9))\n",
            "  Downloading monotonic-1.6-py2.py3-none-any.whl.metadata (1.5 kB)\n",
            "Requirement already satisfied: annotated-types>=0.4.0 in /usr/local/lib/python3.10/dist-packages (from pydantic<3,>=1->langchain==0.2.2->-r /content/langchain-rag-tutorial/requirements.txt (line 2)) (0.7.0)\n",
            "Requirement already satisfied: pydantic-core==2.20.1 in /usr/local/lib/python3.10/dist-packages (from pydantic<3,>=1->langchain==0.2.2->-r /content/langchain-rag-tutorial/requirements.txt (line 2)) (2.20.1)\n",
            "Requirement already satisfied: charset-normalizer<4,>=2 in /usr/local/lib/python3.10/dist-packages (from requests<3,>=2->langchain==0.2.2->-r /content/langchain-rag-tutorial/requirements.txt (line 2)) (3.3.2)\n",
            "Requirement already satisfied: greenlet!=0.4.17 in /usr/local/lib/python3.10/dist-packages (from SQLAlchemy<3,>=1.4->langchain==0.2.2->-r /content/langchain-rag-tutorial/requirements.txt (line 2)) (3.0.3)\n",
            "Requirement already satisfied: huggingface-hub<1.0,>=0.16.4 in /usr/local/lib/python3.10/dist-packages (from tokenizers>=0.13.2->chromadb==0.5.0->-r /content/langchain-rag-tutorial/requirements.txt (line 9)) (0.23.5)\n",
            "Requirement already satisfied: click>=8.0.0 in /usr/local/lib/python3.10/dist-packages (from typer>=0.9.0->chromadb==0.5.0->-r /content/langchain-rag-tutorial/requirements.txt (line 9)) (8.1.7)\n",
            "Requirement already satisfied: shellingham>=1.3.0 in /usr/local/lib/python3.10/dist-packages (from typer>=0.9.0->chromadb==0.5.0->-r /content/langchain-rag-tutorial/requirements.txt (line 9)) (1.5.4)\n",
            "Requirement already satisfied: rich>=10.11.0 in /usr/local/lib/python3.10/dist-packages (from typer>=0.9.0->chromadb==0.5.0->-r /content/langchain-rag-tutorial/requirements.txt (line 9)) (13.7.1)\n",
            "Collecting httptools>=0.5.0 (from uvicorn[standard]>=0.18.3->chromadb==0.5.0->-r /content/langchain-rag-tutorial/requirements.txt (line 9))\n",
            "  Downloading httptools-0.6.1-cp310-cp310-manylinux_2_5_x86_64.manylinux1_x86_64.manylinux_2_17_x86_64.manylinux2014_x86_64.whl.metadata (3.6 kB)\n",
            "Collecting uvloop!=0.15.0,!=0.15.1,>=0.14.0 (from uvicorn[standard]>=0.18.3->chromadb==0.5.0->-r /content/langchain-rag-tutorial/requirements.txt (line 9))\n",
            "  Downloading uvloop-0.20.0-cp310-cp310-manylinux_2_17_x86_64.manylinux2014_x86_64.whl.metadata (4.9 kB)\n",
            "Collecting watchfiles>=0.13 (from uvicorn[standard]>=0.18.3->chromadb==0.5.0->-r /content/langchain-rag-tutorial/requirements.txt (line 9))\n",
            "  Downloading watchfiles-0.23.0-cp310-cp310-manylinux_2_17_x86_64.manylinux2014_x86_64.whl.metadata (4.9 kB)\n",
            "Collecting websockets>=10.4 (from uvicorn[standard]>=0.18.3->chromadb==0.5.0->-r /content/langchain-rag-tutorial/requirements.txt (line 9))\n",
            "  Downloading websockets-13.0-cp310-cp310-manylinux_2_5_x86_64.manylinux1_x86_64.manylinux_2_17_x86_64.manylinux2014_x86_64.whl.metadata (6.7 kB)\n",
            "Requirement already satisfied: soupsieve>1.2 in /usr/local/lib/python3.10/dist-packages (from beautifulsoup4->unstructured==0.14.4->-r /content/langchain-rag-tutorial/requirements.txt (line 5)) (2.6)\n",
            "Requirement already satisfied: joblib in /usr/local/lib/python3.10/dist-packages (from nltk->unstructured==0.14.4->-r /content/langchain-rag-tutorial/requirements.txt (line 5)) (1.4.2)\n",
            "Collecting deepdiff>=6.0 (from unstructured-client->unstructured==0.14.4->-r /content/langchain-rag-tutorial/requirements.txt (line 5))\n",
            "  Downloading deepdiff-7.0.1-py3-none-any.whl.metadata (6.8 kB)\n",
            "Collecting jsonpath-python>=1.0.6 (from unstructured-client->unstructured==0.14.4->-r /content/langchain-rag-tutorial/requirements.txt (line 5))\n",
            "  Downloading jsonpath_python-1.0.6-py3-none-any.whl.metadata (12 kB)\n",
            "Collecting mypy-extensions>=1.0.0 (from unstructured-client->unstructured==0.14.4->-r /content/langchain-rag-tutorial/requirements.txt (line 5))\n",
            "  Downloading mypy_extensions-1.0.0-py3-none-any.whl.metadata (1.1 kB)\n",
            "Requirement already satisfied: nest-asyncio>=1.6.0 in /usr/local/lib/python3.10/dist-packages (from unstructured-client->unstructured==0.14.4->-r /content/langchain-rag-tutorial/requirements.txt (line 5)) (1.6.0)\n",
            "Collecting pypdf>=4.0 (from unstructured-client->unstructured==0.14.4->-r /content/langchain-rag-tutorial/requirements.txt (line 5))\n",
            "  Downloading pypdf-4.3.1-py3-none-any.whl.metadata (7.4 kB)\n",
            "Collecting requests-toolbelt>=1.0.0 (from unstructured-client->unstructured==0.14.4->-r /content/langchain-rag-tutorial/requirements.txt (line 5))\n",
            "  Downloading requests_toolbelt-1.0.0-py2.py3-none-any.whl.metadata (14 kB)\n",
            "Collecting ordered-set<4.2.0,>=4.1.0 (from deepdiff>=6.0->unstructured-client->unstructured==0.14.4->-r /content/langchain-rag-tutorial/requirements.txt (line 5))\n",
            "  Downloading ordered_set-4.1.0-py3-none-any.whl.metadata (5.3 kB)\n",
            "Requirement already satisfied: cachetools<6.0,>=2.0.0 in /usr/local/lib/python3.10/dist-packages (from google-auth>=1.0.1->kubernetes>=28.1.0->chromadb==0.5.0->-r /content/langchain-rag-tutorial/requirements.txt (line 9)) (5.5.0)\n",
            "Requirement already satisfied: pyasn1-modules>=0.2.1 in /usr/local/lib/python3.10/dist-packages (from google-auth>=1.0.1->kubernetes>=28.1.0->chromadb==0.5.0->-r /content/langchain-rag-tutorial/requirements.txt (line 9)) (0.4.0)\n",
            "Requirement already satisfied: rsa<5,>=3.1.4 in /usr/local/lib/python3.10/dist-packages (from google-auth>=1.0.1->kubernetes>=28.1.0->chromadb==0.5.0->-r /content/langchain-rag-tutorial/requirements.txt (line 9)) (4.9)\n",
            "Requirement already satisfied: filelock in /usr/local/lib/python3.10/dist-packages (from huggingface-hub<1.0,>=0.16.4->tokenizers>=0.13.2->chromadb==0.5.0->-r /content/langchain-rag-tutorial/requirements.txt (line 9)) (3.15.4)\n",
            "Requirement already satisfied: fsspec>=2023.5.0 in /usr/local/lib/python3.10/dist-packages (from huggingface-hub<1.0,>=0.16.4->tokenizers>=0.13.2->chromadb==0.5.0->-r /content/langchain-rag-tutorial/requirements.txt (line 9)) (2024.6.1)\n",
            "Requirement already satisfied: zipp>=0.5 in /usr/local/lib/python3.10/dist-packages (from importlib-metadata<=8.0.0,>=6.0->opentelemetry-api>=1.2.0->chromadb==0.5.0->-r /content/langchain-rag-tutorial/requirements.txt (line 9)) (3.20.0)\n",
            "Collecting jsonpointer>=1.9 (from jsonpatch<2.0,>=1.33->langchain-core<0.3.0,>=0.2.0->langchain==0.2.2->-r /content/langchain-rag-tutorial/requirements.txt (line 2))\n",
            "  Downloading jsonpointer-3.0.0-py2.py3-none-any.whl.metadata (2.3 kB)\n",
            "Requirement already satisfied: markdown-it-py>=2.2.0 in /usr/local/lib/python3.10/dist-packages (from rich>=10.11.0->typer>=0.9.0->chromadb==0.5.0->-r /content/langchain-rag-tutorial/requirements.txt (line 9)) (3.0.0)\n",
            "Requirement already satisfied: pygments<3.0.0,>=2.13.0 in /usr/local/lib/python3.10/dist-packages (from rich>=10.11.0->typer>=0.9.0->chromadb==0.5.0->-r /content/langchain-rag-tutorial/requirements.txt (line 9)) (2.16.1)\n",
            "Collecting humanfriendly>=9.1 (from coloredlogs->onnxruntime>=1.14.1->chromadb==0.5.0->-r /content/langchain-rag-tutorial/requirements.txt (line 9))\n",
            "  Downloading humanfriendly-10.0-py2.py3-none-any.whl.metadata (9.2 kB)\n",
            "Requirement already satisfied: mpmath<1.4,>=1.1.0 in /usr/local/lib/python3.10/dist-packages (from sympy->onnxruntime>=1.14.1->chromadb==0.5.0->-r /content/langchain-rag-tutorial/requirements.txt (line 9)) (1.3.0)\n",
            "Requirement already satisfied: mdurl~=0.1 in /usr/local/lib/python3.10/dist-packages (from markdown-it-py>=2.2.0->rich>=10.11.0->typer>=0.9.0->chromadb==0.5.0->-r /content/langchain-rag-tutorial/requirements.txt (line 9)) (0.1.2)\n",
            "Requirement already satisfied: pyasn1<0.7.0,>=0.4.6 in /usr/local/lib/python3.10/dist-packages (from pyasn1-modules>=0.2.1->google-auth>=1.0.1->kubernetes>=28.1.0->chromadb==0.5.0->-r /content/langchain-rag-tutorial/requirements.txt (line 9)) (0.6.0)\n",
            "Downloading python_dotenv-1.0.1-py3-none-any.whl (19 kB)\n",
            "Downloading langchain-0.2.2-py3-none-any.whl (973 kB)\n",
            "\u001b[2K   \u001b[90m━━━━━━━━━━━━━━━━━━━━━━━━━━━━━━━━━━━━━━━━\u001b[0m \u001b[32m973.6/973.6 kB\u001b[0m \u001b[31m56.2 MB/s\u001b[0m eta \u001b[36m0:00:00\u001b[0m\n",
            "\u001b[?25hDownloading langchain_community-0.2.3-py3-none-any.whl (2.2 MB)\n",
            "\u001b[2K   \u001b[90m━━━━━━━━━━━━━━━━━━━━━━━━━━━━━━━━━━━━━━━━\u001b[0m \u001b[32m2.2/2.2 MB\u001b[0m \u001b[31m58.8 MB/s\u001b[0m eta \u001b[36m0:00:00\u001b[0m\n",
            "\u001b[?25hDownloading langchain_openai-0.1.8-py3-none-any.whl (38 kB)\n",
            "Downloading unstructured-0.14.4-py3-none-any.whl (2.0 MB)\n",
            "\u001b[2K   \u001b[90m━━━━━━━━━━━━━━━━━━━━━━━━━━━━━━━━━━━━━━━━\u001b[0m \u001b[32m2.0/2.0 MB\u001b[0m \u001b[31m80.2 MB/s\u001b[0m eta \u001b[36m0:00:00\u001b[0m\n",
            "\u001b[?25hDownloading chromadb-0.5.0-py3-none-any.whl (526 kB)\n",
            "\u001b[2K   \u001b[90m━━━━━━━━━━━━━━━━━━━━━━━━━━━━━━━━━━━━━━━━\u001b[0m \u001b[32m526.8/526.8 kB\u001b[0m \u001b[31m37.5 MB/s\u001b[0m eta \u001b[36m0:00:00\u001b[0m\n",
            "\u001b[?25hDownloading openai-1.31.1-py3-none-any.whl (324 kB)\n",
            "\u001b[2K   \u001b[90m━━━━━━━━━━━━━━━━━━━━━━━━━━━━━━━━━━━━━━━━\u001b[0m \u001b[32m324.1/324.1 kB\u001b[0m \u001b[31m23.3 MB/s\u001b[0m eta \u001b[36m0:00:00\u001b[0m\n",
            "\u001b[?25hDownloading tiktoken-0.7.0-cp310-cp310-manylinux_2_17_x86_64.manylinux2014_x86_64.whl (1.1 MB)\n",
            "\u001b[2K   \u001b[90m━━━━━━━━━━━━━━━━━━━━━━━━━━━━━━━━━━━━━━━━\u001b[0m \u001b[32m1.1/1.1 MB\u001b[0m \u001b[31m58.8 MB/s\u001b[0m eta \u001b[36m0:00:00\u001b[0m\n",
            "\u001b[?25hDownloading chroma_hnswlib-0.7.3-cp310-cp310-manylinux_2_17_x86_64.manylinux2014_x86_64.whl (2.4 MB)\n",
            "\u001b[2K   \u001b[90m━━━━━━━━━━━━━━━━━━━━━━━━━━━━━━━━━━━━━━━━\u001b[0m \u001b[32m2.4/2.4 MB\u001b[0m \u001b[31m52.4 MB/s\u001b[0m eta \u001b[36m0:00:00\u001b[0m\n",
            "\u001b[?25hDownloading bcrypt-4.2.0-cp39-abi3-manylinux_2_28_x86_64.whl (273 kB)\n",
            "\u001b[2K   \u001b[90m━━━━━━━━━━━━━━━━━━━━━━━━━━━━━━━━━━━━━━━━\u001b[0m \u001b[32m273.8/273.8 kB\u001b[0m \u001b[31m25.0 MB/s\u001b[0m eta \u001b[36m0:00:00\u001b[0m\n",
            "\u001b[?25hDownloading dataclasses_json-0.6.7-py3-none-any.whl (28 kB)\n",
            "Downloading fastapi-0.112.2-py3-none-any.whl (93 kB)\n",
            "\u001b[2K   \u001b[90m━━━━━━━━━━━━━━━━━━━━━━━━━━━━━━━━━━━━━━━━\u001b[0m \u001b[32m93.5/93.5 kB\u001b[0m \u001b[31m9.1 MB/s\u001b[0m eta \u001b[36m0:00:00\u001b[0m\n",
            "\u001b[?25hDownloading kubernetes-30.1.0-py2.py3-none-any.whl (1.7 MB)\n",
            "\u001b[2K   \u001b[90m━━━━━━━━━━━━━━━━━━━━━━━━━━━━━━━━━━━━━━━━\u001b[0m \u001b[32m1.7/1.7 MB\u001b[0m \u001b[31m75.3 MB/s\u001b[0m eta \u001b[36m0:00:00\u001b[0m\n",
            "\u001b[?25hDownloading langchain_core-0.2.34-py3-none-any.whl (393 kB)\n",
            "\u001b[2K   \u001b[90m━━━━━━━━━━━━━━━━━━━━━━━━━━━━━━━━━━━━━━━━\u001b[0m \u001b[32m393.9/393.9 kB\u001b[0m \u001b[31m35.7 MB/s\u001b[0m eta \u001b[36m0:00:00\u001b[0m\n",
            "\u001b[?25hDownloading langchain_text_splitters-0.2.2-py3-none-any.whl (25 kB)\n",
            "Downloading langsmith-0.1.104-py3-none-any.whl (149 kB)\n",
            "\u001b[2K   \u001b[90m━━━━━━━━━━━━━━━━━━━━━━━━━━━━━━━━━━━━━━━━\u001b[0m \u001b[32m149.1/149.1 kB\u001b[0m \u001b[31m14.9 MB/s\u001b[0m eta \u001b[36m0:00:00\u001b[0m\n",
            "\u001b[?25hDownloading mmh3-4.1.0-cp310-cp310-manylinux_2_5_x86_64.manylinux1_x86_64.manylinux_2_17_x86_64.manylinux2014_x86_64.whl (67 kB)\n",
            "\u001b[2K   \u001b[90m━━━━━━━━━━━━━━━━━━━━━━━━━━━━━━━━━━━━━━━━\u001b[0m \u001b[32m67.6/67.6 kB\u001b[0m \u001b[31m7.4 MB/s\u001b[0m eta \u001b[36m0:00:00\u001b[0m\n",
            "\u001b[?25hDownloading onnxruntime-1.19.0-cp310-cp310-manylinux_2_27_x86_64.manylinux_2_28_x86_64.whl (13.2 MB)\n",
            "\u001b[2K   \u001b[90m━━━━━━━━━━━━━━━━━━━━━━━━━━━━━━━━━━━━━━━━\u001b[0m \u001b[32m13.2/13.2 MB\u001b[0m \u001b[31m104.8 MB/s\u001b[0m eta \u001b[36m0:00:00\u001b[0m\n",
            "\u001b[?25hDownloading opentelemetry_api-1.26.0-py3-none-any.whl (61 kB)\n",
            "\u001b[2K   \u001b[90m━━━━━━━━━━━━━━━━━━━━━━━━━━━━━━━━━━━━━━━━\u001b[0m \u001b[32m61.5/61.5 kB\u001b[0m \u001b[31m5.6 MB/s\u001b[0m eta \u001b[36m0:00:00\u001b[0m\n",
            "\u001b[?25hDownloading opentelemetry_exporter_otlp_proto_grpc-1.26.0-py3-none-any.whl (18 kB)\n",
            "Downloading opentelemetry_exporter_otlp_proto_common-1.26.0-py3-none-any.whl (17 kB)\n",
            "Downloading opentelemetry_proto-1.26.0-py3-none-any.whl (52 kB)\n",
            "\u001b[2K   \u001b[90m━━━━━━━━━━━━━━━━━━━━━━━━━━━━━━━━━━━━━━━━\u001b[0m \u001b[32m52.5/52.5 kB\u001b[0m \u001b[31m4.8 MB/s\u001b[0m eta \u001b[36m0:00:00\u001b[0m\n",
            "\u001b[?25hDownloading opentelemetry_instrumentation_fastapi-0.47b0-py3-none-any.whl (11 kB)\n",
            "Downloading opentelemetry_instrumentation-0.47b0-py3-none-any.whl (29 kB)\n",
            "Downloading opentelemetry_instrumentation_asgi-0.47b0-py3-none-any.whl (15 kB)\n",
            "Downloading opentelemetry_semantic_conventions-0.47b0-py3-none-any.whl (138 kB)\n",
            "\u001b[2K   \u001b[90m━━━━━━━━━━━━━━━━━━━━━━━━━━━━━━━━━━━━━━━━\u001b[0m \u001b[32m138.0/138.0 kB\u001b[0m \u001b[31m14.0 MB/s\u001b[0m eta \u001b[36m0:00:00\u001b[0m\n",
            "\u001b[?25hDownloading opentelemetry_util_http-0.47b0-py3-none-any.whl (6.9 kB)\n",
            "Downloading opentelemetry_sdk-1.26.0-py3-none-any.whl (109 kB)\n",
            "\u001b[2K   \u001b[90m━━━━━━━━━━━━━━━━━━━━━━━━━━━━━━━━━━━━━━━━\u001b[0m \u001b[32m109.5/109.5 kB\u001b[0m \u001b[31m10.3 MB/s\u001b[0m eta \u001b[36m0:00:00\u001b[0m\n",
            "\u001b[?25hDownloading orjson-3.10.7-cp310-cp310-manylinux_2_17_x86_64.manylinux2014_x86_64.whl (141 kB)\n",
            "\u001b[2K   \u001b[90m━━━━━━━━━━━━━━━━━━━━━━━━━━━━━━━━━━━━━━━━\u001b[0m \u001b[32m141.9/141.9 kB\u001b[0m \u001b[31m14.0 MB/s\u001b[0m eta \u001b[36m0:00:00\u001b[0m\n",
            "\u001b[?25hDownloading overrides-7.7.0-py3-none-any.whl (17 kB)\n",
            "Downloading posthog-3.5.2-py2.py3-none-any.whl (41 kB)\n",
            "\u001b[2K   \u001b[90m━━━━━━━━━━━━━━━━━━━━━━━━━━━━━━━━━━━━━━━━\u001b[0m \u001b[32m41.5/41.5 kB\u001b[0m \u001b[31m3.5 MB/s\u001b[0m eta \u001b[36m0:00:00\u001b[0m\n",
            "\u001b[?25hDownloading backoff-2.2.1-py3-none-any.whl (15 kB)\n",
            "Downloading tenacity-8.5.0-py3-none-any.whl (28 kB)\n",
            "Downloading uvicorn-0.30.6-py3-none-any.whl (62 kB)\n",
            "\u001b[2K   \u001b[90m━━━━━━━━━━━━━━━━━━━━━━━━━━━━━━━━━━━━━━━━\u001b[0m \u001b[32m62.8/62.8 kB\u001b[0m \u001b[31m6.0 MB/s\u001b[0m eta \u001b[36m0:00:00\u001b[0m\n",
            "\u001b[?25hDownloading emoji-2.12.1-py3-none-any.whl (431 kB)\n",
            "\u001b[2K   \u001b[90m━━━━━━━━━━━━━━━━━━━━━━━━━━━━━━━━━━━━━━━━\u001b[0m \u001b[32m431.4/431.4 kB\u001b[0m \u001b[31m32.3 MB/s\u001b[0m eta \u001b[36m0:00:00\u001b[0m\n",
            "\u001b[?25hDownloading filetype-1.2.0-py2.py3-none-any.whl (19 kB)\n",
            "Downloading python_iso639-2024.4.27-py3-none-any.whl (274 kB)\n",
            "\u001b[2K   \u001b[90m━━━━━━━━━━━━━━━━━━━━━━━━━━━━━━━━━━━━━━━━\u001b[0m \u001b[32m274.7/274.7 kB\u001b[0m \u001b[31m22.7 MB/s\u001b[0m eta \u001b[36m0:00:00\u001b[0m\n",
            "\u001b[?25hDownloading python_magic-0.4.27-py2.py3-none-any.whl (13 kB)\n",
            "Downloading rapidfuzz-3.9.6-cp310-cp310-manylinux_2_17_x86_64.manylinux2014_x86_64.whl (3.4 MB)\n",
            "\u001b[2K   \u001b[90m━━━━━━━━━━━━━━━━━━━━━━━━━━━━━━━━━━━━━━━━\u001b[0m \u001b[32m3.4/3.4 MB\u001b[0m \u001b[31m101.5 MB/s\u001b[0m eta \u001b[36m0:00:00\u001b[0m\n",
            "\u001b[?25hDownloading unstructured_client-0.25.5-py3-none-any.whl (43 kB)\n",
            "\u001b[2K   \u001b[90m━━━━━━━━━━━━━━━━━━━━━━━━━━━━━━━━━━━━━━━━\u001b[0m \u001b[32m43.9/43.9 kB\u001b[0m \u001b[31m3.6 MB/s\u001b[0m eta \u001b[36m0:00:00\u001b[0m\n",
            "\u001b[?25hDownloading deepdiff-7.0.1-py3-none-any.whl (80 kB)\n",
            "\u001b[2K   \u001b[90m━━━━━━━━━━━━━━━━━━━━━━━━━━━━━━━━━━━━━━━━\u001b[0m \u001b[32m80.8/80.8 kB\u001b[0m \u001b[31m7.5 MB/s\u001b[0m eta \u001b[36m0:00:00\u001b[0m\n",
            "\u001b[?25hDownloading Deprecated-1.2.14-py2.py3-none-any.whl (9.6 kB)\n",
            "Downloading httptools-0.6.1-cp310-cp310-manylinux_2_5_x86_64.manylinux1_x86_64.manylinux_2_17_x86_64.manylinux2014_x86_64.whl (341 kB)\n",
            "\u001b[2K   \u001b[90m━━━━━━━━━━━━━━━━━━━━━━━━━━━━━━━━━━━━━━━━\u001b[0m \u001b[32m341.4/341.4 kB\u001b[0m \u001b[31m27.4 MB/s\u001b[0m eta \u001b[36m0:00:00\u001b[0m\n",
            "\u001b[?25hDownloading importlib_metadata-8.0.0-py3-none-any.whl (24 kB)\n",
            "Downloading jsonpatch-1.33-py2.py3-none-any.whl (12 kB)\n",
            "Downloading jsonpath_python-1.0.6-py3-none-any.whl (7.6 kB)\n",
            "Downloading marshmallow-3.22.0-py3-none-any.whl (49 kB)\n",
            "\u001b[2K   \u001b[90m━━━━━━━━━━━━━━━━━━━━━━━━━━━━━━━━━━━━━━━━\u001b[0m \u001b[32m49.3/49.3 kB\u001b[0m \u001b[31m4.7 MB/s\u001b[0m eta \u001b[36m0:00:00\u001b[0m\n",
            "\u001b[?25hDownloading monotonic-1.6-py2.py3-none-any.whl (8.2 kB)\n",
            "Downloading mypy_extensions-1.0.0-py3-none-any.whl (4.7 kB)\n",
            "Downloading pypdf-4.3.1-py3-none-any.whl (295 kB)\n",
            "\u001b[2K   \u001b[90m━━━━━━━━━━━━━━━━━━━━━━━━━━━━━━━━━━━━━━━━\u001b[0m \u001b[32m295.8/295.8 kB\u001b[0m \u001b[31m23.5 MB/s\u001b[0m eta \u001b[36m0:00:00\u001b[0m\n",
            "\u001b[?25hDownloading requests_toolbelt-1.0.0-py2.py3-none-any.whl (54 kB)\n",
            "\u001b[2K   \u001b[90m━━━━━━━━━━━━━━━━━━━━━━━━━━━━━━━━━━━━━━━━\u001b[0m \u001b[32m54.5/54.5 kB\u001b[0m \u001b[31m5.3 MB/s\u001b[0m eta \u001b[36m0:00:00\u001b[0m\n",
            "\u001b[?25hDownloading starlette-0.38.2-py3-none-any.whl (72 kB)\n",
            "\u001b[2K   \u001b[90m━━━━━━━━━━━━━━━━━━━━━━━━━━━━━━━━━━━━━━━━\u001b[0m \u001b[32m72.0/72.0 kB\u001b[0m \u001b[31m6.2 MB/s\u001b[0m eta \u001b[36m0:00:00\u001b[0m\n",
            "\u001b[?25hDownloading typing_inspect-0.9.0-py3-none-any.whl (8.8 kB)\n",
            "Downloading uvloop-0.20.0-cp310-cp310-manylinux_2_17_x86_64.manylinux2014_x86_64.whl (3.4 MB)\n",
            "\u001b[2K   \u001b[90m━━━━━━━━━━━━━━━━━━━━━━━━━━━━━━━━━━━━━━━━\u001b[0m \u001b[32m3.4/3.4 MB\u001b[0m \u001b[31m95.7 MB/s\u001b[0m eta \u001b[36m0:00:00\u001b[0m\n",
            "\u001b[?25hDownloading watchfiles-0.23.0-cp310-cp310-manylinux_2_17_x86_64.manylinux2014_x86_64.whl (427 kB)\n",
            "\u001b[2K   \u001b[90m━━━━━━━━━━━━━━━━━━━━━━━━━━━━━━━━━━━━━━━━\u001b[0m \u001b[32m427.7/427.7 kB\u001b[0m \u001b[31m32.9 MB/s\u001b[0m eta \u001b[36m0:00:00\u001b[0m\n",
            "\u001b[?25hDownloading websockets-13.0-cp310-cp310-manylinux_2_5_x86_64.manylinux1_x86_64.manylinux_2_17_x86_64.manylinux2014_x86_64.whl (157 kB)\n",
            "\u001b[2K   \u001b[90m━━━━━━━━━━━━━━━━━━━━━━━━━━━━━━━━━━━━━━━━\u001b[0m \u001b[32m157.2/157.2 kB\u001b[0m \u001b[31m13.8 MB/s\u001b[0m eta \u001b[36m0:00:00\u001b[0m\n",
            "\u001b[?25hDownloading coloredlogs-15.0.1-py2.py3-none-any.whl (46 kB)\n",
            "\u001b[2K   \u001b[90m━━━━━━━━━━━━━━━━━━━━━━━━━━━━━━━━━━━━━━━━\u001b[0m \u001b[32m46.0/46.0 kB\u001b[0m \u001b[31m3.2 MB/s\u001b[0m eta \u001b[36m0:00:00\u001b[0m\n",
            "\u001b[?25hDownloading asgiref-3.8.1-py3-none-any.whl (23 kB)\n",
            "Downloading humanfriendly-10.0-py2.py3-none-any.whl (86 kB)\n",
            "\u001b[2K   \u001b[90m━━━━━━━━━━━━━━━━━━━━━━━━━━━━━━━━━━━━━━━━\u001b[0m \u001b[32m86.8/86.8 kB\u001b[0m \u001b[31m8.4 MB/s\u001b[0m eta \u001b[36m0:00:00\u001b[0m\n",
            "\u001b[?25hDownloading jsonpointer-3.0.0-py2.py3-none-any.whl (7.6 kB)\n",
            "Downloading ordered_set-4.1.0-py3-none-any.whl (7.6 kB)\n",
            "Building wheels for collected packages: pypika, langdetect\n",
            "  Building wheel for pypika (pyproject.toml) ... \u001b[?25l\u001b[?25hdone\n",
            "  Created wheel for pypika: filename=PyPika-0.48.9-py2.py3-none-any.whl size=53724 sha256=b537c5bd1ffb960e4bee5602901d797dc4fda42a6c7d20ea55d4341082c155e0\n",
            "  Stored in directory: /root/.cache/pip/wheels/e1/26/51/d0bffb3d2fd82256676d7ad3003faea3bd6dddc9577af665f4\n",
            "  Building wheel for langdetect (setup.py) ... \u001b[?25l\u001b[?25hdone\n",
            "  Created wheel for langdetect: filename=langdetect-1.0.9-py3-none-any.whl size=993221 sha256=972a52aed4c1475bf8d03b3bb9082428508c0912d0f1fc956ee1862186d9af2b\n",
            "  Stored in directory: /root/.cache/pip/wheels/95/03/7d/59ea870c70ce4e5a370638b5462a7711ab78fba2f655d05106\n",
            "Successfully built pypika langdetect\n",
            "Installing collected packages: pypika, monotonic, mmh3, filetype, websockets, uvloop, uvicorn, tenacity, rapidfuzz, python-magic, python-iso639, python-dotenv, pypdf, overrides, orjson, ordered-set, opentelemetry-util-http, opentelemetry-proto, mypy-extensions, marshmallow, langdetect, jsonpointer, jsonpath-python, importlib-metadata, humanfriendly, httptools, emoji, deprecated, chroma-hnswlib, bcrypt, backoff, asgiref, watchfiles, typing-inspect, tiktoken, starlette, requests-toolbelt, posthog, opentelemetry-exporter-otlp-proto-common, opentelemetry-api, jsonpatch, deepdiff, coloredlogs, opentelemetry-semantic-conventions, opentelemetry-instrumentation, openai, onnxruntime, langsmith, kubernetes, fastapi, dataclasses-json, unstructured-client, opentelemetry-sdk, opentelemetry-instrumentation-asgi, langchain-core, unstructured, opentelemetry-instrumentation-fastapi, opentelemetry-exporter-otlp-proto-grpc, langchain-text-splitters, langchain-openai, langchain, chromadb, langchain-community\n",
            "  Attempting uninstall: tenacity\n",
            "    Found existing installation: tenacity 9.0.0\n",
            "    Uninstalling tenacity-9.0.0:\n",
            "      Successfully uninstalled tenacity-9.0.0\n",
            "  Attempting uninstall: importlib-metadata\n",
            "    Found existing installation: importlib_metadata 8.4.0\n",
            "    Uninstalling importlib_metadata-8.4.0:\n",
            "      Successfully uninstalled importlib_metadata-8.4.0\n",
            "Successfully installed asgiref-3.8.1 backoff-2.2.1 bcrypt-4.2.0 chroma-hnswlib-0.7.3 chromadb-0.5.0 coloredlogs-15.0.1 dataclasses-json-0.6.7 deepdiff-7.0.1 deprecated-1.2.14 emoji-2.12.1 fastapi-0.112.2 filetype-1.2.0 httptools-0.6.1 humanfriendly-10.0 importlib-metadata-8.0.0 jsonpatch-1.33 jsonpath-python-1.0.6 jsonpointer-3.0.0 kubernetes-30.1.0 langchain-0.2.2 langchain-community-0.2.3 langchain-core-0.2.34 langchain-openai-0.1.8 langchain-text-splitters-0.2.2 langdetect-1.0.9 langsmith-0.1.104 marshmallow-3.22.0 mmh3-4.1.0 monotonic-1.6 mypy-extensions-1.0.0 onnxruntime-1.19.0 openai-1.31.1 opentelemetry-api-1.26.0 opentelemetry-exporter-otlp-proto-common-1.26.0 opentelemetry-exporter-otlp-proto-grpc-1.26.0 opentelemetry-instrumentation-0.47b0 opentelemetry-instrumentation-asgi-0.47b0 opentelemetry-instrumentation-fastapi-0.47b0 opentelemetry-proto-1.26.0 opentelemetry-sdk-1.26.0 opentelemetry-semantic-conventions-0.47b0 opentelemetry-util-http-0.47b0 ordered-set-4.1.0 orjson-3.10.7 overrides-7.7.0 posthog-3.5.2 pypdf-4.3.1 pypika-0.48.9 python-dotenv-1.0.1 python-iso639-2024.4.27 python-magic-0.4.27 rapidfuzz-3.9.6 requests-toolbelt-1.0.0 starlette-0.38.2 tenacity-8.5.0 tiktoken-0.7.0 typing-inspect-0.9.0 unstructured-0.14.4 unstructured-client-0.25.5 uvicorn-0.30.6 uvloop-0.20.0 watchfiles-0.23.0 websockets-13.0\n",
            "Requirement already satisfied: pypdf in /usr/local/lib/python3.10/dist-packages (from -r /content/rag-tutorial-v2/requirements.txt (line 1)) (4.3.1)\n",
            "Requirement already satisfied: langchain in /usr/local/lib/python3.10/dist-packages (from -r /content/rag-tutorial-v2/requirements.txt (line 2)) (0.2.2)\n",
            "Requirement already satisfied: chromadb in /usr/local/lib/python3.10/dist-packages (from -r /content/rag-tutorial-v2/requirements.txt (line 3)) (0.5.0)\n",
            "Requirement already satisfied: pytest in /usr/local/lib/python3.10/dist-packages (from -r /content/rag-tutorial-v2/requirements.txt (line 4)) (7.4.4)\n",
            "Collecting boto3 (from -r /content/rag-tutorial-v2/requirements.txt (line 5))\n",
            "  Downloading boto3-1.35.5-py3-none-any.whl.metadata (6.6 kB)\n",
            "Requirement already satisfied: typing_extensions>=4.0 in /usr/local/lib/python3.10/dist-packages (from pypdf->-r /content/rag-tutorial-v2/requirements.txt (line 1)) (4.12.2)\n",
            "Requirement already satisfied: PyYAML>=5.3 in /usr/local/lib/python3.10/dist-packages (from langchain->-r /content/rag-tutorial-v2/requirements.txt (line 2)) (6.0.2)\n",
            "Requirement already satisfied: SQLAlchemy<3,>=1.4 in /usr/local/lib/python3.10/dist-packages (from langchain->-r /content/rag-tutorial-v2/requirements.txt (line 2)) (2.0.32)\n",
            "Requirement already satisfied: aiohttp<4.0.0,>=3.8.3 in /usr/local/lib/python3.10/dist-packages (from langchain->-r /content/rag-tutorial-v2/requirements.txt (line 2)) (3.10.5)\n",
            "Requirement already satisfied: async-timeout<5.0.0,>=4.0.0 in /usr/local/lib/python3.10/dist-packages (from langchain->-r /content/rag-tutorial-v2/requirements.txt (line 2)) (4.0.3)\n",
            "Requirement already satisfied: langchain-core<0.3.0,>=0.2.0 in /usr/local/lib/python3.10/dist-packages (from langchain->-r /content/rag-tutorial-v2/requirements.txt (line 2)) (0.2.34)\n",
            "Requirement already satisfied: langchain-text-splitters<0.3.0,>=0.2.0 in /usr/local/lib/python3.10/dist-packages (from langchain->-r /content/rag-tutorial-v2/requirements.txt (line 2)) (0.2.2)\n",
            "Requirement already satisfied: langsmith<0.2.0,>=0.1.17 in /usr/local/lib/python3.10/dist-packages (from langchain->-r /content/rag-tutorial-v2/requirements.txt (line 2)) (0.1.104)\n",
            "Requirement already satisfied: numpy<2,>=1 in /usr/local/lib/python3.10/dist-packages (from langchain->-r /content/rag-tutorial-v2/requirements.txt (line 2)) (1.26.4)\n",
            "Requirement already satisfied: pydantic<3,>=1 in /usr/local/lib/python3.10/dist-packages (from langchain->-r /content/rag-tutorial-v2/requirements.txt (line 2)) (2.8.2)\n",
            "Requirement already satisfied: requests<3,>=2 in /usr/local/lib/python3.10/dist-packages (from langchain->-r /content/rag-tutorial-v2/requirements.txt (line 2)) (2.32.3)\n",
            "Requirement already satisfied: tenacity<9.0.0,>=8.1.0 in /usr/local/lib/python3.10/dist-packages (from langchain->-r /content/rag-tutorial-v2/requirements.txt (line 2)) (8.5.0)\n",
            "Requirement already satisfied: build>=1.0.3 in /usr/local/lib/python3.10/dist-packages (from chromadb->-r /content/rag-tutorial-v2/requirements.txt (line 3)) (1.2.1)\n",
            "Requirement already satisfied: chroma-hnswlib==0.7.3 in /usr/local/lib/python3.10/dist-packages (from chromadb->-r /content/rag-tutorial-v2/requirements.txt (line 3)) (0.7.3)\n",
            "Requirement already satisfied: fastapi>=0.95.2 in /usr/local/lib/python3.10/dist-packages (from chromadb->-r /content/rag-tutorial-v2/requirements.txt (line 3)) (0.112.2)\n",
            "Requirement already satisfied: uvicorn>=0.18.3 in /usr/local/lib/python3.10/dist-packages (from uvicorn[standard]>=0.18.3->chromadb->-r /content/rag-tutorial-v2/requirements.txt (line 3)) (0.30.6)\n",
            "Requirement already satisfied: posthog>=2.4.0 in /usr/local/lib/python3.10/dist-packages (from chromadb->-r /content/rag-tutorial-v2/requirements.txt (line 3)) (3.5.2)\n",
            "Requirement already satisfied: onnxruntime>=1.14.1 in /usr/local/lib/python3.10/dist-packages (from chromadb->-r /content/rag-tutorial-v2/requirements.txt (line 3)) (1.19.0)\n",
            "Requirement already satisfied: opentelemetry-api>=1.2.0 in /usr/local/lib/python3.10/dist-packages (from chromadb->-r /content/rag-tutorial-v2/requirements.txt (line 3)) (1.26.0)\n",
            "Requirement already satisfied: opentelemetry-exporter-otlp-proto-grpc>=1.2.0 in /usr/local/lib/python3.10/dist-packages (from chromadb->-r /content/rag-tutorial-v2/requirements.txt (line 3)) (1.26.0)\n",
            "Requirement already satisfied: opentelemetry-instrumentation-fastapi>=0.41b0 in /usr/local/lib/python3.10/dist-packages (from chromadb->-r /content/rag-tutorial-v2/requirements.txt (line 3)) (0.47b0)\n",
            "Requirement already satisfied: opentelemetry-sdk>=1.2.0 in /usr/local/lib/python3.10/dist-packages (from chromadb->-r /content/rag-tutorial-v2/requirements.txt (line 3)) (1.26.0)\n",
            "Requirement already satisfied: tokenizers>=0.13.2 in /usr/local/lib/python3.10/dist-packages (from chromadb->-r /content/rag-tutorial-v2/requirements.txt (line 3)) (0.19.1)\n",
            "Requirement already satisfied: pypika>=0.48.9 in /usr/local/lib/python3.10/dist-packages (from chromadb->-r /content/rag-tutorial-v2/requirements.txt (line 3)) (0.48.9)\n",
            "Requirement already satisfied: tqdm>=4.65.0 in /usr/local/lib/python3.10/dist-packages (from chromadb->-r /content/rag-tutorial-v2/requirements.txt (line 3)) (4.66.5)\n",
            "Requirement already satisfied: overrides>=7.3.1 in /usr/local/lib/python3.10/dist-packages (from chromadb->-r /content/rag-tutorial-v2/requirements.txt (line 3)) (7.7.0)\n",
            "Requirement already satisfied: importlib-resources in /usr/local/lib/python3.10/dist-packages (from chromadb->-r /content/rag-tutorial-v2/requirements.txt (line 3)) (6.4.3)\n",
            "Requirement already satisfied: grpcio>=1.58.0 in /usr/local/lib/python3.10/dist-packages (from chromadb->-r /content/rag-tutorial-v2/requirements.txt (line 3)) (1.64.1)\n",
            "Requirement already satisfied: bcrypt>=4.0.1 in /usr/local/lib/python3.10/dist-packages (from chromadb->-r /content/rag-tutorial-v2/requirements.txt (line 3)) (4.2.0)\n",
            "Requirement already satisfied: typer>=0.9.0 in /usr/local/lib/python3.10/dist-packages (from chromadb->-r /content/rag-tutorial-v2/requirements.txt (line 3)) (0.12.4)\n",
            "Requirement already satisfied: kubernetes>=28.1.0 in /usr/local/lib/python3.10/dist-packages (from chromadb->-r /content/rag-tutorial-v2/requirements.txt (line 3)) (30.1.0)\n",
            "Requirement already satisfied: mmh3>=4.0.1 in /usr/local/lib/python3.10/dist-packages (from chromadb->-r /content/rag-tutorial-v2/requirements.txt (line 3)) (4.1.0)\n",
            "Requirement already satisfied: orjson>=3.9.12 in /usr/local/lib/python3.10/dist-packages (from chromadb->-r /content/rag-tutorial-v2/requirements.txt (line 3)) (3.10.7)\n",
            "Requirement already satisfied: iniconfig in /usr/local/lib/python3.10/dist-packages (from pytest->-r /content/rag-tutorial-v2/requirements.txt (line 4)) (2.0.0)\n",
            "Requirement already satisfied: packaging in /usr/local/lib/python3.10/dist-packages (from pytest->-r /content/rag-tutorial-v2/requirements.txt (line 4)) (24.1)\n",
            "Requirement already satisfied: pluggy<2.0,>=0.12 in /usr/local/lib/python3.10/dist-packages (from pytest->-r /content/rag-tutorial-v2/requirements.txt (line 4)) (1.5.0)\n",
            "Requirement already satisfied: exceptiongroup>=1.0.0rc8 in /usr/local/lib/python3.10/dist-packages (from pytest->-r /content/rag-tutorial-v2/requirements.txt (line 4)) (1.2.2)\n",
            "Requirement already satisfied: tomli>=1.0.0 in /usr/local/lib/python3.10/dist-packages (from pytest->-r /content/rag-tutorial-v2/requirements.txt (line 4)) (2.0.1)\n",
            "Collecting botocore<1.36.0,>=1.35.5 (from boto3->-r /content/rag-tutorial-v2/requirements.txt (line 5))\n",
            "  Downloading botocore-1.35.5-py3-none-any.whl.metadata (5.7 kB)\n",
            "Collecting jmespath<2.0.0,>=0.7.1 (from boto3->-r /content/rag-tutorial-v2/requirements.txt (line 5))\n",
            "  Downloading jmespath-1.0.1-py3-none-any.whl.metadata (7.6 kB)\n",
            "Collecting s3transfer<0.11.0,>=0.10.0 (from boto3->-r /content/rag-tutorial-v2/requirements.txt (line 5))\n",
            "  Downloading s3transfer-0.10.2-py3-none-any.whl.metadata (1.7 kB)\n",
            "Requirement already satisfied: aiohappyeyeballs>=2.3.0 in /usr/local/lib/python3.10/dist-packages (from aiohttp<4.0.0,>=3.8.3->langchain->-r /content/rag-tutorial-v2/requirements.txt (line 2)) (2.4.0)\n",
            "Requirement already satisfied: aiosignal>=1.1.2 in /usr/local/lib/python3.10/dist-packages (from aiohttp<4.0.0,>=3.8.3->langchain->-r /content/rag-tutorial-v2/requirements.txt (line 2)) (1.3.1)\n",
            "Requirement already satisfied: attrs>=17.3.0 in /usr/local/lib/python3.10/dist-packages (from aiohttp<4.0.0,>=3.8.3->langchain->-r /content/rag-tutorial-v2/requirements.txt (line 2)) (24.2.0)\n",
            "Requirement already satisfied: frozenlist>=1.1.1 in /usr/local/lib/python3.10/dist-packages (from aiohttp<4.0.0,>=3.8.3->langchain->-r /content/rag-tutorial-v2/requirements.txt (line 2)) (1.4.1)\n",
            "Requirement already satisfied: multidict<7.0,>=4.5 in /usr/local/lib/python3.10/dist-packages (from aiohttp<4.0.0,>=3.8.3->langchain->-r /content/rag-tutorial-v2/requirements.txt (line 2)) (6.0.5)\n",
            "Requirement already satisfied: yarl<2.0,>=1.0 in /usr/local/lib/python3.10/dist-packages (from aiohttp<4.0.0,>=3.8.3->langchain->-r /content/rag-tutorial-v2/requirements.txt (line 2)) (1.9.4)\n",
            "Requirement already satisfied: python-dateutil<3.0.0,>=2.1 in /usr/local/lib/python3.10/dist-packages (from botocore<1.36.0,>=1.35.5->boto3->-r /content/rag-tutorial-v2/requirements.txt (line 5)) (2.8.2)\n",
            "Requirement already satisfied: urllib3!=2.2.0,<3,>=1.25.4 in /usr/local/lib/python3.10/dist-packages (from botocore<1.36.0,>=1.35.5->boto3->-r /content/rag-tutorial-v2/requirements.txt (line 5)) (2.0.7)\n",
            "Requirement already satisfied: pyproject_hooks in /usr/local/lib/python3.10/dist-packages (from build>=1.0.3->chromadb->-r /content/rag-tutorial-v2/requirements.txt (line 3)) (1.1.0)\n",
            "Requirement already satisfied: starlette<0.39.0,>=0.37.2 in /usr/local/lib/python3.10/dist-packages (from fastapi>=0.95.2->chromadb->-r /content/rag-tutorial-v2/requirements.txt (line 3)) (0.38.2)\n",
            "Requirement already satisfied: certifi>=14.05.14 in /usr/local/lib/python3.10/dist-packages (from kubernetes>=28.1.0->chromadb->-r /content/rag-tutorial-v2/requirements.txt (line 3)) (2024.7.4)\n",
            "Requirement already satisfied: six>=1.9.0 in /usr/local/lib/python3.10/dist-packages (from kubernetes>=28.1.0->chromadb->-r /content/rag-tutorial-v2/requirements.txt (line 3)) (1.16.0)\n",
            "Requirement already satisfied: google-auth>=1.0.1 in /usr/local/lib/python3.10/dist-packages (from kubernetes>=28.1.0->chromadb->-r /content/rag-tutorial-v2/requirements.txt (line 3)) (2.27.0)\n",
            "Requirement already satisfied: websocket-client!=0.40.0,!=0.41.*,!=0.42.*,>=0.32.0 in /usr/local/lib/python3.10/dist-packages (from kubernetes>=28.1.0->chromadb->-r /content/rag-tutorial-v2/requirements.txt (line 3)) (1.8.0)\n",
            "Requirement already satisfied: requests-oauthlib in /usr/local/lib/python3.10/dist-packages (from kubernetes>=28.1.0->chromadb->-r /content/rag-tutorial-v2/requirements.txt (line 3)) (1.3.1)\n",
            "Requirement already satisfied: oauthlib>=3.2.2 in /usr/local/lib/python3.10/dist-packages (from kubernetes>=28.1.0->chromadb->-r /content/rag-tutorial-v2/requirements.txt (line 3)) (3.2.2)\n",
            "Requirement already satisfied: jsonpatch<2.0,>=1.33 in /usr/local/lib/python3.10/dist-packages (from langchain-core<0.3.0,>=0.2.0->langchain->-r /content/rag-tutorial-v2/requirements.txt (line 2)) (1.33)\n",
            "Requirement already satisfied: httpx<1,>=0.23.0 in /usr/local/lib/python3.10/dist-packages (from langsmith<0.2.0,>=0.1.17->langchain->-r /content/rag-tutorial-v2/requirements.txt (line 2)) (0.27.0)\n",
            "Requirement already satisfied: coloredlogs in /usr/local/lib/python3.10/dist-packages (from onnxruntime>=1.14.1->chromadb->-r /content/rag-tutorial-v2/requirements.txt (line 3)) (15.0.1)\n",
            "Requirement already satisfied: flatbuffers in /usr/local/lib/python3.10/dist-packages (from onnxruntime>=1.14.1->chromadb->-r /content/rag-tutorial-v2/requirements.txt (line 3)) (24.3.25)\n",
            "Requirement already satisfied: protobuf in /usr/local/lib/python3.10/dist-packages (from onnxruntime>=1.14.1->chromadb->-r /content/rag-tutorial-v2/requirements.txt (line 3)) (3.20.3)\n",
            "Requirement already satisfied: sympy in /usr/local/lib/python3.10/dist-packages (from onnxruntime>=1.14.1->chromadb->-r /content/rag-tutorial-v2/requirements.txt (line 3)) (1.13.2)\n",
            "Requirement already satisfied: deprecated>=1.2.6 in /usr/local/lib/python3.10/dist-packages (from opentelemetry-api>=1.2.0->chromadb->-r /content/rag-tutorial-v2/requirements.txt (line 3)) (1.2.14)\n",
            "Requirement already satisfied: importlib-metadata<=8.0.0,>=6.0 in /usr/local/lib/python3.10/dist-packages (from opentelemetry-api>=1.2.0->chromadb->-r /content/rag-tutorial-v2/requirements.txt (line 3)) (8.0.0)\n",
            "Requirement already satisfied: googleapis-common-protos~=1.52 in /usr/local/lib/python3.10/dist-packages (from opentelemetry-exporter-otlp-proto-grpc>=1.2.0->chromadb->-r /content/rag-tutorial-v2/requirements.txt (line 3)) (1.63.2)\n",
            "Requirement already satisfied: opentelemetry-exporter-otlp-proto-common==1.26.0 in /usr/local/lib/python3.10/dist-packages (from opentelemetry-exporter-otlp-proto-grpc>=1.2.0->chromadb->-r /content/rag-tutorial-v2/requirements.txt (line 3)) (1.26.0)\n",
            "Requirement already satisfied: opentelemetry-proto==1.26.0 in /usr/local/lib/python3.10/dist-packages (from opentelemetry-exporter-otlp-proto-grpc>=1.2.0->chromadb->-r /content/rag-tutorial-v2/requirements.txt (line 3)) (1.26.0)\n",
            "Requirement already satisfied: opentelemetry-instrumentation-asgi==0.47b0 in /usr/local/lib/python3.10/dist-packages (from opentelemetry-instrumentation-fastapi>=0.41b0->chromadb->-r /content/rag-tutorial-v2/requirements.txt (line 3)) (0.47b0)\n",
            "Requirement already satisfied: opentelemetry-instrumentation==0.47b0 in /usr/local/lib/python3.10/dist-packages (from opentelemetry-instrumentation-fastapi>=0.41b0->chromadb->-r /content/rag-tutorial-v2/requirements.txt (line 3)) (0.47b0)\n",
            "Requirement already satisfied: opentelemetry-semantic-conventions==0.47b0 in /usr/local/lib/python3.10/dist-packages (from opentelemetry-instrumentation-fastapi>=0.41b0->chromadb->-r /content/rag-tutorial-v2/requirements.txt (line 3)) (0.47b0)\n",
            "Requirement already satisfied: opentelemetry-util-http==0.47b0 in /usr/local/lib/python3.10/dist-packages (from opentelemetry-instrumentation-fastapi>=0.41b0->chromadb->-r /content/rag-tutorial-v2/requirements.txt (line 3)) (0.47b0)\n",
            "Requirement already satisfied: setuptools>=16.0 in /usr/local/lib/python3.10/dist-packages (from opentelemetry-instrumentation==0.47b0->opentelemetry-instrumentation-fastapi>=0.41b0->chromadb->-r /content/rag-tutorial-v2/requirements.txt (line 3)) (71.0.4)\n",
            "Requirement already satisfied: wrapt<2.0.0,>=1.0.0 in /usr/local/lib/python3.10/dist-packages (from opentelemetry-instrumentation==0.47b0->opentelemetry-instrumentation-fastapi>=0.41b0->chromadb->-r /content/rag-tutorial-v2/requirements.txt (line 3)) (1.16.0)\n",
            "Requirement already satisfied: asgiref~=3.0 in /usr/local/lib/python3.10/dist-packages (from opentelemetry-instrumentation-asgi==0.47b0->opentelemetry-instrumentation-fastapi>=0.41b0->chromadb->-r /content/rag-tutorial-v2/requirements.txt (line 3)) (3.8.1)\n",
            "Requirement already satisfied: monotonic>=1.5 in /usr/local/lib/python3.10/dist-packages (from posthog>=2.4.0->chromadb->-r /content/rag-tutorial-v2/requirements.txt (line 3)) (1.6)\n",
            "Requirement already satisfied: backoff>=1.10.0 in /usr/local/lib/python3.10/dist-packages (from posthog>=2.4.0->chromadb->-r /content/rag-tutorial-v2/requirements.txt (line 3)) (2.2.1)\n",
            "Requirement already satisfied: annotated-types>=0.4.0 in /usr/local/lib/python3.10/dist-packages (from pydantic<3,>=1->langchain->-r /content/rag-tutorial-v2/requirements.txt (line 2)) (0.7.0)\n",
            "Requirement already satisfied: pydantic-core==2.20.1 in /usr/local/lib/python3.10/dist-packages (from pydantic<3,>=1->langchain->-r /content/rag-tutorial-v2/requirements.txt (line 2)) (2.20.1)\n",
            "Requirement already satisfied: charset-normalizer<4,>=2 in /usr/local/lib/python3.10/dist-packages (from requests<3,>=2->langchain->-r /content/rag-tutorial-v2/requirements.txt (line 2)) (3.3.2)\n",
            "Requirement already satisfied: idna<4,>=2.5 in /usr/local/lib/python3.10/dist-packages (from requests<3,>=2->langchain->-r /content/rag-tutorial-v2/requirements.txt (line 2)) (3.7)\n",
            "Requirement already satisfied: greenlet!=0.4.17 in /usr/local/lib/python3.10/dist-packages (from SQLAlchemy<3,>=1.4->langchain->-r /content/rag-tutorial-v2/requirements.txt (line 2)) (3.0.3)\n",
            "Requirement already satisfied: huggingface-hub<1.0,>=0.16.4 in /usr/local/lib/python3.10/dist-packages (from tokenizers>=0.13.2->chromadb->-r /content/rag-tutorial-v2/requirements.txt (line 3)) (0.23.5)\n",
            "Requirement already satisfied: click>=8.0.0 in /usr/local/lib/python3.10/dist-packages (from typer>=0.9.0->chromadb->-r /content/rag-tutorial-v2/requirements.txt (line 3)) (8.1.7)\n",
            "Requirement already satisfied: shellingham>=1.3.0 in /usr/local/lib/python3.10/dist-packages (from typer>=0.9.0->chromadb->-r /content/rag-tutorial-v2/requirements.txt (line 3)) (1.5.4)\n",
            "Requirement already satisfied: rich>=10.11.0 in /usr/local/lib/python3.10/dist-packages (from typer>=0.9.0->chromadb->-r /content/rag-tutorial-v2/requirements.txt (line 3)) (13.7.1)\n",
            "Requirement already satisfied: h11>=0.8 in /usr/local/lib/python3.10/dist-packages (from uvicorn>=0.18.3->uvicorn[standard]>=0.18.3->chromadb->-r /content/rag-tutorial-v2/requirements.txt (line 3)) (0.14.0)\n",
            "Requirement already satisfied: httptools>=0.5.0 in /usr/local/lib/python3.10/dist-packages (from uvicorn[standard]>=0.18.3->chromadb->-r /content/rag-tutorial-v2/requirements.txt (line 3)) (0.6.1)\n",
            "Requirement already satisfied: python-dotenv>=0.13 in /usr/local/lib/python3.10/dist-packages (from uvicorn[standard]>=0.18.3->chromadb->-r /content/rag-tutorial-v2/requirements.txt (line 3)) (1.0.1)\n",
            "Requirement already satisfied: uvloop!=0.15.0,!=0.15.1,>=0.14.0 in /usr/local/lib/python3.10/dist-packages (from uvicorn[standard]>=0.18.3->chromadb->-r /content/rag-tutorial-v2/requirements.txt (line 3)) (0.20.0)\n",
            "Requirement already satisfied: watchfiles>=0.13 in /usr/local/lib/python3.10/dist-packages (from uvicorn[standard]>=0.18.3->chromadb->-r /content/rag-tutorial-v2/requirements.txt (line 3)) (0.23.0)\n",
            "Requirement already satisfied: websockets>=10.4 in /usr/local/lib/python3.10/dist-packages (from uvicorn[standard]>=0.18.3->chromadb->-r /content/rag-tutorial-v2/requirements.txt (line 3)) (13.0)\n",
            "Requirement already satisfied: cachetools<6.0,>=2.0.0 in /usr/local/lib/python3.10/dist-packages (from google-auth>=1.0.1->kubernetes>=28.1.0->chromadb->-r /content/rag-tutorial-v2/requirements.txt (line 3)) (5.5.0)\n",
            "Requirement already satisfied: pyasn1-modules>=0.2.1 in /usr/local/lib/python3.10/dist-packages (from google-auth>=1.0.1->kubernetes>=28.1.0->chromadb->-r /content/rag-tutorial-v2/requirements.txt (line 3)) (0.4.0)\n",
            "Requirement already satisfied: rsa<5,>=3.1.4 in /usr/local/lib/python3.10/dist-packages (from google-auth>=1.0.1->kubernetes>=28.1.0->chromadb->-r /content/rag-tutorial-v2/requirements.txt (line 3)) (4.9)\n",
            "Requirement already satisfied: anyio in /usr/local/lib/python3.10/dist-packages (from httpx<1,>=0.23.0->langsmith<0.2.0,>=0.1.17->langchain->-r /content/rag-tutorial-v2/requirements.txt (line 2)) (3.7.1)\n",
            "Requirement already satisfied: httpcore==1.* in /usr/local/lib/python3.10/dist-packages (from httpx<1,>=0.23.0->langsmith<0.2.0,>=0.1.17->langchain->-r /content/rag-tutorial-v2/requirements.txt (line 2)) (1.0.5)\n",
            "Requirement already satisfied: sniffio in /usr/local/lib/python3.10/dist-packages (from httpx<1,>=0.23.0->langsmith<0.2.0,>=0.1.17->langchain->-r /content/rag-tutorial-v2/requirements.txt (line 2)) (1.3.1)\n",
            "Requirement already satisfied: filelock in /usr/local/lib/python3.10/dist-packages (from huggingface-hub<1.0,>=0.16.4->tokenizers>=0.13.2->chromadb->-r /content/rag-tutorial-v2/requirements.txt (line 3)) (3.15.4)\n",
            "Requirement already satisfied: fsspec>=2023.5.0 in /usr/local/lib/python3.10/dist-packages (from huggingface-hub<1.0,>=0.16.4->tokenizers>=0.13.2->chromadb->-r /content/rag-tutorial-v2/requirements.txt (line 3)) (2024.6.1)\n",
            "Requirement already satisfied: zipp>=0.5 in /usr/local/lib/python3.10/dist-packages (from importlib-metadata<=8.0.0,>=6.0->opentelemetry-api>=1.2.0->chromadb->-r /content/rag-tutorial-v2/requirements.txt (line 3)) (3.20.0)\n",
            "Requirement already satisfied: jsonpointer>=1.9 in /usr/local/lib/python3.10/dist-packages (from jsonpatch<2.0,>=1.33->langchain-core<0.3.0,>=0.2.0->langchain->-r /content/rag-tutorial-v2/requirements.txt (line 2)) (3.0.0)\n",
            "Requirement already satisfied: markdown-it-py>=2.2.0 in /usr/local/lib/python3.10/dist-packages (from rich>=10.11.0->typer>=0.9.0->chromadb->-r /content/rag-tutorial-v2/requirements.txt (line 3)) (3.0.0)\n",
            "Requirement already satisfied: pygments<3.0.0,>=2.13.0 in /usr/local/lib/python3.10/dist-packages (from rich>=10.11.0->typer>=0.9.0->chromadb->-r /content/rag-tutorial-v2/requirements.txt (line 3)) (2.16.1)\n",
            "Requirement already satisfied: humanfriendly>=9.1 in /usr/local/lib/python3.10/dist-packages (from coloredlogs->onnxruntime>=1.14.1->chromadb->-r /content/rag-tutorial-v2/requirements.txt (line 3)) (10.0)\n",
            "Requirement already satisfied: mpmath<1.4,>=1.1.0 in /usr/local/lib/python3.10/dist-packages (from sympy->onnxruntime>=1.14.1->chromadb->-r /content/rag-tutorial-v2/requirements.txt (line 3)) (1.3.0)\n",
            "Requirement already satisfied: mdurl~=0.1 in /usr/local/lib/python3.10/dist-packages (from markdown-it-py>=2.2.0->rich>=10.11.0->typer>=0.9.0->chromadb->-r /content/rag-tutorial-v2/requirements.txt (line 3)) (0.1.2)\n",
            "Requirement already satisfied: pyasn1<0.7.0,>=0.4.6 in /usr/local/lib/python3.10/dist-packages (from pyasn1-modules>=0.2.1->google-auth>=1.0.1->kubernetes>=28.1.0->chromadb->-r /content/rag-tutorial-v2/requirements.txt (line 3)) (0.6.0)\n",
            "Downloading boto3-1.35.5-py3-none-any.whl (139 kB)\n",
            "\u001b[2K   \u001b[90m━━━━━━━━━━━━━━━━━━━━━━━━━━━━━━━━━━━━━━━━\u001b[0m \u001b[32m139.1/139.1 kB\u001b[0m \u001b[31m10.7 MB/s\u001b[0m eta \u001b[36m0:00:00\u001b[0m\n",
            "\u001b[?25hDownloading botocore-1.35.5-py3-none-any.whl (12.5 MB)\n",
            "\u001b[2K   \u001b[90m━━━━━━━━━━━━━━━━━━━━━━━━━━━━━━━━━━━━━━━━\u001b[0m \u001b[32m12.5/12.5 MB\u001b[0m \u001b[31m111.6 MB/s\u001b[0m eta \u001b[36m0:00:00\u001b[0m\n",
            "\u001b[?25hDownloading jmespath-1.0.1-py3-none-any.whl (20 kB)\n",
            "Downloading s3transfer-0.10.2-py3-none-any.whl (82 kB)\n",
            "\u001b[2K   \u001b[90m━━━━━━━━━━━━━━━━━━━━━━━━━━━━━━━━━━━━━━━━\u001b[0m \u001b[32m82.7/82.7 kB\u001b[0m \u001b[31m8.3 MB/s\u001b[0m eta \u001b[36m0:00:00\u001b[0m\n",
            "\u001b[?25hInstalling collected packages: jmespath, botocore, s3transfer, boto3\n",
            "Successfully installed boto3-1.35.5 botocore-1.35.5 jmespath-1.0.1 s3transfer-0.10.2\n",
            "Requirement already satisfied: unstructured[md] in /usr/local/lib/python3.10/dist-packages (0.14.4)\n",
            "Requirement already satisfied: chardet in /usr/local/lib/python3.10/dist-packages (from unstructured[md]) (5.2.0)\n",
            "Requirement already satisfied: filetype in /usr/local/lib/python3.10/dist-packages (from unstructured[md]) (1.2.0)\n",
            "Requirement already satisfied: python-magic in /usr/local/lib/python3.10/dist-packages (from unstructured[md]) (0.4.27)\n",
            "Requirement already satisfied: lxml in /usr/local/lib/python3.10/dist-packages (from unstructured[md]) (4.9.4)\n",
            "Requirement already satisfied: nltk in /usr/local/lib/python3.10/dist-packages (from unstructured[md]) (3.8.1)\n",
            "Requirement already satisfied: tabulate in /usr/local/lib/python3.10/dist-packages (from unstructured[md]) (0.9.0)\n",
            "Requirement already satisfied: requests in /usr/local/lib/python3.10/dist-packages (from unstructured[md]) (2.32.3)\n",
            "Requirement already satisfied: beautifulsoup4 in /usr/local/lib/python3.10/dist-packages (from unstructured[md]) (4.12.3)\n",
            "Requirement already satisfied: emoji in /usr/local/lib/python3.10/dist-packages (from unstructured[md]) (2.12.1)\n",
            "Requirement already satisfied: dataclasses-json in /usr/local/lib/python3.10/dist-packages (from unstructured[md]) (0.6.7)\n",
            "Requirement already satisfied: python-iso639 in /usr/local/lib/python3.10/dist-packages (from unstructured[md]) (2024.4.27)\n",
            "Requirement already satisfied: langdetect in /usr/local/lib/python3.10/dist-packages (from unstructured[md]) (1.0.9)\n",
            "Requirement already satisfied: numpy in /usr/local/lib/python3.10/dist-packages (from unstructured[md]) (1.26.4)\n",
            "Requirement already satisfied: rapidfuzz in /usr/local/lib/python3.10/dist-packages (from unstructured[md]) (3.9.6)\n",
            "Requirement already satisfied: backoff in /usr/local/lib/python3.10/dist-packages (from unstructured[md]) (2.2.1)\n",
            "Requirement already satisfied: typing-extensions in /usr/local/lib/python3.10/dist-packages (from unstructured[md]) (4.12.2)\n",
            "Requirement already satisfied: unstructured-client in /usr/local/lib/python3.10/dist-packages (from unstructured[md]) (0.25.5)\n",
            "Requirement already satisfied: wrapt in /usr/local/lib/python3.10/dist-packages (from unstructured[md]) (1.16.0)\n",
            "Requirement already satisfied: markdown in /usr/local/lib/python3.10/dist-packages (from unstructured[md]) (3.7)\n",
            "Requirement already satisfied: soupsieve>1.2 in /usr/local/lib/python3.10/dist-packages (from beautifulsoup4->unstructured[md]) (2.6)\n",
            "Requirement already satisfied: marshmallow<4.0.0,>=3.18.0 in /usr/local/lib/python3.10/dist-packages (from dataclasses-json->unstructured[md]) (3.22.0)\n",
            "Requirement already satisfied: typing-inspect<1,>=0.4.0 in /usr/local/lib/python3.10/dist-packages (from dataclasses-json->unstructured[md]) (0.9.0)\n",
            "Requirement already satisfied: six in /usr/local/lib/python3.10/dist-packages (from langdetect->unstructured[md]) (1.16.0)\n",
            "Requirement already satisfied: click in /usr/local/lib/python3.10/dist-packages (from nltk->unstructured[md]) (8.1.7)\n",
            "Requirement already satisfied: joblib in /usr/local/lib/python3.10/dist-packages (from nltk->unstructured[md]) (1.4.2)\n",
            "Requirement already satisfied: regex>=2021.8.3 in /usr/local/lib/python3.10/dist-packages (from nltk->unstructured[md]) (2024.5.15)\n",
            "Requirement already satisfied: tqdm in /usr/local/lib/python3.10/dist-packages (from nltk->unstructured[md]) (4.66.5)\n",
            "Requirement already satisfied: charset-normalizer<4,>=2 in /usr/local/lib/python3.10/dist-packages (from requests->unstructured[md]) (3.3.2)\n",
            "Requirement already satisfied: idna<4,>=2.5 in /usr/local/lib/python3.10/dist-packages (from requests->unstructured[md]) (3.7)\n",
            "Requirement already satisfied: urllib3<3,>=1.21.1 in /usr/local/lib/python3.10/dist-packages (from requests->unstructured[md]) (2.0.7)\n",
            "Requirement already satisfied: certifi>=2017.4.17 in /usr/local/lib/python3.10/dist-packages (from requests->unstructured[md]) (2024.7.4)\n",
            "Requirement already satisfied: deepdiff>=6.0 in /usr/local/lib/python3.10/dist-packages (from unstructured-client->unstructured[md]) (7.0.1)\n",
            "Requirement already satisfied: httpx>=0.27.0 in /usr/local/lib/python3.10/dist-packages (from unstructured-client->unstructured[md]) (0.27.0)\n",
            "Requirement already satisfied: jsonpath-python>=1.0.6 in /usr/local/lib/python3.10/dist-packages (from unstructured-client->unstructured[md]) (1.0.6)\n",
            "Requirement already satisfied: mypy-extensions>=1.0.0 in /usr/local/lib/python3.10/dist-packages (from unstructured-client->unstructured[md]) (1.0.0)\n",
            "Requirement already satisfied: nest-asyncio>=1.6.0 in /usr/local/lib/python3.10/dist-packages (from unstructured-client->unstructured[md]) (1.6.0)\n",
            "Requirement already satisfied: packaging>=23.1 in /usr/local/lib/python3.10/dist-packages (from unstructured-client->unstructured[md]) (24.1)\n",
            "Requirement already satisfied: pypdf>=4.0 in /usr/local/lib/python3.10/dist-packages (from unstructured-client->unstructured[md]) (4.3.1)\n",
            "Requirement already satisfied: python-dateutil>=2.8.2 in /usr/local/lib/python3.10/dist-packages (from unstructured-client->unstructured[md]) (2.8.2)\n",
            "Requirement already satisfied: requests-toolbelt>=1.0.0 in /usr/local/lib/python3.10/dist-packages (from unstructured-client->unstructured[md]) (1.0.0)\n",
            "Requirement already satisfied: ordered-set<4.2.0,>=4.1.0 in /usr/local/lib/python3.10/dist-packages (from deepdiff>=6.0->unstructured-client->unstructured[md]) (4.1.0)\n",
            "Requirement already satisfied: anyio in /usr/local/lib/python3.10/dist-packages (from httpx>=0.27.0->unstructured-client->unstructured[md]) (3.7.1)\n",
            "Requirement already satisfied: httpcore==1.* in /usr/local/lib/python3.10/dist-packages (from httpx>=0.27.0->unstructured-client->unstructured[md]) (1.0.5)\n",
            "Requirement already satisfied: sniffio in /usr/local/lib/python3.10/dist-packages (from httpx>=0.27.0->unstructured-client->unstructured[md]) (1.3.1)\n",
            "Requirement already satisfied: h11<0.15,>=0.13 in /usr/local/lib/python3.10/dist-packages (from httpcore==1.*->httpx>=0.27.0->unstructured-client->unstructured[md]) (0.14.0)\n",
            "Requirement already satisfied: exceptiongroup in /usr/local/lib/python3.10/dist-packages (from anyio->httpx>=0.27.0->unstructured-client->unstructured[md]) (1.2.2)\n"
          ]
        }
      ],
      "source": [
        "!pip install -r /content/langchain-rag-tutorial/requirements.txt\n",
        "!pip install -r /content/rag-tutorial-v2/requirements.txt\n",
        "!pip install \"unstructured[md]\""
      ]
    },
    {
      "cell_type": "markdown",
      "metadata": {
        "id": "kYvv295CYmoy"
      },
      "source": [
        "# Loading PDF Documents\n",
        "- https://python.langchain.com/v0.1/docs/modules/data_connection/document_loaders/"
      ]
    },
    {
      "cell_type": "markdown",
      "metadata": {
        "id": "7QHkYqUWfYQT"
      },
      "source": [
        "## Define Paths"
      ]
    },
    {
      "cell_type": "code",
      "execution_count": null,
      "metadata": {
        "id": "KV078lIw9P5x"
      },
      "outputs": [],
      "source": [
        "import requests\n",
        "import os"
      ]
    },
    {
      "cell_type": "code",
      "execution_count": null,
      "metadata": {
        "id": "bjbumeWkfblb"
      },
      "outputs": [],
      "source": [
        "CHROMA_PATH = \"chroma\"\n",
        "DATA_PATH = \"/content/rag-tutorial-v2/data\""
      ]
    },
    {
      "cell_type": "code",
      "execution_count": null,
      "metadata": {
        "id": "HnK2hasA9Fvb"
      },
      "outputs": [],
      "source": [
        "# Define the URL and the path\n",
        "url = \"https://czechgames.com/files/rules/codenames-rules-en.pdf\"\n",
        "save_path = DATA_PATH + \"/codenames-rules-en.pdf\"\n",
        "\n",
        "# Ensure the directory exists\n",
        "os.makedirs(os.path.dirname(save_path), exist_ok=True)\n",
        "\n",
        "# Download the file\n",
        "response = requests.get(url)\n",
        "\n",
        "# Save the file\n",
        "with open(save_path, 'wb') as file:\n",
        "    file.write(response.content)"
      ]
    },
    {
      "cell_type": "markdown",
      "metadata": {
        "id": "yuGZFjCKgMQy"
      },
      "source": [
        "## Define and Call Function"
      ]
    },
    {
      "cell_type": "code",
      "execution_count": null,
      "metadata": {
        "id": "sXlycFy1YoVU"
      },
      "outputs": [],
      "source": [
        "from langchain.document_loaders.pdf import PyPDFDirectoryLoader\n",
        "\n",
        "\n",
        "def load_documents():\n",
        "    document_loader = PyPDFDirectoryLoader(DATA_PATH)\n",
        "    return document_loader.load()"
      ]
    },
    {
      "cell_type": "markdown",
      "metadata": {
        "id": "553ZqCYCfzoK"
      },
      "source": [
        "Each document contains the text content of the PDF along with some metadata attached"
      ]
    },
    {
      "cell_type": "code",
      "execution_count": null,
      "metadata": {
        "colab": {
          "base_uri": "https://localhost:8080/"
        },
        "id": "QQlMiif7fpw8",
        "outputId": "adac72c8-9cdc-48fc-9b46-903b3a77d1cd"
      },
      "outputs": [
        {
          "name": "stdout",
          "output_type": "stream",
          "text": [
            "page_content='rules overview  \n",
            "video' metadata={'source': '/content/rag-tutorial-v2/data/codenames-rules-en.pdf', 'page': 0}\n"
          ]
        }
      ],
      "source": [
        "# Print an example document\n",
        "documents = load_documents()\n",
        "print(documents[0])"
      ]
    },
    {
      "cell_type": "markdown",
      "metadata": {
        "id": "5g-GBrWbgH8z"
      },
      "source": [
        "# Split the Documents"
      ]
    },
    {
      "cell_type": "markdown",
      "metadata": {
        "id": "fNaU4JSHgT8j"
      },
      "source": [
        "## Define Function"
      ]
    },
    {
      "cell_type": "code",
      "execution_count": null,
      "metadata": {
        "id": "xS_s0T_LgO7D"
      },
      "outputs": [],
      "source": [
        "from langchain_text_splitters import RecursiveCharacterTextSplitter\n",
        "from langchain.schema.document import Document\n",
        "\n",
        "\n",
        "def split_documents(documents: list[Document]):\n",
        "    text_splitter = RecursiveCharacterTextSplitter(\n",
        "        chunk_size=800,\n",
        "        chunk_overlap=80,\n",
        "        length_function=len,\n",
        "        is_separator_regex=False,\n",
        "    )\n",
        "    return text_splitter.split_documents(documents)"
      ]
    },
    {
      "cell_type": "code",
      "execution_count": null,
      "metadata": {
        "colab": {
          "base_uri": "https://localhost:8080/"
        },
        "id": "QG2r1hRLg01T",
        "outputId": "e9ea3b21-7dbe-45d6-9614-fb6337b8a073"
      },
      "outputs": [
        {
          "name": "stdout",
          "output_type": "stream",
          "text": [
            "Split 20 documents into 68 chunks.\n",
            "page_content='rules overview  \n",
            "video' metadata={'source': '/content/rag-tutorial-v2/data/codenames-rules-en.pdf', 'page': 0}\n"
          ]
        }
      ],
      "source": [
        "documents = load_documents()\n",
        "chunks = split_documents(documents)\n",
        "print(f\"Split {len(documents)} documents into {len(chunks)} chunks.\")\n",
        "print(chunks[0])"
      ]
    },
    {
      "cell_type": "markdown",
      "metadata": {
        "id": "z93F2S6UhBki"
      },
      "source": [
        "# Embedding Function\n",
        "- https://python.langchain.com/v0.2/docs/integrations/text_embedding/\n",
        "\n",
        "\n",
        "- Create embedding for each chunk\n",
        "- Needed in 2 places\n",
        "  1. When we create database\n",
        "  2. When we query the database\n",
        "- Need to use the same embedding function"
      ]
    },
    {
      "cell_type": "markdown",
      "metadata": {
        "id": "DRvEITTsiI4a"
      },
      "source": [
        "## Import Libraries"
      ]
    },
    {
      "cell_type": "code",
      "execution_count": null,
      "metadata": {
        "id": "aKhCbzcciK0z"
      },
      "outputs": [],
      "source": [
        "from langchain_community.embeddings.ollama import OllamaEmbeddings\n",
        "from langchain.embeddings import OpenAIEmbeddings\n",
        "import os"
      ]
    },
    {
      "cell_type": "markdown",
      "metadata": {
        "id": "MVgEZV--iLra"
      },
      "source": [
        "## Define Functions"
      ]
    },
    {
      "cell_type": "code",
      "execution_count": null,
      "metadata": {
        "id": "GCZ23K9jhFFy"
      },
      "outputs": [],
      "source": [
        "def get_embedding_function():\n",
        "    \"\"\"\n",
        "    Purpose/Usage:\n",
        "    This function creates and returns an embedding function for processing text using a model.\n",
        "\n",
        "    Inputs:\n",
        "    - None\n",
        "\n",
        "    Outputs/Returns:\n",
        "    - An object that can be used to compute embeddings for text using the OpenAIEmbeddings class.\n",
        "    \"\"\"\n",
        "    embeddings = OpenAIEmbeddings()\n",
        "    return embeddings"
      ]
    },
    {
      "cell_type": "markdown",
      "metadata": {
        "id": "6kIuUYRhjiwy"
      },
      "source": [
        "# Populate Database"
      ]
    },
    {
      "cell_type": "markdown",
      "metadata": {
        "id": "Ou5TREick8BD"
      },
      "source": [
        "## Import Libraries"
      ]
    },
    {
      "cell_type": "code",
      "execution_count": null,
      "metadata": {
        "id": "_KwHYSjuk9TL"
      },
      "outputs": [],
      "source": [
        "import shutil\n",
        "from langchain.document_loaders.pdf import PyPDFDirectoryLoader\n",
        "from langchain_text_splitters import RecursiveCharacterTextSplitter\n",
        "from langchain.schema.document import Document\n",
        "from langchain.vectorstores.chroma import Chroma"
      ]
    },
    {
      "cell_type": "markdown",
      "metadata": {
        "id": "KZcE7RYWlCVk"
      },
      "source": [
        "## Define Functions"
      ]
    },
    {
      "cell_type": "code",
      "execution_count": null,
      "metadata": {
        "id": "kHNDtdlRlDjT"
      },
      "outputs": [],
      "source": [
        "def process_documents(reset=False):\n",
        "    \"\"\"\n",
        "    Purpose/Usage:\n",
        "    This function processes documents by optionally clearing the database, loading documents, splitting them into chunks, and adding them to a Chroma vector store.\n",
        "\n",
        "    Inputs:\n",
        "    - reset (bool): If True, the database will be cleared before processing documents.\n",
        "\n",
        "    Outputs/Returns:\n",
        "    - None\n",
        "    \"\"\"\n",
        "    if reset:\n",
        "        print(\"✨ Clearing Database\")\n",
        "        clear_database()\n",
        "\n",
        "    documents = load_documents()\n",
        "    chunks = split_documents(documents)\n",
        "    add_to_chroma(chunks)\n",
        "\n",
        "\n",
        "def load_documents():\n",
        "    \"\"\"\n",
        "    Purpose/Usage:\n",
        "    Loads PDF documents from a specified directory.\n",
        "\n",
        "    Inputs:\n",
        "    - None\n",
        "\n",
        "    Outputs/Returns:\n",
        "    - A list of Document objects loaded from the specified directory.\n",
        "    \"\"\"\n",
        "    document_loader = PyPDFDirectoryLoader(DATA_PATH)\n",
        "    return document_loader.load()\n",
        "\n",
        "\n",
        "def split_documents(documents: list[Document]):\n",
        "    \"\"\"\n",
        "    Purpose/Usage:\n",
        "    Splits documents into smaller chunks for easier processing.\n",
        "\n",
        "    Inputs:\n",
        "    - documents (list[Document]): A list of Document objects to be split.\n",
        "\n",
        "    Outputs/Returns:\n",
        "    - A list of Document chunks.\n",
        "    \"\"\"\n",
        "    text_splitter = RecursiveCharacterTextSplitter(\n",
        "        chunk_size=800,\n",
        "        chunk_overlap=80,\n",
        "        length_function=len,\n",
        "        is_separator_regex=False,\n",
        "    )\n",
        "    return text_splitter.split_documents(documents)\n",
        "\n",
        "\n",
        "def add_to_chroma(chunks: list[Document]):\n",
        "    \"\"\"\n",
        "    Purpose/Usage:\n",
        "    Adds document chunks to a Chroma vector store, updating the store with new documents.\n",
        "\n",
        "    Inputs:\n",
        "    - chunks (list[Document]): A list of Document chunks to be added to the vector store.\n",
        "\n",
        "    Outputs/Returns:\n",
        "    - None\n",
        "    \"\"\"\n",
        "    db = Chroma(\n",
        "        persist_directory=CHROMA_PATH, embedding_function=get_embedding_function()\n",
        "    )\n",
        "\n",
        "    chunks_with_ids = calculate_chunk_ids(chunks)\n",
        "\n",
        "    # Go through all items in the database, and get their chunk id\n",
        "    existing_items = db.get(include=[])  # IDs are always included by default\n",
        "    existing_ids = set(existing_items[\"ids\"])\n",
        "    print(f\"Number of existing documents in DB: {len(existing_ids)}\")\n",
        "\n",
        "    # Only add chunk with id that doesn't exist in the database\n",
        "    new_chunks = []\n",
        "    for chunk in chunks_with_ids:\n",
        "        if chunk.metadata[\"id\"] not in existing_ids:\n",
        "            new_chunks.append(chunk)\n",
        "\n",
        "    if len(new_chunks):\n",
        "        print(f\"👉 Adding new documents: {len(new_chunks)}\")\n",
        "        new_chunk_ids = [chunk.metadata[\"id\"] for chunk in new_chunks]\n",
        "        db.add_documents(new_chunks, ids=new_chunk_ids)\n",
        "        db.persist()\n",
        "    else:\n",
        "        print(\"✅ No new documents to add\")\n",
        "\n",
        "\n",
        "def calculate_chunk_ids(chunks):\n",
        "    \"\"\"\n",
        "    Purpose/Usage:\n",
        "    Calculates unique IDs for each document chunk based on its source, page number, and chunk index.\n",
        "\n",
        "    Inputs:\n",
        "    - chunks (list[Document]): A list of Document chunks.\n",
        "\n",
        "    Outputs/Returns:\n",
        "    - A list of Document chunks with updated metadata containing unique IDs.\n",
        "    \"\"\"\n",
        "    last_page_id = None\n",
        "    current_chunk_index = 0\n",
        "\n",
        "    # Loop through all the chunks\n",
        "    for chunk in chunks:\n",
        "        # Look into their metadata\n",
        "        source = chunk.metadata.get(\"source\")\n",
        "        page = chunk.metadata.get(\"page\")\n",
        "        # Concatenate source and page to make chunk id\n",
        "        current_page_id = f\"{source}:{page}\"\n",
        "\n",
        "        if current_page_id == last_page_id:\n",
        "            current_chunk_index += 1\n",
        "        # For each new page reset the chunk index\n",
        "        else:\n",
        "            current_chunk_index = 0\n",
        "\n",
        "        chunk_id = f\"{current_page_id}:{current_chunk_index}\"\n",
        "        last_page_id = current_page_id\n",
        "\n",
        "        # Add id to the chunk metadata\n",
        "        chunk.metadata[\"id\"] = chunk_id\n",
        "\n",
        "    return chunks\n",
        "\n",
        "\n",
        "def clear_database():\n",
        "    \"\"\"\n",
        "    Purpose/Usage:\n",
        "    Clears the Chroma vector store database by deleting the specified directory.\n",
        "\n",
        "    Inputs:\n",
        "    - None\n",
        "\n",
        "    Outputs/Returns:\n",
        "    - None\n",
        "    \"\"\"\n",
        "    if os.path.exists(CHROMA_PATH):\n",
        "        shutil.rmtree(CHROMA_PATH)"
      ]
    },
    {
      "cell_type": "code",
      "execution_count": null,
      "metadata": {
        "colab": {
          "base_uri": "https://localhost:8080/"
        },
        "id": "71tl51Rejlea",
        "outputId": "5c07e611-ad0c-4b35-f196-539e83687df8"
      },
      "outputs": [
        {
          "name": "stdout",
          "output_type": "stream",
          "text": [
            "✨ Clearing Database\n"
          ]
        },
        {
          "name": "stderr",
          "output_type": "stream",
          "text": [
            "/usr/local/lib/python3.10/dist-packages/langchain_core/_api/deprecation.py:141: LangChainDeprecationWarning: The class `OpenAIEmbeddings` was deprecated in LangChain 0.0.9 and will be removed in 0.3.0. An updated version of the class exists in the langchain-openai package and should be used instead. To use it run `pip install -U langchain-openai` and import as `from langchain_openai import OpenAIEmbeddings`.\n",
            "  warn_deprecated(\n"
          ]
        },
        {
          "name": "stdout",
          "output_type": "stream",
          "text": [
            "Number of existing documents in DB: 0\n",
            "👉 Adding new documents: 68\n"
          ]
        },
        {
          "name": "stderr",
          "output_type": "stream",
          "text": [
            "/usr/local/lib/python3.10/dist-packages/langchain_core/_api/deprecation.py:141: LangChainDeprecationWarning: Since Chroma 0.4.x the manual persistence method is no longer supported as docs are automatically persisted.\n",
            "  warn_deprecated(\n"
          ]
        }
      ],
      "source": [
        "process_documents(reset=True)"
      ]
    },
    {
      "cell_type": "markdown",
      "metadata": {
        "id": "WJ_jeU7sojnC"
      },
      "source": [
        "# Query ChromaDB Vector Database"
      ]
    },
    {
      "cell_type": "markdown",
      "metadata": {
        "id": "OOKjJxgbpRIK"
      },
      "source": [
        "## Import Libraries"
      ]
    },
    {
      "cell_type": "code",
      "execution_count": null,
      "metadata": {
        "id": "6ZzrsXNtpSQK"
      },
      "outputs": [],
      "source": [
        "from langchain.vectorstores.chroma import Chroma\n",
        "from langchain.prompts import ChatPromptTemplate\n",
        "from langchain_community.llms.ollama import Ollama\n",
        "from langchain_openai import OpenAIEmbeddings, ChatOpenAI\n",
        "from IPython.display import display, Markdown"
      ]
    },
    {
      "cell_type": "markdown",
      "metadata": {
        "id": "e9HwJ9cypTNz"
      },
      "source": [
        "## Define Prompt Template"
      ]
    },
    {
      "cell_type": "code",
      "execution_count": null,
      "metadata": {
        "id": "hpk_mN3mpc7b"
      },
      "outputs": [],
      "source": [
        "PROMPT_TEMPLATE = \"\"\"\n",
        "Answer the question based only on the following context:\n",
        "\n",
        "{context}\n",
        "\n",
        "---\n",
        "\n",
        "Answer the question based on the above context: {question}\n",
        "\"\"\""
      ]
    },
    {
      "cell_type": "code",
      "execution_count": null,
      "metadata": {
        "id": "dOiGpsi_IPJF"
      },
      "outputs": [],
      "source": [
        "DEFAULT_MODEL = \"llama3.1\""
      ]
    },
    {
      "cell_type": "code",
      "execution_count": null,
      "metadata": {
        "id": "p1ofxjSzL_AN"
      },
      "outputs": [],
      "source": [
        "def process_query_ollama_base(query_text: str, _model_name=DEFAULT_MODEL):\n",
        "    \"\"\"\n",
        "    Purpose/Usage:\n",
        "    This function processes a query by searching a database for relevant context and generating a response using a language model.\n",
        "\n",
        "    Inputs:\n",
        "    - query_text (str): The text of the query to be processed.\n",
        "\n",
        "    Outputs/Returns:\n",
        "    - response_text (str): The response generated by the language model based on the query and context.\n",
        "    \"\"\"\n",
        "    embedding_function = get_embedding_function()\n",
        "    db = Chroma(persist_directory=CHROMA_PATH,\n",
        "                embedding_function=embedding_function)\n",
        "\n",
        "    results = db.similarity_search_with_score(query_text, k=5)\n",
        "\n",
        "    # Prepare the context text with ID and relevance score for each chunk\n",
        "    context_text = \"\"\n",
        "    sources = []\n",
        "    for doc, score in results:\n",
        "        chunk_id = doc.metadata.get(\"id\", \"Unknown ID\")\n",
        "        sources.append(chunk_id)\n",
        "        context_text += f\"Chunk ID: {chunk_id}\\nRelevance Score: {score:.4f}\\nContent:\\n{doc.page_content}\\n\\n---\\n\\n\"\n",
        "\n",
        "    prompt_template = ChatPromptTemplate.from_template(PROMPT_TEMPLATE)\n",
        "    prompt = prompt_template.format(context=context_text, question=query_text)\n",
        "\n",
        "    model = Ollama(model=DEFAULT_MODEL)\n",
        "    response_text = model.invoke(prompt)\n",
        "\n",
        "    sources = [doc.metadata.get(\"id\", None) for doc, _score in results]\n",
        "    formatted_response = f\"Response: {response_text}\\nSources: {sources}\"\n",
        "    print(formatted_response)\n",
        "    return response_text"
      ]
    },
    {
      "cell_type": "code",
      "execution_count": null,
      "metadata": {
        "id": "i6WpJsJGpqTC"
      },
      "outputs": [],
      "source": [
        "def process_query_ollama_str(query_text: str, _model_name=DEFAULT_MODEL):\n",
        "    \"\"\"\n",
        "    Purpose/Usage:\n",
        "    This function processes a query by searching a database for relevant context and generating a response using a language model.\n",
        "\n",
        "    Inputs:\n",
        "    - query_text (str): The text of the query to be processed.\n",
        "\n",
        "    Outputs/Returns:\n",
        "    - response_text (str): The response generated by the language model based on the query and context.\n",
        "    \"\"\"\n",
        "    embedding_function = get_embedding_function()\n",
        "    db = Chroma(persist_directory=CHROMA_PATH,\n",
        "                embedding_function=embedding_function)\n",
        "\n",
        "    results = db.similarity_search_with_score(query_text, k=5)\n",
        "\n",
        "    # Prepare the context text with ID and relevance score for each chunk\n",
        "    context_text = \"\"\n",
        "    sources = []\n",
        "    for doc, score in results:\n",
        "        chunk_id = doc.metadata.get(\"id\", \"Unknown ID\")\n",
        "        sources.append(chunk_id)\n",
        "        context_text += f\"Chunk ID: {chunk_id}\\nRelevance Score: {score:.4f}\\nContent:\\n{doc.page_content}\\n\\n---\\n\\n\"\n",
        "\n",
        "    prompt_template = ChatPromptTemplate.from_template(PROMPT_TEMPLATE)\n",
        "    prompt = prompt_template.format(context=context_text, question=query_text)\n",
        "\n",
        "    model = Ollama(model=DEFAULT_MODEL)\n",
        "    response_text = model.invoke(prompt)\n",
        "\n",
        "    formatted_response = (\n",
        "        f\"Response: {response_text}\\n\"\n",
        "        f\"Sources: {sources}\\n\"\n",
        "        f\"Chunks used:\\n{context_text}\"\n",
        "    )\n",
        "    print(formatted_response)\n",
        "    return formatted_response"
      ]
    },
    {
      "cell_type": "code",
      "execution_count": null,
      "metadata": {
        "id": "x3PCSWW0k3_M"
      },
      "outputs": [],
      "source": [
        "def process_query_ollama_md(query_text: str, _model_name=DEFAULT_MODEL):\n",
        "    \"\"\"\n",
        "    Purpose/Usage:\n",
        "    This function processes a query by searching a database for relevant context and generating a response using a language model.\n",
        "\n",
        "    Inputs:\n",
        "    - query_text (str): The text of the query to be processed.\n",
        "\n",
        "    Outputs/Returns:\n",
        "    - None (displays the response as Markdown)\n",
        "    \"\"\"\n",
        "    embedding_function = get_embedding_function()\n",
        "    db = Chroma(persist_directory=CHROMA_PATH,\n",
        "                embedding_function=embedding_function)\n",
        "    results = db.similarity_search_with_score(query_text, k=5)\n",
        "\n",
        "    # Prepare the context text with ID and relevance score for each chunk\n",
        "    context_text = \"\"\n",
        "    sources = []\n",
        "\n",
        "    for doc, score in results:\n",
        "        chunk_id = doc.metadata.get(\"id\", \"Unknown ID\")\n",
        "        sources.append(chunk_id)\n",
        "        context_text += f\"### Chunk ID: {chunk_id}\\n**Relevance Score:** {score:.4f}\\n\\n```\\n{doc.page_content}\\n```\\n\\n---\\n\\n\"\n",
        "\n",
        "    prompt_template = ChatPromptTemplate.from_template(PROMPT_TEMPLATE)\n",
        "    prompt = prompt_template.format(context=context_text, question=query_text)\n",
        "\n",
        "    model = Ollama(model=DEFAULT_MODEL)\n",
        "    response_text = model.invoke(prompt)\n",
        "\n",
        "    # Format the response as Markdown\n",
        "    markdown_response = (\n",
        "        f\"## Response\\n\\n{response_text}\\n\\n\"\n",
        "        f\"## Sources\\n\\n\" +\n",
        "        \"\\n\".join(f\"- {source}\" for source in sources) + \"\\n\\n\"\n",
        "        f\"## Chunks Used\\n\\n{context_text}\"\n",
        "    )\n",
        "\n",
        "    # Display the response as Markdown\n",
        "    display(Markdown(markdown_response))\n",
        "\n",
        "    return markdown_response"
      ]
    },
    {
      "cell_type": "markdown",
      "metadata": {
        "id": "U1MDS0HELGpE"
      },
      "source": [
        "## Example Usage"
      ]
    },
    {
      "cell_type": "code",
      "execution_count": null,
      "metadata": {
        "colab": {
          "base_uri": "https://localhost:8080/",
          "height": 1000
        },
        "id": "X9tN8iD0phjN",
        "outputId": "e38eb0e9-fbc5-4c22-fc42-0ef373422149"
      },
      "outputs": [
        {
          "data": {
            "text/markdown": [
              "## Response\n",
              "\n",
              "Based on the provided context, it appears that you can only give one clue at a time. However, this clue can relate to multiple codenames, and you can specify how many of your team's words are related to the clue by including a number (e.g., \"tree: 2\"). This means that while you can't give multiple clues simultaneously, you can convey complex information in a single statement.\n",
              "\n",
              "Therefore, the answer to the question is:\n",
              "\n",
              "You can only give one clue at a time, but this clue can be multi-faceted and relate to multiple codenames.\n",
              "\n",
              "## Sources\n",
              "\n",
              "- /content/rag-tutorial-v2/data/codenames-rules-en.pdf:3:0\n",
              "- /content/rag-tutorial-v2/data/codenames-rules-en.pdf:3:1\n",
              "- /content/rag-tutorial-v2/data/codenames-rules-en.pdf:3:3\n",
              "- /content/rag-tutorial-v2/data/codenames-rules-en.pdf:4:1\n",
              "- /content/rag-tutorial-v2/data/codenames-rules-en.pdf:6:0\n",
              "\n",
              "## Chunks Used\n",
              "\n",
              "### Chunk ID: /content/rag-tutorial-v2/data/codenames-rules-en.pdf:3:0\n",
              "**Relevance Score:** 0.2324\n",
              "\n",
              "```\n",
              "4Teams take turns.  The starting team is indicated by the 4  lights on the edges of the key card.\n",
              "GIVING A  CLUE \n",
              "If you are the spymaster, you are trying to think of a  one-word clue that relates to some of the words \n",
              "your team is trying to guess. When you think you have a  good clue, you say it. You also say one \n",
              "number, which tells your teammates how many codenames are related to your clue.\n",
              "Example:  Two of your words are NUT and BARK. Both of these grow on trees, so you say tree: 2 .\n",
              "You are allowed to give a  clue for only one word ( cashew: 1  ) but it's  fun to try for two or more. Getting \n",
              "four words with one clue is a  big accomplishment.\n",
              "One Word \n",
              "Your clue must be only one word. You are not allowed to give extra hints. For example, don't say,\n",
              "```\n",
              "\n",
              "---\n",
              "\n",
              "### Chunk ID: /content/rag-tutorial-v2/data/codenames-rules-en.pdf:3:1\n",
              "**Relevance Score:** 0.2720\n",
              "\n",
              "```\n",
              "\"This may be a  bit of a  stretch…\" You are playing Codenames. It's  always a  bit of a  stretch.\n",
              "Your clue cannot be any of the codenames visible on the table. On later turns, some codenames will \n",
              "be covered up, so a  clue that is not legal now might be legal later.\n",
              "MAKING CONTACT  \n",
              "When the spymaster gives a  clue, his or her field operatives try to figure out what it means. They can \n",
              "debate it amongst themselves, but the spymaster must keep a  straight face. The operatives indicate \n",
              "their official guess when one of them touches one of the codenames on the table.\n",
              "•  I f the field operative touches a c ard belonging to his or her team , the spymaster covers the word \n",
              "with an agent card in that color. The operatives get another guess (but not another clue).\n",
              "```\n",
              "\n",
              "---\n",
              "\n",
              "### Chunk ID: /content/rag-tutorial-v2/data/codenames-rules-en.pdf:3:3\n",
              "**Relevance Score:** 0.2831\n",
              "\n",
              "```\n",
              "You can stop guessing at any time , but usually you want to guess as many words as the spymaster \n",
              "said. Sometimes you might even want to guess one more :\n",
              "Example:  Red Team's  first clue was tree: 2 . The red operative wanted to guess ORANGE and NUT. \n",
              "She guessed ORANGE first. That was an innocent bystander, so she did not get a  chance to guess NUT.\n",
              "Blue Team took a  turn and correctly guessed two words. Now it is Red Team's  turn again.\n",
              "The red spymaster says river: 3 . The red operative is pretty sure the AMAZON is a  river, so she touches \n",
              "that card. The spymaster covers it with a red agent card, so she gets to go again. A  r iver has a  B ED, \n",
              "so she touches that codename. It's  also red, so she can go again.  G AME PLAY\n",
              "```\n",
              "\n",
              "---\n",
              "\n",
              "### Chunk ID: /content/rag-tutorial-v2/data/codenames-rules-en.pdf:4:1\n",
              "**Relevance Score:** 0.2846\n",
              "\n",
              "```\n",
              "a spymaster gives a clue, his or her team starts \n",
              "guessing. Their turn ends when they guess wrong, when they decide to stop, or when they have made the maximum number of guesses \n",
              "for that clue. Then it is the other team's turn.\n",
              "ENDING THE GAME  \n",
              "The game ends when one team has all their \n",
              "words covered. That team wins.\n",
              "It is possible to win on the other team's  t urn if \n",
              "they guess your last word.\n",
              "The game can end early if a  field operative \n",
              "makes contact with the assassin. That \n",
              "operative's  team loses.\n",
              "Setup for the Next Game\n",
              "Do other people want a  chance to be \n",
              "spymasters? Setup for the second game is easy. Remove the cards covering the codenames and put them back in their stacks. \n",
              "Now just flip over the 25 codenames, and\n",
              "```\n",
              "\n",
              "---\n",
              "\n",
              "### Chunk ID: /content/rag-tutorial-v2/data/codenames-rules-en.pdf:6:0\n",
              "**Relevance Score:** 0.2934\n",
              "\n",
              "```\n",
              "7You are allowed to use 0 as the number part \n",
              "of your clue. For example, feathers: 0  me ans, \n",
              "\"None of our words relate to feathers .\"\n",
              "If 0 is the number, the usual limit on guesses \n",
              "does not apply. Field operatives can guess \n",
              "as many words as they want. They still must \n",
              "guess at least one word.\n",
              "If you're not sure why this is useful, don't \n",
              "worry. You'll figure it out.Sometimes you have to make judgment calls \n",
              "about what is valid and what is not. Different groups may prefer to play the game differently.\n",
              "Compound Words\n",
              "English has three ways to write a  compound \n",
              "word. Greenhouse  is one word. Pack rat is two \n",
              "words. Mother-in-law  is hyphenated. Technically, \n",
              "only greenhouse  can be a  one-word clue.\n",
              "You can decide to allow any compound words.\n",
              "```\n",
              "\n",
              "---\n",
              "\n"
            ],
            "text/plain": [
              "<IPython.core.display.Markdown object>"
            ]
          },
          "metadata": {},
          "output_type": "display_data"
        }
      ],
      "source": [
        "query_text = \"How many clues can I give in Codenames?\"\n",
        "response = process_query_ollama_md(query_text)"
      ]
    },
    {
      "cell_type": "code",
      "execution_count": null,
      "metadata": {
        "colab": {
          "base_uri": "https://localhost:8080/",
          "height": 1000
        },
        "id": "VH7kwAXGHJEM",
        "outputId": "b1f270bd-2c85-4d07-dbcb-8f4f47d70a38"
      },
      "outputs": [
        {
          "data": {
            "text/markdown": [
              "## Response\n",
              "\n",
              "You can get out of jail in Monopoly by:\n",
              "\n",
              "1. Throwing doubles on any of your next three turns.\n",
              "2. Using a \"Get Out of Jail Free\" card (if you have it).\n",
              "3. Purchasing a \"Get Out of Jail Free\" card from another player and using it.\n",
              "\n",
              "Additionally, if you roll a three-of-a-kind (all dice show the same number), you can move anywhere on the board and get out of jail immediately.\n",
              "\n",
              "## Sources\n",
              "\n",
              "- /content/rag-tutorial-v2/data/monopoly.pdf:4:0\n",
              "- /content/rag-tutorial-v2/data/monopoly.pdf:4:2\n",
              "- /content/rag-tutorial-v2/data/monopoly.pdf:1:1\n",
              "- /content/rag-tutorial-v2/data/monopoly.pdf:4:1\n",
              "- /content/rag-tutorial-v2/data/monopoly.pdf:1:0\n",
              "\n",
              "## Chunks Used\n",
              "\n",
              "### Chunk ID: /content/rag-tutorial-v2/data/monopoly.pdf:4:0\n",
              "**Relevance Score:** 0.2730\n",
              "\n",
              "```\n",
              "instructions and return the card facedown to the bottom of the deck. \n",
              "The \"Get Out of Jail Free\" card is held until used and then returned to \n",
              "the bottom of the deck. If the player who draws it does not wish to use \n",
              "it, helshe may sell it, at any time, to another player at a price agreeable \n",
              "to both. \n",
              "\"INCOME TAX\": If you land here you have two options: You may \n",
              "estimate your tax at $900 and pay the Bank, or you may pay 10% of \n",
              "your total worth to the Bank. Your total worth is all your cash on hand, \n",
              "printed prices of mortgaged and unmortgaged properties and cost \n",
              "price of all buildings you own. \n",
              "You must decide which option you will take before you add up \n",
              "your total worth. \n",
              "\"JAIL\": You land in Jail when. ..(I) your token lands on the space\n",
              "```\n",
              "\n",
              "---\n",
              "\n",
              "### Chunk ID: /content/rag-tutorial-v2/data/monopoly.pdf:4:2\n",
              "**Relevance Score:** 0.2754\n",
              "\n",
              "```\n",
              "the number of spaces shown by your doubles throw; even though you \n",
              "had thrown doubles, you do not take another turn; (2) using the \"Get \n",
              "Out of Jail Free\" card if you have it; (3) purchasing the \"Get Out of Jail \n",
              "Free\" card from another player and playing it; (4) paying a fine of $50 \n",
              "before you roll the dice on either of your next two turns. \n",
              "If you do not throw doubles by your third turn, you must pay the $50 \n",
              "fine. You then get out of Jail and immediately move forward the number \n",
              "of spaces shown by your throw. \n",
              "Even though you are in Jail, you may buy and sell property, buy and \n",
              "sell houses and hotels and collect rents.\n",
              "```\n",
              "\n",
              "---\n",
              "\n",
              "### Chunk ID: /content/rag-tutorial-v2/data/monopoly.pdf:1:1\n",
              "**Relevance Score:** 0.3075\n",
              "\n",
              "```\n",
              "NO, there are no more properties in the bank - Advance to the \n",
              "NOCT property on which you will owe another player money. \n",
              "A few minor details: \n",
              "Only the white dice are used when determining if you rolled doubles. \n",
              "Do not look at the Speed Die. \n",
              "If you roll a three-of-a-kind (all of the dice show the same number), \n",
              "you can move anywhere you want on the board! \n",
              "If you get sent to jail during your move (either by landing on the \"Go \n",
              "to Jail\" space or by rolling doubles three times in a row) then your turn \n",
              "is over and you do not get to use the Speed Die for that turn. \n",
              "Use the white dice ONLY when rolling to get out of jail. \n",
              "L \n",
              "Use the sum of all three dice when determining how much to pay on \n",
              "a utility. Note: The Bus and Mr. Monopoly are valued at 0. \n",
              "CLASSIC MONOPOW RULES\n",
              "```\n",
              "\n",
              "---\n",
              "\n",
              "### Chunk ID: /content/rag-tutorial-v2/data/monopoly.pdf:4:1\n",
              "**Relevance Score:** 0.3120\n",
              "\n",
              "```\n",
              "\"JAIL\": You land in Jail when. ..(I) your token lands on the space \n",
              "marked \"Go to Jail\"; (2) you draw a card marked \"Go to JailN; or \n",
              "(3) you throw doubles three times in succession. \n",
              "When you are sent to Jail you cannot \n",
              "collect your $200 salary in that move \n",
              "since, regardless of where your token \n",
              "is on the board, you must move it \n",
              "directly into Jail. Your turn ends when \n",
              "you are sent to Jail. \n",
              "If you are not \"sent\" to Jail but in the ordinary course of play land on \n",
              "that space, you are \"Just Visiting,\" you incur no penalty, and you move \n",
              "ahead in the usual manner on your next turn. \n",
              "You get out of Jail by.. .(I) throwing doubles on any of your next \n",
              "three turns; if you succeed in doing this you immediately move forward \n",
              "the number of spaces shown by your doubles throw; even though you\n",
              "```\n",
              "\n",
              "---\n",
              "\n",
              "### Chunk ID: /content/rag-tutorial-v2/data/monopoly.pdf:1:0\n",
              "**Relevance Score:** 0.3152\n",
              "\n",
              "```\n",
              "Bus: This lets you \"get off the bus early.\" Look at the two white \n",
              "dice. You can move the value of one die, the other die, or the \n",
              "sum of both dice. So if you rolled a 1 and a 5, you can move \n",
              "1 space, 5 spaces, or 6 spaces: \\t's your choice. \n",
              "Mr. Monopoly: First, move the sum of the two white dice \n",
              "and resolve the space you land on (such as drawing a card, \n",
              "buying the property, paying rent, etc.). Then, one of two \n",
              "things will happen depending on whether or not there is still \n",
              "property in the bank. \n",
              "YES, there is property in the bank -Advance to the NEXT \n",
              "property that the bank still holds and buy it if you wish. If you \n",
              "don't want to buy this property, move to the space anyway \n",
              "and put the property up for auction. \n",
              "NO, there are no more properties in the bank - Advance to the\n",
              "```\n",
              "\n",
              "---\n",
              "\n"
            ],
            "text/plain": [
              "<IPython.core.display.Markdown object>"
            ]
          },
          "metadata": {},
          "output_type": "display_data"
        }
      ],
      "source": [
        "query_text = \"How do I get out of jail in Monopoly?\"\n",
        "response = process_query_ollama_md(query_text)"
      ]
    },
    {
      "cell_type": "code",
      "execution_count": null,
      "metadata": {
        "colab": {
          "base_uri": "https://localhost:8080/",
          "height": 1000
        },
        "id": "q1ZVQc4FKcmj",
        "outputId": "85fc58bc-3f70-4eac-8f2a-430cd962fe98"
      },
      "outputs": [
        {
          "data": {
            "text/markdown": [
              "## Response\n",
              "\n",
              "$1,500 divided as follows: \n",
              "\n",
              "* 2 $500 bills\n",
              "* 6 $100 bills\n",
              "* 4 $50 bills\n",
              "* 5 $40 bills\n",
              "* 5 $10 bills\n",
              "* 5 $5 bills\n",
              "* 1 $1 bill\n",
              "\n",
              "## Sources\n",
              "\n",
              "- /content/rag-tutorial-v2/data/monopoly.pdf:0:0\n",
              "- /content/rag-tutorial-v2/data/monopoly.pdf:2:0\n",
              "- /content/rag-tutorial-v2/data/monopoly.pdf:0:1\n",
              "- /content/rag-tutorial-v2/data/monopoly.pdf:1:2\n",
              "- /content/rag-tutorial-v2/data/monopoly.pdf:1:0\n",
              "\n",
              "## Chunks Used\n",
              "\n",
              "### Chunk ID: /content/rag-tutorial-v2/data/monopoly.pdf:0:0\n",
              "**Relevance Score:** 0.3409\n",
              "\n",
              "```\n",
              "MONOPOLY \n",
              "Property Trading Game from Parker Brothers\" \n",
              "AGES 8+ \n",
              "2 to 8 Players \n",
              "Contents: Gameboard, 3 dice, tokens, 32 houses, I2 hotels, Chance \n",
              "and Community Chest cards, Title Deed cards, play money and a Banker's tray. \n",
              "Now there's a faster way to play MONOPOLY. Choose to play by \n",
              "the classic rules for buying, renting and selling properties or use the \n",
              "Speed Die to get into the action faster. If you've never played the classic \n",
              "MONOPOLY game, refer to the Classic Rules beginning on the next page. \n",
              "If you already know how to play and want to use the Speed Die, just \n",
              "read the section below for the additional Speed Die rules. \n",
              "SPEED DIE RULES \n",
              "Learnins how to Play with the S~eed Die IS as \n",
              "/ \n",
              "fast as playing with i't. \n",
              "1. When starting the game, hand out an extra $1,000 to each player\n",
              "```\n",
              "\n",
              "---\n",
              "\n",
              "### Chunk ID: /content/rag-tutorial-v2/data/monopoly.pdf:2:0\n",
              "**Relevance Score:** 0.3429\n",
              "\n",
              "```\n",
              "Each player is given $1,500 divided as follows: P each of $500s, \n",
              "$100~ and $50~; 6 $40~; 5 each of $105, $5~ and $Is. \n",
              "All remaining money and other equipment go to the Bank. Stack the .. \n",
              "Bank's money on edge in the compartments in the plastic Banker's tray. \n",
              "BANKER. Select as Banker a player who will also \n",
              "make a good Auctioneer A Banker who plays \n",
              "~n the game must keep hislher personal funds \n",
              "separate from those of the Bank. When more than \n",
              "f~ve persons play, the Banker may elect to act only \n",
              "as Banker and Auctioneer. \n",
              "THE BANK: Besides the Bank's money, the Bank \n",
              "holds the Title Deed cards and houses and hotels prior to purchase \n",
              "and use by the players. The Bank pays salaries and bonuses. It sells \n",
              "and auctions properties and hands out the~r proper Title Deed cards;\n",
              "```\n",
              "\n",
              "---\n",
              "\n",
              "### Chunk ID: /content/rag-tutorial-v2/data/monopoly.pdf:0:1\n",
              "**Relevance Score:** 0.3487\n",
              "\n",
              "```\n",
              "1. When starting the game, hand out an extra $1,000 to each player \n",
              "(two $5005 should work). The game moves fast and you'll need \n",
              "the extra cash to buy and build. \n",
              "2. Do not use the Speed Die until you've landed on or passed over \n",
              "GO for the first time. Once you collect that first $200 salary, you'll \n",
              "use the Speed Die for the rest of the game. This means that some \n",
              "players will start using the die before others. \n",
              "3. Once you start using the Speed Die, roll it along with the two \n",
              "white dice on your turn. Then do the following depending on \n",
              "what you rolled. \n",
              "1, 2, or 3: Add this number to the roll of the two white \n",
              "dice. You'll zoom around the board.\n",
              "```\n",
              "\n",
              "---\n",
              "\n",
              "### Chunk ID: /content/rag-tutorial-v2/data/monopoly.pdf:1:2\n",
              "**Relevance Score:** 0.3599\n",
              "\n",
              "```\n",
              "CLASSIC MONOPOW RULES \n",
              "OBJECT: The object of the game IS to become the \n",
              "wealthiest player through buying, renting and selling \n",
              "property. \n",
              "PREPARATION: Place the board on a table and put \n",
              "the Chance and Community Chest cards facedown on \n",
              "their allotted spaces on the board. Each player chooses one token to \n",
              "represent himther while traveling around the board.\n",
              "```\n",
              "\n",
              "---\n",
              "\n",
              "### Chunk ID: /content/rag-tutorial-v2/data/monopoly.pdf:1:0\n",
              "**Relevance Score:** 0.3748\n",
              "\n",
              "```\n",
              "Bus: This lets you \"get off the bus early.\" Look at the two white \n",
              "dice. You can move the value of one die, the other die, or the \n",
              "sum of both dice. So if you rolled a 1 and a 5, you can move \n",
              "1 space, 5 spaces, or 6 spaces: \\t's your choice. \n",
              "Mr. Monopoly: First, move the sum of the two white dice \n",
              "and resolve the space you land on (such as drawing a card, \n",
              "buying the property, paying rent, etc.). Then, one of two \n",
              "things will happen depending on whether or not there is still \n",
              "property in the bank. \n",
              "YES, there is property in the bank -Advance to the NEXT \n",
              "property that the bank still holds and buy it if you wish. If you \n",
              "don't want to buy this property, move to the space anyway \n",
              "and put the property up for auction. \n",
              "NO, there are no more properties in the bank - Advance to the\n",
              "```\n",
              "\n",
              "---\n",
              "\n"
            ],
            "text/plain": [
              "<IPython.core.display.Markdown object>"
            ]
          },
          "metadata": {},
          "output_type": "display_data"
        }
      ],
      "source": [
        "query_text = \"How much total money does a player start with in original Monopoly? Keep it short\"\n",
        "response = process_query_ollama_md(query_text)"
      ]
    },
    {
      "cell_type": "code",
      "execution_count": null,
      "metadata": {
        "colab": {
          "base_uri": "https://localhost:8080/",
          "height": 1000
        },
        "id": "7X1knuHBKmVe",
        "outputId": "59e7209e-4954-4c9d-c726-1790418d015d"
      },
      "outputs": [
        {
          "data": {
            "text/markdown": [
              "## Response\n",
              "\n",
              "According to the context, the longest continuous path of trains gets a 10 point bonus if there is a tie for the longest path. However, it doesn't explicitly state how many points the longest continuous path itself gets, only that it's used as a tiebreaker if players are tied in other categories.\n",
              "\n",
              "So, based on the given information, we can conclude that the longest continuous path does not get a specific number of points mentioned in the text.\n",
              "\n",
              "## Sources\n",
              "\n",
              "- /content/rag-tutorial-v2/data/ticket_to_ride.pdf:3:3\n",
              "- /content/rag-tutorial-v2/data/ticket_to_ride.pdf:1:3\n",
              "- /content/rag-tutorial-v2/data/ticket_to_ride.pdf:0:1\n",
              "- /content/rag-tutorial-v2/data/ticket_to_ride.pdf:1:2\n",
              "- /content/rag-tutorial-v2/data/ticket_to_ride.pdf:3:1\n",
              "\n",
              "## Chunks Used\n",
              "\n",
              "### Chunk ID: /content/rag-tutorial-v2/data/ticket_to_ride.pdf:3:3\n",
              "**Relevance Score:** 0.2441\n",
              "\n",
              "```\n",
              "comparing path lengths, only take into account continuous lines of plastic trains of the same color. A continuous path may include loops, and passthrough the same city several times, but a given plastic train may never be used twice in the same continuous path. In the case of a tie for the longestpath, all tied players score the 10 point bonus.\n",
              "The player with the most points wins the game. If two or more players are tied for the most points, the player who has completed the most Destination\n",
              "Tickets wins. In the unlikely event that they are still tied, the player with the Longest Continuous Path card wins.\n",
              "1Route Length Points Scored\n",
              "2\n",
              "3\n",
              "4\n",
              "5\n",
              "61\n",
              "2\n",
              "4\n",
              "7\n",
              "10\n",
              "15\n",
              "CREDITS\n",
              "Game design by Alan R. Moon \n",
              "Illustrations by Julien Delval\n",
              "Graphic Design by Cyrille Daujean\n",
              "```\n",
              "\n",
              "---\n",
              "\n",
              "### Chunk ID: /content/rag-tutorial-v2/data/ticket_to_ride.pdf:1:3\n",
              "**Relevance Score:** 0.2666\n",
              "\n",
              "```\n",
              "∑\n",
              "∫\n",
              "∑ ∫110 Train Car cards (12 each of Box, Passenger, Tanker, Reefer, Freight, Hopper, Coal, and Caboose cars, plus 14 Locomotives)\n",
              "30 Destination Ticket cards1 Summary\n",
              "card\n",
              "1 Longest Continuous Path\n",
              "Bonus card\n",
              "[T2R] rules EN reprint 2015_TTR2 rules US  06/03/15  17:36  Page3\n",
              "```\n",
              "\n",
              "---\n",
              "\n",
              "### Chunk ID: /content/rag-tutorial-v2/data/ticket_to_ride.pdf:0:1\n",
              "**Relevance Score:** 0.2963\n",
              "\n",
              "```\n",
              "Each succeeding year, they met to celebrate the anniversary and pay tribute to Fogg. And each year a new expedition (always mor e\n",
              "difficult) with a new wager (always more expensive) was proposed. Now at the dawn of the century it was time for a new impossi-ble journey. The stakes: $1 Million in a winner-takes-all competition. The objective: to see which of them could travel by rail to themost cities in North America — in just 7 days. The journey would begin immediately…\n",
              "Ticket to Ride is a cross-country train adventure. Players compete to connect different cities by laying claim to railway routes on a\n",
              "map of North America.\n",
              "For 2 - 5 players \n",
              "ages 8 and above\n",
              "30 - 60 minutes[T2R] rules EN reprint 2015_TTR2 rules US  06/03/15  17:36  Page2\n",
              "```\n",
              "\n",
              "---\n",
              "\n",
              "### Chunk ID: /content/rag-tutorial-v2/data/ticket_to_ride.pdf:1:2\n",
              "**Relevance Score:** 0.3175\n",
              "\n",
              "```\n",
              "You are now ready to begin.\n",
              "Object of the Game \n",
              "The object of the game is to score the highest number of total points. Points can bescored by: \n",
              "uClaiming a Route between two adjacent cities on the map; \n",
              "u Successfully completing a Continuous Path of routes between two cities listed on your Destination Ticket(s);\n",
              "u Completing the Longest Continuous Path of routes.\n",
              "Points are lost if you do not successfully complete the route given on the Destination Ticket(s) you kept.\n",
              "T he Game T urn\n",
              "The player who is the most experienced traveler goes first. Play then proceeds clockwise around the table, each player taking one turn at a time untilthe game ends. On his turn, a player must perform one (and only one) of the following three actions:∂∑ ∫\n",
              "∑\n",
              "∫\n",
              "```\n",
              "\n",
              "---\n",
              "\n",
              "### Chunk ID: /content/rag-tutorial-v2/data/ticket_to_ride.pdf:3:1\n",
              "**Relevance Score:** 0.3308\n",
              "\n",
              "```\n",
              "the two cities, they will add the amount of points indicated on the Destination Ticket to their point totals at the end of the game. If they do not\n",
              "successfully connect the two cities, they deduct the amount of points indicated.\n",
              "Destination Tickets are kept secret from other players until the game's final scoring. A player may have any number of Destination Ticket cards duringthe game.\n",
              "Game End\n",
              "When one player’s stock of colored plastic trains gets down to only 0,1 or 2 trains left at the end of his turn, each player, including that player, getsone final turn. The game then ends and players calculate their final scores. \n",
              "Calculating Scores\n",
              "```\n",
              "\n",
              "---\n",
              "\n"
            ],
            "text/plain": [
              "<IPython.core.display.Markdown object>"
            ]
          },
          "metadata": {},
          "output_type": "display_data"
        }
      ],
      "source": [
        "query_text = \"How many points does the longest continuous train get in Ticket to Ride?\"\n",
        "response = process_query_ollama_md(query_text)"
      ]
    },
    {
      "cell_type": "markdown",
      "metadata": {
        "id": "tMUYUT9ZLvBa"
      },
      "source": [
        "# Unit Testing"
      ]
    },
    {
      "cell_type": "markdown",
      "metadata": {
        "id": "vAhGEaiLLxWm"
      },
      "source": [
        "## Define Prompt Template"
      ]
    },
    {
      "cell_type": "code",
      "execution_count": null,
      "metadata": {
        "id": "sdt_iWbOLwOU"
      },
      "outputs": [],
      "source": [
        "EVAL_PROMPT = \"\"\"\n",
        "Expected Response: {expected_response}\n",
        "Actual Response: {actual_response}\n",
        "---\n",
        "(Answer with 'true' or 'false') Does the actual response match the expected response?\n",
        "\"\"\""
      ]
    },
    {
      "cell_type": "markdown",
      "metadata": {
        "id": "pmkrTvugMTRM"
      },
      "source": [
        "## Define Functions"
      ]
    },
    {
      "cell_type": "code",
      "execution_count": null,
      "metadata": {
        "id": "evPm-qfrL2yN"
      },
      "outputs": [],
      "source": [
        "def evaluate_monopoly_rules():\n",
        "    \"\"\"\n",
        "    Purpose/Usage:\n",
        "    This function tests whether the response to a Monopoly rules question matches the expected answer.\n",
        "\n",
        "    Inputs:\n",
        "    - None\n",
        "\n",
        "    Outputs/Returns:\n",
        "    - None\n",
        "    \"\"\"\n",
        "    assert query_and_validate(\n",
        "        question=\"How much total money does a player start with in original Monopoly? (Answer with the number only without $)\",\n",
        "        expected_response=\"1500\",\n",
        "    )\n",
        "\n",
        "\n",
        "def evaluate_ticket_to_ride_rules():\n",
        "    \"\"\"\n",
        "    Purpose/Usage:\n",
        "    This function tests whether the response to a Ticket to Ride rules question matches the expected answer.\n",
        "\n",
        "    Inputs:\n",
        "    - None\n",
        "\n",
        "    Outputs/Returns:\n",
        "    - None\n",
        "    \"\"\"\n",
        "    assert query_and_validate(\n",
        "        question=\"How many points does the longest continuous train get in Ticket to Ride? (Answer with the number only)\",\n",
        "        expected_response=\"10 points\",\n",
        "    )\n",
        "\n",
        "\n",
        "def query_and_validate(question: str, expected_response: str):\n",
        "    \"\"\"\n",
        "    Purpose/Usage:\n",
        "    This function queries a language model with a question and validates the response against an expected answer.\n",
        "\n",
        "    Inputs:\n",
        "    - question (str): The question to be asked.\n",
        "    - expected_response (str): The expected answer to the question.\n",
        "\n",
        "    Outputs/Returns:\n",
        "    - bool: True if the actual response matches the expected response; False otherwise.\n",
        "    \"\"\"\n",
        "    response_text = process_query_ollama_base(question)\n",
        "    prompt = EVAL_PROMPT.format(\n",
        "        expected_response=expected_response, actual_response=response_text\n",
        "    )\n",
        "\n",
        "    model = Ollama(model=DEFAULT_MODEL)\n",
        "    evaluation_results_str = model.invoke(prompt)\n",
        "    evaluation_results_str_cleaned = evaluation_results_str.strip().lower()\n",
        "\n",
        "    print(prompt)\n",
        "\n",
        "    if \"true\" in evaluation_results_str_cleaned:\n",
        "        print(\"\\033[92m\" +\n",
        "              f\"Response: {evaluation_results_str_cleaned}\" + \"\\033[0m\")\n",
        "        return True\n",
        "    elif \"false\" in evaluation_results_str_cleaned:\n",
        "        print(\"\\033[91m\" +\n",
        "              f\"Response: {evaluation_results_str_cleaned}\" + \"\\033[0m\")\n",
        "        return False\n",
        "    else:\n",
        "        raise ValueError(\n",
        "            f\"Invalid evaluation result. Cannot determine if 'true' or 'false'.\"\n",
        "        )"
      ]
    },
    {
      "cell_type": "code",
      "execution_count": null,
      "metadata": {
        "colab": {
          "base_uri": "https://localhost:8080/"
        },
        "id": "iOw5V2EbMR-M",
        "outputId": "ca0c29fc-70b3-46dc-b857-708e5d88601d"
      },
      "outputs": [
        {
          "name": "stdout",
          "output_type": "stream",
          "text": [
            "Response: 1500\n",
            "Sources: ['/content/rag-tutorial-v2/data/monopoly.pdf:2:0', '/content/rag-tutorial-v2/data/monopoly.pdf:0:0', '/content/rag-tutorial-v2/data/monopoly.pdf:0:1', '/content/rag-tutorial-v2/data/monopoly.pdf:1:0', '/content/rag-tutorial-v2/data/monopoly.pdf:3:0']\n",
            "\n",
            "Expected Response: 1500\n",
            "Actual Response: 1500\n",
            "---\n",
            "(Answer with 'true' or 'false') Does the actual response match the expected response? \n",
            "\n",
            "\u001b[92mResponse: true.\u001b[0m\n"
          ]
        }
      ],
      "source": [
        "evaluate_monopoly_rules()"
      ]
    },
    {
      "cell_type": "code",
      "execution_count": null,
      "metadata": {
        "colab": {
          "base_uri": "https://localhost:8080/"
        },
        "id": "zqoQ8HJgMV2V",
        "outputId": "58932caf-fe4a-4a07-ce50-fa747dea2ec8"
      },
      "outputs": [
        {
          "name": "stdout",
          "output_type": "stream",
          "text": [
            "Response: 10\n",
            "Sources: ['/content/rag-tutorial-v2/data/ticket_to_ride.pdf:3:3', '/content/rag-tutorial-v2/data/ticket_to_ride.pdf:1:3', '/content/rag-tutorial-v2/data/ticket_to_ride.pdf:0:1', '/content/rag-tutorial-v2/data/ticket_to_ride.pdf:1:2', '/content/rag-tutorial-v2/data/ticket_to_ride.pdf:3:1']\n",
            "\n",
            "Expected Response: 10 points\n",
            "Actual Response: 10\n",
            "---\n",
            "(Answer with 'true' or 'false') Does the actual response match the expected response? \n",
            "\n",
            "\u001b[92mResponse: true. the actual response (10) matches the expected response (10).\u001b[0m\n"
          ]
        }
      ],
      "source": [
        "evaluate_ticket_to_ride_rules()"
      ]
    }
  ],
  "metadata": {
    "accelerator": "GPU",
    "colab": {
      "collapsed_sections": [
        "kYvv295CYmoy",
        "yuGZFjCKgMQy",
        "5g-GBrWbgH8z",
        "6kIuUYRhjiwy"
      ],
      "gpuType": "L4",
      "machine_shape": "hm",
      "provenance": [],
      "toc_visible": true
    },
    "kernelspec": {
      "display_name": "Python 3",
      "name": "python3"
    },
    "language_info": {
      "name": "python"
    }
  },
  "nbformat": 4,
  "nbformat_minor": 0
}
