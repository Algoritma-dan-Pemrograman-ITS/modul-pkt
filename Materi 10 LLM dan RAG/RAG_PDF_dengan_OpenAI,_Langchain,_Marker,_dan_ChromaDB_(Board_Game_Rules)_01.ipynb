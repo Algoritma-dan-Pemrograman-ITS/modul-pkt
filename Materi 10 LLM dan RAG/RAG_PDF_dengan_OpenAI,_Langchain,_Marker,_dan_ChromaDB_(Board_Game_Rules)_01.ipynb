{
  "cells": [
    {
      "cell_type": "markdown",
      "metadata": {
        "id": "OC1LbuuzeeUE"
      },
      "source": [
        "# Google Colab Link\n",
        "[Google Colab](https://colab.research.google.com/drive/1XPnM_WpHPfSLTH4SVNDBP85QDlq_IbcH?usp=sharing)"
      ]
    },
    {
      "cell_type": "markdown",
      "metadata": {
        "id": "HZMJuAhOLGNZ"
      },
      "source": [
        "# Clone Reference Repository"
      ]
    },
    {
      "cell_type": "code",
      "execution_count": null,
      "metadata": {
        "colab": {
          "base_uri": "https://localhost:8080/"
        },
        "id": "U_6XVlBdLIxn",
        "outputId": "55ace2ef-de7d-43a1-872e-6af574d56959"
      },
      "outputs": [
        {
          "name": "stdout",
          "output_type": "stream",
          "text": [
            "fatal: destination path 'rag-tutorial-v2' already exists and is not an empty directory.\n",
            "fatal: destination path 'langchain-rag-tutorial' already exists and is not an empty directory.\n"
          ]
        }
      ],
      "source": [
        "!git clone https://github.com/pixegami/rag-tutorial-v2\n",
        "!git clone https://github.com/pixegami/langchain-rag-tutorial.git"
      ]
    },
    {
      "cell_type": "markdown",
      "metadata": {
        "id": "8DBVKobQLCt3"
      },
      "source": [
        "# Install Libraries"
      ]
    },
    {
      "cell_type": "code",
      "execution_count": null,
      "metadata": {
        "colab": {
          "base_uri": "https://localhost:8080/"
        },
        "id": "sBnqrFuNHv0V",
        "outputId": "05af164c-69e8-4cc2-8e48-97f8e2060018"
      },
      "outputs": [
        {
          "name": "stdout",
          "output_type": "stream",
          "text": [
            "Reading package lists... Done\n",
            "Building dependency tree... Done\n",
            "Reading state information... Done\n",
            "pciutils is already the newest version (1:3.7.0-6).\n",
            "0 upgraded, 0 newly installed, 0 to remove and 45 not upgraded.\n",
            ">>> Installing ollama to /usr/local\n",
            ">>> Downloading Linux amd64 CLI\n",
            "############################################################################################# 100.0%\n",
            ">>> Making ollama accessible in the PATH in /usr/local/bin\n",
            ">>> Adding ollama user to video group...\n",
            ">>> Adding current user to ollama group...\n",
            ">>> Creating ollama systemd service...\n",
            ">>> NVIDIA GPU installed.\n",
            ">>> The Ollama API is now available at 127.0.0.1:11434.\n",
            ">>> Install complete. Run \"ollama\" from the command line.\n"
          ]
        }
      ],
      "source": [
        "# Install necessary tools\n",
        "!sudo apt-get install -y pciutils\n",
        "# download ollama api\n",
        "!curl -fsSL https://ollama.com/install.sh | sh\n",
        "from IPython.display import clear_output"
      ]
    },
    {
      "cell_type": "code",
      "execution_count": null,
      "metadata": {
        "id": "TEUNG9msIQJz"
      },
      "outputs": [],
      "source": [
        "!ollama pull mistral\n",
        "clear_output()"
      ]
    },
    {
      "cell_type": "code",
      "execution_count": null,
      "metadata": {
        "colab": {
          "base_uri": "https://localhost:8080/"
        },
        "id": "IIBV5msqiqZy",
        "outputId": "37befa9d-026a-4b33-8605-01cb5fcc5a77"
      },
      "outputs": [
        {
          "name": "stdout",
          "output_type": "stream",
          "text": [
            "Requirement already satisfied: ollama in /usr/local/lib/python3.10/dist-packages (0.3.1)\n",
            "Requirement already satisfied: httpx<0.28.0,>=0.27.0 in /usr/local/lib/python3.10/dist-packages (from ollama) (0.27.0)\n",
            "Requirement already satisfied: anyio in /usr/local/lib/python3.10/dist-packages (from httpx<0.28.0,>=0.27.0->ollama) (3.7.1)\n",
            "Requirement already satisfied: certifi in /usr/local/lib/python3.10/dist-packages (from httpx<0.28.0,>=0.27.0->ollama) (2024.7.4)\n",
            "Requirement already satisfied: httpcore==1.* in /usr/local/lib/python3.10/dist-packages (from httpx<0.28.0,>=0.27.0->ollama) (1.0.5)\n",
            "Requirement already satisfied: idna in /usr/local/lib/python3.10/dist-packages (from httpx<0.28.0,>=0.27.0->ollama) (3.7)\n",
            "Requirement already satisfied: sniffio in /usr/local/lib/python3.10/dist-packages (from httpx<0.28.0,>=0.27.0->ollama) (1.3.1)\n",
            "Requirement already satisfied: h11<0.15,>=0.13 in /usr/local/lib/python3.10/dist-packages (from httpcore==1.*->httpx<0.28.0,>=0.27.0->ollama) (0.14.0)\n",
            "Requirement already satisfied: exceptiongroup in /usr/local/lib/python3.10/dist-packages (from anyio->httpx<0.28.0,>=0.27.0->ollama) (1.2.2)\n"
          ]
        }
      ],
      "source": [
        "!pip install ollama"
      ]
    },
    {
      "cell_type": "code",
      "execution_count": null,
      "metadata": {
        "colab": {
          "base_uri": "https://localhost:8080/"
        },
        "id": "8V9LuZY5O46G",
        "outputId": "969087f2-5b84-4c39-b090-c8089701646b"
      },
      "outputs": [
        {
          "name": "stdout",
          "output_type": "stream",
          "text": [
            "Requirement already satisfied: marker-pdf in /usr/local/lib/python3.10/dist-packages (0.2.17)\n",
            "Requirement already satisfied: Pillow<11.0.0,>=10.1.0 in /usr/local/lib/python3.10/dist-packages (from marker-pdf) (10.4.0)\n",
            "Requirement already satisfied: filetype<2.0.0,>=1.2.0 in /usr/local/lib/python3.10/dist-packages (from marker-pdf) (1.2.0)\n",
            "Requirement already satisfied: ftfy<7.0.0,>=6.1.1 in /usr/local/lib/python3.10/dist-packages (from marker-pdf) (6.2.3)\n",
            "Requirement already satisfied: grpcio<2.0.0,>=1.63.0 in /usr/local/lib/python3.10/dist-packages (from marker-pdf) (1.64.1)\n",
            "Requirement already satisfied: numpy<2.0.0,>=1.26.1 in /usr/local/lib/python3.10/dist-packages (from marker-pdf) (1.26.4)\n",
            "Requirement already satisfied: pdftext<0.4.0,>=0.3.10 in /usr/local/lib/python3.10/dist-packages (from marker-pdf) (0.3.10)\n",
            "Requirement already satisfied: pydantic<3.0.0,>=2.4.2 in /usr/local/lib/python3.10/dist-packages (from marker-pdf) (2.8.2)\n",
            "Requirement already satisfied: pydantic-settings<3.0.0,>=2.0.3 in /usr/local/lib/python3.10/dist-packages (from marker-pdf) (2.4.0)\n",
            "Requirement already satisfied: python-dotenv<2.0.0,>=1.0.0 in /usr/local/lib/python3.10/dist-packages (from marker-pdf) (1.0.1)\n",
            "Requirement already satisfied: rapidfuzz<4.0.0,>=3.8.1 in /usr/local/lib/python3.10/dist-packages (from marker-pdf) (3.9.6)\n",
            "Requirement already satisfied: regex<2025.0.0,>=2024.4.28 in /usr/local/lib/python3.10/dist-packages (from marker-pdf) (2024.5.15)\n",
            "Requirement already satisfied: scikit-learn<=1.4.2,>=1.3.2 in /usr/local/lib/python3.10/dist-packages (from marker-pdf) (1.4.2)\n",
            "Requirement already satisfied: surya-ocr<0.6.0,>=0.5.0 in /usr/local/lib/python3.10/dist-packages (from marker-pdf) (0.5.0)\n",
            "Requirement already satisfied: tabulate<0.10.0,>=0.9.0 in /usr/local/lib/python3.10/dist-packages (from marker-pdf) (0.9.0)\n",
            "Requirement already satisfied: texify<0.2.0,>=0.1.10 in /usr/local/lib/python3.10/dist-packages (from marker-pdf) (0.1.10)\n",
            "Requirement already satisfied: torch<3.0.0,>=2.2.2 in /usr/local/lib/python3.10/dist-packages (from marker-pdf) (2.3.1+cu121)\n",
            "Requirement already satisfied: tqdm<5.0.0,>=4.66.1 in /usr/local/lib/python3.10/dist-packages (from marker-pdf) (4.66.5)\n",
            "Requirement already satisfied: transformers<5.0.0,>=4.36.2 in /usr/local/lib/python3.10/dist-packages (from marker-pdf) (4.42.4)\n",
            "Requirement already satisfied: wcwidth<0.3.0,>=0.2.12 in /usr/local/lib/python3.10/dist-packages (from ftfy<7.0.0,>=6.1.1->marker-pdf) (0.2.13)\n",
            "Requirement already satisfied: pypdfium2<5.0.0,>=4.29.0 in /usr/local/lib/python3.10/dist-packages (from pdftext<0.4.0,>=0.3.10->marker-pdf) (4.30.0)\n",
            "Requirement already satisfied: annotated-types>=0.4.0 in /usr/local/lib/python3.10/dist-packages (from pydantic<3.0.0,>=2.4.2->marker-pdf) (0.7.0)\n",
            "Requirement already satisfied: pydantic-core==2.20.1 in /usr/local/lib/python3.10/dist-packages (from pydantic<3.0.0,>=2.4.2->marker-pdf) (2.20.1)\n",
            "Requirement already satisfied: typing-extensions>=4.6.1 in /usr/local/lib/python3.10/dist-packages (from pydantic<3.0.0,>=2.4.2->marker-pdf) (4.12.2)\n",
            "Requirement already satisfied: scipy>=1.6.0 in /usr/local/lib/python3.10/dist-packages (from scikit-learn<=1.4.2,>=1.3.2->marker-pdf) (1.13.1)\n",
            "Requirement already satisfied: joblib>=1.2.0 in /usr/local/lib/python3.10/dist-packages (from scikit-learn<=1.4.2,>=1.3.2->marker-pdf) (1.4.2)\n",
            "Requirement already satisfied: threadpoolctl>=2.0.0 in /usr/local/lib/python3.10/dist-packages (from scikit-learn<=1.4.2,>=1.3.2->marker-pdf) (3.5.0)\n",
            "Requirement already satisfied: opencv-python<5.0.0.0,>=4.9.0.80 in /usr/local/lib/python3.10/dist-packages (from surya-ocr<0.6.0,>=0.5.0->marker-pdf) (4.10.0.84)\n",
            "Requirement already satisfied: filelock in /usr/local/lib/python3.10/dist-packages (from torch<3.0.0,>=2.2.2->marker-pdf) (3.15.4)\n",
            "Requirement already satisfied: sympy in /usr/local/lib/python3.10/dist-packages (from torch<3.0.0,>=2.2.2->marker-pdf) (1.13.2)\n",
            "Requirement already satisfied: networkx in /usr/local/lib/python3.10/dist-packages (from torch<3.0.0,>=2.2.2->marker-pdf) (3.3)\n",
            "Requirement already satisfied: jinja2 in /usr/local/lib/python3.10/dist-packages (from torch<3.0.0,>=2.2.2->marker-pdf) (3.1.4)\n",
            "Requirement already satisfied: fsspec in /usr/local/lib/python3.10/dist-packages (from torch<3.0.0,>=2.2.2->marker-pdf) (2024.6.1)\n",
            "Requirement already satisfied: nvidia-cuda-nvrtc-cu12==12.1.105 in /usr/local/lib/python3.10/dist-packages (from torch<3.0.0,>=2.2.2->marker-pdf) (12.1.105)\n",
            "Requirement already satisfied: nvidia-cuda-runtime-cu12==12.1.105 in /usr/local/lib/python3.10/dist-packages (from torch<3.0.0,>=2.2.2->marker-pdf) (12.1.105)\n",
            "Requirement already satisfied: nvidia-cuda-cupti-cu12==12.1.105 in /usr/local/lib/python3.10/dist-packages (from torch<3.0.0,>=2.2.2->marker-pdf) (12.1.105)\n",
            "Requirement already satisfied: nvidia-cudnn-cu12==8.9.2.26 in /usr/local/lib/python3.10/dist-packages (from torch<3.0.0,>=2.2.2->marker-pdf) (8.9.2.26)\n",
            "Requirement already satisfied: nvidia-cublas-cu12==12.1.3.1 in /usr/local/lib/python3.10/dist-packages (from torch<3.0.0,>=2.2.2->marker-pdf) (12.1.3.1)\n",
            "Requirement already satisfied: nvidia-cufft-cu12==11.0.2.54 in /usr/local/lib/python3.10/dist-packages (from torch<3.0.0,>=2.2.2->marker-pdf) (11.0.2.54)\n",
            "Requirement already satisfied: nvidia-curand-cu12==10.3.2.106 in /usr/local/lib/python3.10/dist-packages (from torch<3.0.0,>=2.2.2->marker-pdf) (10.3.2.106)\n",
            "Requirement already satisfied: nvidia-cusolver-cu12==11.4.5.107 in /usr/local/lib/python3.10/dist-packages (from torch<3.0.0,>=2.2.2->marker-pdf) (11.4.5.107)\n",
            "Requirement already satisfied: nvidia-cusparse-cu12==12.1.0.106 in /usr/local/lib/python3.10/dist-packages (from torch<3.0.0,>=2.2.2->marker-pdf) (12.1.0.106)\n",
            "Requirement already satisfied: nvidia-nccl-cu12==2.20.5 in /usr/local/lib/python3.10/dist-packages (from torch<3.0.0,>=2.2.2->marker-pdf) (2.20.5)\n",
            "Requirement already satisfied: nvidia-nvtx-cu12==12.1.105 in /usr/local/lib/python3.10/dist-packages (from torch<3.0.0,>=2.2.2->marker-pdf) (12.1.105)\n",
            "Requirement already satisfied: triton==2.3.1 in /usr/local/lib/python3.10/dist-packages (from torch<3.0.0,>=2.2.2->marker-pdf) (2.3.1)\n",
            "Requirement already satisfied: nvidia-nvjitlink-cu12 in /usr/local/lib/python3.10/dist-packages (from nvidia-cusolver-cu12==11.4.5.107->torch<3.0.0,>=2.2.2->marker-pdf) (12.6.20)\n",
            "Requirement already satisfied: huggingface-hub<1.0,>=0.23.2 in /usr/local/lib/python3.10/dist-packages (from transformers<5.0.0,>=4.36.2->marker-pdf) (0.23.5)\n",
            "Requirement already satisfied: packaging>=20.0 in /usr/local/lib/python3.10/dist-packages (from transformers<5.0.0,>=4.36.2->marker-pdf) (24.1)\n",
            "Requirement already satisfied: pyyaml>=5.1 in /usr/local/lib/python3.10/dist-packages (from transformers<5.0.0,>=4.36.2->marker-pdf) (6.0.2)\n",
            "Requirement already satisfied: requests in /usr/local/lib/python3.10/dist-packages (from transformers<5.0.0,>=4.36.2->marker-pdf) (2.32.3)\n",
            "Requirement already satisfied: safetensors>=0.4.1 in /usr/local/lib/python3.10/dist-packages (from transformers<5.0.0,>=4.36.2->marker-pdf) (0.4.4)\n",
            "Requirement already satisfied: tokenizers<0.20,>=0.19 in /usr/local/lib/python3.10/dist-packages (from transformers<5.0.0,>=4.36.2->marker-pdf) (0.19.1)\n",
            "Requirement already satisfied: MarkupSafe>=2.0 in /usr/local/lib/python3.10/dist-packages (from jinja2->torch<3.0.0,>=2.2.2->marker-pdf) (2.1.5)\n",
            "Requirement already satisfied: charset-normalizer<4,>=2 in /usr/local/lib/python3.10/dist-packages (from requests->transformers<5.0.0,>=4.36.2->marker-pdf) (3.3.2)\n",
            "Requirement already satisfied: idna<4,>=2.5 in /usr/local/lib/python3.10/dist-packages (from requests->transformers<5.0.0,>=4.36.2->marker-pdf) (3.7)\n",
            "Requirement already satisfied: urllib3<3,>=1.21.1 in /usr/local/lib/python3.10/dist-packages (from requests->transformers<5.0.0,>=4.36.2->marker-pdf) (2.0.7)\n",
            "Requirement already satisfied: certifi>=2017.4.17 in /usr/local/lib/python3.10/dist-packages (from requests->transformers<5.0.0,>=4.36.2->marker-pdf) (2024.7.4)\n",
            "Requirement already satisfied: mpmath<1.4,>=1.1.0 in /usr/local/lib/python3.10/dist-packages (from sympy->torch<3.0.0,>=2.2.2->marker-pdf) (1.3.0)\n"
          ]
        }
      ],
      "source": [
        "!pip install marker-pdf"
      ]
    },
    {
      "cell_type": "code",
      "execution_count": null,
      "metadata": {
        "colab": {
          "base_uri": "https://localhost:8080/"
        },
        "id": "V095t5y4Ld_n",
        "outputId": "c40911d5-6151-4a5c-a6b4-d4f3632caa8d"
      },
      "outputs": [
        {
          "name": "stdout",
          "output_type": "stream",
          "text": [
            "Requirement already satisfied: python-dotenv==1.0.1 in /usr/local/lib/python3.10/dist-packages (from -r /content/langchain-rag-tutorial/requirements.txt (line 1)) (1.0.1)\n",
            "Collecting langchain==0.2.2 (from -r /content/langchain-rag-tutorial/requirements.txt (line 2))\n",
            "  Using cached langchain-0.2.2-py3-none-any.whl.metadata (13 kB)\n",
            "Collecting langchain-community==0.2.3 (from -r /content/langchain-rag-tutorial/requirements.txt (line 3))\n",
            "  Using cached langchain_community-0.2.3-py3-none-any.whl.metadata (9.0 kB)\n",
            "Collecting langchain-openai==0.1.8 (from -r /content/langchain-rag-tutorial/requirements.txt (line 4))\n",
            "  Using cached langchain_openai-0.1.8-py3-none-any.whl.metadata (2.5 kB)\n",
            "Collecting unstructured==0.14.4 (from -r /content/langchain-rag-tutorial/requirements.txt (line 5))\n",
            "  Using cached unstructured-0.14.4-py3-none-any.whl.metadata (28 kB)\n",
            "Collecting chromadb==0.5.0 (from -r /content/langchain-rag-tutorial/requirements.txt (line 9))\n",
            "  Using cached chromadb-0.5.0-py3-none-any.whl.metadata (7.3 kB)\n",
            "Collecting openai==1.31.1 (from -r /content/langchain-rag-tutorial/requirements.txt (line 10))\n",
            "  Using cached openai-1.31.1-py3-none-any.whl.metadata (21 kB)\n",
            "Collecting tiktoken==0.7.0 (from -r /content/langchain-rag-tutorial/requirements.txt (line 11))\n",
            "  Using cached tiktoken-0.7.0-cp310-cp310-manylinux_2_17_x86_64.manylinux2014_x86_64.whl.metadata (6.6 kB)\n",
            "Requirement already satisfied: PyYAML>=5.3 in /usr/local/lib/python3.10/dist-packages (from langchain==0.2.2->-r /content/langchain-rag-tutorial/requirements.txt (line 2)) (6.0.2)\n",
            "Requirement already satisfied: SQLAlchemy<3,>=1.4 in /usr/local/lib/python3.10/dist-packages (from langchain==0.2.2->-r /content/langchain-rag-tutorial/requirements.txt (line 2)) (2.0.32)\n",
            "Requirement already satisfied: aiohttp<4.0.0,>=3.8.3 in /usr/local/lib/python3.10/dist-packages (from langchain==0.2.2->-r /content/langchain-rag-tutorial/requirements.txt (line 2)) (3.10.5)\n",
            "Requirement already satisfied: async-timeout<5.0.0,>=4.0.0 in /usr/local/lib/python3.10/dist-packages (from langchain==0.2.2->-r /content/langchain-rag-tutorial/requirements.txt (line 2)) (4.0.3)\n",
            "Collecting langchain-core<0.3.0,>=0.2.0 (from langchain==0.2.2->-r /content/langchain-rag-tutorial/requirements.txt (line 2))\n",
            "  Using cached langchain_core-0.2.35-py3-none-any.whl.metadata (6.2 kB)\n",
            "Collecting langchain-text-splitters<0.3.0,>=0.2.0 (from langchain==0.2.2->-r /content/langchain-rag-tutorial/requirements.txt (line 2))\n",
            "  Using cached langchain_text_splitters-0.2.2-py3-none-any.whl.metadata (2.1 kB)\n",
            "Collecting langsmith<0.2.0,>=0.1.17 (from langchain==0.2.2->-r /content/langchain-rag-tutorial/requirements.txt (line 2))\n",
            "  Using cached langsmith-0.1.104-py3-none-any.whl.metadata (13 kB)\n",
            "Requirement already satisfied: numpy<2,>=1 in /usr/local/lib/python3.10/dist-packages (from langchain==0.2.2->-r /content/langchain-rag-tutorial/requirements.txt (line 2)) (1.26.4)\n",
            "Requirement already satisfied: pydantic<3,>=1 in /usr/local/lib/python3.10/dist-packages (from langchain==0.2.2->-r /content/langchain-rag-tutorial/requirements.txt (line 2)) (2.8.2)\n",
            "Requirement already satisfied: requests<3,>=2 in /usr/local/lib/python3.10/dist-packages (from langchain==0.2.2->-r /content/langchain-rag-tutorial/requirements.txt (line 2)) (2.32.3)\n",
            "Collecting tenacity<9.0.0,>=8.1.0 (from langchain==0.2.2->-r /content/langchain-rag-tutorial/requirements.txt (line 2))\n",
            "  Using cached tenacity-8.5.0-py3-none-any.whl.metadata (1.2 kB)\n",
            "Collecting dataclasses-json<0.7,>=0.5.7 (from langchain-community==0.2.3->-r /content/langchain-rag-tutorial/requirements.txt (line 3))\n",
            "  Using cached dataclasses_json-0.6.7-py3-none-any.whl.metadata (25 kB)\n",
            "Requirement already satisfied: chardet in /usr/local/lib/python3.10/dist-packages (from unstructured==0.14.4->-r /content/langchain-rag-tutorial/requirements.txt (line 5)) (5.2.0)\n",
            "Requirement already satisfied: filetype in /usr/local/lib/python3.10/dist-packages (from unstructured==0.14.4->-r /content/langchain-rag-tutorial/requirements.txt (line 5)) (1.2.0)\n",
            "Collecting python-magic (from unstructured==0.14.4->-r /content/langchain-rag-tutorial/requirements.txt (line 5))\n",
            "  Using cached python_magic-0.4.27-py2.py3-none-any.whl.metadata (5.8 kB)\n",
            "Requirement already satisfied: lxml in /usr/local/lib/python3.10/dist-packages (from unstructured==0.14.4->-r /content/langchain-rag-tutorial/requirements.txt (line 5)) (4.9.4)\n",
            "Requirement already satisfied: nltk in /usr/local/lib/python3.10/dist-packages (from unstructured==0.14.4->-r /content/langchain-rag-tutorial/requirements.txt (line 5)) (3.8.1)\n",
            "Requirement already satisfied: tabulate in /usr/local/lib/python3.10/dist-packages (from unstructured==0.14.4->-r /content/langchain-rag-tutorial/requirements.txt (line 5)) (0.9.0)\n",
            "Requirement already satisfied: beautifulsoup4 in /usr/local/lib/python3.10/dist-packages (from unstructured==0.14.4->-r /content/langchain-rag-tutorial/requirements.txt (line 5)) (4.12.3)\n",
            "Collecting emoji (from unstructured==0.14.4->-r /content/langchain-rag-tutorial/requirements.txt (line 5))\n",
            "  Using cached emoji-2.12.1-py3-none-any.whl.metadata (5.4 kB)\n",
            "Collecting python-iso639 (from unstructured==0.14.4->-r /content/langchain-rag-tutorial/requirements.txt (line 5))\n",
            "  Using cached python_iso639-2024.4.27-py3-none-any.whl.metadata (13 kB)\n",
            "Collecting langdetect (from unstructured==0.14.4->-r /content/langchain-rag-tutorial/requirements.txt (line 5))\n",
            "  Using cached langdetect-1.0.9.tar.gz (981 kB)\n",
            "  Preparing metadata (setup.py) ... \u001b[?25l\u001b[?25hdone\n",
            "Requirement already satisfied: rapidfuzz in /usr/local/lib/python3.10/dist-packages (from unstructured==0.14.4->-r /content/langchain-rag-tutorial/requirements.txt (line 5)) (3.9.6)\n",
            "Collecting backoff (from unstructured==0.14.4->-r /content/langchain-rag-tutorial/requirements.txt (line 5))\n",
            "  Using cached backoff-2.2.1-py3-none-any.whl.metadata (14 kB)\n",
            "Requirement already satisfied: typing-extensions in /usr/local/lib/python3.10/dist-packages (from unstructured==0.14.4->-r /content/langchain-rag-tutorial/requirements.txt (line 5)) (4.12.2)\n",
            "Collecting unstructured-client (from unstructured==0.14.4->-r /content/langchain-rag-tutorial/requirements.txt (line 5))\n",
            "  Using cached unstructured_client-0.25.5-py3-none-any.whl.metadata (13 kB)\n",
            "Requirement already satisfied: wrapt in /usr/local/lib/python3.10/dist-packages (from unstructured==0.14.4->-r /content/langchain-rag-tutorial/requirements.txt (line 5)) (1.16.0)\n",
            "Requirement already satisfied: build>=1.0.3 in /usr/local/lib/python3.10/dist-packages (from chromadb==0.5.0->-r /content/langchain-rag-tutorial/requirements.txt (line 9)) (1.2.1)\n",
            "Collecting chroma-hnswlib==0.7.3 (from chromadb==0.5.0->-r /content/langchain-rag-tutorial/requirements.txt (line 9))\n",
            "  Using cached chroma_hnswlib-0.7.3-cp310-cp310-manylinux_2_17_x86_64.manylinux2014_x86_64.whl.metadata (252 bytes)\n",
            "Collecting fastapi>=0.95.2 (from chromadb==0.5.0->-r /content/langchain-rag-tutorial/requirements.txt (line 9))\n",
            "  Using cached fastapi-0.112.2-py3-none-any.whl.metadata (27 kB)\n",
            "Collecting uvicorn>=0.18.3 (from uvicorn[standard]>=0.18.3->chromadb==0.5.0->-r /content/langchain-rag-tutorial/requirements.txt (line 9))\n",
            "  Using cached uvicorn-0.30.6-py3-none-any.whl.metadata (6.6 kB)\n",
            "Collecting posthog>=2.4.0 (from chromadb==0.5.0->-r /content/langchain-rag-tutorial/requirements.txt (line 9))\n",
            "  Using cached posthog-3.5.2-py2.py3-none-any.whl.metadata (2.0 kB)\n",
            "Collecting onnxruntime>=1.14.1 (from chromadb==0.5.0->-r /content/langchain-rag-tutorial/requirements.txt (line 9))\n",
            "  Using cached onnxruntime-1.19.0-cp310-cp310-manylinux_2_27_x86_64.manylinux_2_28_x86_64.whl.metadata (4.3 kB)\n",
            "Collecting opentelemetry-api>=1.2.0 (from chromadb==0.5.0->-r /content/langchain-rag-tutorial/requirements.txt (line 9))\n",
            "  Using cached opentelemetry_api-1.26.0-py3-none-any.whl.metadata (1.4 kB)\n",
            "Collecting opentelemetry-exporter-otlp-proto-grpc>=1.2.0 (from chromadb==0.5.0->-r /content/langchain-rag-tutorial/requirements.txt (line 9))\n",
            "  Using cached opentelemetry_exporter_otlp_proto_grpc-1.26.0-py3-none-any.whl.metadata (2.3 kB)\n",
            "Collecting opentelemetry-instrumentation-fastapi>=0.41b0 (from chromadb==0.5.0->-r /content/langchain-rag-tutorial/requirements.txt (line 9))\n",
            "  Using cached opentelemetry_instrumentation_fastapi-0.47b0-py3-none-any.whl.metadata (2.1 kB)\n",
            "Collecting opentelemetry-sdk>=1.2.0 (from chromadb==0.5.0->-r /content/langchain-rag-tutorial/requirements.txt (line 9))\n",
            "  Using cached opentelemetry_sdk-1.26.0-py3-none-any.whl.metadata (1.5 kB)\n",
            "Requirement already satisfied: tokenizers>=0.13.2 in /usr/local/lib/python3.10/dist-packages (from chromadb==0.5.0->-r /content/langchain-rag-tutorial/requirements.txt (line 9)) (0.19.1)\n",
            "Collecting pypika>=0.48.9 (from chromadb==0.5.0->-r /content/langchain-rag-tutorial/requirements.txt (line 9))\n",
            "  Using cached PyPika-0.48.9.tar.gz (67 kB)\n",
            "  Installing build dependencies ... \u001b[?25l\u001b[?25hdone\n",
            "  Getting requirements to build wheel ... \u001b[?25l\u001b[?25hdone\n",
            "  Preparing metadata (pyproject.toml) ... \u001b[?25l\u001b[?25hdone\n",
            "Requirement already satisfied: tqdm>=4.65.0 in /usr/local/lib/python3.10/dist-packages (from chromadb==0.5.0->-r /content/langchain-rag-tutorial/requirements.txt (line 9)) (4.66.5)\n",
            "Collecting overrides>=7.3.1 (from chromadb==0.5.0->-r /content/langchain-rag-tutorial/requirements.txt (line 9))\n",
            "  Using cached overrides-7.7.0-py3-none-any.whl.metadata (5.8 kB)\n",
            "Requirement already satisfied: importlib-resources in /usr/local/lib/python3.10/dist-packages (from chromadb==0.5.0->-r /content/langchain-rag-tutorial/requirements.txt (line 9)) (6.4.3)\n",
            "Requirement already satisfied: grpcio>=1.58.0 in /usr/local/lib/python3.10/dist-packages (from chromadb==0.5.0->-r /content/langchain-rag-tutorial/requirements.txt (line 9)) (1.64.1)\n",
            "Collecting bcrypt>=4.0.1 (from chromadb==0.5.0->-r /content/langchain-rag-tutorial/requirements.txt (line 9))\n",
            "  Using cached bcrypt-4.2.0-cp39-abi3-manylinux_2_28_x86_64.whl.metadata (9.6 kB)\n",
            "Requirement already satisfied: typer>=0.9.0 in /usr/local/lib/python3.10/dist-packages (from chromadb==0.5.0->-r /content/langchain-rag-tutorial/requirements.txt (line 9)) (0.12.4)\n",
            "Collecting kubernetes>=28.1.0 (from chromadb==0.5.0->-r /content/langchain-rag-tutorial/requirements.txt (line 9))\n",
            "  Using cached kubernetes-30.1.0-py2.py3-none-any.whl.metadata (1.5 kB)\n",
            "Collecting mmh3>=4.0.1 (from chromadb==0.5.0->-r /content/langchain-rag-tutorial/requirements.txt (line 9))\n",
            "  Using cached mmh3-4.1.0-cp310-cp310-manylinux_2_5_x86_64.manylinux1_x86_64.manylinux_2_17_x86_64.manylinux2014_x86_64.whl.metadata (13 kB)\n",
            "Collecting orjson>=3.9.12 (from chromadb==0.5.0->-r /content/langchain-rag-tutorial/requirements.txt (line 9))\n",
            "  Using cached orjson-3.10.7-cp310-cp310-manylinux_2_17_x86_64.manylinux2014_x86_64.whl.metadata (50 kB)\n",
            "Requirement already satisfied: anyio<5,>=3.5.0 in /usr/local/lib/python3.10/dist-packages (from openai==1.31.1->-r /content/langchain-rag-tutorial/requirements.txt (line 10)) (3.7.1)\n",
            "Requirement already satisfied: distro<2,>=1.7.0 in /usr/lib/python3/dist-packages (from openai==1.31.1->-r /content/langchain-rag-tutorial/requirements.txt (line 10)) (1.7.0)\n",
            "Requirement already satisfied: httpx<1,>=0.23.0 in /usr/local/lib/python3.10/dist-packages (from openai==1.31.1->-r /content/langchain-rag-tutorial/requirements.txt (line 10)) (0.27.0)\n",
            "Requirement already satisfied: sniffio in /usr/local/lib/python3.10/dist-packages (from openai==1.31.1->-r /content/langchain-rag-tutorial/requirements.txt (line 10)) (1.3.1)\n",
            "Requirement already satisfied: regex>=2022.1.18 in /usr/local/lib/python3.10/dist-packages (from tiktoken==0.7.0->-r /content/langchain-rag-tutorial/requirements.txt (line 11)) (2024.5.15)\n",
            "Requirement already satisfied: aiohappyeyeballs>=2.3.0 in /usr/local/lib/python3.10/dist-packages (from aiohttp<4.0.0,>=3.8.3->langchain==0.2.2->-r /content/langchain-rag-tutorial/requirements.txt (line 2)) (2.4.0)\n",
            "Requirement already satisfied: aiosignal>=1.1.2 in /usr/local/lib/python3.10/dist-packages (from aiohttp<4.0.0,>=3.8.3->langchain==0.2.2->-r /content/langchain-rag-tutorial/requirements.txt (line 2)) (1.3.1)\n",
            "Requirement already satisfied: attrs>=17.3.0 in /usr/local/lib/python3.10/dist-packages (from aiohttp<4.0.0,>=3.8.3->langchain==0.2.2->-r /content/langchain-rag-tutorial/requirements.txt (line 2)) (24.2.0)\n",
            "Requirement already satisfied: frozenlist>=1.1.1 in /usr/local/lib/python3.10/dist-packages (from aiohttp<4.0.0,>=3.8.3->langchain==0.2.2->-r /content/langchain-rag-tutorial/requirements.txt (line 2)) (1.4.1)\n",
            "Requirement already satisfied: multidict<7.0,>=4.5 in /usr/local/lib/python3.10/dist-packages (from aiohttp<4.0.0,>=3.8.3->langchain==0.2.2->-r /content/langchain-rag-tutorial/requirements.txt (line 2)) (6.0.5)\n",
            "Requirement already satisfied: yarl<2.0,>=1.0 in /usr/local/lib/python3.10/dist-packages (from aiohttp<4.0.0,>=3.8.3->langchain==0.2.2->-r /content/langchain-rag-tutorial/requirements.txt (line 2)) (1.9.4)\n",
            "Requirement already satisfied: idna>=2.8 in /usr/local/lib/python3.10/dist-packages (from anyio<5,>=3.5.0->openai==1.31.1->-r /content/langchain-rag-tutorial/requirements.txt (line 10)) (3.7)\n",
            "Requirement already satisfied: exceptiongroup in /usr/local/lib/python3.10/dist-packages (from anyio<5,>=3.5.0->openai==1.31.1->-r /content/langchain-rag-tutorial/requirements.txt (line 10)) (1.2.2)\n",
            "Requirement already satisfied: packaging>=19.1 in /usr/local/lib/python3.10/dist-packages (from build>=1.0.3->chromadb==0.5.0->-r /content/langchain-rag-tutorial/requirements.txt (line 9)) (24.1)\n",
            "Requirement already satisfied: pyproject_hooks in /usr/local/lib/python3.10/dist-packages (from build>=1.0.3->chromadb==0.5.0->-r /content/langchain-rag-tutorial/requirements.txt (line 9)) (1.1.0)\n",
            "Requirement already satisfied: tomli>=1.1.0 in /usr/local/lib/python3.10/dist-packages (from build>=1.0.3->chromadb==0.5.0->-r /content/langchain-rag-tutorial/requirements.txt (line 9)) (2.0.1)\n",
            "Collecting marshmallow<4.0.0,>=3.18.0 (from dataclasses-json<0.7,>=0.5.7->langchain-community==0.2.3->-r /content/langchain-rag-tutorial/requirements.txt (line 3))\n",
            "  Downloading marshmallow-3.22.0-py3-none-any.whl.metadata (7.2 kB)\n",
            "Collecting typing-inspect<1,>=0.4.0 (from dataclasses-json<0.7,>=0.5.7->langchain-community==0.2.3->-r /content/langchain-rag-tutorial/requirements.txt (line 3))\n",
            "  Downloading typing_inspect-0.9.0-py3-none-any.whl.metadata (1.5 kB)\n",
            "Collecting starlette<0.39.0,>=0.37.2 (from fastapi>=0.95.2->chromadb==0.5.0->-r /content/langchain-rag-tutorial/requirements.txt (line 9))\n",
            "  Downloading starlette-0.38.2-py3-none-any.whl.metadata (5.9 kB)\n",
            "Requirement already satisfied: certifi in /usr/local/lib/python3.10/dist-packages (from httpx<1,>=0.23.0->openai==1.31.1->-r /content/langchain-rag-tutorial/requirements.txt (line 10)) (2024.7.4)\n",
            "Requirement already satisfied: httpcore==1.* in /usr/local/lib/python3.10/dist-packages (from httpx<1,>=0.23.0->openai==1.31.1->-r /content/langchain-rag-tutorial/requirements.txt (line 10)) (1.0.5)\n",
            "Requirement already satisfied: h11<0.15,>=0.13 in /usr/local/lib/python3.10/dist-packages (from httpcore==1.*->httpx<1,>=0.23.0->openai==1.31.1->-r /content/langchain-rag-tutorial/requirements.txt (line 10)) (0.14.0)\n",
            "Requirement already satisfied: six>=1.9.0 in /usr/local/lib/python3.10/dist-packages (from kubernetes>=28.1.0->chromadb==0.5.0->-r /content/langchain-rag-tutorial/requirements.txt (line 9)) (1.16.0)\n",
            "Requirement already satisfied: python-dateutil>=2.5.3 in /usr/local/lib/python3.10/dist-packages (from kubernetes>=28.1.0->chromadb==0.5.0->-r /content/langchain-rag-tutorial/requirements.txt (line 9)) (2.8.2)\n",
            "Requirement already satisfied: google-auth>=1.0.1 in /usr/local/lib/python3.10/dist-packages (from kubernetes>=28.1.0->chromadb==0.5.0->-r /content/langchain-rag-tutorial/requirements.txt (line 9)) (2.27.0)\n",
            "Requirement already satisfied: websocket-client!=0.40.0,!=0.41.*,!=0.42.*,>=0.32.0 in /usr/local/lib/python3.10/dist-packages (from kubernetes>=28.1.0->chromadb==0.5.0->-r /content/langchain-rag-tutorial/requirements.txt (line 9)) (1.8.0)\n",
            "Requirement already satisfied: requests-oauthlib in /usr/local/lib/python3.10/dist-packages (from kubernetes>=28.1.0->chromadb==0.5.0->-r /content/langchain-rag-tutorial/requirements.txt (line 9)) (1.3.1)\n",
            "Requirement already satisfied: oauthlib>=3.2.2 in /usr/local/lib/python3.10/dist-packages (from kubernetes>=28.1.0->chromadb==0.5.0->-r /content/langchain-rag-tutorial/requirements.txt (line 9)) (3.2.2)\n",
            "Requirement already satisfied: urllib3>=1.24.2 in /usr/local/lib/python3.10/dist-packages (from kubernetes>=28.1.0->chromadb==0.5.0->-r /content/langchain-rag-tutorial/requirements.txt (line 9)) (2.0.7)\n",
            "Collecting jsonpatch<2.0,>=1.33 (from langchain-core<0.3.0,>=0.2.0->langchain==0.2.2->-r /content/langchain-rag-tutorial/requirements.txt (line 2))\n",
            "  Downloading jsonpatch-1.33-py2.py3-none-any.whl.metadata (3.0 kB)\n",
            "Collecting coloredlogs (from onnxruntime>=1.14.1->chromadb==0.5.0->-r /content/langchain-rag-tutorial/requirements.txt (line 9))\n",
            "  Downloading coloredlogs-15.0.1-py2.py3-none-any.whl.metadata (12 kB)\n",
            "Requirement already satisfied: flatbuffers in /usr/local/lib/python3.10/dist-packages (from onnxruntime>=1.14.1->chromadb==0.5.0->-r /content/langchain-rag-tutorial/requirements.txt (line 9)) (24.3.25)\n",
            "Requirement already satisfied: protobuf in /usr/local/lib/python3.10/dist-packages (from onnxruntime>=1.14.1->chromadb==0.5.0->-r /content/langchain-rag-tutorial/requirements.txt (line 9)) (3.20.3)\n",
            "Requirement already satisfied: sympy in /usr/local/lib/python3.10/dist-packages (from onnxruntime>=1.14.1->chromadb==0.5.0->-r /content/langchain-rag-tutorial/requirements.txt (line 9)) (1.13.2)\n",
            "Collecting deprecated>=1.2.6 (from opentelemetry-api>=1.2.0->chromadb==0.5.0->-r /content/langchain-rag-tutorial/requirements.txt (line 9))\n",
            "  Downloading Deprecated-1.2.14-py2.py3-none-any.whl.metadata (5.4 kB)\n",
            "Collecting importlib-metadata<=8.0.0,>=6.0 (from opentelemetry-api>=1.2.0->chromadb==0.5.0->-r /content/langchain-rag-tutorial/requirements.txt (line 9))\n",
            "  Downloading importlib_metadata-8.0.0-py3-none-any.whl.metadata (4.6 kB)\n",
            "Requirement already satisfied: googleapis-common-protos~=1.52 in /usr/local/lib/python3.10/dist-packages (from opentelemetry-exporter-otlp-proto-grpc>=1.2.0->chromadb==0.5.0->-r /content/langchain-rag-tutorial/requirements.txt (line 9)) (1.63.2)\n",
            "Collecting opentelemetry-exporter-otlp-proto-common==1.26.0 (from opentelemetry-exporter-otlp-proto-grpc>=1.2.0->chromadb==0.5.0->-r /content/langchain-rag-tutorial/requirements.txt (line 9))\n",
            "  Downloading opentelemetry_exporter_otlp_proto_common-1.26.0-py3-none-any.whl.metadata (1.8 kB)\n",
            "Collecting opentelemetry-proto==1.26.0 (from opentelemetry-exporter-otlp-proto-grpc>=1.2.0->chromadb==0.5.0->-r /content/langchain-rag-tutorial/requirements.txt (line 9))\n",
            "  Downloading opentelemetry_proto-1.26.0-py3-none-any.whl.metadata (2.3 kB)\n",
            "Collecting opentelemetry-instrumentation-asgi==0.47b0 (from opentelemetry-instrumentation-fastapi>=0.41b0->chromadb==0.5.0->-r /content/langchain-rag-tutorial/requirements.txt (line 9))\n",
            "  Downloading opentelemetry_instrumentation_asgi-0.47b0-py3-none-any.whl.metadata (2.0 kB)\n",
            "Collecting opentelemetry-instrumentation==0.47b0 (from opentelemetry-instrumentation-fastapi>=0.41b0->chromadb==0.5.0->-r /content/langchain-rag-tutorial/requirements.txt (line 9))\n",
            "  Downloading opentelemetry_instrumentation-0.47b0-py3-none-any.whl.metadata (6.1 kB)\n",
            "Collecting opentelemetry-semantic-conventions==0.47b0 (from opentelemetry-instrumentation-fastapi>=0.41b0->chromadb==0.5.0->-r /content/langchain-rag-tutorial/requirements.txt (line 9))\n",
            "  Downloading opentelemetry_semantic_conventions-0.47b0-py3-none-any.whl.metadata (2.4 kB)\n",
            "Collecting opentelemetry-util-http==0.47b0 (from opentelemetry-instrumentation-fastapi>=0.41b0->chromadb==0.5.0->-r /content/langchain-rag-tutorial/requirements.txt (line 9))\n",
            "  Downloading opentelemetry_util_http-0.47b0-py3-none-any.whl.metadata (2.5 kB)\n",
            "Requirement already satisfied: setuptools>=16.0 in /usr/local/lib/python3.10/dist-packages (from opentelemetry-instrumentation==0.47b0->opentelemetry-instrumentation-fastapi>=0.41b0->chromadb==0.5.0->-r /content/langchain-rag-tutorial/requirements.txt (line 9)) (71.0.4)\n",
            "Collecting asgiref~=3.0 (from opentelemetry-instrumentation-asgi==0.47b0->opentelemetry-instrumentation-fastapi>=0.41b0->chromadb==0.5.0->-r /content/langchain-rag-tutorial/requirements.txt (line 9))\n",
            "  Downloading asgiref-3.8.1-py3-none-any.whl.metadata (9.3 kB)\n",
            "Collecting monotonic>=1.5 (from posthog>=2.4.0->chromadb==0.5.0->-r /content/langchain-rag-tutorial/requirements.txt (line 9))\n",
            "  Downloading monotonic-1.6-py2.py3-none-any.whl.metadata (1.5 kB)\n",
            "Requirement already satisfied: annotated-types>=0.4.0 in /usr/local/lib/python3.10/dist-packages (from pydantic<3,>=1->langchain==0.2.2->-r /content/langchain-rag-tutorial/requirements.txt (line 2)) (0.7.0)\n",
            "Requirement already satisfied: pydantic-core==2.20.1 in /usr/local/lib/python3.10/dist-packages (from pydantic<3,>=1->langchain==0.2.2->-r /content/langchain-rag-tutorial/requirements.txt (line 2)) (2.20.1)\n",
            "Requirement already satisfied: charset-normalizer<4,>=2 in /usr/local/lib/python3.10/dist-packages (from requests<3,>=2->langchain==0.2.2->-r /content/langchain-rag-tutorial/requirements.txt (line 2)) (3.3.2)\n",
            "Requirement already satisfied: greenlet!=0.4.17 in /usr/local/lib/python3.10/dist-packages (from SQLAlchemy<3,>=1.4->langchain==0.2.2->-r /content/langchain-rag-tutorial/requirements.txt (line 2)) (3.0.3)\n",
            "Requirement already satisfied: huggingface-hub<1.0,>=0.16.4 in /usr/local/lib/python3.10/dist-packages (from tokenizers>=0.13.2->chromadb==0.5.0->-r /content/langchain-rag-tutorial/requirements.txt (line 9)) (0.23.5)\n",
            "Requirement already satisfied: click>=8.0.0 in /usr/local/lib/python3.10/dist-packages (from typer>=0.9.0->chromadb==0.5.0->-r /content/langchain-rag-tutorial/requirements.txt (line 9)) (8.1.7)\n",
            "Requirement already satisfied: shellingham>=1.3.0 in /usr/local/lib/python3.10/dist-packages (from typer>=0.9.0->chromadb==0.5.0->-r /content/langchain-rag-tutorial/requirements.txt (line 9)) (1.5.4)\n",
            "Requirement already satisfied: rich>=10.11.0 in /usr/local/lib/python3.10/dist-packages (from typer>=0.9.0->chromadb==0.5.0->-r /content/langchain-rag-tutorial/requirements.txt (line 9)) (13.7.1)\n",
            "Collecting httptools>=0.5.0 (from uvicorn[standard]>=0.18.3->chromadb==0.5.0->-r /content/langchain-rag-tutorial/requirements.txt (line 9))\n",
            "  Downloading httptools-0.6.1-cp310-cp310-manylinux_2_5_x86_64.manylinux1_x86_64.manylinux_2_17_x86_64.manylinux2014_x86_64.whl.metadata (3.6 kB)\n",
            "Collecting uvloop!=0.15.0,!=0.15.1,>=0.14.0 (from uvicorn[standard]>=0.18.3->chromadb==0.5.0->-r /content/langchain-rag-tutorial/requirements.txt (line 9))\n",
            "  Downloading uvloop-0.20.0-cp310-cp310-manylinux_2_17_x86_64.manylinux2014_x86_64.whl.metadata (4.9 kB)\n",
            "Collecting watchfiles>=0.13 (from uvicorn[standard]>=0.18.3->chromadb==0.5.0->-r /content/langchain-rag-tutorial/requirements.txt (line 9))\n",
            "  Downloading watchfiles-0.23.0-cp310-cp310-manylinux_2_17_x86_64.manylinux2014_x86_64.whl.metadata (4.9 kB)\n",
            "Collecting websockets>=10.4 (from uvicorn[standard]>=0.18.3->chromadb==0.5.0->-r /content/langchain-rag-tutorial/requirements.txt (line 9))\n",
            "  Downloading websockets-13.0-cp310-cp310-manylinux_2_5_x86_64.manylinux1_x86_64.manylinux_2_17_x86_64.manylinux2014_x86_64.whl.metadata (6.7 kB)\n",
            "Requirement already satisfied: soupsieve>1.2 in /usr/local/lib/python3.10/dist-packages (from beautifulsoup4->unstructured==0.14.4->-r /content/langchain-rag-tutorial/requirements.txt (line 5)) (2.6)\n",
            "Requirement already satisfied: joblib in /usr/local/lib/python3.10/dist-packages (from nltk->unstructured==0.14.4->-r /content/langchain-rag-tutorial/requirements.txt (line 5)) (1.4.2)\n",
            "Collecting deepdiff>=6.0 (from unstructured-client->unstructured==0.14.4->-r /content/langchain-rag-tutorial/requirements.txt (line 5))\n",
            "  Downloading deepdiff-7.0.1-py3-none-any.whl.metadata (6.8 kB)\n",
            "Collecting jsonpath-python>=1.0.6 (from unstructured-client->unstructured==0.14.4->-r /content/langchain-rag-tutorial/requirements.txt (line 5))\n",
            "  Downloading jsonpath_python-1.0.6-py3-none-any.whl.metadata (12 kB)\n",
            "Collecting mypy-extensions>=1.0.0 (from unstructured-client->unstructured==0.14.4->-r /content/langchain-rag-tutorial/requirements.txt (line 5))\n",
            "  Downloading mypy_extensions-1.0.0-py3-none-any.whl.metadata (1.1 kB)\n",
            "Requirement already satisfied: nest-asyncio>=1.6.0 in /usr/local/lib/python3.10/dist-packages (from unstructured-client->unstructured==0.14.4->-r /content/langchain-rag-tutorial/requirements.txt (line 5)) (1.6.0)\n",
            "Collecting pypdf>=4.0 (from unstructured-client->unstructured==0.14.4->-r /content/langchain-rag-tutorial/requirements.txt (line 5))\n",
            "  Using cached pypdf-4.3.1-py3-none-any.whl.metadata (7.4 kB)\n",
            "Collecting requests-toolbelt>=1.0.0 (from unstructured-client->unstructured==0.14.4->-r /content/langchain-rag-tutorial/requirements.txt (line 5))\n",
            "  Downloading requests_toolbelt-1.0.0-py2.py3-none-any.whl.metadata (14 kB)\n",
            "Collecting ordered-set<4.2.0,>=4.1.0 (from deepdiff>=6.0->unstructured-client->unstructured==0.14.4->-r /content/langchain-rag-tutorial/requirements.txt (line 5))\n",
            "  Downloading ordered_set-4.1.0-py3-none-any.whl.metadata (5.3 kB)\n",
            "Requirement already satisfied: cachetools<6.0,>=2.0.0 in /usr/local/lib/python3.10/dist-packages (from google-auth>=1.0.1->kubernetes>=28.1.0->chromadb==0.5.0->-r /content/langchain-rag-tutorial/requirements.txt (line 9)) (5.5.0)\n",
            "Requirement already satisfied: pyasn1-modules>=0.2.1 in /usr/local/lib/python3.10/dist-packages (from google-auth>=1.0.1->kubernetes>=28.1.0->chromadb==0.5.0->-r /content/langchain-rag-tutorial/requirements.txt (line 9)) (0.4.0)\n",
            "Requirement already satisfied: rsa<5,>=3.1.4 in /usr/local/lib/python3.10/dist-packages (from google-auth>=1.0.1->kubernetes>=28.1.0->chromadb==0.5.0->-r /content/langchain-rag-tutorial/requirements.txt (line 9)) (4.9)\n",
            "Requirement already satisfied: filelock in /usr/local/lib/python3.10/dist-packages (from huggingface-hub<1.0,>=0.16.4->tokenizers>=0.13.2->chromadb==0.5.0->-r /content/langchain-rag-tutorial/requirements.txt (line 9)) (3.15.4)\n",
            "Requirement already satisfied: fsspec>=2023.5.0 in /usr/local/lib/python3.10/dist-packages (from huggingface-hub<1.0,>=0.16.4->tokenizers>=0.13.2->chromadb==0.5.0->-r /content/langchain-rag-tutorial/requirements.txt (line 9)) (2024.6.1)\n",
            "Requirement already satisfied: zipp>=0.5 in /usr/local/lib/python3.10/dist-packages (from importlib-metadata<=8.0.0,>=6.0->opentelemetry-api>=1.2.0->chromadb==0.5.0->-r /content/langchain-rag-tutorial/requirements.txt (line 9)) (3.20.0)\n",
            "Collecting jsonpointer>=1.9 (from jsonpatch<2.0,>=1.33->langchain-core<0.3.0,>=0.2.0->langchain==0.2.2->-r /content/langchain-rag-tutorial/requirements.txt (line 2))\n",
            "  Downloading jsonpointer-3.0.0-py2.py3-none-any.whl.metadata (2.3 kB)\n",
            "Requirement already satisfied: markdown-it-py>=2.2.0 in /usr/local/lib/python3.10/dist-packages (from rich>=10.11.0->typer>=0.9.0->chromadb==0.5.0->-r /content/langchain-rag-tutorial/requirements.txt (line 9)) (3.0.0)\n",
            "Requirement already satisfied: pygments<3.0.0,>=2.13.0 in /usr/local/lib/python3.10/dist-packages (from rich>=10.11.0->typer>=0.9.0->chromadb==0.5.0->-r /content/langchain-rag-tutorial/requirements.txt (line 9)) (2.16.1)\n",
            "Collecting humanfriendly>=9.1 (from coloredlogs->onnxruntime>=1.14.1->chromadb==0.5.0->-r /content/langchain-rag-tutorial/requirements.txt (line 9))\n",
            "  Downloading humanfriendly-10.0-py2.py3-none-any.whl.metadata (9.2 kB)\n",
            "Requirement already satisfied: mpmath<1.4,>=1.1.0 in /usr/local/lib/python3.10/dist-packages (from sympy->onnxruntime>=1.14.1->chromadb==0.5.0->-r /content/langchain-rag-tutorial/requirements.txt (line 9)) (1.3.0)\n",
            "Requirement already satisfied: mdurl~=0.1 in /usr/local/lib/python3.10/dist-packages (from markdown-it-py>=2.2.0->rich>=10.11.0->typer>=0.9.0->chromadb==0.5.0->-r /content/langchain-rag-tutorial/requirements.txt (line 9)) (0.1.2)\n",
            "Requirement already satisfied: pyasn1<0.7.0,>=0.4.6 in /usr/local/lib/python3.10/dist-packages (from pyasn1-modules>=0.2.1->google-auth>=1.0.1->kubernetes>=28.1.0->chromadb==0.5.0->-r /content/langchain-rag-tutorial/requirements.txt (line 9)) (0.6.0)\n",
            "Downloading langchain-0.2.2-py3-none-any.whl (973 kB)\n",
            "\u001b[2K   \u001b[90m━━━━━━━━━━━━━━━━━━━━━━━━━━━━━━━━━━━━━━━━\u001b[0m \u001b[32m973.6/973.6 kB\u001b[0m \u001b[31m48.3 MB/s\u001b[0m eta \u001b[36m0:00:00\u001b[0m\n",
            "\u001b[?25hDownloading langchain_community-0.2.3-py3-none-any.whl (2.2 MB)\n",
            "\u001b[2K   \u001b[90m━━━━━━━━━━━━━━━━━━━━━━━━━━━━━━━━━━━━━━━━\u001b[0m \u001b[32m2.2/2.2 MB\u001b[0m \u001b[31m58.6 MB/s\u001b[0m eta \u001b[36m0:00:00\u001b[0m\n",
            "\u001b[?25hDownloading langchain_openai-0.1.8-py3-none-any.whl (38 kB)\n",
            "Downloading unstructured-0.14.4-py3-none-any.whl (2.0 MB)\n",
            "\u001b[2K   \u001b[90m━━━━━━━━━━━━━━━━━━━━━━━━━━━━━━━━━━━━━━━━\u001b[0m \u001b[32m2.0/2.0 MB\u001b[0m \u001b[31m88.5 MB/s\u001b[0m eta \u001b[36m0:00:00\u001b[0m\n",
            "\u001b[?25hDownloading chromadb-0.5.0-py3-none-any.whl (526 kB)\n",
            "\u001b[2K   \u001b[90m━━━━━━━━━━━━━━━━━━━━━━━━━━━━━━━━━━━━━━━━\u001b[0m \u001b[32m526.8/526.8 kB\u001b[0m \u001b[31m46.7 MB/s\u001b[0m eta \u001b[36m0:00:00\u001b[0m\n",
            "\u001b[?25hDownloading openai-1.31.1-py3-none-any.whl (324 kB)\n",
            "\u001b[2K   \u001b[90m━━━━━━━━━━━━━━━━━━━━━━━━━━━━━━━━━━━━━━━━\u001b[0m \u001b[32m324.1/324.1 kB\u001b[0m \u001b[31m32.4 MB/s\u001b[0m eta \u001b[36m0:00:00\u001b[0m\n",
            "\u001b[?25hDownloading tiktoken-0.7.0-cp310-cp310-manylinux_2_17_x86_64.manylinux2014_x86_64.whl (1.1 MB)\n",
            "\u001b[2K   \u001b[90m━━━━━━━━━━━━━━━━━━━━━━━━━━━━━━━━━━━━━━━━\u001b[0m \u001b[32m1.1/1.1 MB\u001b[0m \u001b[31m67.7 MB/s\u001b[0m eta \u001b[36m0:00:00\u001b[0m\n",
            "\u001b[?25hDownloading chroma_hnswlib-0.7.3-cp310-cp310-manylinux_2_17_x86_64.manylinux2014_x86_64.whl (2.4 MB)\n",
            "\u001b[2K   \u001b[90m━━━━━━━━━━━━━━━━━━━━━━━━━━━━━━━━━━━━━━━━\u001b[0m \u001b[32m2.4/2.4 MB\u001b[0m \u001b[31m95.3 MB/s\u001b[0m eta \u001b[36m0:00:00\u001b[0m\n",
            "\u001b[?25hDownloading bcrypt-4.2.0-cp39-abi3-manylinux_2_28_x86_64.whl (273 kB)\n",
            "\u001b[2K   \u001b[90m━━━━━━━━━━━━━━━━━━━━━━━━━━━━━━━━━━━━━━━━\u001b[0m \u001b[32m273.8/273.8 kB\u001b[0m \u001b[31m29.7 MB/s\u001b[0m eta \u001b[36m0:00:00\u001b[0m\n",
            "\u001b[?25hDownloading dataclasses_json-0.6.7-py3-none-any.whl (28 kB)\n",
            "Downloading fastapi-0.112.2-py3-none-any.whl (93 kB)\n",
            "\u001b[2K   \u001b[90m━━━━━━━━━━━━━━━━━━━━━━━━━━━━━━━━━━━━━━━━\u001b[0m \u001b[32m93.5/93.5 kB\u001b[0m \u001b[31m12.1 MB/s\u001b[0m eta \u001b[36m0:00:00\u001b[0m\n",
            "\u001b[?25hDownloading kubernetes-30.1.0-py2.py3-none-any.whl (1.7 MB)\n",
            "\u001b[2K   \u001b[90m━━━━━━━━━━━━━━━━━━━━━━━━━━━━━━━━━━━━━━━━\u001b[0m \u001b[32m1.7/1.7 MB\u001b[0m \u001b[31m85.6 MB/s\u001b[0m eta \u001b[36m0:00:00\u001b[0m\n",
            "\u001b[?25hDownloading langchain_core-0.2.35-py3-none-any.whl (394 kB)\n",
            "\u001b[2K   \u001b[90m━━━━━━━━━━━━━━━━━━━━━━━━━━━━━━━━━━━━━━━━\u001b[0m \u001b[32m394.9/394.9 kB\u001b[0m \u001b[31m38.6 MB/s\u001b[0m eta \u001b[36m0:00:00\u001b[0m\n",
            "\u001b[?25hDownloading langchain_text_splitters-0.2.2-py3-none-any.whl (25 kB)\n",
            "Downloading langsmith-0.1.104-py3-none-any.whl (149 kB)\n",
            "\u001b[2K   \u001b[90m━━━━━━━━━━━━━━━━━━━━━━━━━━━━━━━━━━━━━━━━\u001b[0m \u001b[32m149.1/149.1 kB\u001b[0m \u001b[31m18.5 MB/s\u001b[0m eta \u001b[36m0:00:00\u001b[0m\n",
            "\u001b[?25hDownloading mmh3-4.1.0-cp310-cp310-manylinux_2_5_x86_64.manylinux1_x86_64.manylinux_2_17_x86_64.manylinux2014_x86_64.whl (67 kB)\n",
            "\u001b[2K   \u001b[90m━━━━━━━━━━━━━━━━━━━━━━━━━━━━━━━━━━━━━━━━\u001b[0m \u001b[32m67.6/67.6 kB\u001b[0m \u001b[31m8.2 MB/s\u001b[0m eta \u001b[36m0:00:00\u001b[0m\n",
            "\u001b[?25hDownloading onnxruntime-1.19.0-cp310-cp310-manylinux_2_27_x86_64.manylinux_2_28_x86_64.whl (13.2 MB)\n",
            "\u001b[2K   \u001b[90m━━━━━━━━━━━━━━━━━━━━━━━━━━━━━━━━━━━━━━━━\u001b[0m \u001b[32m13.2/13.2 MB\u001b[0m \u001b[31m116.9 MB/s\u001b[0m eta \u001b[36m0:00:00\u001b[0m\n",
            "\u001b[?25hDownloading opentelemetry_api-1.26.0-py3-none-any.whl (61 kB)\n",
            "\u001b[2K   \u001b[90m━━━━━━━━━━━━━━━━━━━━━━━━━━━━━━━━━━━━━━━━\u001b[0m \u001b[32m61.5/61.5 kB\u001b[0m \u001b[31m7.0 MB/s\u001b[0m eta \u001b[36m0:00:00\u001b[0m\n",
            "\u001b[?25hDownloading opentelemetry_exporter_otlp_proto_grpc-1.26.0-py3-none-any.whl (18 kB)\n",
            "Downloading opentelemetry_exporter_otlp_proto_common-1.26.0-py3-none-any.whl (17 kB)\n",
            "Downloading opentelemetry_proto-1.26.0-py3-none-any.whl (52 kB)\n",
            "\u001b[2K   \u001b[90m━━━━━━━━━━━━━━━━━━━━━━━━━━━━━━━━━━━━━━━━\u001b[0m \u001b[32m52.5/52.5 kB\u001b[0m \u001b[31m6.2 MB/s\u001b[0m eta \u001b[36m0:00:00\u001b[0m\n",
            "\u001b[?25hDownloading opentelemetry_instrumentation_fastapi-0.47b0-py3-none-any.whl (11 kB)\n",
            "Downloading opentelemetry_instrumentation-0.47b0-py3-none-any.whl (29 kB)\n",
            "Downloading opentelemetry_instrumentation_asgi-0.47b0-py3-none-any.whl (15 kB)\n",
            "Downloading opentelemetry_semantic_conventions-0.47b0-py3-none-any.whl (138 kB)\n",
            "\u001b[2K   \u001b[90m━━━━━━━━━━━━━━━━━━━━━━━━━━━━━━━━━━━━━━━━\u001b[0m \u001b[32m138.0/138.0 kB\u001b[0m \u001b[31m17.4 MB/s\u001b[0m eta \u001b[36m0:00:00\u001b[0m\n",
            "\u001b[?25hDownloading opentelemetry_util_http-0.47b0-py3-none-any.whl (6.9 kB)\n",
            "Downloading opentelemetry_sdk-1.26.0-py3-none-any.whl (109 kB)\n",
            "\u001b[2K   \u001b[90m━━━━━━━━━━━━━━━━━━━━━━━━━━━━━━━━━━━━━━━━\u001b[0m \u001b[32m109.5/109.5 kB\u001b[0m \u001b[31m14.6 MB/s\u001b[0m eta \u001b[36m0:00:00\u001b[0m\n",
            "\u001b[?25hDownloading orjson-3.10.7-cp310-cp310-manylinux_2_17_x86_64.manylinux2014_x86_64.whl (141 kB)\n",
            "\u001b[2K   \u001b[90m━━━━━━━━━━━━━━━━━━━━━━━━━━━━━━━━━━━━━━━━\u001b[0m \u001b[32m141.9/141.9 kB\u001b[0m \u001b[31m17.6 MB/s\u001b[0m eta \u001b[36m0:00:00\u001b[0m\n",
            "\u001b[?25hDownloading overrides-7.7.0-py3-none-any.whl (17 kB)\n",
            "Downloading posthog-3.5.2-py2.py3-none-any.whl (41 kB)\n",
            "\u001b[2K   \u001b[90m━━━━━━━━━━━━━━━━━━━━━━━━━━━━━━━━━━━━━━━━\u001b[0m \u001b[32m41.5/41.5 kB\u001b[0m \u001b[31m4.9 MB/s\u001b[0m eta \u001b[36m0:00:00\u001b[0m\n",
            "\u001b[?25hDownloading backoff-2.2.1-py3-none-any.whl (15 kB)\n",
            "Downloading tenacity-8.5.0-py3-none-any.whl (28 kB)\n",
            "Downloading uvicorn-0.30.6-py3-none-any.whl (62 kB)\n",
            "\u001b[2K   \u001b[90m━━━━━━━━━━━━━━━━━━━━━━━━━━━━━━━━━━━━━━━━\u001b[0m \u001b[32m62.8/62.8 kB\u001b[0m \u001b[31m8.0 MB/s\u001b[0m eta \u001b[36m0:00:00\u001b[0m\n",
            "\u001b[?25hDownloading emoji-2.12.1-py3-none-any.whl (431 kB)\n",
            "\u001b[2K   \u001b[90m━━━━━━━━━━━━━━━━━━━━━━━━━━━━━━━━━━━━━━━━\u001b[0m \u001b[32m431.4/431.4 kB\u001b[0m \u001b[31m36.5 MB/s\u001b[0m eta \u001b[36m0:00:00\u001b[0m\n",
            "\u001b[?25hDownloading python_iso639-2024.4.27-py3-none-any.whl (274 kB)\n",
            "\u001b[2K   \u001b[90m━━━━━━━━━━━━━━━━━━━━━━━━━━━━━━━━━━━━━━━━\u001b[0m \u001b[32m274.7/274.7 kB\u001b[0m \u001b[31m24.9 MB/s\u001b[0m eta \u001b[36m0:00:00\u001b[0m\n",
            "\u001b[?25hDownloading python_magic-0.4.27-py2.py3-none-any.whl (13 kB)\n",
            "Downloading unstructured_client-0.25.5-py3-none-any.whl (43 kB)\n",
            "\u001b[2K   \u001b[90m━━━━━━━━━━━━━━━━━━━━━━━━━━━━━━━━━━━━━━━━\u001b[0m \u001b[32m43.9/43.9 kB\u001b[0m \u001b[31m5.1 MB/s\u001b[0m eta \u001b[36m0:00:00\u001b[0m\n",
            "\u001b[?25hDownloading deepdiff-7.0.1-py3-none-any.whl (80 kB)\n",
            "\u001b[2K   \u001b[90m━━━━━━━━━━━━━━━━━━━━━━━━━━━━━━━━━━━━━━━━\u001b[0m \u001b[32m80.8/80.8 kB\u001b[0m \u001b[31m10.1 MB/s\u001b[0m eta \u001b[36m0:00:00\u001b[0m\n",
            "\u001b[?25hDownloading Deprecated-1.2.14-py2.py3-none-any.whl (9.6 kB)\n",
            "Downloading httptools-0.6.1-cp310-cp310-manylinux_2_5_x86_64.manylinux1_x86_64.manylinux_2_17_x86_64.manylinux2014_x86_64.whl (341 kB)\n",
            "\u001b[2K   \u001b[90m━━━━━━━━━━━━━━━━━━━━━━━━━━━━━━━━━━━━━━━━\u001b[0m \u001b[32m341.4/341.4 kB\u001b[0m \u001b[31m35.3 MB/s\u001b[0m eta \u001b[36m0:00:00\u001b[0m\n",
            "\u001b[?25hDownloading importlib_metadata-8.0.0-py3-none-any.whl (24 kB)\n",
            "Downloading jsonpatch-1.33-py2.py3-none-any.whl (12 kB)\n",
            "Downloading jsonpath_python-1.0.6-py3-none-any.whl (7.6 kB)\n",
            "Downloading marshmallow-3.22.0-py3-none-any.whl (49 kB)\n",
            "\u001b[2K   \u001b[90m━━━━━━━━━━━━━━━━━━━━━━━━━━━━━━━━━━━━━━━━\u001b[0m \u001b[32m49.3/49.3 kB\u001b[0m \u001b[31m6.0 MB/s\u001b[0m eta \u001b[36m0:00:00\u001b[0m\n",
            "\u001b[?25hDownloading monotonic-1.6-py2.py3-none-any.whl (8.2 kB)\n",
            "Downloading mypy_extensions-1.0.0-py3-none-any.whl (4.7 kB)\n",
            "Downloading pypdf-4.3.1-py3-none-any.whl (295 kB)\n",
            "\u001b[2K   \u001b[90m━━━━━━━━━━━━━━━━━━━━━━━━━━━━━━━━━━━━━━━━\u001b[0m \u001b[32m295.8/295.8 kB\u001b[0m \u001b[31m31.0 MB/s\u001b[0m eta \u001b[36m0:00:00\u001b[0m\n",
            "\u001b[?25hDownloading requests_toolbelt-1.0.0-py2.py3-none-any.whl (54 kB)\n",
            "\u001b[2K   \u001b[90m━━━━━━━━━━━━━━━━━━━━━━━━━━━━━━━━━━━━━━━━\u001b[0m \u001b[32m54.5/54.5 kB\u001b[0m \u001b[31m6.8 MB/s\u001b[0m eta \u001b[36m0:00:00\u001b[0m\n",
            "\u001b[?25hDownloading starlette-0.38.2-py3-none-any.whl (72 kB)\n",
            "\u001b[2K   \u001b[90m━━━━━━━━━━━━━━━━━━━━━━━━━━━━━━━━━━━━━━━━\u001b[0m \u001b[32m72.0/72.0 kB\u001b[0m \u001b[31m9.2 MB/s\u001b[0m eta \u001b[36m0:00:00\u001b[0m\n",
            "\u001b[?25hDownloading typing_inspect-0.9.0-py3-none-any.whl (8.8 kB)\n",
            "Downloading uvloop-0.20.0-cp310-cp310-manylinux_2_17_x86_64.manylinux2014_x86_64.whl (3.4 MB)\n",
            "\u001b[2K   \u001b[90m━━━━━━━━━━━━━━━━━━━━━━━━━━━━━━━━━━━━━━━━\u001b[0m \u001b[32m3.4/3.4 MB\u001b[0m \u001b[31m65.8 MB/s\u001b[0m eta \u001b[36m0:00:00\u001b[0m\n",
            "\u001b[?25hDownloading watchfiles-0.23.0-cp310-cp310-manylinux_2_17_x86_64.manylinux2014_x86_64.whl (427 kB)\n",
            "\u001b[2K   \u001b[90m━━━━━━━━━━━━━━━━━━━━━━━━━━━━━━━━━━━━━━━━\u001b[0m \u001b[32m427.7/427.7 kB\u001b[0m \u001b[31m40.0 MB/s\u001b[0m eta \u001b[36m0:00:00\u001b[0m\n",
            "\u001b[?25hDownloading websockets-13.0-cp310-cp310-manylinux_2_5_x86_64.manylinux1_x86_64.manylinux_2_17_x86_64.manylinux2014_x86_64.whl (157 kB)\n",
            "\u001b[2K   \u001b[90m━━━━━━━━━━━━━━━━━━━━━━━━━━━━━━━━━━━━━━━━\u001b[0m \u001b[32m157.2/157.2 kB\u001b[0m \u001b[31m17.9 MB/s\u001b[0m eta \u001b[36m0:00:00\u001b[0m\n",
            "\u001b[?25hDownloading coloredlogs-15.0.1-py2.py3-none-any.whl (46 kB)\n",
            "\u001b[2K   \u001b[90m━━━━━━━━━━━━━━━━━━━━━━━━━━━━━━━━━━━━━━━━\u001b[0m \u001b[32m46.0/46.0 kB\u001b[0m \u001b[31m5.2 MB/s\u001b[0m eta \u001b[36m0:00:00\u001b[0m\n",
            "\u001b[?25hDownloading asgiref-3.8.1-py3-none-any.whl (23 kB)\n",
            "Downloading humanfriendly-10.0-py2.py3-none-any.whl (86 kB)\n",
            "\u001b[2K   \u001b[90m━━━━━━━━━━━━━━━━━━━━━━━━━━━━━━━━━━━━━━━━\u001b[0m \u001b[32m86.8/86.8 kB\u001b[0m \u001b[31m9.5 MB/s\u001b[0m eta \u001b[36m0:00:00\u001b[0m\n",
            "\u001b[?25hDownloading jsonpointer-3.0.0-py2.py3-none-any.whl (7.6 kB)\n",
            "Downloading ordered_set-4.1.0-py3-none-any.whl (7.6 kB)\n",
            "Building wheels for collected packages: pypika, langdetect\n",
            "  Building wheel for pypika (pyproject.toml) ... \u001b[?25l\u001b[?25hdone\n",
            "  Created wheel for pypika: filename=PyPika-0.48.9-py2.py3-none-any.whl size=53724 sha256=060cf76613c6cab609fe2c35aa381feb0043f109c2a96ef1bc05254fe72d5d60\n",
            "  Stored in directory: /root/.cache/pip/wheels/e1/26/51/d0bffb3d2fd82256676d7ad3003faea3bd6dddc9577af665f4\n",
            "  Building wheel for langdetect (setup.py) ... \u001b[?25l\u001b[?25hdone\n",
            "  Created wheel for langdetect: filename=langdetect-1.0.9-py3-none-any.whl size=993221 sha256=4513cbe0af4633dcc1e359b49317f2003674fc683406861ed78b93f4a2a424fb\n",
            "  Stored in directory: /root/.cache/pip/wheels/95/03/7d/59ea870c70ce4e5a370638b5462a7711ab78fba2f655d05106\n",
            "Successfully built pypika langdetect\n",
            "Installing collected packages: pypika, monotonic, mmh3, websockets, uvloop, uvicorn, tenacity, python-magic, python-iso639, pypdf, overrides, orjson, ordered-set, opentelemetry-util-http, opentelemetry-proto, mypy-extensions, marshmallow, langdetect, jsonpointer, jsonpath-python, importlib-metadata, humanfriendly, httptools, emoji, deprecated, chroma-hnswlib, bcrypt, backoff, asgiref, watchfiles, typing-inspect, tiktoken, starlette, requests-toolbelt, posthog, opentelemetry-exporter-otlp-proto-common, opentelemetry-api, jsonpatch, deepdiff, coloredlogs, opentelemetry-semantic-conventions, opentelemetry-instrumentation, openai, onnxruntime, langsmith, kubernetes, fastapi, dataclasses-json, unstructured-client, opentelemetry-sdk, opentelemetry-instrumentation-asgi, langchain-core, unstructured, opentelemetry-instrumentation-fastapi, opentelemetry-exporter-otlp-proto-grpc, langchain-text-splitters, langchain-openai, langchain, chromadb, langchain-community\n",
            "  Attempting uninstall: tenacity\n",
            "    Found existing installation: tenacity 9.0.0\n",
            "    Uninstalling tenacity-9.0.0:\n",
            "      Successfully uninstalled tenacity-9.0.0\n",
            "  Attempting uninstall: importlib-metadata\n",
            "    Found existing installation: importlib_metadata 8.4.0\n",
            "    Uninstalling importlib_metadata-8.4.0:\n",
            "      Successfully uninstalled importlib_metadata-8.4.0\n",
            "Successfully installed asgiref-3.8.1 backoff-2.2.1 bcrypt-4.2.0 chroma-hnswlib-0.7.3 chromadb-0.5.0 coloredlogs-15.0.1 dataclasses-json-0.6.7 deepdiff-7.0.1 deprecated-1.2.14 emoji-2.12.1 fastapi-0.112.2 httptools-0.6.1 humanfriendly-10.0 importlib-metadata-8.0.0 jsonpatch-1.33 jsonpath-python-1.0.6 jsonpointer-3.0.0 kubernetes-30.1.0 langchain-0.2.2 langchain-community-0.2.3 langchain-core-0.2.35 langchain-openai-0.1.8 langchain-text-splitters-0.2.2 langdetect-1.0.9 langsmith-0.1.104 marshmallow-3.22.0 mmh3-4.1.0 monotonic-1.6 mypy-extensions-1.0.0 onnxruntime-1.19.0 openai-1.31.1 opentelemetry-api-1.26.0 opentelemetry-exporter-otlp-proto-common-1.26.0 opentelemetry-exporter-otlp-proto-grpc-1.26.0 opentelemetry-instrumentation-0.47b0 opentelemetry-instrumentation-asgi-0.47b0 opentelemetry-instrumentation-fastapi-0.47b0 opentelemetry-proto-1.26.0 opentelemetry-sdk-1.26.0 opentelemetry-semantic-conventions-0.47b0 opentelemetry-util-http-0.47b0 ordered-set-4.1.0 orjson-3.10.7 overrides-7.7.0 posthog-3.5.2 pypdf-4.3.1 pypika-0.48.9 python-iso639-2024.4.27 python-magic-0.4.27 requests-toolbelt-1.0.0 starlette-0.38.2 tenacity-8.5.0 tiktoken-0.7.0 typing-inspect-0.9.0 unstructured-0.14.4 unstructured-client-0.25.5 uvicorn-0.30.6 uvloop-0.20.0 watchfiles-0.23.0 websockets-13.0\n",
            "Requirement already satisfied: pypdf in /usr/local/lib/python3.10/dist-packages (from -r /content/rag-tutorial-v2/requirements.txt (line 1)) (4.3.1)\n",
            "Requirement already satisfied: langchain in /usr/local/lib/python3.10/dist-packages (from -r /content/rag-tutorial-v2/requirements.txt (line 2)) (0.2.2)\n",
            "Requirement already satisfied: chromadb in /usr/local/lib/python3.10/dist-packages (from -r /content/rag-tutorial-v2/requirements.txt (line 3)) (0.5.0)\n",
            "Requirement already satisfied: pytest in /usr/local/lib/python3.10/dist-packages (from -r /content/rag-tutorial-v2/requirements.txt (line 4)) (7.4.4)\n",
            "Collecting boto3 (from -r /content/rag-tutorial-v2/requirements.txt (line 5))\n",
            "  Using cached boto3-1.35.5-py3-none-any.whl.metadata (6.6 kB)\n",
            "Requirement already satisfied: typing_extensions>=4.0 in /usr/local/lib/python3.10/dist-packages (from pypdf->-r /content/rag-tutorial-v2/requirements.txt (line 1)) (4.12.2)\n",
            "Requirement already satisfied: PyYAML>=5.3 in /usr/local/lib/python3.10/dist-packages (from langchain->-r /content/rag-tutorial-v2/requirements.txt (line 2)) (6.0.2)\n",
            "Requirement already satisfied: SQLAlchemy<3,>=1.4 in /usr/local/lib/python3.10/dist-packages (from langchain->-r /content/rag-tutorial-v2/requirements.txt (line 2)) (2.0.32)\n",
            "Requirement already satisfied: aiohttp<4.0.0,>=3.8.3 in /usr/local/lib/python3.10/dist-packages (from langchain->-r /content/rag-tutorial-v2/requirements.txt (line 2)) (3.10.5)\n",
            "Requirement already satisfied: async-timeout<5.0.0,>=4.0.0 in /usr/local/lib/python3.10/dist-packages (from langchain->-r /content/rag-tutorial-v2/requirements.txt (line 2)) (4.0.3)\n",
            "Requirement already satisfied: langchain-core<0.3.0,>=0.2.0 in /usr/local/lib/python3.10/dist-packages (from langchain->-r /content/rag-tutorial-v2/requirements.txt (line 2)) (0.2.35)\n",
            "Requirement already satisfied: langchain-text-splitters<0.3.0,>=0.2.0 in /usr/local/lib/python3.10/dist-packages (from langchain->-r /content/rag-tutorial-v2/requirements.txt (line 2)) (0.2.2)\n",
            "Requirement already satisfied: langsmith<0.2.0,>=0.1.17 in /usr/local/lib/python3.10/dist-packages (from langchain->-r /content/rag-tutorial-v2/requirements.txt (line 2)) (0.1.104)\n",
            "Requirement already satisfied: numpy<2,>=1 in /usr/local/lib/python3.10/dist-packages (from langchain->-r /content/rag-tutorial-v2/requirements.txt (line 2)) (1.26.4)\n",
            "Requirement already satisfied: pydantic<3,>=1 in /usr/local/lib/python3.10/dist-packages (from langchain->-r /content/rag-tutorial-v2/requirements.txt (line 2)) (2.8.2)\n",
            "Requirement already satisfied: requests<3,>=2 in /usr/local/lib/python3.10/dist-packages (from langchain->-r /content/rag-tutorial-v2/requirements.txt (line 2)) (2.32.3)\n",
            "Requirement already satisfied: tenacity<9.0.0,>=8.1.0 in /usr/local/lib/python3.10/dist-packages (from langchain->-r /content/rag-tutorial-v2/requirements.txt (line 2)) (8.5.0)\n",
            "Requirement already satisfied: build>=1.0.3 in /usr/local/lib/python3.10/dist-packages (from chromadb->-r /content/rag-tutorial-v2/requirements.txt (line 3)) (1.2.1)\n",
            "Requirement already satisfied: chroma-hnswlib==0.7.3 in /usr/local/lib/python3.10/dist-packages (from chromadb->-r /content/rag-tutorial-v2/requirements.txt (line 3)) (0.7.3)\n",
            "Requirement already satisfied: fastapi>=0.95.2 in /usr/local/lib/python3.10/dist-packages (from chromadb->-r /content/rag-tutorial-v2/requirements.txt (line 3)) (0.112.2)\n",
            "Requirement already satisfied: uvicorn>=0.18.3 in /usr/local/lib/python3.10/dist-packages (from uvicorn[standard]>=0.18.3->chromadb->-r /content/rag-tutorial-v2/requirements.txt (line 3)) (0.30.6)\n",
            "Requirement already satisfied: posthog>=2.4.0 in /usr/local/lib/python3.10/dist-packages (from chromadb->-r /content/rag-tutorial-v2/requirements.txt (line 3)) (3.5.2)\n",
            "Requirement already satisfied: onnxruntime>=1.14.1 in /usr/local/lib/python3.10/dist-packages (from chromadb->-r /content/rag-tutorial-v2/requirements.txt (line 3)) (1.19.0)\n",
            "Requirement already satisfied: opentelemetry-api>=1.2.0 in /usr/local/lib/python3.10/dist-packages (from chromadb->-r /content/rag-tutorial-v2/requirements.txt (line 3)) (1.26.0)\n",
            "Requirement already satisfied: opentelemetry-exporter-otlp-proto-grpc>=1.2.0 in /usr/local/lib/python3.10/dist-packages (from chromadb->-r /content/rag-tutorial-v2/requirements.txt (line 3)) (1.26.0)\n",
            "Requirement already satisfied: opentelemetry-instrumentation-fastapi>=0.41b0 in /usr/local/lib/python3.10/dist-packages (from chromadb->-r /content/rag-tutorial-v2/requirements.txt (line 3)) (0.47b0)\n",
            "Requirement already satisfied: opentelemetry-sdk>=1.2.0 in /usr/local/lib/python3.10/dist-packages (from chromadb->-r /content/rag-tutorial-v2/requirements.txt (line 3)) (1.26.0)\n",
            "Requirement already satisfied: tokenizers>=0.13.2 in /usr/local/lib/python3.10/dist-packages (from chromadb->-r /content/rag-tutorial-v2/requirements.txt (line 3)) (0.19.1)\n",
            "Requirement already satisfied: pypika>=0.48.9 in /usr/local/lib/python3.10/dist-packages (from chromadb->-r /content/rag-tutorial-v2/requirements.txt (line 3)) (0.48.9)\n",
            "Requirement already satisfied: tqdm>=4.65.0 in /usr/local/lib/python3.10/dist-packages (from chromadb->-r /content/rag-tutorial-v2/requirements.txt (line 3)) (4.66.5)\n",
            "Requirement already satisfied: overrides>=7.3.1 in /usr/local/lib/python3.10/dist-packages (from chromadb->-r /content/rag-tutorial-v2/requirements.txt (line 3)) (7.7.0)\n",
            "Requirement already satisfied: importlib-resources in /usr/local/lib/python3.10/dist-packages (from chromadb->-r /content/rag-tutorial-v2/requirements.txt (line 3)) (6.4.3)\n",
            "Requirement already satisfied: grpcio>=1.58.0 in /usr/local/lib/python3.10/dist-packages (from chromadb->-r /content/rag-tutorial-v2/requirements.txt (line 3)) (1.64.1)\n",
            "Requirement already satisfied: bcrypt>=4.0.1 in /usr/local/lib/python3.10/dist-packages (from chromadb->-r /content/rag-tutorial-v2/requirements.txt (line 3)) (4.2.0)\n",
            "Requirement already satisfied: typer>=0.9.0 in /usr/local/lib/python3.10/dist-packages (from chromadb->-r /content/rag-tutorial-v2/requirements.txt (line 3)) (0.12.4)\n",
            "Requirement already satisfied: kubernetes>=28.1.0 in /usr/local/lib/python3.10/dist-packages (from chromadb->-r /content/rag-tutorial-v2/requirements.txt (line 3)) (30.1.0)\n",
            "Requirement already satisfied: mmh3>=4.0.1 in /usr/local/lib/python3.10/dist-packages (from chromadb->-r /content/rag-tutorial-v2/requirements.txt (line 3)) (4.1.0)\n",
            "Requirement already satisfied: orjson>=3.9.12 in /usr/local/lib/python3.10/dist-packages (from chromadb->-r /content/rag-tutorial-v2/requirements.txt (line 3)) (3.10.7)\n",
            "Requirement already satisfied: iniconfig in /usr/local/lib/python3.10/dist-packages (from pytest->-r /content/rag-tutorial-v2/requirements.txt (line 4)) (2.0.0)\n",
            "Requirement already satisfied: packaging in /usr/local/lib/python3.10/dist-packages (from pytest->-r /content/rag-tutorial-v2/requirements.txt (line 4)) (24.1)\n",
            "Requirement already satisfied: pluggy<2.0,>=0.12 in /usr/local/lib/python3.10/dist-packages (from pytest->-r /content/rag-tutorial-v2/requirements.txt (line 4)) (1.5.0)\n",
            "Requirement already satisfied: exceptiongroup>=1.0.0rc8 in /usr/local/lib/python3.10/dist-packages (from pytest->-r /content/rag-tutorial-v2/requirements.txt (line 4)) (1.2.2)\n",
            "Requirement already satisfied: tomli>=1.0.0 in /usr/local/lib/python3.10/dist-packages (from pytest->-r /content/rag-tutorial-v2/requirements.txt (line 4)) (2.0.1)\n",
            "Collecting botocore<1.36.0,>=1.35.5 (from boto3->-r /content/rag-tutorial-v2/requirements.txt (line 5))\n",
            "  Downloading botocore-1.35.5-py3-none-any.whl.metadata (5.7 kB)\n",
            "Collecting jmespath<2.0.0,>=0.7.1 (from boto3->-r /content/rag-tutorial-v2/requirements.txt (line 5))\n",
            "  Downloading jmespath-1.0.1-py3-none-any.whl.metadata (7.6 kB)\n",
            "Collecting s3transfer<0.11.0,>=0.10.0 (from boto3->-r /content/rag-tutorial-v2/requirements.txt (line 5))\n",
            "  Downloading s3transfer-0.10.2-py3-none-any.whl.metadata (1.7 kB)\n",
            "Requirement already satisfied: aiohappyeyeballs>=2.3.0 in /usr/local/lib/python3.10/dist-packages (from aiohttp<4.0.0,>=3.8.3->langchain->-r /content/rag-tutorial-v2/requirements.txt (line 2)) (2.4.0)\n",
            "Requirement already satisfied: aiosignal>=1.1.2 in /usr/local/lib/python3.10/dist-packages (from aiohttp<4.0.0,>=3.8.3->langchain->-r /content/rag-tutorial-v2/requirements.txt (line 2)) (1.3.1)\n",
            "Requirement already satisfied: attrs>=17.3.0 in /usr/local/lib/python3.10/dist-packages (from aiohttp<4.0.0,>=3.8.3->langchain->-r /content/rag-tutorial-v2/requirements.txt (line 2)) (24.2.0)\n",
            "Requirement already satisfied: frozenlist>=1.1.1 in /usr/local/lib/python3.10/dist-packages (from aiohttp<4.0.0,>=3.8.3->langchain->-r /content/rag-tutorial-v2/requirements.txt (line 2)) (1.4.1)\n",
            "Requirement already satisfied: multidict<7.0,>=4.5 in /usr/local/lib/python3.10/dist-packages (from aiohttp<4.0.0,>=3.8.3->langchain->-r /content/rag-tutorial-v2/requirements.txt (line 2)) (6.0.5)\n",
            "Requirement already satisfied: yarl<2.0,>=1.0 in /usr/local/lib/python3.10/dist-packages (from aiohttp<4.0.0,>=3.8.3->langchain->-r /content/rag-tutorial-v2/requirements.txt (line 2)) (1.9.4)\n",
            "Requirement already satisfied: python-dateutil<3.0.0,>=2.1 in /usr/local/lib/python3.10/dist-packages (from botocore<1.36.0,>=1.35.5->boto3->-r /content/rag-tutorial-v2/requirements.txt (line 5)) (2.8.2)\n",
            "Requirement already satisfied: urllib3!=2.2.0,<3,>=1.25.4 in /usr/local/lib/python3.10/dist-packages (from botocore<1.36.0,>=1.35.5->boto3->-r /content/rag-tutorial-v2/requirements.txt (line 5)) (2.0.7)\n",
            "Requirement already satisfied: pyproject_hooks in /usr/local/lib/python3.10/dist-packages (from build>=1.0.3->chromadb->-r /content/rag-tutorial-v2/requirements.txt (line 3)) (1.1.0)\n",
            "Requirement already satisfied: starlette<0.39.0,>=0.37.2 in /usr/local/lib/python3.10/dist-packages (from fastapi>=0.95.2->chromadb->-r /content/rag-tutorial-v2/requirements.txt (line 3)) (0.38.2)\n",
            "Requirement already satisfied: certifi>=14.05.14 in /usr/local/lib/python3.10/dist-packages (from kubernetes>=28.1.0->chromadb->-r /content/rag-tutorial-v2/requirements.txt (line 3)) (2024.7.4)\n",
            "Requirement already satisfied: six>=1.9.0 in /usr/local/lib/python3.10/dist-packages (from kubernetes>=28.1.0->chromadb->-r /content/rag-tutorial-v2/requirements.txt (line 3)) (1.16.0)\n",
            "Requirement already satisfied: google-auth>=1.0.1 in /usr/local/lib/python3.10/dist-packages (from kubernetes>=28.1.0->chromadb->-r /content/rag-tutorial-v2/requirements.txt (line 3)) (2.27.0)\n",
            "Requirement already satisfied: websocket-client!=0.40.0,!=0.41.*,!=0.42.*,>=0.32.0 in /usr/local/lib/python3.10/dist-packages (from kubernetes>=28.1.0->chromadb->-r /content/rag-tutorial-v2/requirements.txt (line 3)) (1.8.0)\n",
            "Requirement already satisfied: requests-oauthlib in /usr/local/lib/python3.10/dist-packages (from kubernetes>=28.1.0->chromadb->-r /content/rag-tutorial-v2/requirements.txt (line 3)) (1.3.1)\n",
            "Requirement already satisfied: oauthlib>=3.2.2 in /usr/local/lib/python3.10/dist-packages (from kubernetes>=28.1.0->chromadb->-r /content/rag-tutorial-v2/requirements.txt (line 3)) (3.2.2)\n",
            "Requirement already satisfied: jsonpatch<2.0,>=1.33 in /usr/local/lib/python3.10/dist-packages (from langchain-core<0.3.0,>=0.2.0->langchain->-r /content/rag-tutorial-v2/requirements.txt (line 2)) (1.33)\n",
            "Requirement already satisfied: httpx<1,>=0.23.0 in /usr/local/lib/python3.10/dist-packages (from langsmith<0.2.0,>=0.1.17->langchain->-r /content/rag-tutorial-v2/requirements.txt (line 2)) (0.27.0)\n",
            "Requirement already satisfied: coloredlogs in /usr/local/lib/python3.10/dist-packages (from onnxruntime>=1.14.1->chromadb->-r /content/rag-tutorial-v2/requirements.txt (line 3)) (15.0.1)\n",
            "Requirement already satisfied: flatbuffers in /usr/local/lib/python3.10/dist-packages (from onnxruntime>=1.14.1->chromadb->-r /content/rag-tutorial-v2/requirements.txt (line 3)) (24.3.25)\n",
            "Requirement already satisfied: protobuf in /usr/local/lib/python3.10/dist-packages (from onnxruntime>=1.14.1->chromadb->-r /content/rag-tutorial-v2/requirements.txt (line 3)) (3.20.3)\n",
            "Requirement already satisfied: sympy in /usr/local/lib/python3.10/dist-packages (from onnxruntime>=1.14.1->chromadb->-r /content/rag-tutorial-v2/requirements.txt (line 3)) (1.13.2)\n",
            "Requirement already satisfied: deprecated>=1.2.6 in /usr/local/lib/python3.10/dist-packages (from opentelemetry-api>=1.2.0->chromadb->-r /content/rag-tutorial-v2/requirements.txt (line 3)) (1.2.14)\n",
            "Requirement already satisfied: importlib-metadata<=8.0.0,>=6.0 in /usr/local/lib/python3.10/dist-packages (from opentelemetry-api>=1.2.0->chromadb->-r /content/rag-tutorial-v2/requirements.txt (line 3)) (8.0.0)\n",
            "Requirement already satisfied: googleapis-common-protos~=1.52 in /usr/local/lib/python3.10/dist-packages (from opentelemetry-exporter-otlp-proto-grpc>=1.2.0->chromadb->-r /content/rag-tutorial-v2/requirements.txt (line 3)) (1.63.2)\n",
            "Requirement already satisfied: opentelemetry-exporter-otlp-proto-common==1.26.0 in /usr/local/lib/python3.10/dist-packages (from opentelemetry-exporter-otlp-proto-grpc>=1.2.0->chromadb->-r /content/rag-tutorial-v2/requirements.txt (line 3)) (1.26.0)\n",
            "Requirement already satisfied: opentelemetry-proto==1.26.0 in /usr/local/lib/python3.10/dist-packages (from opentelemetry-exporter-otlp-proto-grpc>=1.2.0->chromadb->-r /content/rag-tutorial-v2/requirements.txt (line 3)) (1.26.0)\n",
            "Requirement already satisfied: opentelemetry-instrumentation-asgi==0.47b0 in /usr/local/lib/python3.10/dist-packages (from opentelemetry-instrumentation-fastapi>=0.41b0->chromadb->-r /content/rag-tutorial-v2/requirements.txt (line 3)) (0.47b0)\n",
            "Requirement already satisfied: opentelemetry-instrumentation==0.47b0 in /usr/local/lib/python3.10/dist-packages (from opentelemetry-instrumentation-fastapi>=0.41b0->chromadb->-r /content/rag-tutorial-v2/requirements.txt (line 3)) (0.47b0)\n",
            "Requirement already satisfied: opentelemetry-semantic-conventions==0.47b0 in /usr/local/lib/python3.10/dist-packages (from opentelemetry-instrumentation-fastapi>=0.41b0->chromadb->-r /content/rag-tutorial-v2/requirements.txt (line 3)) (0.47b0)\n",
            "Requirement already satisfied: opentelemetry-util-http==0.47b0 in /usr/local/lib/python3.10/dist-packages (from opentelemetry-instrumentation-fastapi>=0.41b0->chromadb->-r /content/rag-tutorial-v2/requirements.txt (line 3)) (0.47b0)\n",
            "Requirement already satisfied: setuptools>=16.0 in /usr/local/lib/python3.10/dist-packages (from opentelemetry-instrumentation==0.47b0->opentelemetry-instrumentation-fastapi>=0.41b0->chromadb->-r /content/rag-tutorial-v2/requirements.txt (line 3)) (71.0.4)\n",
            "Requirement already satisfied: wrapt<2.0.0,>=1.0.0 in /usr/local/lib/python3.10/dist-packages (from opentelemetry-instrumentation==0.47b0->opentelemetry-instrumentation-fastapi>=0.41b0->chromadb->-r /content/rag-tutorial-v2/requirements.txt (line 3)) (1.16.0)\n",
            "Requirement already satisfied: asgiref~=3.0 in /usr/local/lib/python3.10/dist-packages (from opentelemetry-instrumentation-asgi==0.47b0->opentelemetry-instrumentation-fastapi>=0.41b0->chromadb->-r /content/rag-tutorial-v2/requirements.txt (line 3)) (3.8.1)\n",
            "Requirement already satisfied: monotonic>=1.5 in /usr/local/lib/python3.10/dist-packages (from posthog>=2.4.0->chromadb->-r /content/rag-tutorial-v2/requirements.txt (line 3)) (1.6)\n",
            "Requirement already satisfied: backoff>=1.10.0 in /usr/local/lib/python3.10/dist-packages (from posthog>=2.4.0->chromadb->-r /content/rag-tutorial-v2/requirements.txt (line 3)) (2.2.1)\n",
            "Requirement already satisfied: annotated-types>=0.4.0 in /usr/local/lib/python3.10/dist-packages (from pydantic<3,>=1->langchain->-r /content/rag-tutorial-v2/requirements.txt (line 2)) (0.7.0)\n",
            "Requirement already satisfied: pydantic-core==2.20.1 in /usr/local/lib/python3.10/dist-packages (from pydantic<3,>=1->langchain->-r /content/rag-tutorial-v2/requirements.txt (line 2)) (2.20.1)\n",
            "Requirement already satisfied: charset-normalizer<4,>=2 in /usr/local/lib/python3.10/dist-packages (from requests<3,>=2->langchain->-r /content/rag-tutorial-v2/requirements.txt (line 2)) (3.3.2)\n",
            "Requirement already satisfied: idna<4,>=2.5 in /usr/local/lib/python3.10/dist-packages (from requests<3,>=2->langchain->-r /content/rag-tutorial-v2/requirements.txt (line 2)) (3.7)\n",
            "Requirement already satisfied: greenlet!=0.4.17 in /usr/local/lib/python3.10/dist-packages (from SQLAlchemy<3,>=1.4->langchain->-r /content/rag-tutorial-v2/requirements.txt (line 2)) (3.0.3)\n",
            "Requirement already satisfied: huggingface-hub<1.0,>=0.16.4 in /usr/local/lib/python3.10/dist-packages (from tokenizers>=0.13.2->chromadb->-r /content/rag-tutorial-v2/requirements.txt (line 3)) (0.23.5)\n",
            "Requirement already satisfied: click>=8.0.0 in /usr/local/lib/python3.10/dist-packages (from typer>=0.9.0->chromadb->-r /content/rag-tutorial-v2/requirements.txt (line 3)) (8.1.7)\n",
            "Requirement already satisfied: shellingham>=1.3.0 in /usr/local/lib/python3.10/dist-packages (from typer>=0.9.0->chromadb->-r /content/rag-tutorial-v2/requirements.txt (line 3)) (1.5.4)\n",
            "Requirement already satisfied: rich>=10.11.0 in /usr/local/lib/python3.10/dist-packages (from typer>=0.9.0->chromadb->-r /content/rag-tutorial-v2/requirements.txt (line 3)) (13.7.1)\n",
            "Requirement already satisfied: h11>=0.8 in /usr/local/lib/python3.10/dist-packages (from uvicorn>=0.18.3->uvicorn[standard]>=0.18.3->chromadb->-r /content/rag-tutorial-v2/requirements.txt (line 3)) (0.14.0)\n",
            "Requirement already satisfied: httptools>=0.5.0 in /usr/local/lib/python3.10/dist-packages (from uvicorn[standard]>=0.18.3->chromadb->-r /content/rag-tutorial-v2/requirements.txt (line 3)) (0.6.1)\n",
            "Requirement already satisfied: python-dotenv>=0.13 in /usr/local/lib/python3.10/dist-packages (from uvicorn[standard]>=0.18.3->chromadb->-r /content/rag-tutorial-v2/requirements.txt (line 3)) (1.0.1)\n",
            "Requirement already satisfied: uvloop!=0.15.0,!=0.15.1,>=0.14.0 in /usr/local/lib/python3.10/dist-packages (from uvicorn[standard]>=0.18.3->chromadb->-r /content/rag-tutorial-v2/requirements.txt (line 3)) (0.20.0)\n",
            "Requirement already satisfied: watchfiles>=0.13 in /usr/local/lib/python3.10/dist-packages (from uvicorn[standard]>=0.18.3->chromadb->-r /content/rag-tutorial-v2/requirements.txt (line 3)) (0.23.0)\n",
            "Requirement already satisfied: websockets>=10.4 in /usr/local/lib/python3.10/dist-packages (from uvicorn[standard]>=0.18.3->chromadb->-r /content/rag-tutorial-v2/requirements.txt (line 3)) (13.0)\n",
            "Requirement already satisfied: cachetools<6.0,>=2.0.0 in /usr/local/lib/python3.10/dist-packages (from google-auth>=1.0.1->kubernetes>=28.1.0->chromadb->-r /content/rag-tutorial-v2/requirements.txt (line 3)) (5.5.0)\n",
            "Requirement already satisfied: pyasn1-modules>=0.2.1 in /usr/local/lib/python3.10/dist-packages (from google-auth>=1.0.1->kubernetes>=28.1.0->chromadb->-r /content/rag-tutorial-v2/requirements.txt (line 3)) (0.4.0)\n",
            "Requirement already satisfied: rsa<5,>=3.1.4 in /usr/local/lib/python3.10/dist-packages (from google-auth>=1.0.1->kubernetes>=28.1.0->chromadb->-r /content/rag-tutorial-v2/requirements.txt (line 3)) (4.9)\n",
            "Requirement already satisfied: anyio in /usr/local/lib/python3.10/dist-packages (from httpx<1,>=0.23.0->langsmith<0.2.0,>=0.1.17->langchain->-r /content/rag-tutorial-v2/requirements.txt (line 2)) (3.7.1)\n",
            "Requirement already satisfied: httpcore==1.* in /usr/local/lib/python3.10/dist-packages (from httpx<1,>=0.23.0->langsmith<0.2.0,>=0.1.17->langchain->-r /content/rag-tutorial-v2/requirements.txt (line 2)) (1.0.5)\n",
            "Requirement already satisfied: sniffio in /usr/local/lib/python3.10/dist-packages (from httpx<1,>=0.23.0->langsmith<0.2.0,>=0.1.17->langchain->-r /content/rag-tutorial-v2/requirements.txt (line 2)) (1.3.1)\n",
            "Requirement already satisfied: filelock in /usr/local/lib/python3.10/dist-packages (from huggingface-hub<1.0,>=0.16.4->tokenizers>=0.13.2->chromadb->-r /content/rag-tutorial-v2/requirements.txt (line 3)) (3.15.4)\n",
            "Requirement already satisfied: fsspec>=2023.5.0 in /usr/local/lib/python3.10/dist-packages (from huggingface-hub<1.0,>=0.16.4->tokenizers>=0.13.2->chromadb->-r /content/rag-tutorial-v2/requirements.txt (line 3)) (2024.6.1)\n",
            "Requirement already satisfied: zipp>=0.5 in /usr/local/lib/python3.10/dist-packages (from importlib-metadata<=8.0.0,>=6.0->opentelemetry-api>=1.2.0->chromadb->-r /content/rag-tutorial-v2/requirements.txt (line 3)) (3.20.0)\n",
            "Requirement already satisfied: jsonpointer>=1.9 in /usr/local/lib/python3.10/dist-packages (from jsonpatch<2.0,>=1.33->langchain-core<0.3.0,>=0.2.0->langchain->-r /content/rag-tutorial-v2/requirements.txt (line 2)) (3.0.0)\n",
            "Requirement already satisfied: markdown-it-py>=2.2.0 in /usr/local/lib/python3.10/dist-packages (from rich>=10.11.0->typer>=0.9.0->chromadb->-r /content/rag-tutorial-v2/requirements.txt (line 3)) (3.0.0)\n",
            "Requirement already satisfied: pygments<3.0.0,>=2.13.0 in /usr/local/lib/python3.10/dist-packages (from rich>=10.11.0->typer>=0.9.0->chromadb->-r /content/rag-tutorial-v2/requirements.txt (line 3)) (2.16.1)\n",
            "Requirement already satisfied: humanfriendly>=9.1 in /usr/local/lib/python3.10/dist-packages (from coloredlogs->onnxruntime>=1.14.1->chromadb->-r /content/rag-tutorial-v2/requirements.txt (line 3)) (10.0)\n",
            "Requirement already satisfied: mpmath<1.4,>=1.1.0 in /usr/local/lib/python3.10/dist-packages (from sympy->onnxruntime>=1.14.1->chromadb->-r /content/rag-tutorial-v2/requirements.txt (line 3)) (1.3.0)\n",
            "Requirement already satisfied: mdurl~=0.1 in /usr/local/lib/python3.10/dist-packages (from markdown-it-py>=2.2.0->rich>=10.11.0->typer>=0.9.0->chromadb->-r /content/rag-tutorial-v2/requirements.txt (line 3)) (0.1.2)\n",
            "Requirement already satisfied: pyasn1<0.7.0,>=0.4.6 in /usr/local/lib/python3.10/dist-packages (from pyasn1-modules>=0.2.1->google-auth>=1.0.1->kubernetes>=28.1.0->chromadb->-r /content/rag-tutorial-v2/requirements.txt (line 3)) (0.6.0)\n",
            "Downloading boto3-1.35.5-py3-none-any.whl (139 kB)\n",
            "\u001b[2K   \u001b[90m━━━━━━━━━━━━━━━━━━━━━━━━━━━━━━━━━━━━━━━━\u001b[0m \u001b[32m139.1/139.1 kB\u001b[0m \u001b[31m537.7 kB/s\u001b[0m eta \u001b[36m0:00:00\u001b[0m\n",
            "\u001b[?25hDownloading botocore-1.35.5-py3-none-any.whl (12.5 MB)\n",
            "\u001b[2K   \u001b[90m━━━━━━━━━━━━━━━━━━━━━━━━━━━━━━━━━━━━━━━━\u001b[0m \u001b[32m12.5/12.5 MB\u001b[0m \u001b[31m117.6 MB/s\u001b[0m eta \u001b[36m0:00:00\u001b[0m\n",
            "\u001b[?25hDownloading jmespath-1.0.1-py3-none-any.whl (20 kB)\n",
            "Downloading s3transfer-0.10.2-py3-none-any.whl (82 kB)\n",
            "\u001b[2K   \u001b[90m━━━━━━━━━━━━━━━━━━━━━━━━━━━━━━━━━━━━━━━━\u001b[0m \u001b[32m82.7/82.7 kB\u001b[0m \u001b[31m10.1 MB/s\u001b[0m eta \u001b[36m0:00:00\u001b[0m\n",
            "\u001b[?25hInstalling collected packages: jmespath, botocore, s3transfer, boto3\n",
            "Successfully installed boto3-1.35.5 botocore-1.35.5 jmespath-1.0.1 s3transfer-0.10.2\n",
            "Requirement already satisfied: unstructured[md] in /usr/local/lib/python3.10/dist-packages (0.14.4)\n",
            "Requirement already satisfied: chardet in /usr/local/lib/python3.10/dist-packages (from unstructured[md]) (5.2.0)\n",
            "Requirement already satisfied: filetype in /usr/local/lib/python3.10/dist-packages (from unstructured[md]) (1.2.0)\n",
            "Requirement already satisfied: python-magic in /usr/local/lib/python3.10/dist-packages (from unstructured[md]) (0.4.27)\n",
            "Requirement already satisfied: lxml in /usr/local/lib/python3.10/dist-packages (from unstructured[md]) (4.9.4)\n",
            "Requirement already satisfied: nltk in /usr/local/lib/python3.10/dist-packages (from unstructured[md]) (3.8.1)\n",
            "Requirement already satisfied: tabulate in /usr/local/lib/python3.10/dist-packages (from unstructured[md]) (0.9.0)\n",
            "Requirement already satisfied: requests in /usr/local/lib/python3.10/dist-packages (from unstructured[md]) (2.32.3)\n",
            "Requirement already satisfied: beautifulsoup4 in /usr/local/lib/python3.10/dist-packages (from unstructured[md]) (4.12.3)\n",
            "Requirement already satisfied: emoji in /usr/local/lib/python3.10/dist-packages (from unstructured[md]) (2.12.1)\n",
            "Requirement already satisfied: dataclasses-json in /usr/local/lib/python3.10/dist-packages (from unstructured[md]) (0.6.7)\n",
            "Requirement already satisfied: python-iso639 in /usr/local/lib/python3.10/dist-packages (from unstructured[md]) (2024.4.27)\n",
            "Requirement already satisfied: langdetect in /usr/local/lib/python3.10/dist-packages (from unstructured[md]) (1.0.9)\n",
            "Requirement already satisfied: numpy in /usr/local/lib/python3.10/dist-packages (from unstructured[md]) (1.26.4)\n",
            "Requirement already satisfied: rapidfuzz in /usr/local/lib/python3.10/dist-packages (from unstructured[md]) (3.9.6)\n",
            "Requirement already satisfied: backoff in /usr/local/lib/python3.10/dist-packages (from unstructured[md]) (2.2.1)\n",
            "Requirement already satisfied: typing-extensions in /usr/local/lib/python3.10/dist-packages (from unstructured[md]) (4.12.2)\n",
            "Requirement already satisfied: unstructured-client in /usr/local/lib/python3.10/dist-packages (from unstructured[md]) (0.25.5)\n",
            "Requirement already satisfied: wrapt in /usr/local/lib/python3.10/dist-packages (from unstructured[md]) (1.16.0)\n",
            "Requirement already satisfied: markdown in /usr/local/lib/python3.10/dist-packages (from unstructured[md]) (3.7)\n",
            "Requirement already satisfied: soupsieve>1.2 in /usr/local/lib/python3.10/dist-packages (from beautifulsoup4->unstructured[md]) (2.6)\n",
            "Requirement already satisfied: marshmallow<4.0.0,>=3.18.0 in /usr/local/lib/python3.10/dist-packages (from dataclasses-json->unstructured[md]) (3.22.0)\n",
            "Requirement already satisfied: typing-inspect<1,>=0.4.0 in /usr/local/lib/python3.10/dist-packages (from dataclasses-json->unstructured[md]) (0.9.0)\n",
            "Requirement already satisfied: six in /usr/local/lib/python3.10/dist-packages (from langdetect->unstructured[md]) (1.16.0)\n",
            "Requirement already satisfied: click in /usr/local/lib/python3.10/dist-packages (from nltk->unstructured[md]) (8.1.7)\n",
            "Requirement already satisfied: joblib in /usr/local/lib/python3.10/dist-packages (from nltk->unstructured[md]) (1.4.2)\n",
            "Requirement already satisfied: regex>=2021.8.3 in /usr/local/lib/python3.10/dist-packages (from nltk->unstructured[md]) (2024.5.15)\n",
            "Requirement already satisfied: tqdm in /usr/local/lib/python3.10/dist-packages (from nltk->unstructured[md]) (4.66.5)\n",
            "Requirement already satisfied: charset-normalizer<4,>=2 in /usr/local/lib/python3.10/dist-packages (from requests->unstructured[md]) (3.3.2)\n",
            "Requirement already satisfied: idna<4,>=2.5 in /usr/local/lib/python3.10/dist-packages (from requests->unstructured[md]) (3.7)\n",
            "Requirement already satisfied: urllib3<3,>=1.21.1 in /usr/local/lib/python3.10/dist-packages (from requests->unstructured[md]) (2.0.7)\n",
            "Requirement already satisfied: certifi>=2017.4.17 in /usr/local/lib/python3.10/dist-packages (from requests->unstructured[md]) (2024.7.4)\n",
            "Requirement already satisfied: deepdiff>=6.0 in /usr/local/lib/python3.10/dist-packages (from unstructured-client->unstructured[md]) (7.0.1)\n",
            "Requirement already satisfied: httpx>=0.27.0 in /usr/local/lib/python3.10/dist-packages (from unstructured-client->unstructured[md]) (0.27.0)\n",
            "Requirement already satisfied: jsonpath-python>=1.0.6 in /usr/local/lib/python3.10/dist-packages (from unstructured-client->unstructured[md]) (1.0.6)\n",
            "Requirement already satisfied: mypy-extensions>=1.0.0 in /usr/local/lib/python3.10/dist-packages (from unstructured-client->unstructured[md]) (1.0.0)\n",
            "Requirement already satisfied: nest-asyncio>=1.6.0 in /usr/local/lib/python3.10/dist-packages (from unstructured-client->unstructured[md]) (1.6.0)\n",
            "Requirement already satisfied: packaging>=23.1 in /usr/local/lib/python3.10/dist-packages (from unstructured-client->unstructured[md]) (24.1)\n",
            "Requirement already satisfied: pypdf>=4.0 in /usr/local/lib/python3.10/dist-packages (from unstructured-client->unstructured[md]) (4.3.1)\n",
            "Requirement already satisfied: python-dateutil>=2.8.2 in /usr/local/lib/python3.10/dist-packages (from unstructured-client->unstructured[md]) (2.8.2)\n",
            "Requirement already satisfied: requests-toolbelt>=1.0.0 in /usr/local/lib/python3.10/dist-packages (from unstructured-client->unstructured[md]) (1.0.0)\n",
            "Requirement already satisfied: ordered-set<4.2.0,>=4.1.0 in /usr/local/lib/python3.10/dist-packages (from deepdiff>=6.0->unstructured-client->unstructured[md]) (4.1.0)\n",
            "Requirement already satisfied: anyio in /usr/local/lib/python3.10/dist-packages (from httpx>=0.27.0->unstructured-client->unstructured[md]) (3.7.1)\n",
            "Requirement already satisfied: httpcore==1.* in /usr/local/lib/python3.10/dist-packages (from httpx>=0.27.0->unstructured-client->unstructured[md]) (1.0.5)\n",
            "Requirement already satisfied: sniffio in /usr/local/lib/python3.10/dist-packages (from httpx>=0.27.0->unstructured-client->unstructured[md]) (1.3.1)\n",
            "Requirement already satisfied: h11<0.15,>=0.13 in /usr/local/lib/python3.10/dist-packages (from httpcore==1.*->httpx>=0.27.0->unstructured-client->unstructured[md]) (0.14.0)\n",
            "Requirement already satisfied: exceptiongroup in /usr/local/lib/python3.10/dist-packages (from anyio->httpx>=0.27.0->unstructured-client->unstructured[md]) (1.2.2)\n"
          ]
        }
      ],
      "source": [
        "!pip install -r /content/langchain-rag-tutorial/requirements.txt\n",
        "!pip install -r /content/rag-tutorial-v2/requirements.txt\n",
        "!pip install \"unstructured[md]\""
      ]
    },
    {
      "cell_type": "markdown",
      "metadata": {
        "id": "V0rxDAR73y2E"
      },
      "source": [
        "# Run Ollama Server"
      ]
    },
    {
      "cell_type": "code",
      "execution_count": null,
      "metadata": {
        "id": "sUjMAWxh3zfh"
      },
      "outputs": [],
      "source": [
        "# Create a Python script to start the Ollama API server in a separate thread\n",
        "import os\n",
        "import threading\n",
        "import subprocess\n",
        "import requests\n",
        "import json\n",
        "\n",
        "\n",
        "def ollama():\n",
        "    os.environ['OLLAMA_HOST'] = '0.0.0.0:11434'\n",
        "    os.environ['OLLAMA_ORIGINS'] = '*'\n",
        "    subprocess.Popen([\"ollama\", \"serve\"])\n",
        "\n",
        "\n",
        "ollama_thread = threading.Thread(target=ollama)\n",
        "ollama_thread.start()"
      ]
    },
    {
      "cell_type": "markdown",
      "metadata": {
        "id": "yzp1p3TiQQ9r"
      },
      "source": [
        "# Parse PDF as Markdowns using Marker"
      ]
    },
    {
      "cell_type": "markdown",
      "metadata": {
        "id": "ODsPDi4HQe1j"
      },
      "source": [
        "## Import Libraries"
      ]
    },
    {
      "cell_type": "code",
      "execution_count": null,
      "metadata": {
        "id": "DBRT9kAxQZys"
      },
      "outputs": [],
      "source": [
        "import requests\n",
        "import os"
      ]
    },
    {
      "cell_type": "markdown",
      "metadata": {
        "id": "S0DHFF9JQeW8"
      },
      "source": [
        "## Define Paths"
      ]
    },
    {
      "cell_type": "code",
      "execution_count": null,
      "metadata": {
        "id": "oWUhAyrJQc09"
      },
      "outputs": [],
      "source": [
        "CHROMA_PATH = \"chroma\"\n",
        "DATA_PATH = \"/content/rag-tutorial-v2/data\""
      ]
    },
    {
      "cell_type": "code",
      "execution_count": null,
      "metadata": {
        "id": "o4uTjnn1QalV"
      },
      "outputs": [],
      "source": [
        "# Define the URL and the path\n",
        "url = \"https://czechgames.com/files/rules/codenames-rules-en.pdf\"\n",
        "save_path = DATA_PATH + \"/codenames-rules-en.pdf\"\n",
        "\n",
        "# Ensure the directory exists\n",
        "os.makedirs(os.path.dirname(save_path), exist_ok=True)\n",
        "\n",
        "# Download the file\n",
        "response = requests.get(url)\n",
        "\n",
        "# Save the file\n",
        "with open(save_path, 'wb') as file:\n",
        "    file.write(response.content)"
      ]
    },
    {
      "cell_type": "code",
      "execution_count": null,
      "metadata": {
        "id": "HbPwFO9HQwS1"
      },
      "outputs": [],
      "source": [
        "os.makedirs('/content/rag-tutorial-v2/data/md', exist_ok=True)"
      ]
    },
    {
      "cell_type": "markdown",
      "metadata": {
        "id": "ZlYa4XrBf7Lb"
      },
      "source": [
        "## Run Parsing"
      ]
    },
    {
      "cell_type": "code",
      "execution_count": null,
      "metadata": {
        "colab": {
          "base_uri": "https://localhost:8080/"
        },
        "id": "P6j6_3AtQTAs",
        "outputId": "f7c8933c-2443-479c-9584-83be79220ae4"
      },
      "outputs": [
        {
          "name": "stdout",
          "output_type": "stream",
          "text": [
            "2024-08-26 01:50:50.492411: I tensorflow/core/util/port.cc:153] oneDNN custom operations are on. You may see slightly different numerical results due to floating-point round-off errors from different computation orders. To turn them off, set the environment variable `TF_ENABLE_ONEDNN_OPTS=0`.\n",
            "2024-08-26 01:50:50.510098: E external/local_xla/xla/stream_executor/cuda/cuda_fft.cc:485] Unable to register cuFFT factory: Attempting to register factory for plugin cuFFT when one has already been registered\n",
            "2024-08-26 01:50:50.531555: E external/local_xla/xla/stream_executor/cuda/cuda_dnn.cc:8454] Unable to register cuDNN factory: Attempting to register factory for plugin cuDNN when one has already been registered\n",
            "2024-08-26 01:50:50.538189: E external/local_xla/xla/stream_executor/cuda/cuda_blas.cc:1452] Unable to register cuBLAS factory: Attempting to register factory for plugin cuBLAS when one has already been registered\n",
            "2024-08-26 01:50:50.554049: I tensorflow/core/platform/cpu_feature_guard.cc:210] This TensorFlow binary is optimized to use available CPU instructions in performance-critical operations.\n",
            "To enable the following instructions: AVX2 AVX512F AVX512_VNNI FMA, in other operations, rebuild TensorFlow with the appropriate compiler flags.\n",
            "2024-08-26 01:50:51.677014: W tensorflow/compiler/tf2tensorrt/utils/py_utils.cc:38] TF-TRT Warning: Could not find TensorRT\n",
            "config.json: 100% 811/811 [00:00<00:00, 6.29MB/s]\n",
            "model.safetensors: 100% 154M/154M [00:00<00:00, 369MB/s]\n",
            "Loaded detection model vikp/surya_det3 on device cuda with dtype torch.float16\n",
            "preprocessor_config.json: 100% 675/675 [00:00<00:00, 4.72MB/s]\n",
            "config.json: 100% 1.32k/1.32k [00:00<00:00, 11.0MB/s]\n",
            "model.safetensors: 100% 154M/154M [00:00<00:00, 369MB/s]\n",
            "Loaded detection model vikp/surya_layout3 on device cuda with dtype torch.float16\n",
            "preprocessor_config.json: 100% 373/373 [00:00<00:00, 2.44MB/s]\n",
            "config.json: 100% 5.04k/5.04k [00:00<00:00, 27.8MB/s]\n",
            "model.safetensors: 100% 550M/550M [00:02<00:00, 189MB/s]\n",
            "generation_config.json: 100% 160/160 [00:00<00:00, 1.18MB/s]\n",
            "Loaded reading order model vikp/surya_order on device cuda with dtype torch.float16\n",
            "preprocessor_config.json: 100% 684/684 [00:00<00:00, 5.45MB/s]\n",
            "config.json: 100% 8.05k/8.05k [00:00<00:00, 38.7MB/s]\n",
            "model.safetensors: 100% 941M/941M [00:02<00:00, 331MB/s]\n",
            "generation_config.json: 100% 163/163 [00:00<00:00, 1.33MB/s]\n",
            "Loaded recognition model vikp/surya_rec2 on device cuda with dtype torch.float16\n",
            "preprocessor_config.json: 100% 556/556 [00:00<00:00, 3.40MB/s]\n",
            "config.json: 100% 4.92k/4.92k [00:00<00:00, 22.3MB/s]\n",
            "model.safetensors: 100% 625M/625M [00:02<00:00, 303MB/s]\n",
            "generation_config.json: 100% 191/191 [00:00<00:00, 1.50MB/s]\n",
            "Loaded texify model to cuda with torch.float16 dtype\n",
            "preprocessor_config.json: 100% 617/617 [00:00<00:00, 5.12MB/s]\n",
            "tokenizer_config.json: 100% 4.49k/4.49k [00:00<00:00, 28.1MB/s]\n",
            "tokenizer.json: 100% 2.14M/2.14M [00:01<00:00, 1.80MB/s]\n",
            "added_tokens.json: 100% 18.3k/18.3k [00:00<00:00, 92.7MB/s]\n",
            "special_tokens_map.json: 100% 552/552 [00:00<00:00, 4.67MB/s]\n",
            "Converting 3 pdfs in chunk 1/1 with 3 processes, and storing in /content/rag-tutorial-v2/data/md\n",
            "2024-08-26 01:51:59.748577: E external/local_xla/xla/stream_executor/cuda/cuda_fft.cc:485] Unable to register cuFFT factory: Attempting to register factory for plugin cuFFT when one has already been registered\n",
            "2024-08-26 01:51:59.769479: E external/local_xla/xla/stream_executor/cuda/cuda_dnn.cc:8454] Unable to register cuDNN factory: Attempting to register factory for plugin cuDNN when one has already been registered\n",
            "2024-08-26 01:51:59.776827: E external/local_xla/xla/stream_executor/cuda/cuda_blas.cc:1452] Unable to register cuBLAS factory: Attempting to register factory for plugin cuBLAS when one has already been registered\n",
            "2024-08-26 01:52:00.922758: W tensorflow/compiler/tf2tensorrt/utils/py_utils.cc:38] TF-TRT Warning: Could not find TensorRT\n",
            "2024-08-26 01:52:06.823040: E external/local_xla/xla/stream_executor/cuda/cuda_fft.cc:485] Unable to register cuFFT factory: Attempting to register factory for plugin cuFFT when one has already been registered\n",
            "2024-08-26 01:52:06.843927: E external/local_xla/xla/stream_executor/cuda/cuda_dnn.cc:8454] Unable to register cuDNN factory: Attempting to register factory for plugin cuDNN when one has already been registered\n",
            "2024-08-26 01:52:06.850340: E external/local_xla/xla/stream_executor/cuda/cuda_blas.cc:1452] Unable to register cuBLAS factory: Attempting to register factory for plugin cuBLAS when one has already been registered\n",
            "2024-08-26 01:52:07.973266: W tensorflow/compiler/tf2tensorrt/utils/py_utils.cc:38] TF-TRT Warning: Could not find TensorRT\n",
            "2024-08-26 01:52:13.955129: E external/local_xla/xla/stream_executor/cuda/cuda_fft.cc:485] Unable to register cuFFT factory: Attempting to register factory for plugin cuFFT when one has already been registered\n",
            "2024-08-26 01:52:13.976150: E external/local_xla/xla/stream_executor/cuda/cuda_dnn.cc:8454] Unable to register cuDNN factory: Attempting to register factory for plugin cuDNN when one has already been registered\n",
            "2024-08-26 01:52:13.982631: E external/local_xla/xla/stream_executor/cuda/cuda_blas.cc:1452] Unable to register cuBLAS factory: Attempting to register factory for plugin cuBLAS when one has already been registered\n",
            "2024-08-26 01:52:15.138595: W tensorflow/compiler/tf2tensorrt/utils/py_utils.cc:38] TF-TRT Warning: Could not find TensorRT\n",
            "Detecting bboxes: 100% 1/1 [00:01<00:00,  1.09s/it]\n",
            "Detecting bboxes: 100% 2/2 [00:01<00:00,  1.17it/s]\n",
            "Detecting bboxes: 100% 2/2 [00:01<00:00,  1.33it/s]\n",
            "Detecting bboxes: 100% 2/2 [00:01<00:00,  1.33it/s]\n",
            "Recognizing Text: 100% 2/2 [00:03<00:00,  1.76s/it]\n",
            "Recognizing Text: 100% 1/1 [00:01<00:00,  1.01s/it]\n",
            "Detecting bboxes: 100% 1/1 [00:00<00:00,  1.27it/s]\n",
            "Detecting bboxes: 100% 2/2 [00:01<00:00,  1.32it/s]\n",
            "Finding reading order: 100% 1/1 [00:00<00:00,  1.42it/s]\n",
            "Finding reading order: 100% 2/2 [00:01<00:00,  1.28it/s]\n",
            "Finding reading order: 100% 2/2 [00:01<00:00,  1.67it/s]\n",
            "Processing PDFs: 100% 3/3 [00:19<00:00,  6.60s/pdf]\n",
            "[W CudaIPCTypes.cpp:96] Producer process tried to deallocate over 1000 memory blocks referred by consumer processes. Deallocation might be significantly slowed down. We assume it will never going to be the case, but if it is, please file but to https://github.com/pytorch/pytorch\n",
            "[W CudaIPCTypes.cpp:16] Producer process has been terminated before all shared CUDA tensors released. See Note [Sharing CUDA tensors]\n"
          ]
        }
      ],
      "source": [
        "!marker /content/rag-tutorial-v2/data /content/rag-tutorial-v2/data/md --workers 4"
      ]
    },
    {
      "cell_type": "code",
      "execution_count": null,
      "metadata": {
        "id": "9OCcTXeLTFwj"
      },
      "outputs": [],
      "source": [
        "import shutil\n",
        "\n",
        "files_to_copy = [\n",
        "    \"/content/rag-tutorial-v2/data/md/codenames-rules-en/codenames-rules-en.md\",\n",
        "    \"/content/rag-tutorial-v2/data/md/monopoly/monopoly.md\",\n",
        "    \"/content/rag-tutorial-v2/data/md/ticket_to_ride/ticket_to_ride.md\"\n",
        "]\n",
        "\n",
        "destination_folder = \"/content/rag-tutorial-v2/data/md\"\n",
        "\n",
        "for file in files_to_copy:\n",
        "    shutil.copy(file, destination_folder)"
      ]
    },
    {
      "cell_type": "markdown",
      "metadata": {
        "id": "kYvv295CYmoy"
      },
      "source": [
        "# Loading Markdown Documents\n",
        "- https://python.langchain.com/v0.1/docs/modules/data_connection/document_loaders/"
      ]
    },
    {
      "cell_type": "markdown",
      "metadata": {
        "id": "7QHkYqUWfYQT"
      },
      "source": [
        "## Define Paths"
      ]
    },
    {
      "cell_type": "code",
      "execution_count": null,
      "metadata": {
        "id": "KV078lIw9P5x"
      },
      "outputs": [],
      "source": [
        "import requests\n",
        "import os"
      ]
    },
    {
      "cell_type": "code",
      "execution_count": null,
      "metadata": {
        "id": "bjbumeWkfblb"
      },
      "outputs": [],
      "source": [
        "DATA_PATH = \"/content/rag-tutorial-v2/data/md\""
      ]
    },
    {
      "cell_type": "markdown",
      "metadata": {
        "id": "yuGZFjCKgMQy"
      },
      "source": [
        "## Define and Call Function"
      ]
    },
    {
      "cell_type": "code",
      "execution_count": null,
      "metadata": {
        "id": "sXlycFy1YoVU"
      },
      "outputs": [],
      "source": [
        "from langchain.document_loaders import UnstructuredMarkdownLoader\n",
        "\n",
        "\n",
        "def load_documents():\n",
        "    \"\"\"\n",
        "    Purpose/Usage: Loads markdown documents from a specified directory.\n",
        "    Inputs: None\n",
        "    Outputs/Returns: A list of Document objects loaded from the specified directory.\n",
        "    \"\"\"\n",
        "    documents = []\n",
        "    for filename in os.listdir(DATA_PATH):\n",
        "        if filename.endswith('.md'):\n",
        "            file_path = os.path.join(DATA_PATH, filename)\n",
        "            loader = UnstructuredMarkdownLoader(file_path)\n",
        "            documents.extend(loader.load())\n",
        "    return documents"
      ]
    },
    {
      "cell_type": "markdown",
      "metadata": {
        "id": "553ZqCYCfzoK"
      },
      "source": [
        "Each document contains the text content of the PDF along with some metadata attached"
      ]
    },
    {
      "cell_type": "code",
      "execution_count": null,
      "metadata": {
        "colab": {
          "base_uri": "https://localhost:8080/"
        },
        "id": "QQlMiif7fpw8",
        "outputId": "58b41d29-0c80-4ff2-d8ec-21597ad89d09"
      },
      "outputs": [
        {
          "name": "stderr",
          "output_type": "stream",
          "text": [
            "[nltk_data] Downloading package punkt to /root/nltk_data...\n",
            "[nltk_data]   Unzipping tokenizers/punkt.zip.\n",
            "[nltk_data] Downloading package averaged_perceptron_tagger to\n",
            "[nltk_data]     /root/nltk_data...\n",
            "[nltk_data]   Unzipping taggers/averaged_perceptron_tagger.zip.\n"
          ]
        },
        {
          "name": "stdout",
          "output_type": "stream",
          "text": [
            "page_content='MONOPOLY\n",
            "\n",
            "Property Trading Game from Parker Brothers\" \n",
            "AGES 8+\n",
            "\n",
            "2 to 8 Players Contents: Gameboard, 3 dice, tokens, 32 houses, I2 hotels, Chance and Community Chest cards, Title Deed cards, play money and a Banker's tray.\n",
            "\n",
            "Now there's a faster way to play MONOPOLY. Choose to play by the classic rules for buying, renting and selling properties or use the Speed Die to get into the action faster. If you've never played the classic MONOPOLY game, refer to the Classic Rules beginning on the next page.\n",
            "\n",
            "If you already know how to play and want to use the Speed Die, just read the section below for the additional Speed Die rules.\n",
            "\n",
            "Speed Die Rules\n",
            "\n",
            "Learnins how to Play with the S~eed Die IS as\n",
            "\n",
            "/ fast as playing with i't.\n",
            "\n",
            "When starting the game, hand out an extra $1,000 to each player \n",
            "(two $5005 should work). The game moves fast and you'll need the extra cash to buy and build.\n",
            "\n",
            "Do not use the Speed Die until you've landed on or passed over GO for the first time. Once you collect that first $200 salary, you'll use the Speed Die for the rest of the game. This means that some players will start using the die before others.\n",
            "\n",
            "Once you start using the Speed Die, roll it along with the two\n",
            "\n",
            "white dice on your turn. Then do the following depending on what you rolled.\n",
            "\n",
            "1, 2, or 3: Add this number to the roll of the two white dice. You'll zoom around the board.\n",
            "\n",
            "Bus: This lets you \"get off the bus early.\" Look at the two white\n",
            "\n",
            "dice. You can move the value of one die, the other die, or the sum of both dice. So if you rolled a 1 and a 5, you can move 1 space, 5 spaces, or 6 spaces: \\t's your choice.\n",
            "\n",
            "Mr. Monopoly: First, move the sum of the two white dice\n",
            "\n",
            "and resolve the space you land on (such as drawing a card, buying the property, paying rent, etc.). Then, one of two things will happen depending on whether or not there is still property in the bank.\n",
            "\n",
            "YES, there is property in the bank -Advance to the NEXT \n",
            "property that the bank still holds and buy it if you wish. If you don't want to buy this property, move to the space anyway and put the property up for auction.\n",
            "\n",
            "NO, there are no more properties in the bank - Advance to the NOCT property on which you will owe another player money.\n",
            "\n",
            "A few minor details: \n",
            "Only the white dice are used when determining if you rolled doubles.\n",
            "\n",
            "Do not look at the Speed Die.\n",
            "\n",
            "If you roll a three-of-a-kind (all of the dice show the same number), \n",
            "you can move anywhere you want on the board!\n",
            "\n",
            "If you get sent to jail during your move (either by landing on the \"Go to Jail\" space or by rolling doubles three times in a row) then your turn is over and you do not get to use the Speed Die for that turn.\n",
            "\n",
            "Use the white dice ONLY when rolling to get out of jail. L \n",
            "Use the sum of all three dice when determining how much to pay on a utility. Note: The Bus and Mr. Monopoly are valued at 0.\n",
            "\n",
            "Classic Monopow Rules\n",
            "\n",
            "OBJECT: The object of the game IS to become the\n",
            "\n",
            "wealthiest player through buying, renting and selling property. PREPARATION: Place the board on a table and put the Chance and Community Chest cards facedown on their allotted spaces on the board. Each player chooses one token to represent himther while traveling around the board.\n",
            "\n",
            "Each player is given $1,500 divided as follows: P each of $500s, \n",
            "$100~ and $50~; 6 $40~; 5 each of $105, $5~ and $Is.\n",
            "\n",
            "All remaining money and other equipment go to the Bank. Stack the .. Bank's money on edge in the compartments in the plastic Banker's tray.\n",
            "\n",
            "BANKER. Select as Banker a player who will also\n",
            "\n",
            "make a good Auctioneer A Banker who plays \n",
            "~n the game must keep hislher personal funds separate from those of the Bank. When more than f~ve persons play, the Banker may elect to act only as Banker and Auctioneer.\n",
            "\n",
            "THE BANK: Besides the Bank's money, the Bank holds the Title Deed cards and houses and hotels prior to purchase and use by the players. The Bank pays salaries and bonuses. It sells and auctions properties and hands out the~r proper Title Deed cards; it sells houses and hotels to the players and loans money when required on mortgages.\n",
            "\n",
            "The Bank collects all taxes, fines, loans and interest, and the price of all properties which it sells and auctions.\n",
            "\n",
            "The Bank nwer \"goes broke.\" If the Bank runs out of money, the Banker may issue as much more as needed by writing on any ordinary paper.\n",
            "\n",
            "THE PLAY: Starting with the Banker, each player in turn throws the dice.\n",
            "\n",
            "The player with the highest total starts the play: Place your token on the corner marked \"GO,\" throw the dice and move your token in the direction of the arrow the number of spaces indicated by the dice. After you have completed your play, the turn passes to the left. The tokens remain on the spaces qccupied and proceed from that point on the player's next turn. Two or more tokens may rest on the same space at the same time.\n",
            "\n",
            "According to the space your token reaches, you may be entitled to buy real estate or other properties - or obliged to pay rent, pay taxes, draw a Chance or Community Chest card, \"Go to Jail,\" etc.\n",
            "\n",
            "If you throw doubles, you move your token as usual, the sum of the two dice, and are subject to any privileges or penalties pertaining to the space on which you land. Retaining the dice, throw again and move your token as before. If you throw doubles three times in succession, move your token immediately to the space marked \"In Jail\" (see JAIL).\n",
            "\n",
            "\"GO\": Each time a player's token lands on or passes over\n",
            "\n",
            "GO, whether by throwing the dice or drawing a card, the Banker pays himther a $200 sala,ry.\n",
            "\n",
            "The $200 is paid only once each time kound the board. However, if a player passing GO on the throw of the dice lands 2 spaces beyond it on Community Chest, or 7 spaces beyond it on Chance, and draws the \"Advance to GO\" card, helshe collects \n",
            "$200 for passing GO the first time and another $200 for reaching it the second time by instructions on the card.\n",
            "\n",
            "BUYING PROPERTY: Whenever you land on an unowned property you may buy that property from the Bank at its printed price. You receive the Title Deed card showing ownership; place it faceup in front of you.\n",
            "\n",
            "If you do not wish to buy the property, the Banker sells it at auction to the highest bidder. The buyer pays the Bank the amount of the bid in cash and receives the Title Deed card for that property. Any player, including the one who declined the option to buy it at the printed price, may bid. Bidding may start at any price.\n",
            "\n",
            "PAMNG When you land on property owned by another player, the owner collects rent from you in accordance with the list printed on its Title Deed card.\n",
            "\n",
            "If the property is mortgaged, no rent can be collected. When a property is mortgaged, its Title Deed card is placed facedown in front of the owner. L \n",
            "It is an advantage to hold all the Title Deed cards in a colorgroup (e.g., Boardwalk and Park Place; or Connecticut, Vermont and Oriental Avenues) because the owner may then charge double rent for unimproved properties in that color-group. This rule applies to unmortgaged properties even if another property in that color-group is mortgaged.\n",
            "\n",
            "It is even more advantageous to have houses or hotels on properties because rents are much higher than for unimproved properties.\n",
            "\n",
            "The owner may not collect the rent if he/she fails to ask for it before the second player following throws the dice.\n",
            "\n",
            "\"CHANCE\" AND \"COMMUNITY CHEST\": When you land on either of these spaces, take the top card from the deck indicated, follow the instructions and return the card facedown to the bottom of the deck.\n",
            "\n",
            "The \"Get Out of Jail Free\" card is held until used and then returned to the bottom of the deck. If the player who draws it does not wish to use it, helshe may sell it, at any time, to another player at a price agreeable to both.\n",
            "\n",
            "\"INCOME TAX\": If you land here you have two options: You may estimate your tax at $900 and pay the Bank, or you may pay 10% of your total worth to the Bank. Your total worth is all your cash on hand, printed prices of mortgaged and unmortgaged properties and cost price of all buildings you own.\n",
            "\n",
            "You must decide which option you will take before you add up your total worth.\n",
            "\n",
            "\"JAIL\": You land in Jail when. ..(I) your token lands on the space marked \"Go to Jail\"; (2) you draw a card marked \"Go to JailN; or \n",
            "(3) you throw doubles three times in succession.\n",
            "\n",
            "When you are sent to Jail you cannot\n",
            "\n",
            "collect your $200 salary in that move since, regardless of where your token is on the board, you must move it directly into Jail. Your turn ends when you are sent to Jail.\n",
            "\n",
            "If you are not \"sent\" to Jail but in the ordinary course of play land on that space, you are \"Just Visiting,\" you incur no penalty, and you move ahead in the usual manner on your next turn.\n",
            "\n",
            "You get out of Jail by.. .(I) throwing doubles on any of your next three turns; if you succeed in doing this you immediately move forward the number of spaces shown by your doubles throw; even though you had thrown doubles, you do not take another turn; (2) using the \"Get Out of Jail Free\" card if you have it; (3) purchasing the \"Get Out of Jail Free\" card from another player and playing it; (4) paying a fine of $50 before you roll the dice on either of your next two turns.\n",
            "\n",
            "If you do not throw doubles by your third turn, you must pay the $50 fine. You then get out of Jail and immediately move forward the number of spaces shown by your throw.\n",
            "\n",
            "Even though you are in Jail, you may buy and sell property, buy and sell houses and hotels and collect rents.\n",
            "\n",
            "\"FREE PARKING\": A player landing on this place does not receive any money, property or reward of any kind. This is just a \"free\" resting place.\n",
            "\n",
            "HOUSES: When you own all the propert~es in a color-group you may buy houses from the Bank and erect them on those properties.\n",
            "\n",
            "If you buy one house, you may put it on any\n",
            "\n",
            "one of those properties. The next house you buy must be erected on one of the unimproved properties of this or any other complete colorgroup you may own.\n",
            "\n",
            "The price you must pay the Bank for each house is shown on your ltle Deed card for the property on which you erect the house.\n",
            "\n",
            "The owner still collects double rent from an opponent who lands on the unimproved properties of hisher complete color-group.\n",
            "\n",
            "Following the above rules, you may buy and erect at any time as many houses as your judgement and financial standing will allow. But you must build evenly, i.e., you cannot erect more than one house on any one property of any color-group until you have built one house on wery property of that group. You may then begin on the second row of houses, and so on, up to a limit of four houses to a property. For example, you cannot build three houses on one property if you have only one house on another property of that group.\n",
            "\n",
            "As you build evenly, you must also break down evenly ifyou sell houses back to the Bank (see SELLING PROPERTY).\n",
            "\n",
            "HOTELS: When a player has four houses on each property of a complete color-group, hdshe may buy a hotel from the Bank and erect it on any property of the color-group. Hdshe returns the four houses from that property to the Bank and pays the price for the hotel as shown on the Ttle Deed card. Only one hotel may be erected on any one property.\n",
            "\n",
            "BUILDING SHORTAGES: When the Bank has no houses to sell, players wishing to build must wait for some player to return or sell histher houses to the Bank before building. If there are a limited number of houses and hotels available and two or more players wish to buy more than the Bank has, the houses or hotels must be sold at auction to the highest bidder.\n",
            "\n",
            "SELLING PROPERN: Unimproved properties, railroads and util~ties \n",
            "(but not buildings) may be sold to any player as a private transaction for any amount the owner can get; however, no property can be sold to - \n",
            "another player if buildings are standing on any properties of that colorgroup. Any buildings so located must be sold back to the Bank before the owner can sell any property of that color-group.\n",
            "\n",
            "Houses and hotels may be sold back to the Bank at any time for one-half the price paid for them.\n",
            "\n",
            "All houses on one color-group must be sold one by one, evenly, in reverse of the manner in which they were erected.\n",
            "\n",
            "All hotels on one color-group may be sold at once, or they may be sold one house at a time (one hotel equals five houses), evenly, in reverse of the manner in which they were erected.\n",
            "\n",
            "MORTGAGES: Unimproved properties can be mortgaged through the Bank at any time. Before an improved property can be mortgaged, all the buildings on all the properties of its color-group must be sold back to the Bank at half price. The mortgage value is printed on each Title Deed card.\n",
            "\n",
            "No rent can be collected on mortgaged properties or utilities, but rent can be collected on unmortgaged properties in the same group.\n",
            "\n",
            "In order to lift the mortgage, the owner must pay the Bank the amount of the mortgage plus 10% interest. When all the propert~es of a color-group are no longer mortgaged, the owner may begin to buy back houses at full price.\n",
            "\n",
            "The player who mortgages property retains possession of it and no other player may secure it by lifting the mortgage from the Bank.\n",
            "\n",
            "However, the owner may sell this mortgaged property to another player at any agreed price. If you are the new owner, you may lift the mortgage at once if you wish by paying off the mortgage plus 10% interest to the Bank. If the mortgage is not lifted at once, you must pay the Bank 10% interest when you buy the property and if you lift the mortgage later you must pay the Bank an additional 10% interest as well as the amount of the mortgage.\n",
            "\n",
            "BANKRUPTCY.. You are declared bankrupt if you owe more than you\n",
            "\n",
            "can pay either to another player or to the Bank. If your , \n",
            "debt is to another player, you must tum over to that player all that you have of value and retire from the game. In making this settlement, if you own houses or hotels, you must retum these to the Bank in exchange for money to the extent of one-half the amount paid for them; this cash is given to the creditor. If you have mortgaged property you also turn this property over to your creditor but the new owner must at once pay .\n",
            "\n",
            "the Bank the amount of interest on the loan, which is 10% of the value of the property. The new owner who does this may then, at hislher option, pay the principal or hold the property until some later turn, then lift the mortgage. If helshe holds property in this way until a later turn, helshe must pay the interest again upon lifting the mortgage.\n",
            "\n",
            "Should you owe the Bank, instead of another player, more than you can pay (because of taxes or penalties) even by selling off buildings and mortgaging property, you must turn over all assets to the Bank. In this case, the Bank immediately sells by auction all property so taken, except buildings. A bankrupt player must immediately retire from the game. The last player left in the game wins.\n",
            "\n",
            "MISCEUANEOUS: Money can be loaned to a player only by the Bank and then only by mortgaging property. No player may borrow from or lend money to another player. L \n",
            "We will be happy to hear your questions or comments about this game. Write to: Hasbro Games, Consumer Affairs Dept., P.O. Box 200, Pawtucket, RI 02862. Tel: 888-836-7025 \n",
            "(toll free). Canadian consumers please write to: Hasbro Canada Corporation, 2350 de la Province, Longueuil, QC Canada, J4G 1G2.\n",
            "\n",
            "The HASBRO, PARKER BROTHERS, and MONOPOLY names and logos, the distinctive design of\n",
            "\n",
            "the gameboard, the four comer squares, the MR. MONOPOLY name and character, and each of the \n",
            "distinctive elements of the board and rules are trademarks of Hasbro for its property trading game \n",
            "and game equipment. 02004,2007 Hasbro, Pawtucket, RI 02862.\n",
            "\n",
            "All Rights Reserved. TM & @3 denote U.S. Trademarks. \n",
            "00009-1 PROOF OF PURCHASE I' metadata={'source': '/content/rag-tutorial-v2/data/md/monopoly.md'}\n"
          ]
        }
      ],
      "source": [
        "# Print an example document\n",
        "documents = load_documents()\n",
        "print(documents[0])"
      ]
    },
    {
      "cell_type": "markdown",
      "metadata": {
        "id": "5g-GBrWbgH8z"
      },
      "source": [
        "# Split the Documents"
      ]
    },
    {
      "cell_type": "markdown",
      "metadata": {
        "id": "fNaU4JSHgT8j"
      },
      "source": [
        "## Define Function"
      ]
    },
    {
      "cell_type": "code",
      "execution_count": null,
      "metadata": {
        "id": "xS_s0T_LgO7D"
      },
      "outputs": [],
      "source": [
        "from langchain_text_splitters import RecursiveCharacterTextSplitter\n",
        "from langchain.schema.document import Document\n",
        "\n",
        "\n",
        "def split_documents(documents: list[Document]):\n",
        "    text_splitter = RecursiveCharacterTextSplitter(\n",
        "        chunk_size=800,\n",
        "        chunk_overlap=80,\n",
        "        length_function=len,\n",
        "        is_separator_regex=False,\n",
        "    )\n",
        "    return text_splitter.split_documents(documents)"
      ]
    },
    {
      "cell_type": "code",
      "execution_count": null,
      "metadata": {
        "colab": {
          "base_uri": "https://localhost:8080/"
        },
        "id": "QG2r1hRLg01T",
        "outputId": "da37f8e2-5918-4ae4-e793-a87d08734fcc"
      },
      "outputs": [
        {
          "name": "stdout",
          "output_type": "stream",
          "text": [
            "Split 3 documents into 74 chunks.\n",
            "page_content='MONOPOLY\n",
            "\n",
            "Property Trading Game from Parker Brothers\" \n",
            "AGES 8+\n",
            "\n",
            "2 to 8 Players Contents: Gameboard, 3 dice, tokens, 32 houses, I2 hotels, Chance and Community Chest cards, Title Deed cards, play money and a Banker's tray.\n",
            "\n",
            "Now there's a faster way to play MONOPOLY. Choose to play by the classic rules for buying, renting and selling properties or use the Speed Die to get into the action faster. If you've never played the classic MONOPOLY game, refer to the Classic Rules beginning on the next page.\n",
            "\n",
            "If you already know how to play and want to use the Speed Die, just read the section below for the additional Speed Die rules.\n",
            "\n",
            "Speed Die Rules\n",
            "\n",
            "Learnins how to Play with the S~eed Die IS as\n",
            "\n",
            "/ fast as playing with i't.' metadata={'source': '/content/rag-tutorial-v2/data/md/monopoly.md'}\n"
          ]
        }
      ],
      "source": [
        "documents = load_documents()\n",
        "chunks = split_documents(documents)\n",
        "print(f\"Split {len(documents)} documents into {len(chunks)} chunks.\")\n",
        "print(chunks[0])"
      ]
    },
    {
      "cell_type": "markdown",
      "metadata": {
        "id": "z93F2S6UhBki"
      },
      "source": [
        "# Embedding Function\n",
        "- https://python.langchain.com/v0.2/docs/integrations/text_embedding/\n",
        "\n",
        "\n",
        "- Create embedding for each chunk\n",
        "- Needed in 2 places\n",
        "  1. When we create database\n",
        "  2. When we query the database\n",
        "- Need to use the same embedding function"
      ]
    },
    {
      "cell_type": "markdown",
      "metadata": {
        "id": "DRvEITTsiI4a"
      },
      "source": [
        "## Import Libraries"
      ]
    },
    {
      "cell_type": "code",
      "execution_count": null,
      "metadata": {
        "id": "aKhCbzcciK0z"
      },
      "outputs": [],
      "source": [
        "from langchain_community.embeddings.ollama import OllamaEmbeddings\n",
        "from langchain.embeddings import OpenAIEmbeddings\n",
        "import os"
      ]
    },
    {
      "cell_type": "markdown",
      "metadata": {
        "id": "MVgEZV--iLra"
      },
      "source": [
        "## Define Functions"
      ]
    },
    {
      "cell_type": "code",
      "execution_count": null,
      "metadata": {
        "id": "GCZ23K9jhFFy"
      },
      "outputs": [],
      "source": [
        "def get_embedding_function():\n",
        "    \"\"\"\n",
        "    Purpose/Usage:\n",
        "    This function creates and returns an embedding function for processing text using a model.\n",
        "\n",
        "    Inputs:\n",
        "    - None\n",
        "\n",
        "    Outputs/Returns:\n",
        "    - An object that can be used to compute embeddings for text using the OpenAIEmbeddings class.\n",
        "    \"\"\"\n",
        "    embeddings = OpenAIEmbeddings()\n",
        "    return embeddings"
      ]
    },
    {
      "cell_type": "markdown",
      "metadata": {
        "id": "6kIuUYRhjiwy"
      },
      "source": [
        "# Populate Database"
      ]
    },
    {
      "cell_type": "markdown",
      "metadata": {
        "id": "Ou5TREick8BD"
      },
      "source": [
        "## Import Libraries"
      ]
    },
    {
      "cell_type": "code",
      "execution_count": null,
      "metadata": {
        "id": "_KwHYSjuk9TL"
      },
      "outputs": [],
      "source": [
        "import shutil\n",
        "from langchain.document_loaders.pdf import PyPDFDirectoryLoader\n",
        "from langchain_text_splitters import RecursiveCharacterTextSplitter\n",
        "from langchain.schema.document import Document\n",
        "from langchain.vectorstores.chroma import Chroma"
      ]
    },
    {
      "cell_type": "markdown",
      "metadata": {
        "id": "KZcE7RYWlCVk"
      },
      "source": [
        "## Define Functions"
      ]
    },
    {
      "cell_type": "code",
      "execution_count": null,
      "metadata": {
        "id": "kHNDtdlRlDjT"
      },
      "outputs": [],
      "source": [
        "def process_documents(reset=False):\n",
        "    \"\"\"\n",
        "    Purpose/Usage:\n",
        "    This function processes documents by optionally clearing the database, loading documents, splitting them into chunks, and adding them to a Chroma vector store.\n",
        "\n",
        "    Inputs:\n",
        "    - reset (bool): If True, the database will be cleared before processing documents.\n",
        "\n",
        "    Outputs/Returns:\n",
        "    - None\n",
        "    \"\"\"\n",
        "    if reset:\n",
        "        print(\"✨ Clearing Database\")\n",
        "        clear_database()\n",
        "\n",
        "    documents = load_documents()\n",
        "    chunks = split_documents(documents)\n",
        "    add_to_chroma(chunks)\n",
        "\n",
        "\n",
        "def split_documents(documents: list[Document]):\n",
        "    \"\"\"\n",
        "    Purpose/Usage:\n",
        "    Splits documents into smaller chunks for easier processing.\n",
        "\n",
        "    Inputs:\n",
        "    - documents (list[Document]): A list of Document objects to be split.\n",
        "\n",
        "    Outputs/Returns:\n",
        "    - A list of Document chunks.\n",
        "    \"\"\"\n",
        "    text_splitter = RecursiveCharacterTextSplitter(\n",
        "        chunk_size=800,\n",
        "        chunk_overlap=80,\n",
        "        length_function=len,\n",
        "        is_separator_regex=False,\n",
        "    )\n",
        "    return text_splitter.split_documents(documents)\n",
        "\n",
        "\n",
        "def add_to_chroma(chunks: list[Document]):\n",
        "    \"\"\"\n",
        "    Purpose/Usage:\n",
        "    Adds document chunks to a Chroma vector store, updating the store with new documents.\n",
        "\n",
        "    Inputs:\n",
        "    - chunks (list[Document]): A list of Document chunks to be added to the vector store.\n",
        "\n",
        "    Outputs/Returns:\n",
        "    - None\n",
        "    \"\"\"\n",
        "    db = Chroma(\n",
        "        persist_directory=CHROMA_PATH, embedding_function=get_embedding_function()\n",
        "    )\n",
        "\n",
        "    chunks_with_ids = calculate_chunk_ids(chunks)\n",
        "\n",
        "    # Go through all items in the database, and get their chunk id\n",
        "    existing_items = db.get(include=[])  # IDs are always included by default\n",
        "    existing_ids = set(existing_items[\"ids\"])\n",
        "    print(f\"Number of existing documents in DB: {len(existing_ids)}\")\n",
        "\n",
        "    # Only add chunk with id that doesn't exist in the database\n",
        "    new_chunks = []\n",
        "    for chunk in chunks_with_ids:\n",
        "        if chunk.metadata[\"id\"] not in existing_ids:\n",
        "            new_chunks.append(chunk)\n",
        "\n",
        "    if len(new_chunks):\n",
        "        print(f\"👉 Adding new documents: {len(new_chunks)}\")\n",
        "        new_chunk_ids = [chunk.metadata[\"id\"] for chunk in new_chunks]\n",
        "        db.add_documents(new_chunks, ids=new_chunk_ids)\n",
        "        db.persist()\n",
        "    else:\n",
        "        print(\"✅ No new documents to add\")\n",
        "\n",
        "\n",
        "def calculate_chunk_ids(chunks):\n",
        "    \"\"\"\n",
        "    Purpose/Usage:\n",
        "    Calculates unique IDs for each document chunk based on its source, page number, and chunk index.\n",
        "\n",
        "    Inputs:\n",
        "    - chunks (list[Document]): A list of Document chunks.\n",
        "\n",
        "    Outputs/Returns:\n",
        "    - A list of Document chunks with updated metadata containing unique IDs.\n",
        "    \"\"\"\n",
        "    last_page_id = None\n",
        "    current_chunk_index = 0\n",
        "\n",
        "    # Loop through all the chunks\n",
        "    for chunk in chunks:\n",
        "        # Look into their metadata\n",
        "        source = chunk.metadata.get(\"source\")\n",
        "        page = chunk.metadata.get(\"page\")\n",
        "        # Concatenate source and page to make chunk id\n",
        "        current_page_id = f\"{source}:{page}\"\n",
        "\n",
        "        if current_page_id == last_page_id:\n",
        "            current_chunk_index += 1\n",
        "        # For each new page reset the chunk index\n",
        "        else:\n",
        "            current_chunk_index = 0\n",
        "\n",
        "        chunk_id = f\"{current_page_id}:{current_chunk_index}\"\n",
        "        last_page_id = current_page_id\n",
        "\n",
        "        # Add id to the chunk metadata\n",
        "        chunk.metadata[\"id\"] = chunk_id\n",
        "\n",
        "    return chunks\n",
        "\n",
        "\n",
        "def clear_database():\n",
        "    \"\"\"\n",
        "    Purpose/Usage:\n",
        "    Clears the Chroma vector store database by deleting the specified directory.\n",
        "\n",
        "    Inputs:\n",
        "    - None\n",
        "\n",
        "    Outputs/Returns:\n",
        "    - None\n",
        "    \"\"\"\n",
        "    if os.path.exists(CHROMA_PATH):\n",
        "        shutil.rmtree(CHROMA_PATH)"
      ]
    },
    {
      "cell_type": "code",
      "execution_count": null,
      "metadata": {
        "colab": {
          "base_uri": "https://localhost:8080/"
        },
        "id": "71tl51Rejlea",
        "outputId": "039643b1-ea06-49d7-9092-fe05ed2b0c7f"
      },
      "outputs": [
        {
          "name": "stdout",
          "output_type": "stream",
          "text": [
            "✨ Clearing Database\n"
          ]
        },
        {
          "name": "stderr",
          "output_type": "stream",
          "text": [
            "/usr/local/lib/python3.10/dist-packages/langchain_core/_api/deprecation.py:151: LangChainDeprecationWarning: The class `OpenAIEmbeddings` was deprecated in LangChain 0.0.9 and will be removed in 0.3.0. An updated version of the class exists in the langchain-openai package and should be used instead. To use it run `pip install -U langchain-openai` and import as `from langchain_openai import OpenAIEmbeddings`.\n",
            "  warn_deprecated(\n"
          ]
        },
        {
          "name": "stdout",
          "output_type": "stream",
          "text": [
            "Number of existing documents in DB: 0\n",
            "👉 Adding new documents: 74\n"
          ]
        },
        {
          "name": "stderr",
          "output_type": "stream",
          "text": [
            "/usr/local/lib/python3.10/dist-packages/langchain_core/_api/deprecation.py:151: LangChainDeprecationWarning: Since Chroma 0.4.x the manual persistence method is no longer supported as docs are automatically persisted.\n",
            "  warn_deprecated(\n"
          ]
        }
      ],
      "source": [
        "process_documents(reset=True)"
      ]
    },
    {
      "cell_type": "code",
      "execution_count": null,
      "metadata": {
        "colab": {
          "base_uri": "https://localhost:8080/"
        },
        "id": "WnVTUpnbwSlr",
        "outputId": "167abc48-9170-445e-f3b7-6663f4883354"
      },
      "outputs": [
        {
          "name": "stdout",
          "output_type": "stream",
          "text": [
            "  adding: chroma/ (stored 0%)\n",
            "  adding: chroma/chroma.sqlite3 (deflated 50%)\n",
            "  adding: chroma/29f2785b-046b-4b17-8b0d-b13eeda72037/ (stored 0%)\n",
            "  adding: chroma/29f2785b-046b-4b17-8b0d-b13eeda72037/data_level0.bin (deflated 100%)\n",
            "  adding: chroma/29f2785b-046b-4b17-8b0d-b13eeda72037/link_lists.bin (stored 0%)\n",
            "  adding: chroma/29f2785b-046b-4b17-8b0d-b13eeda72037/header.bin (deflated 61%)\n",
            "  adding: chroma/29f2785b-046b-4b17-8b0d-b13eeda72037/length.bin (deflated 48%)\n"
          ]
        }
      ],
      "source": [
        "!zip -r /content/chroma.zip {CHROMA_PATH} -x \"*content*\""
      ]
    },
    {
      "cell_type": "code",
      "execution_count": null,
      "metadata": {
        "colab": {
          "base_uri": "https://localhost:8080/",
          "height": 17
        },
        "id": "xy3r7PviwUHi",
        "outputId": "095d6eb9-7d3c-470e-b1d8-5cb0642e0ebe"
      },
      "outputs": [
        {
          "data": {
            "application/javascript": "\n    async function download(id, filename, size) {\n      if (!google.colab.kernel.accessAllowed) {\n        return;\n      }\n      const div = document.createElement('div');\n      const label = document.createElement('label');\n      label.textContent = `Downloading \"${filename}\": `;\n      div.appendChild(label);\n      const progress = document.createElement('progress');\n      progress.max = size;\n      div.appendChild(progress);\n      document.body.appendChild(div);\n\n      const buffers = [];\n      let downloaded = 0;\n\n      const channel = await google.colab.kernel.comms.open(id);\n      // Send a message to notify the kernel that we're ready.\n      channel.send({})\n\n      for await (const message of channel.messages) {\n        // Send a message to notify the kernel that we're ready.\n        channel.send({})\n        if (message.buffers) {\n          for (const buffer of message.buffers) {\n            buffers.push(buffer);\n            downloaded += buffer.byteLength;\n            progress.value = downloaded;\n          }\n        }\n      }\n      const blob = new Blob(buffers, {type: 'application/binary'});\n      const a = document.createElement('a');\n      a.href = window.URL.createObjectURL(blob);\n      a.download = filename;\n      div.appendChild(a);\n      a.click();\n      div.remove();\n    }\n  ",
            "text/plain": [
              "<IPython.core.display.Javascript object>"
            ]
          },
          "metadata": {},
          "output_type": "display_data"
        },
        {
          "data": {
            "application/javascript": "download(\"download_f02509aa-28dd-4908-87bb-3648c186fd01\", \"chroma.zip\", 574021)",
            "text/plain": [
              "<IPython.core.display.Javascript object>"
            ]
          },
          "metadata": {},
          "output_type": "display_data"
        }
      ],
      "source": [
        "from google.colab import files\n",
        "files.download('/content/chroma.zip')"
      ]
    },
    {
      "cell_type": "markdown",
      "metadata": {
        "id": "WJ_jeU7sojnC"
      },
      "source": [
        "# Query ChromaDB Vector Database"
      ]
    },
    {
      "cell_type": "markdown",
      "metadata": {
        "id": "OOKjJxgbpRIK"
      },
      "source": [
        "## Import Libraries"
      ]
    },
    {
      "cell_type": "code",
      "execution_count": null,
      "metadata": {
        "id": "6ZzrsXNtpSQK"
      },
      "outputs": [],
      "source": [
        "from langchain.vectorstores.chroma import Chroma\n",
        "from langchain.prompts import ChatPromptTemplate\n",
        "from langchain_community.llms.ollama import Ollama\n",
        "from langchain_openai import OpenAIEmbeddings, ChatOpenAI\n",
        "from IPython.display import display, Markdown"
      ]
    },
    {
      "cell_type": "markdown",
      "metadata": {
        "id": "e9HwJ9cypTNz"
      },
      "source": [
        "## Define Prompt Template"
      ]
    },
    {
      "cell_type": "code",
      "execution_count": null,
      "metadata": {
        "id": "hpk_mN3mpc7b"
      },
      "outputs": [],
      "source": [
        "PROMPT_TEMPLATE = \"\"\"\n",
        "Answer the question based only on the following context:\n",
        "\n",
        "{context}\n",
        "\n",
        "---\n",
        "\n",
        "Answer the question based on the above context: {question}\n",
        "\"\"\""
      ]
    },
    {
      "cell_type": "code",
      "execution_count": null,
      "metadata": {
        "id": "OxKV14eIodtM"
      },
      "outputs": [],
      "source": [
        "DEFAULT_MODEL = 'gpt-3.5-turbo'\n",
        "\n",
        "\n",
        "def process_query_gpt_base(query_text: str, _model_name=DEFAULT_MODEL):\n",
        "    \"\"\"\n",
        "    Purpose/Usage:\n",
        "    This function processes a query by searching a database for relevant context and generating a response using a language model.\n",
        "\n",
        "    Inputs:\n",
        "    - query_text (str): The text of the query to be processed.\n",
        "\n",
        "    Outputs/Returns:\n",
        "    - response_text (str): The response generated by the language model based on the query and context.\n",
        "    \"\"\"\n",
        "    embedding_function = get_embedding_function()\n",
        "    db = Chroma(persist_directory=CHROMA_PATH,\n",
        "                embedding_function=embedding_function)\n",
        "\n",
        "    results = db.similarity_search_with_score(query_text, k=5)\n",
        "\n",
        "    context_text = \"\\n\\n---\\n\\n\".join(\n",
        "        [doc.page_content for doc, _score in results])\n",
        "    prompt_template = ChatPromptTemplate.from_template(PROMPT_TEMPLATE)\n",
        "    prompt = prompt_template.format(context=context_text, question=query_text)\n",
        "\n",
        "    model = ChatOpenAI(model_name=_model_name)\n",
        "    response_text = model.invoke(prompt)\n",
        "\n",
        "    sources = [doc.metadata.get(\"id\", None) for doc, _score in results]\n",
        "    formatted_response = f\"Response: {response_text}\\nSources: {sources}\"\n",
        "    print(formatted_response)\n",
        "    return response_text"
      ]
    },
    {
      "cell_type": "code",
      "execution_count": null,
      "metadata": {
        "id": "i6WpJsJGpqTC"
      },
      "outputs": [],
      "source": [
        "def process_query_gpt_str(query_text: str, _model_name=DEFAULT_MODEL):\n",
        "    \"\"\"\n",
        "    Purpose/Usage:\n",
        "    This function processes a query by searching a database for relevant context and generating a response using a language model.\n",
        "\n",
        "    Inputs:\n",
        "    - query_text (str): The text of the query to be processed.\n",
        "\n",
        "    Outputs/Returns:\n",
        "    - response_text (str): The response generated by the language model based on the query and context.\n",
        "    \"\"\"\n",
        "    embedding_function = get_embedding_function()\n",
        "    db = Chroma(persist_directory=CHROMA_PATH,\n",
        "                embedding_function=embedding_function)\n",
        "\n",
        "    results = db.similarity_search_with_score(query_text, k=5)\n",
        "\n",
        "    # Prepare the context text with ID and relevance score for each chunk\n",
        "    context_text = \"\"\n",
        "    sources = []\n",
        "    for doc, score in results:\n",
        "        chunk_id = doc.metadata.get(\"id\", \"Unknown ID\")\n",
        "        sources.append(chunk_id)\n",
        "        context_text += f\"Chunk ID: {chunk_id}\\nRelevance Score: {score:.4f}\\nContent:\\n{doc.page_content}\\n\\n---\\n\\n\"\n",
        "\n",
        "    prompt_template = ChatPromptTemplate.from_template(PROMPT_TEMPLATE)\n",
        "    prompt = prompt_template.format(context=context_text, question=query_text)\n",
        "\n",
        "    model = ChatOpenAI(model_name=_model_name)\n",
        "    response_text = model.invoke(prompt)\n",
        "\n",
        "    formatted_response = (\n",
        "        f\"Response: {response_text}\\n\"\n",
        "        f\"Sources: {sources}\\n\"\n",
        "        f\"Chunks used:\\n{context_text}\"\n",
        "    )\n",
        "    print(formatted_response)\n",
        "    return formatted_response"
      ]
    },
    {
      "cell_type": "code",
      "execution_count": null,
      "metadata": {
        "id": "x3PCSWW0k3_M"
      },
      "outputs": [],
      "source": [
        "def process_query_gpt_md(query_text: str, _model_name=DEFAULT_MODEL):\n",
        "    \"\"\"\n",
        "    Purpose/Usage:\n",
        "    This function processes a query by searching a database for relevant context and generating a response using a language model.\n",
        "\n",
        "    Inputs:\n",
        "    - query_text (str): The text of the query to be processed.\n",
        "\n",
        "    Outputs/Returns:\n",
        "    - None (displays the response as Markdown)\n",
        "    \"\"\"\n",
        "    embedding_function = get_embedding_function()\n",
        "    db = Chroma(persist_directory=CHROMA_PATH,\n",
        "                embedding_function=embedding_function)\n",
        "\n",
        "    results = db.similarity_search_with_score(query_text, k=5)\n",
        "\n",
        "    # Prepare the context text with ID, relevance score, and content formatted in Markdown\n",
        "    context_text = \"\"\n",
        "    sources = []\n",
        "    for i, (doc, score) in enumerate(results):\n",
        "        chunk_id = doc.metadata.get(\"id\", \"Unknown ID\")\n",
        "        sources.append(chunk_id)\n",
        "        context_text += f\"### Chunk {i+1} - ID: {chunk_id}\\n\"\n",
        "        context_text += f\"**Relevance Score:** {score:.4f}\\n\\n\"\n",
        "        context_text += f\"**Content:**\\n```\\n{doc.page_content}\\n```\\n\\n---\\n\\n\"\n",
        "\n",
        "    prompt_template = ChatPromptTemplate.from_template(PROMPT_TEMPLATE)\n",
        "    prompt = prompt_template.format(context=context_text, question=query_text)\n",
        "\n",
        "    model = ChatOpenAI(model_name=_model_name)\n",
        "    response = model.invoke(prompt)\n",
        "\n",
        "    # Extract response metadata\n",
        "    response_metadata = response.response_metadata\n",
        "    usage_metadata = response.usage_metadata\n",
        "\n",
        "    # Format the response as Markdown\n",
        "    markdown_response = (\n",
        "        f\"## Response\\n\"\n",
        "        f\"{response.content}\\n\\n\"\n",
        "        f\"## Sources\\n\"\n",
        "        + \"\\n\".join(f\"- {source}\" for source in sources if source) + \"\\n\\n\"\n",
        "        f\"## Chunks Used\\n\\n\"\n",
        "        f\"{context_text}\"\n",
        "        f\"## Response Metadata\\n\"\n",
        "        f\"- **Token Usage:**\\n\"\n",
        "        f\"  - Completion Tokens: {response_metadata['token_usage']['completion_tokens']}\\n\"\n",
        "        f\"  - Prompt Tokens: {response_metadata['token_usage']['prompt_tokens']}\\n\"\n",
        "        f\"  - Total Tokens: {response_metadata['token_usage']['total_tokens']}\\n\"\n",
        "        f\"- **Model Name:** {response_metadata['model_name']}\\n\"\n",
        "        f\"- **System Fingerprint:** {response_metadata.get('system_fingerprint', 'None')}\\n\"\n",
        "        f\"- **Finish Reason:** {response_metadata['finish_reason']}\\n\"\n",
        "        f\"- **Logprobs:** {response_metadata.get('logprobs', 'None')}\\n\"\n",
        "        f\"## ID\\n\"\n",
        "        f\"- **Run ID:** {response.id}\\n\"\n",
        "        f\"## Usage Metadata\\n\"\n",
        "        f\"- **Input Tokens:** {usage_metadata['input_tokens']}\\n\"\n",
        "        f\"- **Output Tokens:** {usage_metadata['output_tokens']}\\n\"\n",
        "        f\"- **Total Tokens:** {usage_metadata['total_tokens']}\\n\"\n",
        "    )\n",
        "\n",
        "    # Display the response as Markdown\n",
        "    display(Markdown(markdown_response))"
      ]
    },
    {
      "cell_type": "markdown",
      "metadata": {
        "id": "-t_bNksuYhcE"
      },
      "source": [
        "## Example Usage"
      ]
    },
    {
      "cell_type": "code",
      "execution_count": null,
      "metadata": {
        "colab": {
          "base_uri": "https://localhost:8080/",
          "height": 1000
        },
        "id": "hPQA-syeYbLr",
        "outputId": "686fba15-a71c-4204-adaf-59c147cb51bd"
      },
      "outputs": [
        {
          "data": {
            "text/markdown": [
              "## Response\n",
              "In Codenames, you can give only one clue at a time, but that clue can relate to multiple words. You are allowed to give a clue for only one word (e.g., \"cashew: 1\"), but you can also attempt to link it to two or more words (e.g., \"tree: 2\"). However, your clue must always be a single word.\n",
              "\n",
              "## Sources\n",
              "- /content/rag-tutorial-v2/data/md/codenames-rules-en.md:None:4\n",
              "- /content/rag-tutorial-v2/data/md/codenames-rules-en.md:None:3\n",
              "- /content/rag-tutorial-v2/data/md/codenames-rules-en.md:None:7\n",
              "- /content/rag-tutorial-v2/data/md/codenames-rules-en.md:None:9\n",
              "- /content/rag-tutorial-v2/data/md/codenames-rules-en.md:None:12\n",
              "\n",
              "## Chunks Used\n",
              "\n",
              "### Chunk 1 - ID: /content/rag-tutorial-v2/data/md/codenames-rules-en.md:None:4\n",
              "**Relevance Score:** 0.2275\n",
              "\n",
              "**Content:**\n",
              "```\n",
              "Giving A Clue\n",
              "\n",
              "If you are the spymaster, you are trying to think of a one-word clue that relates to some of the words your team is trying to guess. When you think you have a good clue, you say it. You also say one number, which tells your teammates how many codenames are related to your clue. Example: Two of your words are NUT and BARK. Both of these grow on trees, so you say tree: 2.\n",
              "\n",
              "You are allowed to give a clue for only one word (cashew: 1) but it's fun to try for two or more. Getting four words with one clue is a big accomplishment.\n",
              "\n",
              "One Word\n",
              "\n",
              "Your clue must be only one word. You are not allowed to give extra hints. For example, don't say, \"This may be a bit of a stretch…\" You are playing Codenames. It's always a bit of a stretch.\n",
              "```\n",
              "\n",
              "---\n",
              "\n",
              "### Chunk 2 - ID: /content/rag-tutorial-v2/data/md/codenames-rules-en.md:None:3\n",
              "**Relevance Score:** 0.2573\n",
              "\n",
              "**Content:**\n",
              "```\n",
              "Spymasters take turns giving one-word clues. A clue may relate to multiple words on the table. The field operatives try to guess which words their spymaster meant. When a field operative touches a word, the spymaster reveals its secret identity. If the field operatives guess correctly, they may continue guessing, until they run out of ideas for the given clue or until they hit a wrong person. Then it is the other team's turn to give a clue and guess. The first team to contact all their agents wins the game.\n",
              "\n",
              "GAME PLAY\n",
              "\n",
              "4\n",
              "Teams take turns. The starting team is indicated by the 4 lights on the edges of the key card.\n",
              "\n",
              "Giving A Clue\n",
              "```\n",
              "\n",
              "---\n",
              "\n",
              "### Chunk 3 - ID: /content/rag-tutorial-v2/data/md/codenames-rules-en.md:None:7\n",
              "**Relevance Score:** 0.2806\n",
              "\n",
              "**Content:**\n",
              "```\n",
              "You can stop guessing at any time, but usually you want to guess as many words as the spymaster said. Sometimes you might even want to guess one more:\n",
              "Example: Red Team's first clue was tree: 2. The red operative wanted to guess ORANGE and NUT. She guessed ORANGE first. That was an innocent bystander, so she did not get a chance to guess NUT. Blue Team took a turn and correctly guessed two words. Now it is Red Team's turn again.\n",
              "\n",
              "The red spymaster says river: 3. The red operative is pretty sure the AMAZON is a river, so she touches that card. The spymaster covers it with a red agent card, so she gets to go again. A river has a BED, so she touches that codename. It's also red, so she can go again.\n",
              "```\n",
              "\n",
              "---\n",
              "\n",
              "### Chunk 4 - ID: /content/rag-tutorial-v2/data/md/codenames-rules-en.md:None:9\n",
              "**Relevance Score:** 0.2863\n",
              "\n",
              "**Content:**\n",
              "```\n",
              "Game Flow\n",
              "\n",
              "Spymasters take turns giving clues. After a spymaster gives a clue, his or her team starts guessing. Their turn ends when they guess wrong, when they decide to stop, or when they have made the maximum number of guesses for that clue. Then it is the other team's turn.\n",
              "\n",
              "Ending The Game\n",
              "\n",
              "The game ends when one team has all their words covered. That team wins.\n",
              "\n",
              "It is possible to win on the other team's turn if they guess your last word. The game can end early if a field operative makes contact with the assassin. That operative's team loses.\n",
              "\n",
              "Setup For The Next Game\n",
              "\n",
              "Do other people want a chance to be spymasters? Setup for the second game is easy. Remove the cards covering the codenames and put them back in their stacks. Now just flip over the 25 codenames, and you're ready to go!\n",
              "```\n",
              "\n",
              "---\n",
              "\n",
              "### Chunk 5 - ID: /content/rag-tutorial-v2/data/md/codenames-rules-en.md:None:12\n",
              "**Relevance Score:** 0.2924\n",
              "\n",
              "**Content:**\n",
              "```\n",
              "If you prefer to play with strict time limits, you can download our timer app at codenamesgame.com.\n",
              "\n",
              "Valid Clues\n",
              "\n",
              "We playtested various rules. Some groups like the rules one way. Some like the rules another way. You should experiment to find out what your group likes.\n",
              "\n",
              "Firm Rules\n",
              "\n",
              "Some clues are invalid because they violate the spirit of the game.\n",
              "\n",
              "Your clue must be about the meaning of the words. You can't use your clue to talk about the letters in a word or its position on the table.\n",
              "```\n",
              "\n",
              "---\n",
              "\n",
              "## Response Metadata\n",
              "- **Token Usage:**\n",
              "  - Completion Tokens: 80\n",
              "  - Prompt Tokens: 1079\n",
              "  - Total Tokens: 1159\n",
              "- **Model Name:** gpt-4o-mini\n",
              "- **System Fingerprint:** fp_f3db212e1c\n",
              "- **Finish Reason:** stop\n",
              "- **Logprobs:** None\n",
              "## ID\n",
              "- **Run ID:** run-31d6b0b2-c576-442b-8373-ee65997b348b-0\n",
              "## Usage Metadata\n",
              "- **Input Tokens:** 1079\n",
              "- **Output Tokens:** 80\n",
              "- **Total Tokens:** 1159\n"
            ],
            "text/plain": [
              "<IPython.core.display.Markdown object>"
            ]
          },
          "metadata": {},
          "output_type": "display_data"
        }
      ],
      "source": [
        "query_text = \"How many clues can I give in Codenames?\"\n",
        "response = process_query_gpt_md(query_text, _model_name=\"gpt-4o-mini\")"
      ]
    },
    {
      "cell_type": "code",
      "execution_count": null,
      "metadata": {
        "colab": {
          "base_uri": "https://localhost:8080/",
          "height": 1000
        },
        "id": "ZwnsKrcQYiwC",
        "outputId": "3c41d2d4-dda6-4996-d092-f8182088b2ff"
      },
      "outputs": [
        {
          "data": {
            "text/markdown": [
              "## Response\n",
              "You can get out of jail in Monopoly by:\n",
              "\n",
              "1. Throwing doubles on any of your next three turns. If you succeed, you move forward the number of spaces shown by your doubles throw but do not take another turn.\n",
              "2. Using a \"Get Out of Jail Free\" card if you have it.\n",
              "3. Purchasing a \"Get Out of Jail Free\" card from another player and playing it.\n",
              "4. Paying a fine of $50 before you roll the dice on either of your next two turns.\n",
              "\n",
              "If you do not throw doubles by your third turn, you must pay the $50 fine to get out and then move forward the number of spaces shown by your throw.\n",
              "\n",
              "## Sources\n",
              "- /content/rag-tutorial-v2/data/md/monopoly.md:None:13\n",
              "- /content/rag-tutorial-v2/data/md/monopoly.md:None:11\n",
              "- /content/rag-tutorial-v2/data/md/monopoly.md:None:12\n",
              "- /content/rag-tutorial-v2/data/md/monopoly.md:None:2\n",
              "- /content/rag-tutorial-v2/data/md/monopoly.md:None:3\n",
              "\n",
              "## Chunks Used\n",
              "\n",
              "### Chunk 1 - ID: /content/rag-tutorial-v2/data/md/monopoly.md:None:13\n",
              "**Relevance Score:** 0.2375\n",
              "\n",
              "**Content:**\n",
              "```\n",
              "You get out of Jail by.. .(I) throwing doubles on any of your next three turns; if you succeed in doing this you immediately move forward the number of spaces shown by your doubles throw; even though you had thrown doubles, you do not take another turn; (2) using the \"Get Out of Jail Free\" card if you have it; (3) purchasing the \"Get Out of Jail Free\" card from another player and playing it; (4) paying a fine of $50 before you roll the dice on either of your next two turns.\n",
              "\n",
              "If you do not throw doubles by your third turn, you must pay the $50 fine. You then get out of Jail and immediately move forward the number of spaces shown by your throw.\n",
              "\n",
              "Even though you are in Jail, you may buy and sell property, buy and sell houses and hotels and collect rents.\n",
              "```\n",
              "\n",
              "---\n",
              "\n",
              "### Chunk 2 - ID: /content/rag-tutorial-v2/data/md/monopoly.md:None:11\n",
              "**Relevance Score:** 0.2950\n",
              "\n",
              "**Content:**\n",
              "```\n",
              "\"CHANCE\" AND \"COMMUNITY CHEST\": When you land on either of these spaces, take the top card from the deck indicated, follow the instructions and return the card facedown to the bottom of the deck.\n",
              "\n",
              "The \"Get Out of Jail Free\" card is held until used and then returned to the bottom of the deck. If the player who draws it does not wish to use it, helshe may sell it, at any time, to another player at a price agreeable to both.\n",
              "\n",
              "\"INCOME TAX\": If you land here you have two options: You may estimate your tax at $900 and pay the Bank, or you may pay 10% of your total worth to the Bank. Your total worth is all your cash on hand, printed prices of mortgaged and unmortgaged properties and cost price of all buildings you own.\n",
              "```\n",
              "\n",
              "---\n",
              "\n",
              "### Chunk 3 - ID: /content/rag-tutorial-v2/data/md/monopoly.md:None:12\n",
              "**Relevance Score:** 0.2965\n",
              "\n",
              "**Content:**\n",
              "```\n",
              "You must decide which option you will take before you add up your total worth.\n",
              "\n",
              "\"JAIL\": You land in Jail when. ..(I) your token lands on the space marked \"Go to Jail\"; (2) you draw a card marked \"Go to JailN; or \n",
              "(3) you throw doubles three times in succession.\n",
              "\n",
              "When you are sent to Jail you cannot\n",
              "\n",
              "collect your $200 salary in that move since, regardless of where your token is on the board, you must move it directly into Jail. Your turn ends when you are sent to Jail.\n",
              "\n",
              "If you are not \"sent\" to Jail but in the ordinary course of play land on that space, you are \"Just Visiting,\" you incur no penalty, and you move ahead in the usual manner on your next turn.\n",
              "```\n",
              "\n",
              "---\n",
              "\n",
              "### Chunk 4 - ID: /content/rag-tutorial-v2/data/md/monopoly.md:None:2\n",
              "**Relevance Score:** 0.3061\n",
              "\n",
              "**Content:**\n",
              "```\n",
              "Bus: This lets you \"get off the bus early.\" Look at the two white\n",
              "\n",
              "dice. You can move the value of one die, the other die, or the sum of both dice. So if you rolled a 1 and a 5, you can move 1 space, 5 spaces, or 6 spaces: \\t's your choice.\n",
              "\n",
              "Mr. Monopoly: First, move the sum of the two white dice\n",
              "\n",
              "and resolve the space you land on (such as drawing a card, buying the property, paying rent, etc.). Then, one of two things will happen depending on whether or not there is still property in the bank.\n",
              "\n",
              "YES, there is property in the bank -Advance to the NEXT \n",
              "property that the bank still holds and buy it if you wish. If you don't want to buy this property, move to the space anyway and put the property up for auction.\n",
              "```\n",
              "\n",
              "---\n",
              "\n",
              "### Chunk 5 - ID: /content/rag-tutorial-v2/data/md/monopoly.md:None:3\n",
              "**Relevance Score:** 0.3241\n",
              "\n",
              "**Content:**\n",
              "```\n",
              "NO, there are no more properties in the bank - Advance to the NOCT property on which you will owe another player money.\n",
              "\n",
              "A few minor details: \n",
              "Only the white dice are used when determining if you rolled doubles.\n",
              "\n",
              "Do not look at the Speed Die.\n",
              "\n",
              "If you roll a three-of-a-kind (all of the dice show the same number), \n",
              "you can move anywhere you want on the board!\n",
              "\n",
              "If you get sent to jail during your move (either by landing on the \"Go to Jail\" space or by rolling doubles three times in a row) then your turn is over and you do not get to use the Speed Die for that turn.\n",
              "\n",
              "Use the white dice ONLY when rolling to get out of jail. L \n",
              "Use the sum of all three dice when determining how much to pay on a utility. Note: The Bus and Mr. Monopoly are valued at 0.\n",
              "\n",
              "Classic Monopow Rules\n",
              "```\n",
              "\n",
              "---\n",
              "\n",
              "## Response Metadata\n",
              "- **Token Usage:**\n",
              "  - Completion Tokens: 137\n",
              "  - Prompt Tokens: 1149\n",
              "  - Total Tokens: 1286\n",
              "- **Model Name:** gpt-4o-mini\n",
              "- **System Fingerprint:** fp_507c9469a1\n",
              "- **Finish Reason:** stop\n",
              "- **Logprobs:** None\n",
              "## ID\n",
              "- **Run ID:** run-9eb2280e-ed62-409c-b654-9f6876159f13-0\n",
              "## Usage Metadata\n",
              "- **Input Tokens:** 1149\n",
              "- **Output Tokens:** 137\n",
              "- **Total Tokens:** 1286\n"
            ],
            "text/plain": [
              "<IPython.core.display.Markdown object>"
            ]
          },
          "metadata": {},
          "output_type": "display_data"
        }
      ],
      "source": [
        "query_text = \"How do I get out of jail in Monopoly?\"\n",
        "response = process_query_gpt_md(query_text, _model_name=\"gpt-4o-mini\")"
      ]
    },
    {
      "cell_type": "code",
      "execution_count": null,
      "metadata": {
        "colab": {
          "base_uri": "https://localhost:8080/",
          "height": 1000
        },
        "id": "mr1-Cf9TYlNz",
        "outputId": "2c2b9ca2-1c06-4abe-c344-5a709940c7c3"
      },
      "outputs": [
        {
          "data": {
            "text/markdown": [
              "## Response\n",
              "The player with the Longest Continuous Path of routes receives a special bonus card and adds 10 points to their score.\n",
              "\n",
              "## Sources\n",
              "- /content/rag-tutorial-v2/data/md/ticket_to_ride.md:None:18\n",
              "- /content/rag-tutorial-v2/data/md/ticket_to_ride.md:None:17\n",
              "- /content/rag-tutorial-v2/data/md/ticket_to_ride.md:None:2\n",
              "- /content/rag-tutorial-v2/data/md/ticket_to_ride.md:None:6\n",
              "- /content/rag-tutorial-v2/data/md/ticket_to_ride.md:None:8\n",
              "\n",
              "## Chunks Used\n",
              "\n",
              "### Chunk 1 - ID: /content/rag-tutorial-v2/data/md/ticket_to_ride.md:None:18\n",
              "**Relevance Score:** 0.2272\n",
              "\n",
              "**Content:**\n",
              "```\n",
              "the same city several times, but a given plastic train may never be used twice in the same continuous path. In the case of a tie for the longest path, all tied players score the 10 point bonus. The player with the most points wins the game. If two or more players are tied for the most points, the player who has completed the most Destination Tickets wins. In the unlikely event that they are still tied, the player with the Longest Continuous Path card wins.\n",
              "```\n",
              "\n",
              "---\n",
              "\n",
              "### Chunk 2 - ID: /content/rag-tutorial-v2/data/md/ticket_to_ride.md:None:17\n",
              "**Relevance Score:** 0.2551\n",
              "\n",
              "**Content:**\n",
              "```\n",
              "Calculating Scores Players should have already accounted for the points earned as they completed different routes. To make sure no mistakes were made, you may want to re-count the points for each player's routes. Players should then reveal all their Destination Tickets and add (or subtract) the value of their Destination Tickets still in hand, based on whether they successfully (or not) connected those cities together. The player who has the Longest Continuous Path of routes receives this special bonus card and adds 10 points to his score. When evaluating and comparing path lengths, only take into account continuous lines of plastic trains of the same color. A continuous path may include loops, and pass through the same city several times, but a given plastic train may never be used twice\n",
              "```\n",
              "\n",
              "---\n",
              "\n",
              "### Chunk 3 - ID: /content/rag-tutorial-v2/data/md/ticket_to_ride.md:None:2\n",
              "**Relevance Score:** 0.3140\n",
              "\n",
              "**Content:**\n",
              "```\n",
              "Each succeeding year, they met to celebrate the anniversary and pay tribute to Fogg. And each year a new expedition (always more difficult) with a new wager (always more expensive) was proposed. Now at the dawn of the century it was time for a new impossible journey. The stakes: $1 Million in a winner-takes-all competition. The objective: to see which of them could travel by rail to the most cities in North America - in just 7 days. The journey would begin immediately…\n",
              "Ticket to Ride is a cross-country train adventure. Players compete to connect different cities by laying claim to railway routes on a\n",
              "map of North America.\n",
              "\n",
              "Components\n",
              "```\n",
              "\n",
              "---\n",
              "\n",
              "### Chunk 4 - ID: /content/rag-tutorial-v2/data/md/ticket_to_ride.md:None:6\n",
              "**Relevance Score:** 0.3341\n",
              "\n",
              "**Content:**\n",
              "```\n",
              "Object Of The Came\n",
              "\n",
              "The object of the game is to score the highest number of total points. Points can be scored by:\n",
              "· Claiming a Route between two adjacent cities on the map;\n",
              "· Successfully completing a Continuous Path of routes between two cities listed on your Destination Ticket(s);\n",
              "· Completing the Longest Continuous Path of routes.\n",
              "\n",
              "Points are lost if you do not successfully complete the route given on the Destination Ticket(s) you kept.\n",
              "\n",
              "The Game Turn\n",
              "```\n",
              "\n",
              "---\n",
              "\n",
              "### Chunk 5 - ID: /content/rag-tutorial-v2/data/md/ticket_to_ride.md:None:8\n",
              "**Relevance Score:** 0.3475\n",
              "\n",
              "**Content:**\n",
              "```\n",
              "Claim a Route - The player may claim a route on the board by playing a set of Train Car cards that match the color and length of the route and then placing one of his colored trains on each space of this route. He then records his score by moving his Scoring Marker the appropriate number of spaces (see Route Scoring Table) along the Scoring Track on the board.\n",
              "\n",
              "Draw Destination Tickets - The player draws 3 Destination Tickets from the top of the deck. He must keep at least one of them, but he may keep two or all three if he chooses. Any returned cards are placed on the bottom of the deck.\n",
              "```\n",
              "\n",
              "---\n",
              "\n",
              "## Response Metadata\n",
              "- **Token Usage:**\n",
              "  - Completion Tokens: 24\n",
              "  - Prompt Tokens: 886\n",
              "  - Total Tokens: 910\n",
              "- **Model Name:** gpt-4o-mini\n",
              "- **System Fingerprint:** fp_f3db212e1c\n",
              "- **Finish Reason:** stop\n",
              "- **Logprobs:** None\n",
              "## ID\n",
              "- **Run ID:** run-140a1317-98e7-49ea-a0ef-dfa42c9ccb92-0\n",
              "## Usage Metadata\n",
              "- **Input Tokens:** 886\n",
              "- **Output Tokens:** 24\n",
              "- **Total Tokens:** 910\n"
            ],
            "text/plain": [
              "<IPython.core.display.Markdown object>"
            ]
          },
          "metadata": {},
          "output_type": "display_data"
        }
      ],
      "source": [
        "query_text = \"How many points does the longest continuous train get in Ticket to Ride?\"\n",
        "response = process_query_gpt_md(query_text, _model_name=\"gpt-4o-mini\")"
      ]
    },
    {
      "cell_type": "code",
      "execution_count": null,
      "metadata": {
        "colab": {
          "base_uri": "https://localhost:8080/",
          "height": 1000
        },
        "id": "rjipQJgeYmV9",
        "outputId": "c9b0b631-e304-447b-d468-a569306c1668"
      },
      "outputs": [
        {
          "data": {
            "text/markdown": [
              "## Response\n",
              "A player starts with $1,500 in original Monopoly.\n",
              "\n",
              "## Sources\n",
              "- /content/rag-tutorial-v2/data/md/monopoly.md:None:4\n",
              "- /content/rag-tutorial-v2/data/md/monopoly.md:None:0\n",
              "- /content/rag-tutorial-v2/data/md/monopoly.md:None:2\n",
              "- /content/rag-tutorial-v2/data/md/monopoly.md:None:11\n",
              "- /content/rag-tutorial-v2/data/md/monopoly.md:None:6\n",
              "\n",
              "## Chunks Used\n",
              "\n",
              "### Chunk 1 - ID: /content/rag-tutorial-v2/data/md/monopoly.md:None:4\n",
              "**Relevance Score:** 0.3044\n",
              "\n",
              "**Content:**\n",
              "```\n",
              "Classic Monopow Rules\n",
              "\n",
              "OBJECT: The object of the game IS to become the\n",
              "\n",
              "wealthiest player through buying, renting and selling property. PREPARATION: Place the board on a table and put the Chance and Community Chest cards facedown on their allotted spaces on the board. Each player chooses one token to represent himther while traveling around the board.\n",
              "\n",
              "Each player is given $1,500 divided as follows: P each of $500s, \n",
              "$100~ and $50~; 6 $40~; 5 each of $105, $5~ and $Is.\n",
              "\n",
              "All remaining money and other equipment go to the Bank. Stack the .. Bank's money on edge in the compartments in the plastic Banker's tray.\n",
              "\n",
              "BANKER. Select as Banker a player who will also\n",
              "```\n",
              "\n",
              "---\n",
              "\n",
              "### Chunk 2 - ID: /content/rag-tutorial-v2/data/md/monopoly.md:None:0\n",
              "**Relevance Score:** 0.3662\n",
              "\n",
              "**Content:**\n",
              "```\n",
              "MONOPOLY\n",
              "\n",
              "Property Trading Game from Parker Brothers\" \n",
              "AGES 8+\n",
              "\n",
              "2 to 8 Players Contents: Gameboard, 3 dice, tokens, 32 houses, I2 hotels, Chance and Community Chest cards, Title Deed cards, play money and a Banker's tray.\n",
              "\n",
              "Now there's a faster way to play MONOPOLY. Choose to play by the classic rules for buying, renting and selling properties or use the Speed Die to get into the action faster. If you've never played the classic MONOPOLY game, refer to the Classic Rules beginning on the next page.\n",
              "\n",
              "If you already know how to play and want to use the Speed Die, just read the section below for the additional Speed Die rules.\n",
              "\n",
              "Speed Die Rules\n",
              "\n",
              "Learnins how to Play with the S~eed Die IS as\n",
              "\n",
              "/ fast as playing with i't.\n",
              "```\n",
              "\n",
              "---\n",
              "\n",
              "### Chunk 3 - ID: /content/rag-tutorial-v2/data/md/monopoly.md:None:2\n",
              "**Relevance Score:** 0.3675\n",
              "\n",
              "**Content:**\n",
              "```\n",
              "Bus: This lets you \"get off the bus early.\" Look at the two white\n",
              "\n",
              "dice. You can move the value of one die, the other die, or the sum of both dice. So if you rolled a 1 and a 5, you can move 1 space, 5 spaces, or 6 spaces: \\t's your choice.\n",
              "\n",
              "Mr. Monopoly: First, move the sum of the two white dice\n",
              "\n",
              "and resolve the space you land on (such as drawing a card, buying the property, paying rent, etc.). Then, one of two things will happen depending on whether or not there is still property in the bank.\n",
              "\n",
              "YES, there is property in the bank -Advance to the NEXT \n",
              "property that the bank still holds and buy it if you wish. If you don't want to buy this property, move to the space anyway and put the property up for auction.\n",
              "```\n",
              "\n",
              "---\n",
              "\n",
              "### Chunk 4 - ID: /content/rag-tutorial-v2/data/md/monopoly.md:None:11\n",
              "**Relevance Score:** 0.3771\n",
              "\n",
              "**Content:**\n",
              "```\n",
              "\"CHANCE\" AND \"COMMUNITY CHEST\": When you land on either of these spaces, take the top card from the deck indicated, follow the instructions and return the card facedown to the bottom of the deck.\n",
              "\n",
              "The \"Get Out of Jail Free\" card is held until used and then returned to the bottom of the deck. If the player who draws it does not wish to use it, helshe may sell it, at any time, to another player at a price agreeable to both.\n",
              "\n",
              "\"INCOME TAX\": If you land here you have two options: You may estimate your tax at $900 and pay the Bank, or you may pay 10% of your total worth to the Bank. Your total worth is all your cash on hand, printed prices of mortgaged and unmortgaged properties and cost price of all buildings you own.\n",
              "```\n",
              "\n",
              "---\n",
              "\n",
              "### Chunk 5 - ID: /content/rag-tutorial-v2/data/md/monopoly.md:None:6\n",
              "**Relevance Score:** 0.3840\n",
              "\n",
              "**Content:**\n",
              "```\n",
              "The Bank nwer \"goes broke.\" If the Bank runs out of money, the Banker may issue as much more as needed by writing on any ordinary paper.\n",
              "\n",
              "THE PLAY: Starting with the Banker, each player in turn throws the dice.\n",
              "\n",
              "The player with the highest total starts the play: Place your token on the corner marked \"GO,\" throw the dice and move your token in the direction of the arrow the number of spaces indicated by the dice. After you have completed your play, the turn passes to the left. The tokens remain on the spaces qccupied and proceed from that point on the player's next turn. Two or more tokens may rest on the same space at the same time.\n",
              "```\n",
              "\n",
              "---\n",
              "\n",
              "## Response Metadata\n",
              "- **Token Usage:**\n",
              "  - Completion Tokens: 12\n",
              "  - Prompt Tokens: 1110\n",
              "  - Total Tokens: 1122\n",
              "- **Model Name:** gpt-4o-mini\n",
              "- **System Fingerprint:** fp_48196bc67a\n",
              "- **Finish Reason:** stop\n",
              "- **Logprobs:** None\n",
              "## ID\n",
              "- **Run ID:** run-7d396953-5255-4719-a6a2-5f68579d82fb-0\n",
              "## Usage Metadata\n",
              "- **Input Tokens:** 1110\n",
              "- **Output Tokens:** 12\n",
              "- **Total Tokens:** 1122\n"
            ],
            "text/plain": [
              "<IPython.core.display.Markdown object>"
            ]
          },
          "metadata": {},
          "output_type": "display_data"
        }
      ],
      "source": [
        "query_text = \"How much total money does a player start with in original Monopoly? Keep it short\"\n",
        "response = process_query_gpt_md(query_text, _model_name=\"gpt-4o-mini\")"
      ]
    },
    {
      "cell_type": "markdown",
      "metadata": {
        "id": "tMUYUT9ZLvBa"
      },
      "source": [
        "# Unit Testing"
      ]
    },
    {
      "cell_type": "code",
      "execution_count": null,
      "metadata": {
        "id": "WIOhyFqzYRPa"
      },
      "outputs": [],
      "source": [
        "DEFAULT_OLLAMA = \"mistral\""
      ]
    },
    {
      "cell_type": "markdown",
      "metadata": {
        "id": "vAhGEaiLLxWm"
      },
      "source": [
        "## Define Prompt Template"
      ]
    },
    {
      "cell_type": "code",
      "execution_count": null,
      "metadata": {
        "id": "sdt_iWbOLwOU"
      },
      "outputs": [],
      "source": [
        "EVAL_PROMPT = \"\"\"\n",
        "Expected Response: {expected_response}\n",
        "Actual Response: {actual_response}\n",
        "---\n",
        "(Answer with 'true' or 'false') Does the actual response match the expected response?\n",
        "\"\"\""
      ]
    },
    {
      "cell_type": "markdown",
      "metadata": {
        "id": "pmkrTvugMTRM"
      },
      "source": [
        "## Define Functions"
      ]
    },
    {
      "cell_type": "code",
      "execution_count": null,
      "metadata": {
        "id": "evPm-qfrL2yN"
      },
      "outputs": [],
      "source": [
        "def evaluate_monopoly_rules():\n",
        "    \"\"\"\n",
        "    Purpose/Usage:\n",
        "    This function tests whether the response to a Monopoly rules question matches the expected answer.\n",
        "\n",
        "    Inputs:\n",
        "    - None\n",
        "\n",
        "    Outputs/Returns:\n",
        "    - None\n",
        "    \"\"\"\n",
        "    assert query_and_validate(\n",
        "        question=\"How much total money does a player start with in original Monopoly? (Answer with the number only without $)\",\n",
        "        expected_response=\"1500\",\n",
        "    )\n",
        "\n",
        "\n",
        "def evaluate_ticket_to_ride_rules():\n",
        "    \"\"\"\n",
        "    Purpose/Usage:\n",
        "    This function tests whether the response to a Ticket to Ride rules question matches the expected answer.\n",
        "\n",
        "    Inputs:\n",
        "    - None\n",
        "\n",
        "    Outputs/Returns:\n",
        "    - None\n",
        "    \"\"\"\n",
        "    assert query_and_validate(\n",
        "        question=\"How many points does the longest continuous train get in Ticket to Ride? (Answer with the number only)\",\n",
        "        expected_response=\"10 points\",\n",
        "    )\n",
        "\n",
        "\n",
        "def query_and_validate(question: str, expected_response: str):\n",
        "    \"\"\"\n",
        "    Purpose/Usage:\n",
        "    This function queries a language model with a question and validates the response against an expected answer.\n",
        "\n",
        "    Inputs:\n",
        "    - question (str): The question to be asked.\n",
        "    - expected_response (str): The expected answer to the question.\n",
        "\n",
        "    Outputs/Returns:\n",
        "    - bool: True if the actual response matches the expected response; False otherwise.\n",
        "    \"\"\"\n",
        "    response_text = process_query_gpt_base(question, _model_name=\"gpt-4o-mini\")\n",
        "    prompt = EVAL_PROMPT.format(\n",
        "        expected_response=expected_response, actual_response=response_text\n",
        "    )\n",
        "\n",
        "    model = Ollama(model=DEFAULT_OLLAMA)\n",
        "    evaluation_results_str = model.invoke(prompt)\n",
        "    evaluation_results_str_cleaned = evaluation_results_str.strip().lower()\n",
        "\n",
        "    print(prompt)\n",
        "\n",
        "    if \"true\" in evaluation_results_str_cleaned:\n",
        "        print(\"\\033[92m\" +\n",
        "              f\"Response: {evaluation_results_str_cleaned}\" + \"\\033[0m\")\n",
        "        return True\n",
        "    elif \"false\" in evaluation_results_str_cleaned:\n",
        "        print(\"\\033[91m\" +\n",
        "              f\"Response: {evaluation_results_str_cleaned}\" + \"\\033[0m\")\n",
        "        return False\n",
        "    else:\n",
        "        raise ValueError(\n",
        "            f\"Invalid evaluation result. Cannot determine if 'true' or 'false'.\"\n",
        "        )"
      ]
    },
    {
      "cell_type": "code",
      "execution_count": null,
      "metadata": {
        "colab": {
          "base_uri": "https://localhost:8080/"
        },
        "id": "iOw5V2EbMR-M",
        "outputId": "e573a14a-69f7-454c-c4a8-70014fe58959"
      },
      "outputs": [
        {
          "name": "stdout",
          "output_type": "stream",
          "text": [
            "Response: content='1500' response_metadata={'token_usage': {'completion_tokens': 2, 'prompt_tokens': 875, 'total_tokens': 877}, 'model_name': 'gpt-4o-mini', 'system_fingerprint': 'fp_507c9469a1', 'finish_reason': 'stop', 'logprobs': None} id='run-26ce9a43-68d1-4d97-bd3f-9b3d10704337-0' usage_metadata={'input_tokens': 875, 'output_tokens': 2, 'total_tokens': 877}\n",
            "Sources: ['/content/rag-tutorial-v2/data/md/monopoly.md:None:4', '/content/rag-tutorial-v2/data/md/monopoly.md:None:2', '/content/rag-tutorial-v2/data/md/monopoly.md:None:8', '/content/rag-tutorial-v2/data/md/monopoly.md:None:0', '/content/rag-tutorial-v2/data/md/monopoly.md:None:11']\n",
            "\n",
            "Expected Response: 1500\n",
            "Actual Response: content='1500' response_metadata={'token_usage': {'completion_tokens': 2, 'prompt_tokens': 875, 'total_tokens': 877}, 'model_name': 'gpt-4o-mini', 'system_fingerprint': 'fp_507c9469a1', 'finish_reason': 'stop', 'logprobs': None} id='run-26ce9a43-68d1-4d97-bd3f-9b3d10704337-0' usage_metadata={'input_tokens': 875, 'output_tokens': 2, 'total_tokens': 877}\n",
            "---\n",
            "(Answer with 'true' or 'false') Does the actual response match the expected response?\n",
            "\n",
            "\u001b[92mResponse: true\u001b[0m\n"
          ]
        }
      ],
      "source": [
        "evaluate_monopoly_rules()"
      ]
    },
    {
      "cell_type": "code",
      "execution_count": null,
      "metadata": {
        "colab": {
          "base_uri": "https://localhost:8080/"
        },
        "id": "zqoQ8HJgMV2V",
        "outputId": "a6190030-3d5b-43b4-e6d9-6e56c4198c7d"
      },
      "outputs": [
        {
          "name": "stdout",
          "output_type": "stream",
          "text": [
            "Response: content='10' response_metadata={'token_usage': {'completion_tokens': 1, 'prompt_tokens': 656, 'total_tokens': 657}, 'model_name': 'gpt-4o-mini', 'system_fingerprint': 'fp_507c9469a1', 'finish_reason': 'stop', 'logprobs': None} id='run-a57f5a72-dbdb-45ee-a77e-e297e3961980-0' usage_metadata={'input_tokens': 656, 'output_tokens': 1, 'total_tokens': 657}\n",
            "Sources: ['/content/rag-tutorial-v2/data/md/ticket_to_ride.md:None:18', '/content/rag-tutorial-v2/data/md/ticket_to_ride.md:None:17', '/content/rag-tutorial-v2/data/md/ticket_to_ride.md:None:2', '/content/rag-tutorial-v2/data/md/ticket_to_ride.md:None:6', '/content/rag-tutorial-v2/data/md/ticket_to_ride.md:None:8']\n",
            "\n",
            "Expected Response: 10 points\n",
            "Actual Response: content='10' response_metadata={'token_usage': {'completion_tokens': 1, 'prompt_tokens': 656, 'total_tokens': 657}, 'model_name': 'gpt-4o-mini', 'system_fingerprint': 'fp_507c9469a1', 'finish_reason': 'stop', 'logprobs': None} id='run-a57f5a72-dbdb-45ee-a77e-e297e3961980-0' usage_metadata={'input_tokens': 656, 'output_tokens': 1, 'total_tokens': 657}\n",
            "---\n",
            "(Answer with 'true' or 'false') Does the actual response match the expected response?\n",
            "\n",
            "\u001b[92mResponse: true\u001b[0m\n"
          ]
        }
      ],
      "source": [
        "evaluate_ticket_to_ride_rules()"
      ]
    }
  ],
  "metadata": {
    "accelerator": "GPU",
    "colab": {
      "gpuType": "L4",
      "machine_shape": "hm",
      "provenance": [],
      "toc_visible": true
    },
    "kernelspec": {
      "display_name": "Python 3",
      "name": "python3"
    },
    "language_info": {
      "name": "python"
    }
  },
  "nbformat": 4,
  "nbformat_minor": 0
}
