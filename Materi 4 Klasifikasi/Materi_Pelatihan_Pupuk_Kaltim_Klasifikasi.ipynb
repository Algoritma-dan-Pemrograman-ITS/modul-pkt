{
  "cells": [
    {
      "cell_type": "markdown",
      "metadata": {
        "id": "o6WXhof_sdkC"
      },
      "source": [
        "# Penjelasan\n",
        "[Google Colab](https://colab.research.google.com/drive/1pXqF-TZMlo2r5xEg0JU91JBzo7sXsK8Q?usp=sharing)"
      ]
    },
    {
      "cell_type": "markdown",
      "metadata": {
        "id": "5DEqOx4zVm9L"
      },
      "source": [
        "#### 2. Klasifikasi\n",
        "Klasifikasi adalah teknik yang digunakan untuk memodelkan hubungan antara variabel independen (fitur) dan variabel dependen (target) dengan tujuan mengklasifikasikan data ke dalam kategori atau label tertentu. Cara kerjanya adalah dengan menemukan pola dalam data yang memungkinkan model untuk memprediksi kategori dari data baru. Teknik ini digunakan untuk menentukan kelas atau kategori dari data, seperti mengidentifikasi email sebagai \"spam\" atau \"bukan spam\", atau mengklasifikasikan gambar sebagai \"anjing\" atau \"kucing\".\n",
        "\n",
        "Berikut adalah beberapa algoritma klasifikasi beserta penjelasannya:\n",
        "- Logistic Regression\n",
        "> Logistic regression adalah model yang mengubah linear regression menjadi model yang dapat memprediksi nilai kategorikal dengan menggunakan fungsi sigmoid:\n",
        "> $σ(z) = \\frac{1}{1+e^{-x}}$\n",
        ">\n",
        ">![logistic-regression](https://gmaaliki.github.io/pelatihan-pupuk-kaltim/img/logistic-regression.png)<br>\n",
        "> *Sumber: https://www.spiceworks.com/tech/artificial-intelligence/articles/what-is-logistic-regression/*\n",
        ">\n",
        "> Algoritma ini memberikan sebuah probabilitas antara 0 dan 1, yang kemudian dapat di mapping ke kategori label berdasarkan suatu threshold misalkan 0.5. Apabila probabilitas >0.5, maka model akan memberikan prediksi 1. Sebaliknya apabila probabilitas <0.5, maka model akan memberikan prediksi 0.\n",
        ">\n",
        "- SVC (Support Vector Classifier)\n",
        "> Support Vector Classifier adalah jenis algoritma support vector machine (SVM) yang digunakan untuk klasifikasi. Algoritma ini bertujuan untuk menemukan hyperplane terbaik yang memisahkan 2 daerah keputusan dengan baik. Hyperplane sendiri adalah sebuah fungsi yang digunakan sebagai pemisah antar kelas.\n",
        ">![svm](https://gmaaliki.github.io/pelatihan-pupuk-kaltim/img/svm.png)<br>\n",
        ">\n",
        "> Hyperplane terbaik diperoleh dengan memaksimalkan jarak hyperplane dengan titik data terdekat (support vectors). Fitur-fitur dari data dipetakan ke dalam raung dimensi tinggi menggunakan fungsi kernel. Dengan menggunakan fungsi kernel, akan dihasilkan fitur baru yang akan digunakan untuk klasifikasi. Berikut adalah beberapa fungsi kernel pada algoritma SVM:\n",
        "> - Kernel Linear: $K(x_i,x_j) = x_i^Tx_j$\n",
        "> - Kernel Polynomial: $K(x_i,x_j) = (γx_i^Tx_j+r)^d, γ > 0$\n",
        "> - Kernel Sigmoid: $K(x_i,x_j) = tanh(x_i^Tx_j + r)$\n",
        "> - Kernel Radial Basis Function: $K(x_i,x_j) = exp(-γ||x_i^T-x_j||^2), γ > 0$\n",
        ">\n",
        "> SVC memiliki parameter C yang menentukan seberapa . Nilai C yang tinggi akan membuat model berusaha untuk melakukan fitting kepada data sebaik mungkin. Sedangkan nilai c yang rendah akan lebih mentolerir error dengan tujuan membuat model  yang lebih sederhana. Nilai C yang rendah biasanya baik digunakan pada data yang memiliki banyak noise, sebaliknya nilai C yang tinggi biasanya baik digunakan pada data yang memiliki sedikit noise.\n",
        ">\n",
        ">![svm-c](https://gmaaliki.github.io/pelatihan-pupuk-kaltim/img/svm-c.png)<br>\n",
        "> *Sumber: https://www.learnopencv.com/svm-using-scikit-learn-in-python/*\n",
        ">\n",
        "- Decision Tree\n",
        "> Decision tree bekerja dengan cara membangun sebuah pohon keputusan dari data training. Pohon keputusan akan menghasilkan sebuah *rule* yang digunakan untuk klasifikasi. Berikut adalah struktur dari decision tree:\n",
        ">\n",
        ">![d-tree](https://gmaaliki.github.io/pelatihan-pupuk-kaltim/img/dtree.png)<br>\n",
        ">\n",
        "> Decision tree menggunakan Gini Index (GI) untuk mengukur kualitas split pada decision tree. GI dapat membantu menentukan split yang paling optimal pada setiap node.\n",
        ">\n",
        "> $Gini = 1 - \\Sigma_{i=1}^C(p_i)^2$\n",
        ">\n",
        "> Hal yang perlu dilakukan dalam pembentukan decision tree adalah pertama-tama hitung GI dari setiap atribut. Misal terdapat data seperti berikut:\n",
        ">\n",
        ">![tabel-gini](https://gmaaliki.github.io/pelatihan-pupuk-kaltim/img/tabel-gini.png)<br>\n",
        ">\n",
        "> Terdapat 3 atribut yaitu 'Kebutuhan Primer', 'Sudah Gajian', dan 'Harga Barang'. Ketiga atribut tersebut perlu dihitung GI nya. Berikut contoh perhitungan GI untuk atribut 'Sudah Gajian':\n",
        ">\n",
        "> Gini Impurity (Beli)\n",
        "> $=1-(\\frac{3}{4})^2-(\\frac{1}{4})^2$\n",
        "> $=0.38$\n",
        ">\n",
        "> Gini Impurity (Tidak Beli)\n",
        "> $=1-(\\frac{0}{3})^2-(\\frac{3}{3})^2$\n",
        "> $=0$\n",
        ">\n",
        "> Total Gini Impurity\n",
        "> $(\\frac{4}{7}) \\times 0.38 + (\\frac{3}{7}) \\times 0$\n",
        "> $=0.22$\n",
        ">\n",
        "> Lakukan perhitungan tersebut pada atribut lain. Hasilnya adalah:\n",
        ">\n",
        "> $GI 'Kebutuhan Primer' = 0.44$\n",
        ">\n",
        "> $GI 'Sudah Gajian' = 0.22$\n",
        ">\n",
        "> ![gini-barang](https://gmaaliki.github.io/pelatihan-pupuk-kaltim/img/gini-barang.png)<br>\n",
        "> Nilai paling rendah berada pada threshold 15000, maka dapat disimpulkan untuk split terbaiknya adalah:\n",
        "> $GI 'Harga Barang < 15000' = 0.34$\n",
        ">\n",
        "> Atribut dengan nilai GI terendah terpilih menjadi root. Lalu lakukan langkah tersebut sampai decision tree selesai dibentuk.\n",
        "> ![tree-akhir](https://gmaaliki.github.io/pelatihan-pupuk-kaltim/img/traa-akhir.png)<br>\n",
        "- Random Forest Classification\n",
        "> Sama seperti Random Forest Regression, algoritma ini juga menggunakan konsep random forest yang telah dijelaskan sebelumnya. Bedanya adalah hasil prediksi ditentukan secara majority vote dari setiap tree.\n",
        "> ![rfc](https://gmaaliki.github.io/pelatihan-pupuk-kaltim/img/random-forest-classification.png)<br>\n",
        ">\n",
        "- Gradient Boosting Classification\n",
        "> Gradient Boosting Classification adalah penerapan Gradient Boosting pada permasalahan klasifikasi. Cara kerjanya hampir sama seperti yang telah dijelaskan sebelumnya, bedanya untuk klasifikasi algoritma menggunakan loss function seperti cross-entropy untuk mengukur probabilitas.\n",
        "\n",
        "Setelah model ditraining, diperlukan adanya metode evaluasi untuk menentukan baiknya performa model. Sebelum itu, terdapat beberapa istilah yang harus diketahui mengenai evaluasi model klasifikasi:\n",
        "- True Positive (TP): Jumlah klasifikasi positif yang telah diprediksi positif oleh model\n",
        "- False Positive (FP): Jumlah klasifikasi negatif yang telah diprediksi positif oleh model\n",
        "- True Negative (TN): Jumlah klasifikasi negatif yang telah diprediksi negatif oleh model\n",
        "- False Negative (FN): Jumlah klasifikasi positif yang telah diprediksi negatif oleh model\n",
        "\n",
        "Berikut adalah metrik evaluasi yang dapat digunakan untuk regresi beserta penjelasannya:\n",
        "- Akurasi\n",
        "> Akurasi adalah rasio prediksi yang benar dibanding jumlah populasi. Nilai akurasi yang tinggi mengindikasi bahwa sebagian besar prediksi model benar, sedangkan apabila nilai akurasi rendah maka mengindikasi bahwa model memiliki banyak prediksi salah.\n",
        "> $Akurasi = \\frac{TP + TN}{TP + TN + FP + FN}$\n",
        "- Presisi\n",
        "> Presisi adalah rasio dari data TP yang diprediksi sebagai positif oleh model. Dalam kata lain, presisi adalah akurasi dari prediksi positif.\n",
        "> $Presisi = \\frac{TP}{TP + FP}$\n",
        "- Recall\n",
        "> Recall adalah rasio dari data positif yang diprediksi dengan benar. Dalam kata lain, recall menggambarkan kemampuan model dalam memprediksi data positif.\n",
        "> $Recall = \\frac{TP}{TP + FN}$\n",
        "- F1 Score\n",
        "> F1 score menggabungkan presisi dan recall untuk mendapatkan kesimpulan menyeluruh terkait dengan performa model. Metrik ini mengukur rata-rata harmonis dari presisi dan recall.\n",
        "> $F1score = 2 \\times \\frac{presisi \\times recall}{presisi + recall}$\n",
        "- Confusion Matrix\n",
        "> Confusion matrix adalah visualisasi dari performa model. Dibuat dalam bentuk tabel agar dapat lebih jelas terlihat dimana letak kesalahan model.\n"
      ]
    },
    {
      "cell_type": "markdown",
      "metadata": {
        "id": "MUHQqORdsjGO"
      },
      "source": [
        "# Implementasi"
      ]
    },
    {
      "cell_type": "markdown",
      "metadata": {
        "id": "8pCbYFufzg-d"
      },
      "source": [
        "Berikut adalah implementasi regresi dengan menerapkan CRISP-DM"
      ]
    },
    {
      "cell_type": "markdown",
      "metadata": {
        "id": "2vTvGVhhspzT"
      },
      "source": [
        "#### Import Library"
      ]
    },
    {
      "cell_type": "code",
      "execution_count": null,
      "metadata": {
        "id": "GuMRQTZ3X-cd"
      },
      "outputs": [],
      "source": [
        "import pandas as pd\n",
        "import matplotlib.pyplot as plt\n",
        "import seaborn as sns\n",
        "import numpy as np\n",
        "import math\n",
        "\n",
        "from sklearn.preprocessing import StandardScaler\n",
        "from sklearn.preprocessing import MinMaxScaler\n",
        "from sklearn.preprocessing import LabelEncoder\n",
        "from sklearn.model_selection import train_test_split\n",
        "from sklearn.metrics import accuracy_score, precision_score, recall_score, f1_score\n",
        "from sklearn.linear_model import LogisticRegression\n",
        "from sklearn.svm import SVC\n",
        "from sklearn.tree import DecisionTreeClassifier\n",
        "from sklearn.ensemble import RandomForestClassifier\n",
        "from sklearn.ensemble import GradientBoostingClassifier\n",
        "from sklearn.preprocessing import OrdinalEncoder\n",
        "\n",
        "sns.set_style(\"whitegrid\")"
      ]
    },
    {
      "cell_type": "markdown",
      "metadata": {
        "id": "-8MNib0Qsvjn"
      },
      "source": [
        "#### Business Understanding"
      ]
    },
    {
      "cell_type": "markdown",
      "metadata": {
        "id": "N1SljWwWQKV4"
      },
      "source": [
        "Sebuah pabrik memiliki banyak mesin yang bekerja setiap harinya. Setelah beberapa lama, mesin-mesin tersebut makin berumur sehingga rawan kerusakan. Oleh karena itu untuk mempertahankan produksi, pihak manajemen pabrik memutuskan untuk melakukan maintenance pada jadwal tertentu.\n",
        "\n",
        "Masalahnya dengan maintenance terjadwal adalah mesin bisa saja mengalami failure sebelum waktu maintenance atau mesin bisa juga mendapatkan maintenance sebelum benar benar membutuhkannya. Keduanya tentu akan menambah biaya. Jadi perusahaan memutuskan untuk membuat sebuah sistem yang dapat memprediksi kapan mesin akan mengalami failure sehingga maintenance dapat berjalan secara lebih efisien.\n",
        "\n",
        "[link dataset](https://www.kaggle.com/datasets/shivamb/machine-predictive-maintenance-classification)"
      ]
    },
    {
      "cell_type": "markdown",
      "metadata": {
        "id": "9QcV6Q6wQImS"
      },
      "source": [
        "#### Data Understanding"
      ]
    },
    {
      "cell_type": "markdown",
      "metadata": {
        "id": "rpAEcPnrznTa"
      },
      "source": [
        "Sebelum melatih model, kita perlu memahami data terlebih dahulu. Berikut adalah data yang akan kita gunakan."
      ]
    },
    {
      "cell_type": "code",
      "execution_count": null,
      "metadata": {
        "colab": {
          "base_uri": "https://localhost:8080/",
          "height": 206
        },
        "id": "DxS_2NGfL-o_",
        "outputId": "4bc498ad-86f0-40c9-f431-fef6b6c7b5ac"
      },
      "outputs": [
        {
          "data": {
            "application/vnd.google.colaboratory.intrinsic+json": {
              "summary": "{\n  \"name\": \"df\",\n  \"rows\": 10000,\n  \"fields\": [\n    {\n      \"column\": \"UDI\",\n      \"properties\": {\n        \"dtype\": \"number\",\n        \"std\": 2886,\n        \"min\": 1,\n        \"max\": 10000,\n        \"num_unique_values\": 10000,\n        \"samples\": [\n          6253,\n          4685,\n          1732\n        ],\n        \"semantic_type\": \"\",\n        \"description\": \"\"\n      }\n    },\n    {\n      \"column\": \"Product ID\",\n      \"properties\": {\n        \"dtype\": \"string\",\n        \"num_unique_values\": 10000,\n        \"samples\": [\n          \"L53432\",\n          \"M19544\",\n          \"M16591\"\n        ],\n        \"semantic_type\": \"\",\n        \"description\": \"\"\n      }\n    },\n    {\n      \"column\": \"Type\",\n      \"properties\": {\n        \"dtype\": \"category\",\n        \"num_unique_values\": 3,\n        \"samples\": [\n          \"M\",\n          \"L\",\n          \"H\"\n        ],\n        \"semantic_type\": \"\",\n        \"description\": \"\"\n      }\n    },\n    {\n      \"column\": \"Air temperature [K]\",\n      \"properties\": {\n        \"dtype\": \"number\",\n        \"std\": 2.000258682915751,\n        \"min\": 295.3,\n        \"max\": 304.5,\n        \"num_unique_values\": 93,\n        \"samples\": [\n          299.3,\n          296.9,\n          300.8\n        ],\n        \"semantic_type\": \"\",\n        \"description\": \"\"\n      }\n    },\n    {\n      \"column\": \"Process temperature [K]\",\n      \"properties\": {\n        \"dtype\": \"number\",\n        \"std\": 1.4837342191657208,\n        \"min\": 305.7,\n        \"max\": 313.8,\n        \"num_unique_values\": 82,\n        \"samples\": [\n          307.2,\n          308.6,\n          310.1\n        ],\n        \"semantic_type\": \"\",\n        \"description\": \"\"\n      }\n    },\n    {\n      \"column\": \"Rotational speed [rpm]\",\n      \"properties\": {\n        \"dtype\": \"number\",\n        \"std\": 179,\n        \"min\": 1168,\n        \"max\": 2886,\n        \"num_unique_values\": 941,\n        \"samples\": [\n          1274,\n          1576,\n          2010\n        ],\n        \"semantic_type\": \"\",\n        \"description\": \"\"\n      }\n    },\n    {\n      \"column\": \"Torque [Nm]\",\n      \"properties\": {\n        \"dtype\": \"number\",\n        \"std\": 9.968933725121337,\n        \"min\": 3.8,\n        \"max\": 76.6,\n        \"num_unique_values\": 577,\n        \"samples\": [\n          36.1,\n          65.9,\n          12.6\n        ],\n        \"semantic_type\": \"\",\n        \"description\": \"\"\n      }\n    },\n    {\n      \"column\": \"Tool wear [min]\",\n      \"properties\": {\n        \"dtype\": \"number\",\n        \"std\": 63,\n        \"min\": 0,\n        \"max\": 253,\n        \"num_unique_values\": 246,\n        \"samples\": [\n          93,\n          14,\n          215\n        ],\n        \"semantic_type\": \"\",\n        \"description\": \"\"\n      }\n    },\n    {\n      \"column\": \"Target\",\n      \"properties\": {\n        \"dtype\": \"number\",\n        \"std\": 0,\n        \"min\": 0,\n        \"max\": 1,\n        \"num_unique_values\": 2,\n        \"samples\": [\n          1,\n          0\n        ],\n        \"semantic_type\": \"\",\n        \"description\": \"\"\n      }\n    },\n    {\n      \"column\": \"Failure Type\",\n      \"properties\": {\n        \"dtype\": \"category\",\n        \"num_unique_values\": 6,\n        \"samples\": [\n          \"No Failure\",\n          \"Power Failure\"\n        ],\n        \"semantic_type\": \"\",\n        \"description\": \"\"\n      }\n    }\n  ]\n}",
              "type": "dataframe",
              "variable_name": "df"
            },
            "text/html": [
              "\n",
              "  <div id=\"df-26fd678e-d41b-4b37-94bd-3ccfa1b58777\" class=\"colab-df-container\">\n",
              "    <div>\n",
              "<style scoped>\n",
              "    .dataframe tbody tr th:only-of-type {\n",
              "        vertical-align: middle;\n",
              "    }\n",
              "\n",
              "    .dataframe tbody tr th {\n",
              "        vertical-align: top;\n",
              "    }\n",
              "\n",
              "    .dataframe thead th {\n",
              "        text-align: right;\n",
              "    }\n",
              "</style>\n",
              "<table border=\"1\" class=\"dataframe\">\n",
              "  <thead>\n",
              "    <tr style=\"text-align: right;\">\n",
              "      <th></th>\n",
              "      <th>UDI</th>\n",
              "      <th>Product ID</th>\n",
              "      <th>Type</th>\n",
              "      <th>Air temperature [K]</th>\n",
              "      <th>Process temperature [K]</th>\n",
              "      <th>Rotational speed [rpm]</th>\n",
              "      <th>Torque [Nm]</th>\n",
              "      <th>Tool wear [min]</th>\n",
              "      <th>Target</th>\n",
              "      <th>Failure Type</th>\n",
              "    </tr>\n",
              "  </thead>\n",
              "  <tbody>\n",
              "    <tr>\n",
              "      <th>0</th>\n",
              "      <td>1</td>\n",
              "      <td>M14860</td>\n",
              "      <td>M</td>\n",
              "      <td>298.1</td>\n",
              "      <td>308.6</td>\n",
              "      <td>1551</td>\n",
              "      <td>42.8</td>\n",
              "      <td>0</td>\n",
              "      <td>0</td>\n",
              "      <td>No Failure</td>\n",
              "    </tr>\n",
              "    <tr>\n",
              "      <th>1</th>\n",
              "      <td>2</td>\n",
              "      <td>L47181</td>\n",
              "      <td>L</td>\n",
              "      <td>298.2</td>\n",
              "      <td>308.7</td>\n",
              "      <td>1408</td>\n",
              "      <td>46.3</td>\n",
              "      <td>3</td>\n",
              "      <td>0</td>\n",
              "      <td>No Failure</td>\n",
              "    </tr>\n",
              "    <tr>\n",
              "      <th>2</th>\n",
              "      <td>3</td>\n",
              "      <td>L47182</td>\n",
              "      <td>L</td>\n",
              "      <td>298.1</td>\n",
              "      <td>308.5</td>\n",
              "      <td>1498</td>\n",
              "      <td>49.4</td>\n",
              "      <td>5</td>\n",
              "      <td>0</td>\n",
              "      <td>No Failure</td>\n",
              "    </tr>\n",
              "    <tr>\n",
              "      <th>3</th>\n",
              "      <td>4</td>\n",
              "      <td>L47183</td>\n",
              "      <td>L</td>\n",
              "      <td>298.2</td>\n",
              "      <td>308.6</td>\n",
              "      <td>1433</td>\n",
              "      <td>39.5</td>\n",
              "      <td>7</td>\n",
              "      <td>0</td>\n",
              "      <td>No Failure</td>\n",
              "    </tr>\n",
              "    <tr>\n",
              "      <th>4</th>\n",
              "      <td>5</td>\n",
              "      <td>L47184</td>\n",
              "      <td>L</td>\n",
              "      <td>298.2</td>\n",
              "      <td>308.7</td>\n",
              "      <td>1408</td>\n",
              "      <td>40.0</td>\n",
              "      <td>9</td>\n",
              "      <td>0</td>\n",
              "      <td>No Failure</td>\n",
              "    </tr>\n",
              "  </tbody>\n",
              "</table>\n",
              "</div>\n",
              "    <div class=\"colab-df-buttons\">\n",
              "\n",
              "  <div class=\"colab-df-container\">\n",
              "    <button class=\"colab-df-convert\" onclick=\"convertToInteractive('df-26fd678e-d41b-4b37-94bd-3ccfa1b58777')\"\n",
              "            title=\"Convert this dataframe to an interactive table.\"\n",
              "            style=\"display:none;\">\n",
              "\n",
              "  <svg xmlns=\"http://www.w3.org/2000/svg\" height=\"24px\" viewBox=\"0 -960 960 960\">\n",
              "    <path d=\"M120-120v-720h720v720H120Zm60-500h600v-160H180v160Zm220 220h160v-160H400v160Zm0 220h160v-160H400v160ZM180-400h160v-160H180v160Zm440 0h160v-160H620v160ZM180-180h160v-160H180v160Zm440 0h160v-160H620v160Z\"/>\n",
              "  </svg>\n",
              "    </button>\n",
              "\n",
              "  <style>\n",
              "    .colab-df-container {\n",
              "      display:flex;\n",
              "      gap: 12px;\n",
              "    }\n",
              "\n",
              "    .colab-df-convert {\n",
              "      background-color: #E8F0FE;\n",
              "      border: none;\n",
              "      border-radius: 50%;\n",
              "      cursor: pointer;\n",
              "      display: none;\n",
              "      fill: #1967D2;\n",
              "      height: 32px;\n",
              "      padding: 0 0 0 0;\n",
              "      width: 32px;\n",
              "    }\n",
              "\n",
              "    .colab-df-convert:hover {\n",
              "      background-color: #E2EBFA;\n",
              "      box-shadow: 0px 1px 2px rgba(60, 64, 67, 0.3), 0px 1px 3px 1px rgba(60, 64, 67, 0.15);\n",
              "      fill: #174EA6;\n",
              "    }\n",
              "\n",
              "    .colab-df-buttons div {\n",
              "      margin-bottom: 4px;\n",
              "    }\n",
              "\n",
              "    [theme=dark] .colab-df-convert {\n",
              "      background-color: #3B4455;\n",
              "      fill: #D2E3FC;\n",
              "    }\n",
              "\n",
              "    [theme=dark] .colab-df-convert:hover {\n",
              "      background-color: #434B5C;\n",
              "      box-shadow: 0px 1px 3px 1px rgba(0, 0, 0, 0.15);\n",
              "      filter: drop-shadow(0px 1px 2px rgba(0, 0, 0, 0.3));\n",
              "      fill: #FFFFFF;\n",
              "    }\n",
              "  </style>\n",
              "\n",
              "    <script>\n",
              "      const buttonEl =\n",
              "        document.querySelector('#df-26fd678e-d41b-4b37-94bd-3ccfa1b58777 button.colab-df-convert');\n",
              "      buttonEl.style.display =\n",
              "        google.colab.kernel.accessAllowed ? 'block' : 'none';\n",
              "\n",
              "      async function convertToInteractive(key) {\n",
              "        const element = document.querySelector('#df-26fd678e-d41b-4b37-94bd-3ccfa1b58777');\n",
              "        const dataTable =\n",
              "          await google.colab.kernel.invokeFunction('convertToInteractive',\n",
              "                                                    [key], {});\n",
              "        if (!dataTable) return;\n",
              "\n",
              "        const docLinkHtml = 'Like what you see? Visit the ' +\n",
              "          '<a target=\"_blank\" href=https://colab.research.google.com/notebooks/data_table.ipynb>data table notebook</a>'\n",
              "          + ' to learn more about interactive tables.';\n",
              "        element.innerHTML = '';\n",
              "        dataTable['output_type'] = 'display_data';\n",
              "        await google.colab.output.renderOutput(dataTable, element);\n",
              "        const docLink = document.createElement('div');\n",
              "        docLink.innerHTML = docLinkHtml;\n",
              "        element.appendChild(docLink);\n",
              "      }\n",
              "    </script>\n",
              "  </div>\n",
              "\n",
              "\n",
              "<div id=\"df-575cc347-97b5-462f-abb4-8826d19f7585\">\n",
              "  <button class=\"colab-df-quickchart\" onclick=\"quickchart('df-575cc347-97b5-462f-abb4-8826d19f7585')\"\n",
              "            title=\"Suggest charts\"\n",
              "            style=\"display:none;\">\n",
              "\n",
              "<svg xmlns=\"http://www.w3.org/2000/svg\" height=\"24px\"viewBox=\"0 0 24 24\"\n",
              "     width=\"24px\">\n",
              "    <g>\n",
              "        <path d=\"M19 3H5c-1.1 0-2 .9-2 2v14c0 1.1.9 2 2 2h14c1.1 0 2-.9 2-2V5c0-1.1-.9-2-2-2zM9 17H7v-7h2v7zm4 0h-2V7h2v10zm4 0h-2v-4h2v4z\"/>\n",
              "    </g>\n",
              "</svg>\n",
              "  </button>\n",
              "\n",
              "<style>\n",
              "  .colab-df-quickchart {\n",
              "      --bg-color: #E8F0FE;\n",
              "      --fill-color: #1967D2;\n",
              "      --hover-bg-color: #E2EBFA;\n",
              "      --hover-fill-color: #174EA6;\n",
              "      --disabled-fill-color: #AAA;\n",
              "      --disabled-bg-color: #DDD;\n",
              "  }\n",
              "\n",
              "  [theme=dark] .colab-df-quickchart {\n",
              "      --bg-color: #3B4455;\n",
              "      --fill-color: #D2E3FC;\n",
              "      --hover-bg-color: #434B5C;\n",
              "      --hover-fill-color: #FFFFFF;\n",
              "      --disabled-bg-color: #3B4455;\n",
              "      --disabled-fill-color: #666;\n",
              "  }\n",
              "\n",
              "  .colab-df-quickchart {\n",
              "    background-color: var(--bg-color);\n",
              "    border: none;\n",
              "    border-radius: 50%;\n",
              "    cursor: pointer;\n",
              "    display: none;\n",
              "    fill: var(--fill-color);\n",
              "    height: 32px;\n",
              "    padding: 0;\n",
              "    width: 32px;\n",
              "  }\n",
              "\n",
              "  .colab-df-quickchart:hover {\n",
              "    background-color: var(--hover-bg-color);\n",
              "    box-shadow: 0 1px 2px rgba(60, 64, 67, 0.3), 0 1px 3px 1px rgba(60, 64, 67, 0.15);\n",
              "    fill: var(--button-hover-fill-color);\n",
              "  }\n",
              "\n",
              "  .colab-df-quickchart-complete:disabled,\n",
              "  .colab-df-quickchart-complete:disabled:hover {\n",
              "    background-color: var(--disabled-bg-color);\n",
              "    fill: var(--disabled-fill-color);\n",
              "    box-shadow: none;\n",
              "  }\n",
              "\n",
              "  .colab-df-spinner {\n",
              "    border: 2px solid var(--fill-color);\n",
              "    border-color: transparent;\n",
              "    border-bottom-color: var(--fill-color);\n",
              "    animation:\n",
              "      spin 1s steps(1) infinite;\n",
              "  }\n",
              "\n",
              "  @keyframes spin {\n",
              "    0% {\n",
              "      border-color: transparent;\n",
              "      border-bottom-color: var(--fill-color);\n",
              "      border-left-color: var(--fill-color);\n",
              "    }\n",
              "    20% {\n",
              "      border-color: transparent;\n",
              "      border-left-color: var(--fill-color);\n",
              "      border-top-color: var(--fill-color);\n",
              "    }\n",
              "    30% {\n",
              "      border-color: transparent;\n",
              "      border-left-color: var(--fill-color);\n",
              "      border-top-color: var(--fill-color);\n",
              "      border-right-color: var(--fill-color);\n",
              "    }\n",
              "    40% {\n",
              "      border-color: transparent;\n",
              "      border-right-color: var(--fill-color);\n",
              "      border-top-color: var(--fill-color);\n",
              "    }\n",
              "    60% {\n",
              "      border-color: transparent;\n",
              "      border-right-color: var(--fill-color);\n",
              "    }\n",
              "    80% {\n",
              "      border-color: transparent;\n",
              "      border-right-color: var(--fill-color);\n",
              "      border-bottom-color: var(--fill-color);\n",
              "    }\n",
              "    90% {\n",
              "      border-color: transparent;\n",
              "      border-bottom-color: var(--fill-color);\n",
              "    }\n",
              "  }\n",
              "</style>\n",
              "\n",
              "  <script>\n",
              "    async function quickchart(key) {\n",
              "      const quickchartButtonEl =\n",
              "        document.querySelector('#' + key + ' button');\n",
              "      quickchartButtonEl.disabled = true;  // To prevent multiple clicks.\n",
              "      quickchartButtonEl.classList.add('colab-df-spinner');\n",
              "      try {\n",
              "        const charts = await google.colab.kernel.invokeFunction(\n",
              "            'suggestCharts', [key], {});\n",
              "      } catch (error) {\n",
              "        console.error('Error during call to suggestCharts:', error);\n",
              "      }\n",
              "      quickchartButtonEl.classList.remove('colab-df-spinner');\n",
              "      quickchartButtonEl.classList.add('colab-df-quickchart-complete');\n",
              "    }\n",
              "    (() => {\n",
              "      let quickchartButtonEl =\n",
              "        document.querySelector('#df-575cc347-97b5-462f-abb4-8826d19f7585 button');\n",
              "      quickchartButtonEl.style.display =\n",
              "        google.colab.kernel.accessAllowed ? 'block' : 'none';\n",
              "    })();\n",
              "  </script>\n",
              "</div>\n",
              "\n",
              "    </div>\n",
              "  </div>\n"
            ],
            "text/plain": [
              "   UDI Product ID Type  Air temperature [K]  Process temperature [K]  \\\n",
              "0    1     M14860    M                298.1                    308.6   \n",
              "1    2     L47181    L                298.2                    308.7   \n",
              "2    3     L47182    L                298.1                    308.5   \n",
              "3    4     L47183    L                298.2                    308.6   \n",
              "4    5     L47184    L                298.2                    308.7   \n",
              "\n",
              "   Rotational speed [rpm]  Torque [Nm]  Tool wear [min]  Target Failure Type  \n",
              "0                    1551         42.8                0       0   No Failure  \n",
              "1                    1408         46.3                3       0   No Failure  \n",
              "2                    1498         49.4                5       0   No Failure  \n",
              "3                    1433         39.5                7       0   No Failure  \n",
              "4                    1408         40.0                9       0   No Failure  "
            ]
          },
          "execution_count": 417,
          "metadata": {},
          "output_type": "execute_result"
        }
      ],
      "source": [
        "df = pd.read_csv(\n",
        "    \"https://gmaaliki.github.io/dataset/predictive_maintenance.csv\")\n",
        "\n",
        "df.head()"
      ]
    },
    {
      "cell_type": "markdown",
      "metadata": {
        "id": "7D-FvBryMcjj"
      },
      "source": [
        "Dari tabel diatas, dapat dilihat bahwa data yang dimiliki oleh perusahaan terdiri dari 10 fitur yaitu:\n",
        "- UDI (id unik 1-10000)\n",
        "- productID (id produk)\n",
        "- Type (kualitas produk; L=low, M=medium, H=high)\n",
        "- Air temperature [K])\n",
        "- Process temperature [K]\n",
        "- Rotational speed [rpm]\n",
        "- Torque [Nm]\n",
        "- Tool wear [min]\n",
        "- Target (variabel target)\n",
        "- Failure Type (variabel target)\n",
        "\n",
        "Dataset memiliki 2 variabel target. Untuk sekarang, kita hanya perlu memprediksi apakah mesin tersebut akan mengalami failure atau tidak, jadi kita dapat drop kolom `Failure Type`."
      ]
    },
    {
      "cell_type": "code",
      "execution_count": null,
      "metadata": {
        "id": "CofVN7FbbNOq"
      },
      "outputs": [],
      "source": [
        "df.drop(['Failure Type'], axis=1, inplace=True)"
      ]
    },
    {
      "cell_type": "code",
      "execution_count": null,
      "metadata": {
        "colab": {
          "base_uri": "https://localhost:8080/",
          "height": 366
        },
        "id": "YAO5ILqsTSo4",
        "outputId": "9ee81c53-d87e-492f-e07b-543a08352f16"
      },
      "outputs": [
        {
          "data": {
            "text/html": [
              "<div>\n",
              "<style scoped>\n",
              "    .dataframe tbody tr th:only-of-type {\n",
              "        vertical-align: middle;\n",
              "    }\n",
              "\n",
              "    .dataframe tbody tr th {\n",
              "        vertical-align: top;\n",
              "    }\n",
              "\n",
              "    .dataframe thead th {\n",
              "        text-align: right;\n",
              "    }\n",
              "</style>\n",
              "<table border=\"1\" class=\"dataframe\">\n",
              "  <thead>\n",
              "    <tr style=\"text-align: right;\">\n",
              "      <th></th>\n",
              "      <th>0</th>\n",
              "    </tr>\n",
              "  </thead>\n",
              "  <tbody>\n",
              "    <tr>\n",
              "      <th>UDI</th>\n",
              "      <td>10000</td>\n",
              "    </tr>\n",
              "    <tr>\n",
              "      <th>Product ID</th>\n",
              "      <td>10000</td>\n",
              "    </tr>\n",
              "    <tr>\n",
              "      <th>Type</th>\n",
              "      <td>3</td>\n",
              "    </tr>\n",
              "    <tr>\n",
              "      <th>Air temperature [K]</th>\n",
              "      <td>93</td>\n",
              "    </tr>\n",
              "    <tr>\n",
              "      <th>Process temperature [K]</th>\n",
              "      <td>82</td>\n",
              "    </tr>\n",
              "    <tr>\n",
              "      <th>Rotational speed [rpm]</th>\n",
              "      <td>941</td>\n",
              "    </tr>\n",
              "    <tr>\n",
              "      <th>Torque [Nm]</th>\n",
              "      <td>577</td>\n",
              "    </tr>\n",
              "    <tr>\n",
              "      <th>Tool wear [min]</th>\n",
              "      <td>246</td>\n",
              "    </tr>\n",
              "    <tr>\n",
              "      <th>Target</th>\n",
              "      <td>2</td>\n",
              "    </tr>\n",
              "  </tbody>\n",
              "</table>\n",
              "</div><br><label><b>dtype:</b> int64</label>"
            ],
            "text/plain": [
              "UDI                        10000\n",
              "Product ID                 10000\n",
              "Type                           3\n",
              "Air temperature [K]           93\n",
              "Process temperature [K]       82\n",
              "Rotational speed [rpm]       941\n",
              "Torque [Nm]                  577\n",
              "Tool wear [min]              246\n",
              "Target                         2\n",
              "dtype: int64"
            ]
          },
          "execution_count": 419,
          "metadata": {},
          "output_type": "execute_result"
        }
      ],
      "source": [
        "df.nunique()"
      ]
    },
    {
      "cell_type": "markdown",
      "metadata": {
        "id": "JRKp0wf1SaYf"
      },
      "source": [
        "Fitur `UDI` dan `productID` dapat di drop karena semua valuenya unik sehingga tidak akan berpengaruh kepada prediksi model"
      ]
    },
    {
      "cell_type": "code",
      "execution_count": null,
      "metadata": {
        "id": "aumo3rueTojZ"
      },
      "outputs": [],
      "source": [
        "df.drop(['UDI', 'Product ID'], axis=1, inplace=True)"
      ]
    },
    {
      "cell_type": "markdown",
      "metadata": {
        "id": "xm83ClRKP6Sh"
      },
      "source": [
        "Kita dapat melihat informasi mengenai dataset dengan menggunakan `df.info()`"
      ]
    },
    {
      "cell_type": "code",
      "execution_count": null,
      "metadata": {
        "colab": {
          "base_uri": "https://localhost:8080/"
        },
        "id": "X3M9beNjs0kG",
        "outputId": "ac415f08-4d69-453b-9765-27f402f09a3d"
      },
      "outputs": [
        {
          "name": "stdout",
          "output_type": "stream",
          "text": [
            "<class 'pandas.core.frame.DataFrame'>\n",
            "RangeIndex: 10000 entries, 0 to 9999\n",
            "Data columns (total 7 columns):\n",
            " #   Column                   Non-Null Count  Dtype  \n",
            "---  ------                   --------------  -----  \n",
            " 0   Type                     10000 non-null  object \n",
            " 1   Air temperature [K]      10000 non-null  float64\n",
            " 2   Process temperature [K]  10000 non-null  float64\n",
            " 3   Rotational speed [rpm]   10000 non-null  int64  \n",
            " 4   Torque [Nm]              10000 non-null  float64\n",
            " 5   Tool wear [min]          10000 non-null  int64  \n",
            " 6   Target                   10000 non-null  int64  \n",
            "dtypes: float64(3), int64(3), object(1)\n",
            "memory usage: 547.0+ KB\n"
          ]
        }
      ],
      "source": [
        "df.info()"
      ]
    },
    {
      "cell_type": "code",
      "execution_count": null,
      "metadata": {
        "colab": {
          "base_uri": "https://localhost:8080/"
        },
        "id": "uefja50NQiks",
        "outputId": "4bd5ed61-4484-48be-efff-9e37c6d505f7"
      },
      "outputs": [
        {
          "data": {
            "text/plain": [
              "(10000, 7)"
            ]
          },
          "execution_count": 422,
          "metadata": {},
          "output_type": "execute_result"
        }
      ],
      "source": [
        "df.shape"
      ]
    },
    {
      "cell_type": "markdown",
      "metadata": {
        "id": "pFh0SdiZQlRj"
      },
      "source": [
        "Untuk mengetahui jumlah data yang memiliki `null` value, dapat menggunakan `df.isnull().sum()`. Apabila terdapat data yang mempunyai nilai `null`, maka perlu dihandle pada tahap data preparation. Dalam kasus ini tidak perlu karena tidak ada `null` value."
      ]
    },
    {
      "cell_type": "code",
      "execution_count": null,
      "metadata": {
        "colab": {
          "base_uri": "https://localhost:8080/",
          "height": 303
        },
        "id": "ervtS_eAQnJA",
        "outputId": "3f2c8944-e7f9-4c71-da76-216ee5c53d9b"
      },
      "outputs": [
        {
          "data": {
            "text/html": [
              "<div>\n",
              "<style scoped>\n",
              "    .dataframe tbody tr th:only-of-type {\n",
              "        vertical-align: middle;\n",
              "    }\n",
              "\n",
              "    .dataframe tbody tr th {\n",
              "        vertical-align: top;\n",
              "    }\n",
              "\n",
              "    .dataframe thead th {\n",
              "        text-align: right;\n",
              "    }\n",
              "</style>\n",
              "<table border=\"1\" class=\"dataframe\">\n",
              "  <thead>\n",
              "    <tr style=\"text-align: right;\">\n",
              "      <th></th>\n",
              "      <th>0</th>\n",
              "    </tr>\n",
              "  </thead>\n",
              "  <tbody>\n",
              "    <tr>\n",
              "      <th>Type</th>\n",
              "      <td>0</td>\n",
              "    </tr>\n",
              "    <tr>\n",
              "      <th>Air temperature [K]</th>\n",
              "      <td>0</td>\n",
              "    </tr>\n",
              "    <tr>\n",
              "      <th>Process temperature [K]</th>\n",
              "      <td>0</td>\n",
              "    </tr>\n",
              "    <tr>\n",
              "      <th>Rotational speed [rpm]</th>\n",
              "      <td>0</td>\n",
              "    </tr>\n",
              "    <tr>\n",
              "      <th>Torque [Nm]</th>\n",
              "      <td>0</td>\n",
              "    </tr>\n",
              "    <tr>\n",
              "      <th>Tool wear [min]</th>\n",
              "      <td>0</td>\n",
              "    </tr>\n",
              "    <tr>\n",
              "      <th>Target</th>\n",
              "      <td>0</td>\n",
              "    </tr>\n",
              "  </tbody>\n",
              "</table>\n",
              "</div><br><label><b>dtype:</b> int64</label>"
            ],
            "text/plain": [
              "Type                       0\n",
              "Air temperature [K]        0\n",
              "Process temperature [K]    0\n",
              "Rotational speed [rpm]     0\n",
              "Torque [Nm]                0\n",
              "Tool wear [min]            0\n",
              "Target                     0\n",
              "dtype: int64"
            ]
          },
          "execution_count": 423,
          "metadata": {},
          "output_type": "execute_result"
        }
      ],
      "source": [
        "df.isnull().sum()"
      ]
    },
    {
      "cell_type": "markdown",
      "metadata": {
        "id": "CaBZ2iWMQmvN"
      },
      "source": [
        "Dengan menggunakan `df.describe()`, dapat ditampilkan nilai statistik dataset seperti standar deviasi dan kuartil."
      ]
    },
    {
      "cell_type": "code",
      "execution_count": null,
      "metadata": {
        "colab": {
          "base_uri": "https://localhost:8080/",
          "height": 300
        },
        "id": "wt-Xjv6LQqLg",
        "outputId": "d1be4685-b8cd-4800-bb0b-14eeebd50c13"
      },
      "outputs": [
        {
          "data": {
            "application/vnd.google.colaboratory.intrinsic+json": {
              "summary": "{\n  \"name\": \"df\",\n  \"rows\": 8,\n  \"fields\": [\n    {\n      \"column\": \"Air temperature [K]\",\n      \"properties\": {\n        \"dtype\": \"number\",\n        \"std\": 3446.1125878918356,\n        \"min\": 2.000258682915751,\n        \"max\": 10000.0,\n        \"num_unique_values\": 8,\n        \"samples\": [\n          300.00493,\n          300.1,\n          10000.0\n        ],\n        \"semantic_type\": \"\",\n        \"description\": \"\"\n      }\n    },\n    {\n      \"column\": \"Process temperature [K]\",\n      \"properties\": {\n        \"dtype\": \"number\",\n        \"std\": 3443.232448462189,\n        \"min\": 1.4837342191657208,\n        \"max\": 10000.0,\n        \"num_unique_values\": 8,\n        \"samples\": [\n          310.00556,\n          310.1,\n          10000.0\n        ],\n        \"semantic_type\": \"\",\n        \"description\": \"\"\n      }\n    },\n    {\n      \"column\": \"Rotational speed [rpm]\",\n      \"properties\": {\n        \"dtype\": \"number\",\n        \"std\": 3103.301433905864,\n        \"min\": 179.2840959134266,\n        \"max\": 10000.0,\n        \"num_unique_values\": 8,\n        \"samples\": [\n          1538.7761,\n          1503.0,\n          10000.0\n        ],\n        \"semantic_type\": \"\",\n        \"description\": \"\"\n      }\n    },\n    {\n      \"column\": \"Torque [Nm]\",\n      \"properties\": {\n        \"dtype\": \"number\",\n        \"std\": 3522.9553380464763,\n        \"min\": 3.8,\n        \"max\": 10000.0,\n        \"num_unique_values\": 8,\n        \"samples\": [\n          39.986909999999995,\n          40.1,\n          10000.0\n        ],\n        \"semantic_type\": \"\",\n        \"description\": \"\"\n      }\n    },\n    {\n      \"column\": \"Tool wear [min]\",\n      \"properties\": {\n        \"dtype\": \"number\",\n        \"std\": 3498.6028684989537,\n        \"min\": 0.0,\n        \"max\": 10000.0,\n        \"num_unique_values\": 8,\n        \"samples\": [\n          107.951,\n          108.0,\n          10000.0\n        ],\n        \"semantic_type\": \"\",\n        \"description\": \"\"\n      }\n    },\n    {\n      \"column\": \"Target\",\n      \"properties\": {\n        \"dtype\": \"number\",\n        \"std\": 3535.4725618125285,\n        \"min\": 0.0,\n        \"max\": 10000.0,\n        \"num_unique_values\": 5,\n        \"samples\": [\n          0.0339,\n          1.0,\n          0.18098084265065364\n        ],\n        \"semantic_type\": \"\",\n        \"description\": \"\"\n      }\n    }\n  ]\n}",
              "type": "dataframe"
            },
            "text/html": [
              "\n",
              "  <div id=\"df-834f3b4f-8d45-4855-9215-59e059e83e45\" class=\"colab-df-container\">\n",
              "    <div>\n",
              "<style scoped>\n",
              "    .dataframe tbody tr th:only-of-type {\n",
              "        vertical-align: middle;\n",
              "    }\n",
              "\n",
              "    .dataframe tbody tr th {\n",
              "        vertical-align: top;\n",
              "    }\n",
              "\n",
              "    .dataframe thead th {\n",
              "        text-align: right;\n",
              "    }\n",
              "</style>\n",
              "<table border=\"1\" class=\"dataframe\">\n",
              "  <thead>\n",
              "    <tr style=\"text-align: right;\">\n",
              "      <th></th>\n",
              "      <th>Air temperature [K]</th>\n",
              "      <th>Process temperature [K]</th>\n",
              "      <th>Rotational speed [rpm]</th>\n",
              "      <th>Torque [Nm]</th>\n",
              "      <th>Tool wear [min]</th>\n",
              "      <th>Target</th>\n",
              "    </tr>\n",
              "  </thead>\n",
              "  <tbody>\n",
              "    <tr>\n",
              "      <th>count</th>\n",
              "      <td>10000.000000</td>\n",
              "      <td>10000.000000</td>\n",
              "      <td>10000.000000</td>\n",
              "      <td>10000.000000</td>\n",
              "      <td>10000.000000</td>\n",
              "      <td>10000.000000</td>\n",
              "    </tr>\n",
              "    <tr>\n",
              "      <th>mean</th>\n",
              "      <td>300.004930</td>\n",
              "      <td>310.005560</td>\n",
              "      <td>1538.776100</td>\n",
              "      <td>39.986910</td>\n",
              "      <td>107.951000</td>\n",
              "      <td>0.033900</td>\n",
              "    </tr>\n",
              "    <tr>\n",
              "      <th>std</th>\n",
              "      <td>2.000259</td>\n",
              "      <td>1.483734</td>\n",
              "      <td>179.284096</td>\n",
              "      <td>9.968934</td>\n",
              "      <td>63.654147</td>\n",
              "      <td>0.180981</td>\n",
              "    </tr>\n",
              "    <tr>\n",
              "      <th>min</th>\n",
              "      <td>295.300000</td>\n",
              "      <td>305.700000</td>\n",
              "      <td>1168.000000</td>\n",
              "      <td>3.800000</td>\n",
              "      <td>0.000000</td>\n",
              "      <td>0.000000</td>\n",
              "    </tr>\n",
              "    <tr>\n",
              "      <th>25%</th>\n",
              "      <td>298.300000</td>\n",
              "      <td>308.800000</td>\n",
              "      <td>1423.000000</td>\n",
              "      <td>33.200000</td>\n",
              "      <td>53.000000</td>\n",
              "      <td>0.000000</td>\n",
              "    </tr>\n",
              "    <tr>\n",
              "      <th>50%</th>\n",
              "      <td>300.100000</td>\n",
              "      <td>310.100000</td>\n",
              "      <td>1503.000000</td>\n",
              "      <td>40.100000</td>\n",
              "      <td>108.000000</td>\n",
              "      <td>0.000000</td>\n",
              "    </tr>\n",
              "    <tr>\n",
              "      <th>75%</th>\n",
              "      <td>301.500000</td>\n",
              "      <td>311.100000</td>\n",
              "      <td>1612.000000</td>\n",
              "      <td>46.800000</td>\n",
              "      <td>162.000000</td>\n",
              "      <td>0.000000</td>\n",
              "    </tr>\n",
              "    <tr>\n",
              "      <th>max</th>\n",
              "      <td>304.500000</td>\n",
              "      <td>313.800000</td>\n",
              "      <td>2886.000000</td>\n",
              "      <td>76.600000</td>\n",
              "      <td>253.000000</td>\n",
              "      <td>1.000000</td>\n",
              "    </tr>\n",
              "  </tbody>\n",
              "</table>\n",
              "</div>\n",
              "    <div class=\"colab-df-buttons\">\n",
              "\n",
              "  <div class=\"colab-df-container\">\n",
              "    <button class=\"colab-df-convert\" onclick=\"convertToInteractive('df-834f3b4f-8d45-4855-9215-59e059e83e45')\"\n",
              "            title=\"Convert this dataframe to an interactive table.\"\n",
              "            style=\"display:none;\">\n",
              "\n",
              "  <svg xmlns=\"http://www.w3.org/2000/svg\" height=\"24px\" viewBox=\"0 -960 960 960\">\n",
              "    <path d=\"M120-120v-720h720v720H120Zm60-500h600v-160H180v160Zm220 220h160v-160H400v160Zm0 220h160v-160H400v160ZM180-400h160v-160H180v160Zm440 0h160v-160H620v160ZM180-180h160v-160H180v160Zm440 0h160v-160H620v160Z\"/>\n",
              "  </svg>\n",
              "    </button>\n",
              "\n",
              "  <style>\n",
              "    .colab-df-container {\n",
              "      display:flex;\n",
              "      gap: 12px;\n",
              "    }\n",
              "\n",
              "    .colab-df-convert {\n",
              "      background-color: #E8F0FE;\n",
              "      border: none;\n",
              "      border-radius: 50%;\n",
              "      cursor: pointer;\n",
              "      display: none;\n",
              "      fill: #1967D2;\n",
              "      height: 32px;\n",
              "      padding: 0 0 0 0;\n",
              "      width: 32px;\n",
              "    }\n",
              "\n",
              "    .colab-df-convert:hover {\n",
              "      background-color: #E2EBFA;\n",
              "      box-shadow: 0px 1px 2px rgba(60, 64, 67, 0.3), 0px 1px 3px 1px rgba(60, 64, 67, 0.15);\n",
              "      fill: #174EA6;\n",
              "    }\n",
              "\n",
              "    .colab-df-buttons div {\n",
              "      margin-bottom: 4px;\n",
              "    }\n",
              "\n",
              "    [theme=dark] .colab-df-convert {\n",
              "      background-color: #3B4455;\n",
              "      fill: #D2E3FC;\n",
              "    }\n",
              "\n",
              "    [theme=dark] .colab-df-convert:hover {\n",
              "      background-color: #434B5C;\n",
              "      box-shadow: 0px 1px 3px 1px rgba(0, 0, 0, 0.15);\n",
              "      filter: drop-shadow(0px 1px 2px rgba(0, 0, 0, 0.3));\n",
              "      fill: #FFFFFF;\n",
              "    }\n",
              "  </style>\n",
              "\n",
              "    <script>\n",
              "      const buttonEl =\n",
              "        document.querySelector('#df-834f3b4f-8d45-4855-9215-59e059e83e45 button.colab-df-convert');\n",
              "      buttonEl.style.display =\n",
              "        google.colab.kernel.accessAllowed ? 'block' : 'none';\n",
              "\n",
              "      async function convertToInteractive(key) {\n",
              "        const element = document.querySelector('#df-834f3b4f-8d45-4855-9215-59e059e83e45');\n",
              "        const dataTable =\n",
              "          await google.colab.kernel.invokeFunction('convertToInteractive',\n",
              "                                                    [key], {});\n",
              "        if (!dataTable) return;\n",
              "\n",
              "        const docLinkHtml = 'Like what you see? Visit the ' +\n",
              "          '<a target=\"_blank\" href=https://colab.research.google.com/notebooks/data_table.ipynb>data table notebook</a>'\n",
              "          + ' to learn more about interactive tables.';\n",
              "        element.innerHTML = '';\n",
              "        dataTable['output_type'] = 'display_data';\n",
              "        await google.colab.output.renderOutput(dataTable, element);\n",
              "        const docLink = document.createElement('div');\n",
              "        docLink.innerHTML = docLinkHtml;\n",
              "        element.appendChild(docLink);\n",
              "      }\n",
              "    </script>\n",
              "  </div>\n",
              "\n",
              "\n",
              "<div id=\"df-ef91c7b9-e7bd-4ffc-a592-d16f80e51c3b\">\n",
              "  <button class=\"colab-df-quickchart\" onclick=\"quickchart('df-ef91c7b9-e7bd-4ffc-a592-d16f80e51c3b')\"\n",
              "            title=\"Suggest charts\"\n",
              "            style=\"display:none;\">\n",
              "\n",
              "<svg xmlns=\"http://www.w3.org/2000/svg\" height=\"24px\"viewBox=\"0 0 24 24\"\n",
              "     width=\"24px\">\n",
              "    <g>\n",
              "        <path d=\"M19 3H5c-1.1 0-2 .9-2 2v14c0 1.1.9 2 2 2h14c1.1 0 2-.9 2-2V5c0-1.1-.9-2-2-2zM9 17H7v-7h2v7zm4 0h-2V7h2v10zm4 0h-2v-4h2v4z\"/>\n",
              "    </g>\n",
              "</svg>\n",
              "  </button>\n",
              "\n",
              "<style>\n",
              "  .colab-df-quickchart {\n",
              "      --bg-color: #E8F0FE;\n",
              "      --fill-color: #1967D2;\n",
              "      --hover-bg-color: #E2EBFA;\n",
              "      --hover-fill-color: #174EA6;\n",
              "      --disabled-fill-color: #AAA;\n",
              "      --disabled-bg-color: #DDD;\n",
              "  }\n",
              "\n",
              "  [theme=dark] .colab-df-quickchart {\n",
              "      --bg-color: #3B4455;\n",
              "      --fill-color: #D2E3FC;\n",
              "      --hover-bg-color: #434B5C;\n",
              "      --hover-fill-color: #FFFFFF;\n",
              "      --disabled-bg-color: #3B4455;\n",
              "      --disabled-fill-color: #666;\n",
              "  }\n",
              "\n",
              "  .colab-df-quickchart {\n",
              "    background-color: var(--bg-color);\n",
              "    border: none;\n",
              "    border-radius: 50%;\n",
              "    cursor: pointer;\n",
              "    display: none;\n",
              "    fill: var(--fill-color);\n",
              "    height: 32px;\n",
              "    padding: 0;\n",
              "    width: 32px;\n",
              "  }\n",
              "\n",
              "  .colab-df-quickchart:hover {\n",
              "    background-color: var(--hover-bg-color);\n",
              "    box-shadow: 0 1px 2px rgba(60, 64, 67, 0.3), 0 1px 3px 1px rgba(60, 64, 67, 0.15);\n",
              "    fill: var(--button-hover-fill-color);\n",
              "  }\n",
              "\n",
              "  .colab-df-quickchart-complete:disabled,\n",
              "  .colab-df-quickchart-complete:disabled:hover {\n",
              "    background-color: var(--disabled-bg-color);\n",
              "    fill: var(--disabled-fill-color);\n",
              "    box-shadow: none;\n",
              "  }\n",
              "\n",
              "  .colab-df-spinner {\n",
              "    border: 2px solid var(--fill-color);\n",
              "    border-color: transparent;\n",
              "    border-bottom-color: var(--fill-color);\n",
              "    animation:\n",
              "      spin 1s steps(1) infinite;\n",
              "  }\n",
              "\n",
              "  @keyframes spin {\n",
              "    0% {\n",
              "      border-color: transparent;\n",
              "      border-bottom-color: var(--fill-color);\n",
              "      border-left-color: var(--fill-color);\n",
              "    }\n",
              "    20% {\n",
              "      border-color: transparent;\n",
              "      border-left-color: var(--fill-color);\n",
              "      border-top-color: var(--fill-color);\n",
              "    }\n",
              "    30% {\n",
              "      border-color: transparent;\n",
              "      border-left-color: var(--fill-color);\n",
              "      border-top-color: var(--fill-color);\n",
              "      border-right-color: var(--fill-color);\n",
              "    }\n",
              "    40% {\n",
              "      border-color: transparent;\n",
              "      border-right-color: var(--fill-color);\n",
              "      border-top-color: var(--fill-color);\n",
              "    }\n",
              "    60% {\n",
              "      border-color: transparent;\n",
              "      border-right-color: var(--fill-color);\n",
              "    }\n",
              "    80% {\n",
              "      border-color: transparent;\n",
              "      border-right-color: var(--fill-color);\n",
              "      border-bottom-color: var(--fill-color);\n",
              "    }\n",
              "    90% {\n",
              "      border-color: transparent;\n",
              "      border-bottom-color: var(--fill-color);\n",
              "    }\n",
              "  }\n",
              "</style>\n",
              "\n",
              "  <script>\n",
              "    async function quickchart(key) {\n",
              "      const quickchartButtonEl =\n",
              "        document.querySelector('#' + key + ' button');\n",
              "      quickchartButtonEl.disabled = true;  // To prevent multiple clicks.\n",
              "      quickchartButtonEl.classList.add('colab-df-spinner');\n",
              "      try {\n",
              "        const charts = await google.colab.kernel.invokeFunction(\n",
              "            'suggestCharts', [key], {});\n",
              "      } catch (error) {\n",
              "        console.error('Error during call to suggestCharts:', error);\n",
              "      }\n",
              "      quickchartButtonEl.classList.remove('colab-df-spinner');\n",
              "      quickchartButtonEl.classList.add('colab-df-quickchart-complete');\n",
              "    }\n",
              "    (() => {\n",
              "      let quickchartButtonEl =\n",
              "        document.querySelector('#df-ef91c7b9-e7bd-4ffc-a592-d16f80e51c3b button');\n",
              "      quickchartButtonEl.style.display =\n",
              "        google.colab.kernel.accessAllowed ? 'block' : 'none';\n",
              "    })();\n",
              "  </script>\n",
              "</div>\n",
              "\n",
              "    </div>\n",
              "  </div>\n"
            ],
            "text/plain": [
              "       Air temperature [K]  Process temperature [K]  Rotational speed [rpm]  \\\n",
              "count         10000.000000             10000.000000            10000.000000   \n",
              "mean            300.004930               310.005560             1538.776100   \n",
              "std               2.000259                 1.483734              179.284096   \n",
              "min             295.300000               305.700000             1168.000000   \n",
              "25%             298.300000               308.800000             1423.000000   \n",
              "50%             300.100000               310.100000             1503.000000   \n",
              "75%             301.500000               311.100000             1612.000000   \n",
              "max             304.500000               313.800000             2886.000000   \n",
              "\n",
              "        Torque [Nm]  Tool wear [min]        Target  \n",
              "count  10000.000000     10000.000000  10000.000000  \n",
              "mean      39.986910       107.951000      0.033900  \n",
              "std        9.968934        63.654147      0.180981  \n",
              "min        3.800000         0.000000      0.000000  \n",
              "25%       33.200000        53.000000      0.000000  \n",
              "50%       40.100000       108.000000      0.000000  \n",
              "75%       46.800000       162.000000      0.000000  \n",
              "max       76.600000       253.000000      1.000000  "
            ]
          },
          "execution_count": 424,
          "metadata": {},
          "output_type": "execute_result"
        }
      ],
      "source": [
        "df.describe()"
      ]
    },
    {
      "cell_type": "markdown",
      "metadata": {
        "id": "6ZaZR3TvR_1J"
      },
      "source": [
        "Distribusi data dapat diketahui dengan menggunakan histogram. Pada histogram terdapat parameter `bins` yang dapat disesuaikan agar distribusi dapat lebih terlihat. Terdapat berbagai cara yang dapat dilakukan untuk menemukan jumlah `bins` optimal yang dapat dilihat pada [halaman ini](https://how2matplotlib.com/bin-size-in-matplotlib-histogram.html)."
      ]
    },
    {
      "cell_type": "code",
      "execution_count": null,
      "metadata": {
        "colab": {
          "base_uri": "https://localhost:8080/",
          "height": 471
        },
        "id": "bqHAGaNkSAi6",
        "outputId": "1b0962b5-0c06-40c7-c177-726e7d526029"
      },
      "outputs": [
        {
          "data": {
            "image/png": "[encoded data removed]",
            "text/plain": [
              "<Figure size 2400x800 with 5 Axes>"
            ]
          },
          "metadata": {},
          "output_type": "display_data"
        }
      ],
      "source": [
        "features_to_plot = [\n",
        "    \"Air temperature [K]\",\n",
        "    \"Process temperature [K]\",\n",
        "    \"Rotational speed [rpm]\",\n",
        "    \"Torque [Nm]\",\n",
        "    \"Tool wear [min]\",\n",
        "]\n",
        "num_features = len(features_to_plot)\n",
        "\n",
        "\n",
        "ncols = 3\n",
        "nrows = math.ceil(num_features / ncols)\n",
        "\n",
        "fig, axes = plt.subplots(nrows=nrows, ncols=ncols,\n",
        "                         figsize=(8 * ncols, 4 * nrows))\n",
        "\n",
        "axes = axes.flatten()\n",
        "\n",
        "for i, column in enumerate(features_to_plot):\n",
        "    sns.histplot(df[column], bins=10, ax=axes[i], kde=False)\n",
        "    axes[i].set_title(f'Histogram of {column}')\n",
        "    axes[i].set_xlabel(column)\n",
        "    axes[i].set_ylabel('Frequency')\n",
        "\n",
        "# Delete empty subplots\n",
        "for j in range(i + 1, len(axes)):\n",
        "    fig.delaxes(axes[j])\n",
        "\n",
        "plt.tight_layout()\n",
        "plt.show()"
      ]
    },
    {
      "cell_type": "markdown",
      "metadata": {
        "id": "i8S0ag1kb04g"
      },
      "source": [
        "Sebagian fitur memiliki distribusi normal yang berarti lebih bagus untuk menggunakan model yang linear. Apabila kita perlu melakukan normalisasi, metode `StandardScaler` sangat cocok digunakan pada data yang berdistribusi normal.\n",
        "\n",
        "Untuk mendapatkan generalisasi yang baik, distribusi data yang kita miliki harus sesuai dengan keadaan di dunia nyata. Maka dari itu, dataset perlu di crosscheck dengan ilmu dari domain permasalahan."
      ]
    },
    {
      "cell_type": "code",
      "execution_count": null,
      "metadata": {
        "colab": {
          "base_uri": "https://localhost:8080/",
          "height": 472
        },
        "id": "vfPJnRmUctkz",
        "outputId": "eb6a2f4b-ffbe-4b3c-a6b8-68795b3cad73"
      },
      "outputs": [
        {
          "data": {
            "image/png": "[encoded data removed]",
            "text/plain": [
              "<Figure size 640x480 with 1 Axes>"
            ]
          },
          "metadata": {},
          "output_type": "display_data"
        }
      ],
      "source": [
        "sns.countplot(x='Target', data=df)\n",
        "sns.set_palette('deep')\n",
        "plt.title('Distribusi Target')\n",
        "plt.xlabel('Kelas')\n",
        "plt.ylabel('Frekuensi')\n",
        "plt.show()"
      ]
    },
    {
      "cell_type": "markdown",
      "metadata": {
        "id": "osrCrZxke3Pd"
      },
      "source": [
        "Seperti yang dapat dilihat diatas, dataset bersifat imbalance. Seringkali data yang tidak seimbang dapat memberikan bias kepada model serta membuat model kesulitan dalam melakukan generalisasi. Cara mengatasi data yang imbalance dapat pelajari pada [artikel](https://www.turintech.ai/what-is-imbalanced-data-and-how-to-handle-it) ini."
      ]
    },
    {
      "cell_type": "markdown",
      "metadata": {
        "id": "UIErlFvOsw9x"
      },
      "source": [
        "#### Data Preparation"
      ]
    },
    {
      "cell_type": "code",
      "execution_count": null,
      "metadata": {
        "colab": {
          "base_uri": "https://localhost:8080/"
        },
        "id": "3K9G6qHUU75B",
        "outputId": "5b29ddd3-27d9-42e0-ee18-8fae09d93a87"
      },
      "outputs": [
        {
          "name": "stdout",
          "output_type": "stream",
          "text": [
            "<class 'pandas.core.frame.DataFrame'>\n",
            "RangeIndex: 10000 entries, 0 to 9999\n",
            "Data columns (total 7 columns):\n",
            " #   Column                   Non-Null Count  Dtype  \n",
            "---  ------                   --------------  -----  \n",
            " 0   Type                     10000 non-null  object \n",
            " 1   Air temperature [K]      10000 non-null  float64\n",
            " 2   Process temperature [K]  10000 non-null  float64\n",
            " 3   Rotational speed [rpm]   10000 non-null  int64  \n",
            " 4   Torque [Nm]              10000 non-null  float64\n",
            " 5   Tool wear [min]          10000 non-null  int64  \n",
            " 6   Target                   10000 non-null  int64  \n",
            "dtypes: float64(3), int64(3), object(1)\n",
            "memory usage: 547.0+ KB\n"
          ]
        }
      ],
      "source": [
        "df.info()"
      ]
    },
    {
      "cell_type": "markdown",
      "metadata": {
        "id": "tXcs713FVH6s"
      },
      "source": [
        "Terdapat fitur `Type` yang merupakan tipe data kategorikal. Hal pertama yang harus dilakukan adalah melakukan encoding terhadap fitur tersebut. Karena kategori dari type adalah berdasarkan peringkat (L < M < H). Maka encoding yang dilakukan juga harus mencerimankan peringkat itu.\n",
        "\n",
        "$L = 0, M = 1, H = 2$\n",
        "\n",
        "\n",
        "Dengan begitu, informasi pada fitur masih tetap dipertahankan."
      ]
    },
    {
      "cell_type": "code",
      "execution_count": null,
      "metadata": {
        "id": "D-HxYOmJVmIt"
      },
      "outputs": [],
      "source": [
        "categories = [['L', 'M', 'H']]\n",
        "\n",
        "encoder = OrdinalEncoder(categories=categories)\n",
        "encoded_data = encoder.fit_transform(df[['Type']])\n",
        "df['Type'] = encoded_data"
      ]
    },
    {
      "cell_type": "markdown",
      "metadata": {
        "id": "91J-6ljyjJFs"
      },
      "source": [
        "Untuk menyeragamkan nilai pada data, pada percobaan ini akan melakukan normalisasi data. Percobaan ini akan menggunakan 3 metode yaitu:\n",
        "1. Tanpa normalisasi\n",
        "2. Menggunakan standard scaler\n",
        "3. Menggunakan min max scaler"
      ]
    },
    {
      "cell_type": "code",
      "execution_count": null,
      "metadata": {
        "id": "vROmBYcAjHps"
      },
      "outputs": [],
      "source": [
        "# Tanpa normalisasi\n",
        "df_train_no_norm = df.copy()\n",
        "\n",
        "# Menggunakan standard scaler\n",
        "standard_scaler = StandardScaler()\n",
        "df_train_standard = df.copy()\n",
        "df_train_standard = pd.DataFrame(\n",
        "    standard_scaler.fit_transform(df), columns=df.columns)\n",
        "\n",
        "# Menggunakan min max scaler\n",
        "min_max_scaler = MinMaxScaler()\n",
        "df_train_minmax = df.copy()\n",
        "df_train_minmax = pd.DataFrame(\n",
        "    min_max_scaler.fit_transform(df), columns=df.columns)"
      ]
    },
    {
      "cell_type": "markdown",
      "metadata": {
        "id": "HpQ-6fars0__"
      },
      "source": [
        "#### Modelling"
      ]
    },
    {
      "cell_type": "markdown",
      "metadata": {
        "id": "JKGxHulYXGVX"
      },
      "source": [
        "##### Menggunakan Data Tanpa Normalisasi"
      ]
    },
    {
      "cell_type": "code",
      "execution_count": null,
      "metadata": {
        "id": "lKr17x4tXL9D"
      },
      "outputs": [],
      "source": [
        "x_train, x_val, y_train, y_val = train_test_split(df_train_no_norm.drop(\n",
        "    'Target', axis=1), df['Target'], test_size=0.2, random_state=1)"
      ]
    },
    {
      "cell_type": "markdown",
      "metadata": {
        "id": "GB4CJ0IjXRzq"
      },
      "source": [
        "Untuk menyimpan hasil evaluasi setelah training model, dibuat sebuah array `results`."
      ]
    },
    {
      "cell_type": "code",
      "execution_count": null,
      "metadata": {
        "id": "MhvRp6miXWUl"
      },
      "outputs": [],
      "source": [
        "results_no_norm = []"
      ]
    },
    {
      "cell_type": "markdown",
      "metadata": {
        "id": "A11qQExmzs2o"
      },
      "source": [
        "###### Logistic Regression"
      ]
    },
    {
      "cell_type": "code",
      "execution_count": null,
      "metadata": {
        "id": "KA3MMgkhMHzo"
      },
      "outputs": [],
      "source": [
        "model = LogisticRegression()\n",
        "model.fit(x_train, y_train)\n",
        "\n",
        "y_pred = model.predict(x_val)\n",
        "\n",
        "res = {\n",
        "    'model': 'Logistic Regression',\n",
        "    'accuracy': accuracy_score(y_val, y_pred),\n",
        "    'precision': precision_score(y_val, y_pred),\n",
        "    'recall': recall_score(y_val, y_pred),\n",
        "    'f1_score': f1_score(y_val, y_pred)\n",
        "}\n",
        "\n",
        "results_no_norm.append(res)"
      ]
    },
    {
      "cell_type": "markdown",
      "metadata": {
        "id": "EF5Ldlyazzsn"
      },
      "source": [
        "###### Support Vector Classifier (SVC)"
      ]
    },
    {
      "cell_type": "code",
      "execution_count": null,
      "metadata": {
        "colab": {
          "base_uri": "https://localhost:8080/"
        },
        "id": "9iYWPXzwzsIi",
        "outputId": "aca7c7e1-9658-4a4c-b883-b027ee44c822"
      },
      "outputs": [
        {
          "name": "stderr",
          "output_type": "stream",
          "text": [
            "/usr/local/lib/python3.10/dist-packages/sklearn/metrics/_classification.py:1471: UndefinedMetricWarning: Precision is ill-defined and being set to 0.0 due to no predicted samples. Use `zero_division` parameter to control this behavior.\n",
            "  _warn_prf(average, modifier, msg_start, len(result))\n"
          ]
        }
      ],
      "source": [
        "model = SVC()\n",
        "model.fit(x_train, y_train)\n",
        "\n",
        "y_pred = model.predict(x_val)\n",
        "\n",
        "res = {\n",
        "    'model': 'Support Vector Classifier',\n",
        "    'accuracy': accuracy_score(y_val, y_pred),\n",
        "    'precision': precision_score(y_val, y_pred),\n",
        "    'recall': recall_score(y_val, y_pred),\n",
        "    'f1_score': f1_score(y_val, y_pred)\n",
        "}\n",
        "\n",
        "results_no_norm.append(res)"
      ]
    },
    {
      "cell_type": "markdown",
      "metadata": {
        "id": "UzFR3zYrz2bo"
      },
      "source": [
        "###### Decision Tree"
      ]
    },
    {
      "cell_type": "code",
      "execution_count": null,
      "metadata": {
        "id": "-eA4Yr6MzslZ"
      },
      "outputs": [],
      "source": [
        "model = DecisionTreeClassifier()\n",
        "model.fit(x_train, y_train)\n",
        "\n",
        "y_pred = model.predict(x_val)\n",
        "\n",
        "res = {\n",
        "    'model': 'Support Vector Classifier',\n",
        "    'accuracy': accuracy_score(y_val, y_pred),\n",
        "    'precision': precision_score(y_val, y_pred),\n",
        "    'recall': recall_score(y_val, y_pred),\n",
        "    'f1_score': f1_score(y_val, y_pred)\n",
        "}\n",
        "\n",
        "results_no_norm.append(res)"
      ]
    },
    {
      "cell_type": "markdown",
      "metadata": {
        "id": "oKoDr_Z0z4Qo"
      },
      "source": [
        "###### Random Forest"
      ]
    },
    {
      "cell_type": "code",
      "execution_count": null,
      "metadata": {
        "id": "MzzLek7tzsdz"
      },
      "outputs": [],
      "source": [
        "model = RandomForestClassifier()\n",
        "model.fit(x_train, y_train)\n",
        "\n",
        "y_pred = model.predict(x_val)\n",
        "\n",
        "res = {\n",
        "    'model': 'Random Forest Classifier',\n",
        "    'accuracy': accuracy_score(y_val, y_pred),\n",
        "    'precision': precision_score(y_val, y_pred),\n",
        "    'recall': recall_score(y_val, y_pred),\n",
        "    'f1_score': f1_score(y_val, y_pred)\n",
        "}\n",
        "\n",
        "results_no_norm.append(res)"
      ]
    },
    {
      "cell_type": "markdown",
      "metadata": {
        "id": "QVlOL0ONz6W8"
      },
      "source": [
        "###### Gradient Boosting Classifier"
      ]
    },
    {
      "cell_type": "code",
      "execution_count": null,
      "metadata": {
        "id": "-DesEjpjzsXM"
      },
      "outputs": [],
      "source": [
        "model = GradientBoostingClassifier(n_estimators=100)\n",
        "model.fit(x_train, y_train)\n",
        "\n",
        "y_pred = model.predict(x_val)\n",
        "\n",
        "res = {\n",
        "    'model': 'Gradient Boosting Classifier',\n",
        "    'accuracy': accuracy_score(y_val, y_pred),\n",
        "    'precision': precision_score(y_val, y_pred),\n",
        "    'recall': recall_score(y_val, y_pred),\n",
        "    'f1_score': f1_score(y_val, y_pred)\n",
        "}\n",
        "\n",
        "results_no_norm.append(res)"
      ]
    },
    {
      "cell_type": "markdown",
      "metadata": {
        "id": "nBTgG4oYZUvW"
      },
      "source": [
        "##### Menggunakan Data Dengan Standard Scaler"
      ]
    },
    {
      "cell_type": "code",
      "execution_count": null,
      "metadata": {
        "id": "kElYD3RWZUvb"
      },
      "outputs": [],
      "source": [
        "x_train, x_val, y_train, y_val = train_test_split(df_train_standard.drop(\n",
        "    'Target', axis=1), df['Target'], test_size=0.2, random_state=1)"
      ]
    },
    {
      "cell_type": "markdown",
      "metadata": {
        "id": "ipDtoArHZUvb"
      },
      "source": [
        "Untuk menyimpan hasil evaluasi setelah training model, dibuat sebuah array `results`."
      ]
    },
    {
      "cell_type": "code",
      "execution_count": null,
      "metadata": {
        "id": "XHFnqYBWZUvb"
      },
      "outputs": [],
      "source": [
        "results_standard = []"
      ]
    },
    {
      "cell_type": "markdown",
      "metadata": {
        "id": "8KM3BPbxZUvc"
      },
      "source": [
        "###### Logistic Regression"
      ]
    },
    {
      "cell_type": "code",
      "execution_count": null,
      "metadata": {
        "id": "pm1ONxNfZUvc"
      },
      "outputs": [],
      "source": [
        "model = LogisticRegression()\n",
        "model.fit(x_train, y_train)\n",
        "\n",
        "y_pred = model.predict(x_val)\n",
        "\n",
        "res = {\n",
        "    'model': 'Logistic Regression',\n",
        "    'accuracy': accuracy_score(y_val, y_pred),\n",
        "    'precision': precision_score(y_val, y_pred),\n",
        "    'recall': recall_score(y_val, y_pred),\n",
        "    'f1_score': f1_score(y_val, y_pred)\n",
        "}\n",
        "\n",
        "results_standard.append(res)"
      ]
    },
    {
      "cell_type": "markdown",
      "metadata": {
        "id": "2KDp9RTtZUvc"
      },
      "source": [
        "###### Support Vector Classifier (SVC)"
      ]
    },
    {
      "cell_type": "code",
      "execution_count": null,
      "metadata": {
        "id": "PYBN3S_qZUvc"
      },
      "outputs": [],
      "source": [
        "model = SVC()\n",
        "model.fit(x_train, y_train)\n",
        "\n",
        "y_pred = model.predict(x_val)\n",
        "\n",
        "res = {\n",
        "    'model': 'Support Vector Classifier',\n",
        "    'accuracy': accuracy_score(y_val, y_pred),\n",
        "    'precision': precision_score(y_val, y_pred),\n",
        "    'recall': recall_score(y_val, y_pred),\n",
        "    'f1_score': f1_score(y_val, y_pred)\n",
        "}\n",
        "\n",
        "results_standard.append(res)"
      ]
    },
    {
      "cell_type": "markdown",
      "metadata": {
        "id": "Wbv7m_KxZUvc"
      },
      "source": [
        "###### Decision Tree"
      ]
    },
    {
      "cell_type": "code",
      "execution_count": null,
      "metadata": {
        "id": "s-Td8n37ZUvc"
      },
      "outputs": [],
      "source": [
        "model = DecisionTreeClassifier()\n",
        "model.fit(x_train, y_train)\n",
        "\n",
        "y_pred = model.predict(x_val)\n",
        "\n",
        "res = {\n",
        "    'model': 'Support Vector Classifier',\n",
        "    'accuracy': accuracy_score(y_val, y_pred),\n",
        "    'precision': precision_score(y_val, y_pred),\n",
        "    'recall': recall_score(y_val, y_pred),\n",
        "    'f1_score': f1_score(y_val, y_pred)\n",
        "}\n",
        "\n",
        "results_standard.append(res)"
      ]
    },
    {
      "cell_type": "markdown",
      "metadata": {
        "id": "Qg30z4QpZUvc"
      },
      "source": [
        "###### Random Forest"
      ]
    },
    {
      "cell_type": "code",
      "execution_count": null,
      "metadata": {
        "id": "f0LLIOMFZUvc"
      },
      "outputs": [],
      "source": [
        "model = RandomForestClassifier()\n",
        "model.fit(x_train, y_train)\n",
        "\n",
        "y_pred = model.predict(x_val)\n",
        "\n",
        "res = {\n",
        "    'model': 'Random Forest Classifier',\n",
        "    'accuracy': accuracy_score(y_val, y_pred),\n",
        "    'precision': precision_score(y_val, y_pred),\n",
        "    'recall': recall_score(y_val, y_pred),\n",
        "    'f1_score': f1_score(y_val, y_pred)\n",
        "}\n",
        "\n",
        "results_standard.append(res)"
      ]
    },
    {
      "cell_type": "markdown",
      "metadata": {
        "id": "dEjNLht4ZUvd"
      },
      "source": [
        "###### Gradient Boosting Classifier"
      ]
    },
    {
      "cell_type": "code",
      "execution_count": null,
      "metadata": {
        "id": "CU0KKEKSZUvd"
      },
      "outputs": [],
      "source": [
        "model = GradientBoostingClassifier(n_estimators=100)\n",
        "model.fit(x_train, y_train)\n",
        "\n",
        "y_pred = model.predict(x_val)\n",
        "\n",
        "res = {\n",
        "    'model': 'Gradient Boosting Classifier',\n",
        "    'accuracy': accuracy_score(y_val, y_pred),\n",
        "    'precision': precision_score(y_val, y_pred),\n",
        "    'recall': recall_score(y_val, y_pred),\n",
        "    'f1_score': f1_score(y_val, y_pred)\n",
        "}\n",
        "\n",
        "results_standard.append(res)"
      ]
    },
    {
      "cell_type": "markdown",
      "metadata": {
        "id": "Lu_yfSgwZj79"
      },
      "source": [
        "##### Menggunakan Data Dengan Min Max Scaler"
      ]
    },
    {
      "cell_type": "code",
      "execution_count": null,
      "metadata": {
        "id": "27YewuyDZj8H"
      },
      "outputs": [],
      "source": [
        "x_train, x_val, y_train, y_val = train_test_split(df_train_minmax.drop(\n",
        "    'Target', axis=1), df['Target'], test_size=0.2, random_state=1)"
      ]
    },
    {
      "cell_type": "markdown",
      "metadata": {
        "id": "WAaExk4QZj8H"
      },
      "source": [
        "Untuk menyimpan hasil evaluasi setelah training model, dibuat sebuah array `results`."
      ]
    },
    {
      "cell_type": "code",
      "execution_count": null,
      "metadata": {
        "id": "QZifQkpjZj8H"
      },
      "outputs": [],
      "source": [
        "results_minmax = []"
      ]
    },
    {
      "cell_type": "markdown",
      "metadata": {
        "id": "bQMJy07WZj8I"
      },
      "source": [
        "###### Logistic Regression"
      ]
    },
    {
      "cell_type": "code",
      "execution_count": null,
      "metadata": {
        "id": "bM6WFb0vZj8I"
      },
      "outputs": [],
      "source": [
        "model = LogisticRegression()\n",
        "model.fit(x_train, y_train)\n",
        "\n",
        "y_pred = model.predict(x_val)\n",
        "\n",
        "res = {\n",
        "    'model': 'Logistic Regression',\n",
        "    'accuracy': accuracy_score(y_val, y_pred),\n",
        "    'precision': precision_score(y_val, y_pred),\n",
        "    'recall': recall_score(y_val, y_pred),\n",
        "    'f1_score': f1_score(y_val, y_pred)\n",
        "}\n",
        "\n",
        "results_minmax.append(res)"
      ]
    },
    {
      "cell_type": "markdown",
      "metadata": {
        "id": "HMYRyeGHZj8I"
      },
      "source": [
        "###### Support Vector Classifier (SVC)"
      ]
    },
    {
      "cell_type": "code",
      "execution_count": null,
      "metadata": {
        "id": "yVz4_RsFZj8I"
      },
      "outputs": [],
      "source": [
        "model = SVC()\n",
        "model.fit(x_train, y_train)\n",
        "\n",
        "y_pred = model.predict(x_val)\n",
        "\n",
        "res = {\n",
        "    'model': 'Support Vector Classifier',\n",
        "    'accuracy': accuracy_score(y_val, y_pred),\n",
        "    'precision': precision_score(y_val, y_pred),\n",
        "    'recall': recall_score(y_val, y_pred),\n",
        "    'f1_score': f1_score(y_val, y_pred)\n",
        "}\n",
        "\n",
        "results_minmax.append(res)"
      ]
    },
    {
      "cell_type": "markdown",
      "metadata": {
        "id": "5xkC_USCZj8I"
      },
      "source": [
        "###### Decision Tree"
      ]
    },
    {
      "cell_type": "code",
      "execution_count": null,
      "metadata": {
        "id": "ANjt9ok4Zj8I"
      },
      "outputs": [],
      "source": [
        "model = DecisionTreeClassifier()\n",
        "model.fit(x_train, y_train)\n",
        "\n",
        "y_pred = model.predict(x_val)\n",
        "\n",
        "res = {\n",
        "    'model': 'Support Vector Classifier',\n",
        "    'accuracy': accuracy_score(y_val, y_pred),\n",
        "    'precision': precision_score(y_val, y_pred),\n",
        "    'recall': recall_score(y_val, y_pred),\n",
        "    'f1_score': f1_score(y_val, y_pred)\n",
        "}\n",
        "\n",
        "results_minmax.append(res)"
      ]
    },
    {
      "cell_type": "markdown",
      "metadata": {
        "id": "3dNi-0y4Zj8I"
      },
      "source": [
        "###### Random Forest"
      ]
    },
    {
      "cell_type": "code",
      "execution_count": null,
      "metadata": {
        "id": "K0ncwf18Zj8I"
      },
      "outputs": [],
      "source": [
        "model = RandomForestClassifier()\n",
        "model.fit(x_train, y_train)\n",
        "\n",
        "y_pred = model.predict(x_val)\n",
        "\n",
        "res = {\n",
        "    'model': 'Random Forest Classifier',\n",
        "    'accuracy': accuracy_score(y_val, y_pred),\n",
        "    'precision': precision_score(y_val, y_pred),\n",
        "    'recall': recall_score(y_val, y_pred),\n",
        "    'f1_score': f1_score(y_val, y_pred)\n",
        "}\n",
        "\n",
        "results_minmax.append(res)"
      ]
    },
    {
      "cell_type": "markdown",
      "metadata": {
        "id": "f4V3lEVBZj8J"
      },
      "source": [
        "###### Gradient Boosting Classifier"
      ]
    },
    {
      "cell_type": "code",
      "execution_count": null,
      "metadata": {
        "id": "IfA-B24dZj8J"
      },
      "outputs": [],
      "source": [
        "model = GradientBoostingClassifier(n_estimators=100)\n",
        "model.fit(x_train, y_train)\n",
        "\n",
        "y_pred = model.predict(x_val)\n",
        "\n",
        "res = {\n",
        "    'model': 'Gradient Boosting Classifier',\n",
        "    'accuracy': accuracy_score(y_val, y_pred),\n",
        "    'precision': precision_score(y_val, y_pred),\n",
        "    'recall': recall_score(y_val, y_pred),\n",
        "    'f1_score': f1_score(y_val, y_pred)\n",
        "}\n",
        "\n",
        "results_minmax.append(res)"
      ]
    },
    {
      "cell_type": "markdown",
      "metadata": {
        "id": "3jGSfsz5s2IS"
      },
      "source": [
        "#### Evaluation"
      ]
    },
    {
      "cell_type": "markdown",
      "metadata": {
        "id": "uld5o_QVY6md"
      },
      "source": [
        "Hasil evaluasi menggunakan data tanpa normalisasi"
      ]
    },
    {
      "cell_type": "code",
      "execution_count": null,
      "metadata": {
        "colab": {
          "base_uri": "https://localhost:8080/"
        },
        "id": "uurvtlAQs3em",
        "outputId": "8d20808c-be42-4b7e-f069-90e38099cc29"
      },
      "outputs": [
        {
          "name": "stdout",
          "output_type": "stream",
          "text": [
            "Logistic Regression\n",
            "Accuracy: 0.9735\n",
            "Precision: 0.7777777777777778\n",
            "Recall: 0.2222222222222222\n",
            "F1 Score: 0.345679012345679\n",
            "\n",
            "Support Vector Classifier\n",
            "Accuracy: 0.9685\n",
            "Precision: 0.0\n",
            "Recall: 0.0\n",
            "F1 Score: 0.0\n",
            "\n",
            "Support Vector Classifier\n",
            "Accuracy: 0.9765\n",
            "Precision: 0.6081081081081081\n",
            "Recall: 0.7142857142857143\n",
            "F1 Score: 0.6569343065693432\n",
            "\n",
            "Random Forest Classifier\n",
            "Accuracy: 0.9915\n",
            "Precision: 0.9791666666666666\n",
            "Recall: 0.746031746031746\n",
            "F1 Score: 0.846846846846847\n",
            "\n",
            "Gradient Boosting Classifier\n",
            "Accuracy: 0.987\n",
            "Precision: 0.9302325581395349\n",
            "Recall: 0.6349206349206349\n",
            "F1 Score: 0.7547169811320754\n",
            "\n"
          ]
        }
      ],
      "source": [
        "for res in results_no_norm:\n",
        "    print(f\"{res['model']}\")\n",
        "    print(f\"Accuracy: {res['accuracy']}\")\n",
        "    print(f\"Precision: {res['precision']}\")\n",
        "    print(f\"Recall: {res['recall']}\")\n",
        "    print(f\"F1 Score: {res['f1_score']}\")\n",
        "    print(\"\")"
      ]
    },
    {
      "cell_type": "markdown",
      "metadata": {
        "id": "hgdjtGdZZFM6"
      },
      "source": [
        "Hasil evaluasi menggunakan data dengan standard scaler"
      ]
    },
    {
      "cell_type": "code",
      "execution_count": null,
      "metadata": {
        "colab": {
          "base_uri": "https://localhost:8080/"
        },
        "id": "gsMfNjs8ZIA0",
        "outputId": "a8efbdff-4257-487a-c375-84621e0c6bf3"
      },
      "outputs": [
        {
          "name": "stdout",
          "output_type": "stream",
          "text": [
            "Logistic Regression\n",
            "Accuracy: 0.973\n",
            "Precision: 0.7647058823529411\n",
            "Recall: 0.20634920634920634\n",
            "F1 Score: 0.32499999999999996\n",
            "\n",
            "Support Vector Classifier\n",
            "Accuracy: 0.9775\n",
            "Precision: 1.0\n",
            "Recall: 0.2857142857142857\n",
            "F1 Score: 0.4444444444444445\n",
            "\n",
            "Support Vector Classifier\n",
            "Accuracy: 0.9775\n",
            "Precision: 0.625\n",
            "Recall: 0.7142857142857143\n",
            "F1 Score: 0.6666666666666666\n",
            "\n",
            "Random Forest Classifier\n",
            "Accuracy: 0.988\n",
            "Precision: 0.9333333333333333\n",
            "Recall: 0.6666666666666666\n",
            "F1 Score: 0.7777777777777778\n",
            "\n",
            "Gradient Boosting Classifier\n",
            "Accuracy: 0.987\n",
            "Precision: 0.9512195121951219\n",
            "Recall: 0.6190476190476191\n",
            "F1 Score: 0.7500000000000001\n",
            "\n"
          ]
        }
      ],
      "source": [
        "for res in results_standard:\n",
        "    print(f\"{res['model']}\")\n",
        "    print(f\"Accuracy: {res['accuracy']}\")\n",
        "    print(f\"Precision: {res['precision']}\")\n",
        "    print(f\"Recall: {res['recall']}\")\n",
        "    print(f\"F1 Score: {res['f1_score']}\")\n",
        "    print(\"\")"
      ]
    },
    {
      "cell_type": "markdown",
      "metadata": {
        "id": "8ulY0OIdZKJ9"
      },
      "source": [
        "Hasil evaluasi menggunakan data dengan min max scaler"
      ]
    },
    {
      "cell_type": "code",
      "execution_count": null,
      "metadata": {
        "colab": {
          "base_uri": "https://localhost:8080/"
        },
        "id": "EHizSlLbZMTx",
        "outputId": "eb2d9949-6e35-4f80-b918-3230f50de142"
      },
      "outputs": [
        {
          "name": "stdout",
          "output_type": "stream",
          "text": [
            "Logistic Regression\n",
            "Accuracy: 0.969\n",
            "Precision: 1.0\n",
            "Recall: 0.015873015873015872\n",
            "F1 Score: 0.03125\n",
            "\n",
            "Support Vector Classifier\n",
            "Accuracy: 0.972\n",
            "Precision: 1.0\n",
            "Recall: 0.1111111111111111\n",
            "F1 Score: 0.19999999999999998\n",
            "\n",
            "Support Vector Classifier\n",
            "Accuracy: 0.9775\n",
            "Precision: 0.625\n",
            "Recall: 0.7142857142857143\n",
            "F1 Score: 0.6666666666666666\n",
            "\n",
            "Random Forest Classifier\n",
            "Accuracy: 0.9895\n",
            "Precision: 0.9565217391304348\n",
            "Recall: 0.6984126984126984\n",
            "F1 Score: 0.8073394495412843\n",
            "\n",
            "Gradient Boosting Classifier\n",
            "Accuracy: 0.987\n",
            "Precision: 0.9512195121951219\n",
            "Recall: 0.6190476190476191\n",
            "F1 Score: 0.7500000000000001\n",
            "\n"
          ]
        }
      ],
      "source": [
        "for res in results_minmax:\n",
        "    print(f\"{res['model']}\")\n",
        "    print(f\"Accuracy: {res['accuracy']}\")\n",
        "    print(f\"Precision: {res['precision']}\")\n",
        "    print(f\"Recall: {res['recall']}\")\n",
        "    print(f\"F1 Score: {res['f1_score']}\")\n",
        "    print(\"\")"
      ]
    },
    {
      "cell_type": "markdown",
      "metadata": {
        "id": "h3_G2RZmbeHS"
      },
      "source": [
        "Untuk mengukur performa model pada permasalahan ini, lebih cocok untuk melihat F1 score dibanding dengan akurasi karena datanya yang bersifat imbalance. Apabila kita nilai berdasarkan F1 score, dapat dilihat bahwa algoritma random forest classifier cenderung memiliki hasil yang lebih baik. Khususnya pada data yang diterapkan min max scaler, algoritma random forest memiliki hasil terbaik dengan F1 score 0.8148148148148148."
      ]
    },
    {
      "cell_type": "markdown",
      "metadata": {
        "id": "HL-CXpSFcj7k"
      },
      "source": [
        "#### Feature Selection"
      ]
    },
    {
      "cell_type": "markdown",
      "metadata": {
        "id": "wUDv3aGucqP9"
      },
      "source": [
        "Kita dapat mengembangkan lagi modelnya dengan melakukan feature selection. Dengan mengurangi fitur yang tidak penting, model dapat lebih berfokus kepada fitur yang paling berpengaruh terhadap keputusan dan harapannya akan menghasilkan model yang lebih baik. Untuk penjelasan lebih lengkap mengenai feature selection dapat dilihat pada [halaman ini](https://www.stratascratch.com/blog/feature-selection-techniques-in-machine-learning/).\n",
        "\n",
        "Metode yang akan dipakai kali ini adalah menggunakan random forest importance untuk menentukan peringkat dari kepentingan fitur pada model."
      ]
    },
    {
      "cell_type": "code",
      "execution_count": null,
      "metadata": {
        "colab": {
          "base_uri": "https://localhost:8080/"
        },
        "id": "MtCTFiH2dUWR",
        "outputId": "9a9aeaea-ec0e-487a-9b42-2f2bcb9840f2"
      },
      "outputs": [
        {
          "name": "stdout",
          "output_type": "stream",
          "text": [
            "Peringkat Feature Importance:\n",
            "1. Type (0.308099637200635)\n",
            "2. Air temperature [K] (0.2175388511833149)\n",
            "3. Process temperature [K] (0.17303833684109185)\n",
            "4. Rotational speed [rpm] (0.1408823152363742)\n",
            "5. Torque [Nm] (0.1369387888415258)\n",
            "6. Tool wear [min] (0.023502070697058272)\n"
          ]
        }
      ],
      "source": [
        "x_train, x_val, y_train, y_val = train_test_split(\n",
        "    df.drop('Target', axis=1), df['Target'], test_size=0.2, random_state=1)\n",
        "\n",
        "model = RandomForestClassifier(n_estimators=100, random_state=1)\n",
        "\n",
        "model.fit(x_train, y_train)\n",
        "\n",
        "\n",
        "importance = model.feature_importances_\n",
        "\n",
        "indices = np.argsort(importance)[::-1]\n",
        "\n",
        "\n",
        "features = [\n",
        "\n",
        "    'Type',\n",
        "\n",
        "    'Air temperature [K]',\n",
        "\n",
        "    'Process temperature [K]',\n",
        "\n",
        "    'Rotational speed [rpm]',\n",
        "\n",
        "    'Torque [Nm]',\n",
        "\n",
        "    'Tool wear [min]',\n",
        "]\n",
        "\n",
        "\n",
        "print(\"Peringkat Feature Importance:\")\n",
        "\n",
        "for f in range(x_train.shape[1]):\n",
        "\n",
        "    print(f\"{f + 1}. {features[f]} ({importance[indices[f]]})\")"
      ]
    },
    {
      "cell_type": "markdown",
      "metadata": {
        "id": "onvJOo4ldcME"
      },
      "source": [
        "Dapat dilihat bahwa fitur `Tool wear [min]` memiliki nilai importance yang rendah. Fitur tersebut dapat di drop karena memilki nilai importance yang cukup rendah. Kemudian kita lihat korelasi heatmapnya."
      ]
    },
    {
      "cell_type": "code",
      "execution_count": null,
      "metadata": {
        "colab": {
          "base_uri": "https://localhost:8080/",
          "height": 853
        },
        "id": "ZQQ-YmXnc2v9",
        "outputId": "1f161b22-60e9-4c63-8b0a-806121f7f0ba"
      },
      "outputs": [
        {
          "data": {
            "image/png": "[encoded data removed]",
            "text/plain": [
              "<Figure size 1000x800 with 2 Axes>"
            ]
          },
          "metadata": {},
          "output_type": "display_data"
        }
      ],
      "source": [
        "corr_matrix = df.corr()\n",
        "\n",
        "plt.figure(figsize=(10, 8))\n",
        "sns.heatmap(corr_matrix, annot=True, cmap='coolwarm',\n",
        "            fmt='.2f', linewidths=0.5)\n",
        "plt.title('Correlation Heatmap')\n",
        "plt.show()"
      ]
    },
    {
      "cell_type": "markdown",
      "metadata": {
        "id": "6pt5uH9Sd46B"
      },
      "source": [
        "Disini ada beberapa hubungan antar fitur yang memiliki korelasi tinggi. Yaitu `Air temperature [K]` dan `Process temperature [K]` serta `Torque [min]` dan `Rotational speed [rpm]`. Hal ini dapat berarti bahwa pasangan fitur tersebut memiliki redundansi. Oleh karena itu, kita dapat mencoba drop fitur yang redundan tersebut."
      ]
    },
    {
      "cell_type": "markdown",
      "metadata": {
        "id": "_ULf4Ev2eveh"
      },
      "source": [
        "#### Remodelling"
      ]
    },
    {
      "cell_type": "markdown",
      "metadata": {
        "id": "DeZ7ihZrgt3C"
      },
      "source": [
        "Dari statement diatas, kita bisa ber eksperimen dengan melakukan drop fitur untuk mendapatkan hasil yang lebih baik."
      ]
    },
    {
      "cell_type": "code",
      "execution_count": null,
      "metadata": {
        "id": "VKjLNAQge6ds"
      },
      "outputs": [],
      "source": [
        "features_to_drop = [\n",
        "    # 'Process temperature [K]',\n",
        "    # 'Torque [Nm]',\n",
        "    'Tool wear [min]',\n",
        "]\n",
        "\n",
        "df.drop(features_to_drop, axis=1, inplace=True)"
      ]
    },
    {
      "cell_type": "code",
      "execution_count": null,
      "metadata": {
        "id": "kgc_Yf5ne6pb"
      },
      "outputs": [],
      "source": [
        "# Tanpa normalisasi\n",
        "df_train_no_norm = df.copy()\n",
        "\n",
        "# Menggunakan standard scaler\n",
        "standard_scaler = StandardScaler()\n",
        "df_train_standard = df.copy()\n",
        "df_train_standard = pd.DataFrame(\n",
        "    standard_scaler.fit_transform(df), columns=df.columns)\n",
        "\n",
        "# Menggunakan min max scaler\n",
        "min_max_scaler = MinMaxScaler()\n",
        "df_train_minmax = df.copy()\n",
        "df_train_minmax = pd.DataFrame(\n",
        "    min_max_scaler.fit_transform(df), columns=df.columns)"
      ]
    },
    {
      "cell_type": "markdown",
      "metadata": {
        "id": "HrHq1-JYevei"
      },
      "source": [
        "##### Menggunakan Data Tanpa Normalisasi"
      ]
    },
    {
      "cell_type": "code",
      "execution_count": null,
      "metadata": {
        "id": "TBvG7_DDevei"
      },
      "outputs": [],
      "source": [
        "x_train, x_val, y_train, y_val = train_test_split(df_train_no_norm.drop(\n",
        "    'Target', axis=1), df['Target'], test_size=0.2, random_state=1)"
      ]
    },
    {
      "cell_type": "markdown",
      "metadata": {
        "id": "KYykmR85evei"
      },
      "source": [
        "Untuk menyimpan hasil evaluasi setelah training model, dibuat sebuah array `results`."
      ]
    },
    {
      "cell_type": "code",
      "execution_count": null,
      "metadata": {
        "id": "PfyZobHFevei"
      },
      "outputs": [],
      "source": [
        "results_no_norm = []"
      ]
    },
    {
      "cell_type": "markdown",
      "metadata": {
        "id": "zjuQsfiuevei"
      },
      "source": [
        "###### Logistic Regression"
      ]
    },
    {
      "cell_type": "code",
      "execution_count": null,
      "metadata": {
        "id": "6bpp7s-6evei"
      },
      "outputs": [],
      "source": [
        "model = LogisticRegression()\n",
        "model.fit(x_train, y_train)\n",
        "\n",
        "y_pred = model.predict(x_val)\n",
        "\n",
        "res = {\n",
        "    'model': 'Logistic Regression',\n",
        "    'accuracy': accuracy_score(y_val, y_pred),\n",
        "    'precision': precision_score(y_val, y_pred),\n",
        "    'recall': recall_score(y_val, y_pred),\n",
        "    'f1_score': f1_score(y_val, y_pred)\n",
        "}\n",
        "\n",
        "results_no_norm.append(res)"
      ]
    },
    {
      "cell_type": "markdown",
      "metadata": {
        "id": "ID0V-nuIevei"
      },
      "source": [
        "###### Support Vector Classifier (SVC)"
      ]
    },
    {
      "cell_type": "code",
      "execution_count": null,
      "metadata": {
        "colab": {
          "base_uri": "https://localhost:8080/"
        },
        "id": "uuctWclZevej",
        "outputId": "01853ddd-3bbd-41cc-8a5a-836060728372"
      },
      "outputs": [
        {
          "name": "stderr",
          "output_type": "stream",
          "text": [
            "/usr/local/lib/python3.10/dist-packages/sklearn/metrics/_classification.py:1471: UndefinedMetricWarning: Precision is ill-defined and being set to 0.0 due to no predicted samples. Use `zero_division` parameter to control this behavior.\n",
            "  _warn_prf(average, modifier, msg_start, len(result))\n"
          ]
        }
      ],
      "source": [
        "model = SVC()\n",
        "model.fit(x_train, y_train)\n",
        "\n",
        "y_pred = model.predict(x_val)\n",
        "\n",
        "res = {\n",
        "    'model': 'Support Vector Classifier',\n",
        "    'accuracy': accuracy_score(y_val, y_pred),\n",
        "    'precision': precision_score(y_val, y_pred),\n",
        "    'recall': recall_score(y_val, y_pred),\n",
        "    'f1_score': f1_score(y_val, y_pred)\n",
        "}\n",
        "\n",
        "results_no_norm.append(res)"
      ]
    },
    {
      "cell_type": "markdown",
      "metadata": {
        "id": "ixIF5zBjevej"
      },
      "source": [
        "###### Decision Tree"
      ]
    },
    {
      "cell_type": "code",
      "execution_count": null,
      "metadata": {
        "id": "dzbZbe2Jevej"
      },
      "outputs": [],
      "source": [
        "model = DecisionTreeClassifier()\n",
        "model.fit(x_train, y_train)\n",
        "\n",
        "y_pred = model.predict(x_val)\n",
        "\n",
        "res = {\n",
        "    'model': 'Support Vector Classifier',\n",
        "    'accuracy': accuracy_score(y_val, y_pred),\n",
        "    'precision': precision_score(y_val, y_pred),\n",
        "    'recall': recall_score(y_val, y_pred),\n",
        "    'f1_score': f1_score(y_val, y_pred)\n",
        "}\n",
        "\n",
        "results_no_norm.append(res)"
      ]
    },
    {
      "cell_type": "markdown",
      "metadata": {
        "id": "ZeNflhQLevej"
      },
      "source": [
        "###### Random Forest"
      ]
    },
    {
      "cell_type": "code",
      "execution_count": null,
      "metadata": {
        "id": "TEwA5nPLevej"
      },
      "outputs": [],
      "source": [
        "model = RandomForestClassifier()\n",
        "model.fit(x_train, y_train)\n",
        "\n",
        "y_pred = model.predict(x_val)\n",
        "\n",
        "res = {\n",
        "    'model': 'Random Forest Classifier',\n",
        "    'accuracy': accuracy_score(y_val, y_pred),\n",
        "    'precision': precision_score(y_val, y_pred),\n",
        "    'recall': recall_score(y_val, y_pred),\n",
        "    'f1_score': f1_score(y_val, y_pred)\n",
        "}\n",
        "\n",
        "results_no_norm.append(res)"
      ]
    },
    {
      "cell_type": "markdown",
      "metadata": {
        "id": "qJI4oxEFevej"
      },
      "source": [
        "###### Gradient Boosting Classifier"
      ]
    },
    {
      "cell_type": "code",
      "execution_count": null,
      "metadata": {
        "id": "KqciD-4Ievej"
      },
      "outputs": [],
      "source": [
        "model = GradientBoostingClassifier(n_estimators=100)\n",
        "model.fit(x_train, y_train)\n",
        "\n",
        "y_pred = model.predict(x_val)\n",
        "\n",
        "res = {\n",
        "    'model': 'Gradient Boosting Classifier',\n",
        "    'accuracy': accuracy_score(y_val, y_pred),\n",
        "    'precision': precision_score(y_val, y_pred),\n",
        "    'recall': recall_score(y_val, y_pred),\n",
        "    'f1_score': f1_score(y_val, y_pred)\n",
        "}\n",
        "\n",
        "results_no_norm.append(res)"
      ]
    },
    {
      "cell_type": "markdown",
      "metadata": {
        "id": "GZqdxTWbevej"
      },
      "source": [
        "##### Menggunakan Data Dengan Standard Scaler"
      ]
    },
    {
      "cell_type": "code",
      "execution_count": null,
      "metadata": {
        "id": "hL-FJM_yevej"
      },
      "outputs": [],
      "source": [
        "x_train, x_val, y_train, y_val = train_test_split(df_train_standard.drop(\n",
        "    'Target', axis=1), df['Target'], test_size=0.2, random_state=1)"
      ]
    },
    {
      "cell_type": "markdown",
      "metadata": {
        "id": "pHb-Orcwevej"
      },
      "source": [
        "Untuk menyimpan hasil evaluasi setelah training model, dibuat sebuah array `results`."
      ]
    },
    {
      "cell_type": "code",
      "execution_count": null,
      "metadata": {
        "id": "mRPk42Foevej"
      },
      "outputs": [],
      "source": [
        "results_standard = []"
      ]
    },
    {
      "cell_type": "markdown",
      "metadata": {
        "id": "Z2fxAWstevek"
      },
      "source": [
        "###### Logistic Regression"
      ]
    },
    {
      "cell_type": "code",
      "execution_count": null,
      "metadata": {
        "id": "4EeEl3tEevek"
      },
      "outputs": [],
      "source": [
        "model = LogisticRegression()\n",
        "model.fit(x_train, y_train)\n",
        "\n",
        "y_pred = model.predict(x_val)\n",
        "\n",
        "res = {\n",
        "    'model': 'Logistic Regression',\n",
        "    'accuracy': accuracy_score(y_val, y_pred),\n",
        "    'precision': precision_score(y_val, y_pred),\n",
        "    'recall': recall_score(y_val, y_pred),\n",
        "    'f1_score': f1_score(y_val, y_pred)\n",
        "}\n",
        "\n",
        "results_standard.append(res)"
      ]
    },
    {
      "cell_type": "markdown",
      "metadata": {
        "id": "lP2Mf65Pevek"
      },
      "source": [
        "###### Support Vector Classifier (SVC)"
      ]
    },
    {
      "cell_type": "code",
      "execution_count": null,
      "metadata": {
        "id": "SpyuSCLkevek"
      },
      "outputs": [],
      "source": [
        "model = SVC()\n",
        "model.fit(x_train, y_train)\n",
        "\n",
        "y_pred = model.predict(x_val)\n",
        "\n",
        "res = {\n",
        "    'model': 'Support Vector Classifier',\n",
        "    'accuracy': accuracy_score(y_val, y_pred),\n",
        "    'precision': precision_score(y_val, y_pred),\n",
        "    'recall': recall_score(y_val, y_pred),\n",
        "    'f1_score': f1_score(y_val, y_pred)\n",
        "}\n",
        "\n",
        "results_standard.append(res)"
      ]
    },
    {
      "cell_type": "markdown",
      "metadata": {
        "id": "Sua3eygNevek"
      },
      "source": [
        "###### Decision Tree"
      ]
    },
    {
      "cell_type": "code",
      "execution_count": null,
      "metadata": {
        "id": "crlVtD5mevek"
      },
      "outputs": [],
      "source": [
        "model = DecisionTreeClassifier()\n",
        "model.fit(x_train, y_train)\n",
        "\n",
        "y_pred = model.predict(x_val)\n",
        "\n",
        "res = {\n",
        "    'model': 'Support Vector Classifier',\n",
        "    'accuracy': accuracy_score(y_val, y_pred),\n",
        "    'precision': precision_score(y_val, y_pred),\n",
        "    'recall': recall_score(y_val, y_pred),\n",
        "    'f1_score': f1_score(y_val, y_pred)\n",
        "}\n",
        "\n",
        "results_standard.append(res)"
      ]
    },
    {
      "cell_type": "markdown",
      "metadata": {
        "id": "Ho4adtWFevek"
      },
      "source": [
        "###### Random Forest"
      ]
    },
    {
      "cell_type": "code",
      "execution_count": null,
      "metadata": {
        "id": "puaQV8ovevek"
      },
      "outputs": [],
      "source": [
        "model = RandomForestClassifier()\n",
        "model.fit(x_train, y_train)\n",
        "\n",
        "y_pred = model.predict(x_val)\n",
        "\n",
        "res = {\n",
        "    'model': 'Random Forest Classifier',\n",
        "    'accuracy': accuracy_score(y_val, y_pred),\n",
        "    'precision': precision_score(y_val, y_pred),\n",
        "    'recall': recall_score(y_val, y_pred),\n",
        "    'f1_score': f1_score(y_val, y_pred)\n",
        "}\n",
        "\n",
        "results_standard.append(res)"
      ]
    },
    {
      "cell_type": "markdown",
      "metadata": {
        "id": "5_3bJ1tVevek"
      },
      "source": [
        "###### Gradient Boosting Classifier"
      ]
    },
    {
      "cell_type": "code",
      "execution_count": null,
      "metadata": {
        "id": "QMA5NvIIevek"
      },
      "outputs": [],
      "source": [
        "model = GradientBoostingClassifier(n_estimators=100)\n",
        "model.fit(x_train, y_train)\n",
        "\n",
        "y_pred = model.predict(x_val)\n",
        "\n",
        "res = {\n",
        "    'model': 'Gradient Boosting Classifier',\n",
        "    'accuracy': accuracy_score(y_val, y_pred),\n",
        "    'precision': precision_score(y_val, y_pred),\n",
        "    'recall': recall_score(y_val, y_pred),\n",
        "    'f1_score': f1_score(y_val, y_pred)\n",
        "}\n",
        "\n",
        "results_standard.append(res)"
      ]
    },
    {
      "cell_type": "markdown",
      "metadata": {
        "id": "tMfx-7_3evek"
      },
      "source": [
        "##### Menggunakan Data Dengan Min Max Scaler"
      ]
    },
    {
      "cell_type": "code",
      "execution_count": null,
      "metadata": {
        "id": "BPMqHYVSevek"
      },
      "outputs": [],
      "source": [
        "x_train, x_val, y_train, y_val = train_test_split(df_train_minmax.drop(\n",
        "    'Target', axis=1), df['Target'], test_size=0.2, random_state=1)"
      ]
    },
    {
      "cell_type": "markdown",
      "metadata": {
        "id": "fuZB9K15evel"
      },
      "source": [
        "Untuk menyimpan hasil evaluasi setelah training model, dibuat sebuah array `results`."
      ]
    },
    {
      "cell_type": "code",
      "execution_count": null,
      "metadata": {
        "id": "jAeawKGWevel"
      },
      "outputs": [],
      "source": [
        "results_minmax = []"
      ]
    },
    {
      "cell_type": "markdown",
      "metadata": {
        "id": "1kQgLqDcevel"
      },
      "source": [
        "###### Logistic Regression"
      ]
    },
    {
      "cell_type": "code",
      "execution_count": null,
      "metadata": {
        "id": "isH0HjIEevel"
      },
      "outputs": [],
      "source": [
        "model = LogisticRegression()\n",
        "model.fit(x_train, y_train)\n",
        "\n",
        "y_pred = model.predict(x_val)\n",
        "\n",
        "res = {\n",
        "    'model': 'Logistic Regression',\n",
        "    'accuracy': accuracy_score(y_val, y_pred),\n",
        "    'precision': precision_score(y_val, y_pred),\n",
        "    'recall': recall_score(y_val, y_pred),\n",
        "    'f1_score': f1_score(y_val, y_pred)\n",
        "}\n",
        "\n",
        "results_minmax.append(res)"
      ]
    },
    {
      "cell_type": "markdown",
      "metadata": {
        "id": "1KdAiOpEevel"
      },
      "source": [
        "###### Support Vector Classifier (SVC)"
      ]
    },
    {
      "cell_type": "code",
      "execution_count": null,
      "metadata": {
        "id": "paI_BJsZevel"
      },
      "outputs": [],
      "source": [
        "model = SVC()\n",
        "model.fit(x_train, y_train)\n",
        "\n",
        "y_pred = model.predict(x_val)\n",
        "\n",
        "res = {\n",
        "    'model': 'Support Vector Classifier',\n",
        "    'accuracy': accuracy_score(y_val, y_pred),\n",
        "    'precision': precision_score(y_val, y_pred),\n",
        "    'recall': recall_score(y_val, y_pred),\n",
        "    'f1_score': f1_score(y_val, y_pred)\n",
        "}\n",
        "\n",
        "results_minmax.append(res)"
      ]
    },
    {
      "cell_type": "markdown",
      "metadata": {
        "id": "dIBNVqRXevel"
      },
      "source": [
        "###### Decision Tree"
      ]
    },
    {
      "cell_type": "code",
      "execution_count": null,
      "metadata": {
        "id": "3p9sCwJmevel"
      },
      "outputs": [],
      "source": [
        "model = DecisionTreeClassifier()\n",
        "model.fit(x_train, y_train)\n",
        "\n",
        "y_pred = model.predict(x_val)\n",
        "\n",
        "res = {\n",
        "    'model': 'Support Vector Classifier',\n",
        "    'accuracy': accuracy_score(y_val, y_pred),\n",
        "    'precision': precision_score(y_val, y_pred),\n",
        "    'recall': recall_score(y_val, y_pred),\n",
        "    'f1_score': f1_score(y_val, y_pred)\n",
        "}\n",
        "\n",
        "results_minmax.append(res)"
      ]
    },
    {
      "cell_type": "markdown",
      "metadata": {
        "id": "hwp_3Z9eevel"
      },
      "source": [
        "###### Random Forest"
      ]
    },
    {
      "cell_type": "code",
      "execution_count": null,
      "metadata": {
        "id": "msS-FOw0evel"
      },
      "outputs": [],
      "source": [
        "model = RandomForestClassifier()\n",
        "model.fit(x_train, y_train)\n",
        "\n",
        "y_pred = model.predict(x_val)\n",
        "\n",
        "res = {\n",
        "    'model': 'Random Forest Classifier',\n",
        "    'accuracy': accuracy_score(y_val, y_pred),\n",
        "    'precision': precision_score(y_val, y_pred),\n",
        "    'recall': recall_score(y_val, y_pred),\n",
        "    'f1_score': f1_score(y_val, y_pred)\n",
        "}\n",
        "\n",
        "results_minmax.append(res)"
      ]
    },
    {
      "cell_type": "markdown",
      "metadata": {
        "id": "R6LkNipgevel"
      },
      "source": [
        "###### Gradient Boosting Classifier"
      ]
    },
    {
      "cell_type": "code",
      "execution_count": null,
      "metadata": {
        "id": "eiYvrxdqevem"
      },
      "outputs": [],
      "source": [
        "model = GradientBoostingClassifier(n_estimators=100)\n",
        "model.fit(x_train, y_train)\n",
        "\n",
        "y_pred = model.predict(x_val)\n",
        "\n",
        "res = {\n",
        "    'model': 'Gradient Boosting Classifier',\n",
        "    'accuracy': accuracy_score(y_val, y_pred),\n",
        "    'precision': precision_score(y_val, y_pred),\n",
        "    'recall': recall_score(y_val, y_pred),\n",
        "    'f1_score': f1_score(y_val, y_pred)\n",
        "}\n",
        "\n",
        "results_minmax.append(res)"
      ]
    },
    {
      "cell_type": "markdown",
      "metadata": {
        "id": "PHaWjnM2f5A-"
      },
      "source": [
        "#### Re-evaluation"
      ]
    },
    {
      "cell_type": "markdown",
      "metadata": {
        "id": "k9x25zvwf5A_"
      },
      "source": [
        "Hasil evaluasi menggunakan data tanpa normalisasi"
      ]
    },
    {
      "cell_type": "code",
      "execution_count": null,
      "metadata": {
        "colab": {
          "base_uri": "https://localhost:8080/"
        },
        "id": "UX4VpNYWf5A_",
        "outputId": "6b575061-5f6a-4447-b5c5-e1cbed74728b"
      },
      "outputs": [
        {
          "name": "stdout",
          "output_type": "stream",
          "text": [
            "Logistic Regression\n",
            "Accuracy: 0.9745\n",
            "Precision: 0.8333333333333334\n",
            "Recall: 0.23809523809523808\n",
            "F1 Score: 0.37037037037037035\n",
            "\n",
            "Support Vector Classifier\n",
            "Accuracy: 0.9685\n",
            "Precision: 0.0\n",
            "Recall: 0.0\n",
            "F1 Score: 0.0\n",
            "\n",
            "Support Vector Classifier\n",
            "Accuracy: 0.9655\n",
            "Precision: 0.4642857142857143\n",
            "Recall: 0.6190476190476191\n",
            "F1 Score: 0.5306122448979592\n",
            "\n",
            "Random Forest Classifier\n",
            "Accuracy: 0.9855\n",
            "Precision: 0.9047619047619048\n",
            "Recall: 0.6031746031746031\n",
            "F1 Score: 0.7238095238095238\n",
            "\n",
            "Gradient Boosting Classifier\n",
            "Accuracy: 0.9835\n",
            "Precision: 0.8409090909090909\n",
            "Recall: 0.5873015873015873\n",
            "F1 Score: 0.6915887850467289\n",
            "\n"
          ]
        }
      ],
      "source": [
        "for res in results_no_norm:\n",
        "    print(f\"{res['model']}\")\n",
        "    print(f\"Accuracy: {res['accuracy']}\")\n",
        "    print(f\"Precision: {res['precision']}\")\n",
        "    print(f\"Recall: {res['recall']}\")\n",
        "    print(f\"F1 Score: {res['f1_score']}\")\n",
        "    print(\"\")"
      ]
    },
    {
      "cell_type": "markdown",
      "metadata": {
        "id": "ewFRb6Ddf5A_"
      },
      "source": [
        "Hasil evaluasi menggunakan data dengan standard scaler"
      ]
    },
    {
      "cell_type": "code",
      "execution_count": null,
      "metadata": {
        "colab": {
          "base_uri": "https://localhost:8080/"
        },
        "id": "AbOQOUGTf5A_",
        "outputId": "ebc300c5-5931-4b90-9e09-5b3262319dac"
      },
      "outputs": [
        {
          "name": "stdout",
          "output_type": "stream",
          "text": [
            "Logistic Regression\n",
            "Accuracy: 0.976\n",
            "Precision: 0.8571428571428571\n",
            "Recall: 0.2857142857142857\n",
            "F1 Score: 0.42857142857142855\n",
            "\n",
            "Support Vector Classifier\n",
            "Accuracy: 0.9765\n",
            "Precision: 1.0\n",
            "Recall: 0.25396825396825395\n",
            "F1 Score: 0.4050632911392405\n",
            "\n",
            "Support Vector Classifier\n",
            "Accuracy: 0.9645\n",
            "Precision: 0.45121951219512196\n",
            "Recall: 0.5873015873015873\n",
            "F1 Score: 0.5103448275862069\n",
            "\n",
            "Random Forest Classifier\n",
            "Accuracy: 0.986\n",
            "Precision: 0.926829268292683\n",
            "Recall: 0.6031746031746031\n",
            "F1 Score: 0.7307692307692307\n",
            "\n",
            "Gradient Boosting Classifier\n",
            "Accuracy: 0.984\n",
            "Precision: 0.8604651162790697\n",
            "Recall: 0.5873015873015873\n",
            "F1 Score: 0.6981132075471699\n",
            "\n"
          ]
        }
      ],
      "source": [
        "for res in results_standard:\n",
        "    print(f\"{res['model']}\")\n",
        "    print(f\"Accuracy: {res['accuracy']}\")\n",
        "    print(f\"Precision: {res['precision']}\")\n",
        "    print(f\"Recall: {res['recall']}\")\n",
        "    print(f\"F1 Score: {res['f1_score']}\")\n",
        "    print(\"\")"
      ]
    },
    {
      "cell_type": "markdown",
      "metadata": {
        "id": "obqFpqt3f5A_"
      },
      "source": [
        "Hasil evaluasi menggunakan data dengan min max scaler"
      ]
    },
    {
      "cell_type": "code",
      "execution_count": null,
      "metadata": {
        "colab": {
          "base_uri": "https://localhost:8080/"
        },
        "id": "Ao2pCIBSf5A_",
        "outputId": "f7c1dc18-1533-439f-807d-2cf240000ce7"
      },
      "outputs": [
        {
          "name": "stdout",
          "output_type": "stream",
          "text": [
            "Logistic Regression\n",
            "Accuracy: 0.969\n",
            "Precision: 1.0\n",
            "Recall: 0.015873015873015872\n",
            "F1 Score: 0.03125\n",
            "\n",
            "Support Vector Classifier\n",
            "Accuracy: 0.97\n",
            "Precision: 1.0\n",
            "Recall: 0.047619047619047616\n",
            "F1 Score: 0.0909090909090909\n",
            "\n",
            "Support Vector Classifier\n",
            "Accuracy: 0.9635\n",
            "Precision: 0.4444444444444444\n",
            "Recall: 0.6349206349206349\n",
            "F1 Score: 0.5228758169934641\n",
            "\n",
            "Random Forest Classifier\n",
            "Accuracy: 0.9865\n",
            "Precision: 0.9285714285714286\n",
            "Recall: 0.6190476190476191\n",
            "F1 Score: 0.742857142857143\n",
            "\n",
            "Gradient Boosting Classifier\n",
            "Accuracy: 0.983\n",
            "Precision: 0.8222222222222222\n",
            "Recall: 0.5873015873015873\n",
            "F1 Score: 0.6851851851851852\n",
            "\n"
          ]
        }
      ],
      "source": [
        "for res in results_minmax:\n",
        "    print(f\"{res['model']}\")\n",
        "    print(f\"Accuracy: {res['accuracy']}\")\n",
        "    print(f\"Precision: {res['precision']}\")\n",
        "    print(f\"Recall: {res['recall']}\")\n",
        "    print(f\"F1 Score: {res['f1_score']}\")\n",
        "    print(\"\")"
      ]
    },
    {
      "cell_type": "markdown",
      "metadata": {
        "id": "Z7MXBLbqf5A_"
      },
      "source": [
        "Untuk mendapatkan hasil yang lebih baik, kita dapat melakukan eksperimen dengan mengganti-ganti data yang digunakan."
      ]
    }
  ],
  "metadata": {
    "colab": {
      "collapsed_sections": [
        "3jGSfsz5s2IS"
      ],
      "provenance": [],
      "toc_visible": true
    },
    "kernelspec": {
      "display_name": "Python 3",
      "name": "python3"
    },
    "language_info": {
      "name": "python"
    }
  },
  "nbformat": 4,
  "nbformat_minor": 0
}
