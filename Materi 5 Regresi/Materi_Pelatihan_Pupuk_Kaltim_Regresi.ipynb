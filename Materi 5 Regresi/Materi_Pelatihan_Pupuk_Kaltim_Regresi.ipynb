{
  "nbformat": 4,
  "nbformat_minor": 0,
  "metadata": {
    "colab": {
      "provenance": [],
      "collapsed_sections": [
        "hZuUgsmyT5QY",
        "o6SSqXAih5b7",
        "GAY6rox4Q65B"
      ],
      "toc_visible": true
    },
    "kernelspec": {
      "name": "python3",
      "display_name": "Python 3"
    },
    "language_info": {
      "name": "python"
    }
  },
  "cells": [
    {
      "cell_type": "markdown",
      "source": [
        "# Penjelasan\n",
        "## Supervised Learning\n",
        "### Apa Itu Supervised Learning?\n",
        "**Supervised learning** adalah sebuah subkategori machine learning di mana model dilatih dengan menggunakan dataset yang sudah memiliki label atau target yang diketahui. Dalam **supervised learning**, setiap input data pada dataset memiliki label output yang sesuai. Tujuannya adalah untuk mengenali pola serta hubungan dari input data dan label output. Terdapat 2 kategori utama yang tercakup pada supervised learning, yaitu:\n",
        "\n",
        "#### 1. Regresi\n",
        "Regresi adalah suatu teknik yang digunakan untuk memodelkan hubungan antara variabel independen (fitur) dan variabel dependen (target) dengan tujuan memprediksi nilai kontinu. Cara kerjanya adalah dengan menemukan suatu fungsi yang memodelkan data dengan meminimalkan error atau selisih antara nilai prediksi dengan nilai sebenarnya. Teknik ini digunakan untuk memprediksi nilai numerik seperti harga rumah, suhu, atau pendapatan.\n",
        "\n",
        "Berikut adalah beberapa contoh algoritma regresi beserta penjelasannya:\n",
        "- Linear Regression\n",
        "> Linear Regression adalah metode statistik yang mengasumsikan hubungan antara fitur dengan target dapat didekati oleh suatu persamaan garis lurus. Model ditraining untuk mendapatkan persamaan garis lurus dengan error yang paling kecil. Tergantung jumlah variabel, Linear Regression dapat dibagi menjadi beberapa jenis yaitu:\n",
        "> - Simple Linear Regression yang hanya memiliki 1 fitur/variabel independen. Berikut adalah rumus persamaan untuk Simple Linear Regression:\n",
        "$\\hat{y} = θ_{0} + θ_{1}X$\n",
        "> - Multiple Linear Regression yang memiliki lebih dari 1 fitur/variabel independen. Berikut adalah rumus persamaan untuk Multiple Linear Regression: $\\hat{y} = θ_{0} + θ_{1}x_{1} + θ_{2}x_{2} + ... + θ_{n}x_{n}$\n",
        ">\n",
        "> Dalam linear regression, model mencoba untuk menghasilkan garis yang memiliki error yang paling sedikit. Error yang dimaksud adalah jarak euclidean antara garis prediksi dengan data yang sebenarnya.\n",
        ">![linear-regression](https://gmaaliki.github.io/pelatihan-pupuk-kaltim/img/linear-regression.png)<br>\n",
        "> *Sumber: https://www.geeksforgeeks.org/ml-linear-regression/*\n",
        ">\n",
        "> Dalam machine learning, kita dapat menilai performa model dengan menggunakan cost function. Dalam kasus linear regression, cost function menggambarkan seberapa jauhnya garis prediksi dari titik-titik data yang nyata. Untuk mendapatkan model yang optimal, hal yang harus dilakukan adalah mmengoptimisasi model dengan cara meminimalkan nilai dari cost function. Maka dari itu, muncullah teknik gradient descent.  \n",
        ">![linear-regression](https://gmaaliki.github.io/pelatihan-pupuk-kaltim/img/gradient-descent.png)<br>\n",
        "> *Sumber: https://www.geeksforgeeks.org/ml-linear-regression/*\n",
        ">\n",
        "> Teknik gradient descent mencoba untuk mencari nilai optimum dengan menyesuaikan nilai *weight* menggunakan gradien. Besar dari langkah yang diambil ditentukan oleh learning rate. Apabila learning rate terlalu besar, maka langkah yang diambil juga besar dan menyebabkan algoritma tidak dapat sampai ke titik minimum. Sedangkan apabila learning rate terlalu kecil, maka akan membutuhkan waktu yang lama untuk mencapai titik minimum.\n",
        ">\n",
        ">![learning-rate](https://gmaaliki.github.io/pelatihan-pupuk-kaltim/img/learning-rate.png)<br>\n",
        "> *Sumber: https://www.jeremyjordan.me/nn-learning-rate/*\n",
        ">\n",
        "> Selain itu terdapat juga Linear Regression dengan variabel dependen dengan jumlah berbeda yang dapat dieksplor dengan membaca referensi lebih jauh.\n",
        ">\n",
        "> ###### **Kelebihan**\n",
        "> - Mudah dipahami dan diinterpretasi\n",
        "> - Cocok dipakai untuk data yang memiliki hubungan linear\n",
        "> - Relatif cepat untuk dataset berukuran besar\n",
        ">\n",
        "> ###### **Kekurangan**\n",
        "> - Sensitif terhadap outlier\n",
        "> - Tidak cocok untuk data yang tidak memiliki hubungan linear\n",
        "> - Tidak mempertimbagkan korelasi antar fitur\n",
        "\n",
        "- Support Vector Regression (SVR)\n",
        "> Support Vector Regression adalah varian dari Support Vector Machine (SVM) yang digunkan untuk regresi. Cara kerja SVR sendiri adalah mencari hyperplane yang berperan sebagai fungsi regresi untuk meminimalkan kesalah prediksi dengan memastikan data berada di dalam batas ε yang ditentukan.\n",
        ">\n",
        ">![svr](https://gmaaliki.github.io/pelatihan-pupuk-kaltim/img/support-vector-regression.png)<br>\n",
        "> *Sumber: https://medium.com/@niousha.rf/support-vector-regressor-theory-and-coding-exercise-in-python-ca6a7dfda927*\n",
        ">\n",
        "> SVR bertujuan untuk mendapatkan model yang dapat memprediksi secara akurat dan juga mengurangi kompleksitas untuk menghindari overfitting. Dengan menggunakan ε-insensitive tube, model mengenalkan deviasi sehingga hasil yang didapat lebih bersifat general.\n",
        ">\n",
        ">![svr](https://gmaaliki.github.io/pelatihan-pupuk-kaltim/img/svr-no.png)<br>\n",
        "> *Sumber: https://medium.com/@niousha.rf/support-vector-regressor-theory-and-coding-exercise-in-python-ca6a7dfda927*\n",
        ">\n",
        "> Lalu pada SVR memungkinkan juga untuk mentoleransi beberapa data yang berada diluar ε-insensitive tube untuk mendapatkan hasil yang lebih general. Dengan begitu, SVR dapat mengatasi masalah overfitting dengan lebih efisien.\n",
        ">\n",
        ">![svr](https://gmaaliki.github.io/pelatihan-pupuk-kaltim/img/svr-yes.png)<br>\n",
        "> *Sumber: https://medium.com/@niousha.rf/support-vector-regressor-theory-and-coding-exercise-in-python-ca6a7dfda927*\n",
        ">\n",
        "> ###### **Kelebihan**\n",
        "> - Lebih efektif dengan data berdimensi tinggi\n",
        "> - Menggunakan memori yang lebih efisien karena hanya menggunakan subset dari data\n",
        "> - Memiliki banyak kernel untuk fitting data\n",
        ">\n",
        "> ###### **Kekurangan**\n",
        "> - Memiliki waktu training yang lama untuk dataset berukuran besar\n",
        "> - Proses hyperparameter tuning bersifat rumit\n",
        "\n",
        "- Random Forest Regression\n",
        "> Random Forest adalah metode ensamble learning bekerja dengan melakukan random sampling subset dataset (bootstrapping) pada banyak decision tree yang hasilnya dirata-rata untuk memperoleh hasil yang lebih baik.\n",
        ">\n",
        "> Algoritma Random Forest dibuat untuk menghilangkan kelemahan dari decision tree. Salah satu masalah dari decision tree adalah hasil prediksinya yang sangat bervariasi. Hal ini dikarenakan sedikit perubahan saja dari datanya dapat menyebabkan decision tree mendapatkan hasil yang sangat berbeda.\n",
        ">\n",
        ">![random-forest](https://gmaaliki.github.io/pelatihan-pupuk-kaltim/img/random-forest-regression.jpg)\n",
        ">\n",
        "> *Sumber: https://favtutor.com/blogs/types-of-regression*\n",
        ">\n",
        ">  Berbeda dari versi klasifikasinya, Random Forest Regression mengambil nilai rata-rata dari setiap decision tree untuk dijadikan nilai prediksi akhir.\n",
        ">\n",
        "> ###### **Kelebihan**\n",
        "> - Memiliki resiko overfitting yang rendah\n",
        "> - Cukup tahan terhadap missing value dan outlier sehingga tidak perlu banyak preprocessing data\n",
        "> - Proses training dapat dilakukan secara parallel\n",
        "> - Dapat memberi estimasi terhadap feature impotance, sehingga membantu proses seleksi fitur\n",
        ">\n",
        "> ###### **Kekurangan**\n",
        "> - Tidak efisien untuk data dengan dimensi tinggi\n",
        "> - Membutuhkan biaya komputasi dan waktu yang lebih besar\n",
        "\n",
        "- Gradient Boosting Regression\n",
        "> Mirip seperti algoritma Random Forest, Gradient Boosting adalah metode ensamble learning yang menggunakan weak learner seperti decision tree. Bedanya, Gradient Boosting menerapkan konsep *Boost* yang menggunakan model secara sekuensial, dimana model-model setelahnya akan mencoba memperbaiki kesalahan dari model sebelumnya sampai suatu kriteria terpenuhi. Gradient Boosting dapat digunakan untuk regresi maupun klasifikasi. Untuk problem regresi, Gradient Boosting menggunakan loss function untuk regresi seperti MAE dan MSE.<br><br>\n",
        ">![gradient-boosting](https://gmaaliki.github.io/pelatihan-pupuk-kaltim/img/gradient-boosting.png)<br>\n",
        "> *Sumber: https://towardsdatascience.com/all-you-need-to-know-about-gradient-boosting-algorithm-part-1-regression-2520a34a502*\n",
        ">\n",
        "> Model ini bekerja dengan pertama-tama melakukan prediksi awal dengan model. Dalam kasus ini, dianggap prediksi adalah rata-rata dari dataset\n",
        ">\n",
        ">![gradient-boosting](https://miro.medium.com/v2/resize:fit:720/format:webp/1*Cff0iDWUiC_-TnWzwUm_Vg.png)<br>\n",
        "> *Sumber: https://towardsdatascience.com/all-you-need-to-know-about-gradient-boosting-algorithm-part-1-regression-2520a34a502*\n",
        ">\n",
        "> Lalu kita perlu menghitung nilai error (residual) pada setiap titik. Dapat diilihat pada gambar dibawah terdapat garis biru yang menandakan residual prediksi.\n",
        ">\n",
        ">![gradient-boosting](https://miro.medium.com/v2/resize:fit:750/format:webp/1*32xSZb7FIIxwFQeq9MKCgQ.png)<br>\n",
        "> *Sumber: https://towardsdatascience.com/all-you-need-to-know-about-gradient-boosting-algorithm-part-1-regression-2520a34a502*\n",
        ">\n",
        "> Nilai error tersebut yang akan kita kecilkan dengan cara menggunakan decision tree untuk menentukan prediksi baru. Nilai residual dapat diminimalkan dengan melakukan fitting decision tree kepada data residual terhadap `x`\n",
        ">\n",
        ">![gradient-boosting](https://miro.medium.com/v2/resize:fit:828/format:webp/1*N3FYNWBEUO1bVZo4BulWIQ.png)<br>\n",
        "> *Sumber: https://towardsdatascience.com/all-you-need-to-know-about-gradient-boosting-algorithm-part-1-regression-2520a34a502*\n",
        ">\n",
        "> Terakhir, prediksi di update berdasarkan prediksi residual. Besarnya perubahan diatur oleh learning rate, apabila learning rate besar maka perubahan prediksi akan semakin drastis.\n",
        "> $F_1 = F_0 + v\\times y_1$\n",
        "> ![gradient-boosting](https://miro.medium.com/v2/resize:fit:750/format:webp/1*xDDhfFTC57fYHkhvlK4BTg.png)<br>\n",
        "> Learning rate bernilai 1 berarti perubahan prediksi akan persis mengikuti prediksi residual sedangkan apabila 0 maka prediksi tidak berubah sama sekali.\n",
        ">\n",
        "> Proses akan diulang sampai mencapai kriteria tertentu. Berikut contohnya:\n",
        ">\n",
        ">![gradient-boosting](https://miro.medium.com/v2/resize:fit:640/format:webp/1*KmFFQVKyDPAD5Qu66hHbxg.png)<br>\n",
        "> *Sumber: https://towardsdatascience.com/all-you-need-to-know-about-gradient-boosting-algorithm-part-1-regression-2520a34a502*\n",
        ">\n",
        "> ###### **Kelebihan**\n",
        "> - Cenderung lebih akurat dibanding model lain\n",
        "> - Mampu memodelkan hubungan data yang kompleks\n",
        "> - Dapat memberi estimasi terhadap feature impotance, sehingga membantu proses seleksi fitur\n",
        ">\n",
        "> ###### **Kekurangan**\n",
        "> - Rentan terhadap overfitting\n",
        "> - Bersifat sekuensial, sehingga tidak dapat berjalan secara parallel\n",
        "> - Membutuhkan biaya komputasi dan waktu yang lebih besar\n",
        "\n",
        "Setelah model ditraining, diperlukan adanya metode evaluasi untuk menentukan baiknya performa model. Berikut adalah metrik evaluasi yang dapat digunakan untuk regresi beserta penjelasannya:\n",
        "- Mean Absolute Error (MAE)\n",
        "> MAE adalah penjumlahan dari nilai mutlak jarak antara nilai asli dan nilai prediksi dibagi dengan jumlah data pada dataset. MAE digunakan apabila ingin mengetahui seberapa dekat model memprediksi secara rata-rata. Apabila nilai MAE rendah berarti model terindikasi benar dalam memprediksi. Sebaliknya, apabila nilai MAE tinggi maka model terindikasi buruk dalam memprediksi. MAE dinyatakan sebagai: $MAE = \\Sigma_{j=1}^{n}|y_{j}-\\hat{y}_{j}| $\n",
        "\n",
        "- Root Mean Squared Error (RMSE)\n",
        "> RMSE adalah akar dari penjumlahan kuadrat jarak dibagi dengan jumlah data. RMSE memiliki fungsi yang mirip dengan MAE, akan tetapi RMSE memiliki perbedaan yaitu apabila terdapat satu nilai error yang besar, maka nilai RMSE akan menjadi tinggi sehingga RMSE cocok untuk mendeteksi outlier. RMSE dinyatakan sebagai: ${RMSE} = \\sqrt{\\frac{1}{n} \\sum_{j=1}^{n} (y_j - \\hat{y_j})^2}$\n",
        "- Mean Absolute Percentage Error (MAPE)\n",
        "> MAPE adalah persentase error dari nilai mutlak jarak antara nilai asli dan nilai prediksi. Pada dasarnya, MAPE adalah MAE yang melakukan standarisasi error sesuai dengan data. Dengan menggunakan MAPE, besarnya error ditampilkan relatif dengan besarnya data sehingga error dapat lebih akurat digambarkan. MAPE dinyatakan sebagai: ${MAPE} = \\frac{1}{n}\\Sigma_{j=1}^{n}|\\frac{y_{j}-\\hat{y}_{j}}{y_{j}}| \\times 100$\n",
        "\n",
        "- R2 Score\n",
        "> R2 adalah sebuah ukuran statistik untuk menilai akurasi model regresi. Dengan menggunakan R2 Score, tingkat ketepatan model dapat diukur dengan skala 0-100 seperti akurasi pada model klasifikasi. R2 Score dinyatakan sebagai: $R^2 = 1-\\frac{RSS}{TSS}=\\frac{\\Sigma(y_{i}-\\hat{y}_{i})^2}{\\Sigma(y_{i}-\\bar{y}_{i})^2}$\n",
        "\n",
        "###### **Perbandingan Metrik Evaluasi Regresi**\n",
        "\n",
        "![perbandingan-metrik](https://gmaaliki.github.io/pelatihan-pupuk-kaltim/img/perbandingan-metrik-evaluasi-regresi.png)\n",
        "\n",
        "\n",
        "#### **Referensi Tambahan**\n",
        "Linear Regression\n",
        "- https://towardsdatascience.com/the-complete-guide-to-linear-regression-analysis-38a421a89dc2\n",
        "- https://en.wikipedia.org/wiki/Linear_regression\n",
        "\n",
        "Support Vector Regression\n",
        "- https://stats.stackexchange.com/questions/82044/how-does-support-vector-regression-work-intuitively\n",
        "- https://www.geeksforgeeks.org/support-vector-regression-svr-using-linear-and-non-linear-kernels-in-scikit-learn/\n",
        "- https://en.wikipedia.org/wiki/Support_vector_machine\n",
        "\n",
        "Random Forest Regression\n",
        "- https://www.geeksforgeeks.org/random-forest-algorithm-in-machine-learning/\n",
        "- https://www.ibm.com/topics/random-forest\n",
        "- https://en.wikipedia.org/wiki/Random_forest\n",
        "\n",
        "Gradient Boosting\n",
        "- https://en.wikipedia.org/wiki/Gradient_boosting\n",
        "- https://machinelearningmastery.com/gentle-introduction-gradient-boosting-algorithm-machine-learning/\n",
        "- https://towardsdatascience.com/boosting-algorithms-explained-d38f56ef3f30\n",
        "\n",
        "Evaluation\n",
        "- https://towardsdatascience.com/ways-to-evaluate-regression-models-77a3ff45ba70\n",
        "- https://www.freecodecamp.org/news/evaluation-metrics-for-regression-problems-machine-learning/\n",
        "\n"
      ],
      "metadata": {
        "id": "FZD049Q5WOoS"
      }
    },
    {
      "cell_type": "markdown",
      "source": [
        "# Implementasi"
      ],
      "metadata": {
        "id": "32irZciXWgV2"
      }
    },
    {
      "cell_type": "markdown",
      "source": [
        "Berikut adalah implementasi regresi dengan menerapkan CRISP-DM"
      ],
      "metadata": {
        "id": "KwGUuvTxWi6_"
      }
    },
    {
      "cell_type": "markdown",
      "source": [
        "#### Import Library"
      ],
      "metadata": {
        "id": "tQsRP9hrV95d"
      }
    },
    {
      "cell_type": "code",
      "source": [
        "import pandas as pd\n",
        "import matplotlib.pyplot as plt\n",
        "import seaborn as sns\n",
        "import numpy as np\n",
        "import math\n",
        "\n",
        "from sklearn.preprocessing import StandardScaler\n",
        "from sklearn.preprocessing import MinMaxScaler\n",
        "from sklearn.preprocessing import LabelEncoder\n",
        "from sklearn.model_selection import train_test_split\n",
        "from sklearn.metrics import mean_squared_error, mean_absolute_error, r2_score\n",
        "from sklearn.linear_model import LinearRegression\n",
        "from sklearn.svm import SVR\n",
        "from sklearn.ensemble import RandomForestRegressor\n",
        "from sklearn.ensemble import GradientBoostingRegressor"
      ],
      "metadata": {
        "id": "aI9lalsPLTpR"
      },
      "execution_count": null,
      "outputs": []
    },
    {
      "cell_type": "markdown",
      "source": [
        "#### Business Understanding"
      ],
      "metadata": {
        "id": "JDinPKG9V2MS"
      }
    },
    {
      "cell_type": "markdown",
      "source": [
        "Sebuah perusahaan asuransi ingin memprediksi biaya tagihan kesehatan seseorang untuk menetapkan biaya per bulan yang lebih pas untuk meminimalisir kerugian. Perusahaan tersebut lalu mengumpulkan data para pemilik asuransi sebelumnya untuk mememukan sebuah tren pada biaya tagihan kesehatan.\n",
        "\n",
        "Dari cerita diatas, kita dapat mengidentifikasi permasalahan bisnisnya yaitu bagaimana cara mendapatkan prediksi biaya tagihan kesehatan dengan informasi mengenai diri seseorang."
      ],
      "metadata": {
        "id": "V23zAYhm0Qdp"
      }
    },
    {
      "cell_type": "markdown",
      "source": [
        "#### Data Understanding\n",
        "Sebelum melatih model, kita perlu memahami data terlebih dahulu. Berikut adalah data yang akan kita gunakan.\n",
        "\n"
      ],
      "metadata": {
        "id": "hZuUgsmyT5QY"
      }
    },
    {
      "cell_type": "code",
      "execution_count": null,
      "metadata": {
        "id": "ytPDSRZjZquP",
        "colab": {
          "base_uri": "https://localhost:8080/"
        },
        "outputId": "6cde41a7-4bb2-484a-a9f1-22d4ada1e43a"
      },
      "outputs": [
        {
          "output_type": "execute_result",
          "data": {
            "text/plain": [
              "   age     sex     bmi  children smoker     region      charges\n",
              "0   19  female  27.900         0    yes  southwest  16884.92400\n",
              "1   18    male  33.770         1     no  southeast   1725.55230\n",
              "2   28    male  33.000         3     no  southeast   4449.46200\n",
              "3   33    male  22.705         0     no  northwest  21984.47061\n",
              "4   32    male  28.880         0     no  northwest   3866.85520"
            ],
            "text/html": [
              "\n",
              "  <div id=\"df-e415aceb-a5c3-4297-9bdf-7faf671a7b7c\" class=\"colab-df-container\">\n",
              "    <div>\n",
              "<style scoped>\n",
              "    .dataframe tbody tr th:only-of-type {\n",
              "        vertical-align: middle;\n",
              "    }\n",
              "\n",
              "    .dataframe tbody tr th {\n",
              "        vertical-align: top;\n",
              "    }\n",
              "\n",
              "    .dataframe thead th {\n",
              "        text-align: right;\n",
              "    }\n",
              "</style>\n",
              "<table border=\"1\" class=\"dataframe\">\n",
              "  <thead>\n",
              "    <tr style=\"text-align: right;\">\n",
              "      <th></th>\n",
              "      <th>age</th>\n",
              "      <th>sex</th>\n",
              "      <th>bmi</th>\n",
              "      <th>children</th>\n",
              "      <th>smoker</th>\n",
              "      <th>region</th>\n",
              "      <th>charges</th>\n",
              "    </tr>\n",
              "  </thead>\n",
              "  <tbody>\n",
              "    <tr>\n",
              "      <th>0</th>\n",
              "      <td>19</td>\n",
              "      <td>female</td>\n",
              "      <td>27.900</td>\n",
              "      <td>0</td>\n",
              "      <td>yes</td>\n",
              "      <td>southwest</td>\n",
              "      <td>16884.92400</td>\n",
              "    </tr>\n",
              "    <tr>\n",
              "      <th>1</th>\n",
              "      <td>18</td>\n",
              "      <td>male</td>\n",
              "      <td>33.770</td>\n",
              "      <td>1</td>\n",
              "      <td>no</td>\n",
              "      <td>southeast</td>\n",
              "      <td>1725.55230</td>\n",
              "    </tr>\n",
              "    <tr>\n",
              "      <th>2</th>\n",
              "      <td>28</td>\n",
              "      <td>male</td>\n",
              "      <td>33.000</td>\n",
              "      <td>3</td>\n",
              "      <td>no</td>\n",
              "      <td>southeast</td>\n",
              "      <td>4449.46200</td>\n",
              "    </tr>\n",
              "    <tr>\n",
              "      <th>3</th>\n",
              "      <td>33</td>\n",
              "      <td>male</td>\n",
              "      <td>22.705</td>\n",
              "      <td>0</td>\n",
              "      <td>no</td>\n",
              "      <td>northwest</td>\n",
              "      <td>21984.47061</td>\n",
              "    </tr>\n",
              "    <tr>\n",
              "      <th>4</th>\n",
              "      <td>32</td>\n",
              "      <td>male</td>\n",
              "      <td>28.880</td>\n",
              "      <td>0</td>\n",
              "      <td>no</td>\n",
              "      <td>northwest</td>\n",
              "      <td>3866.85520</td>\n",
              "    </tr>\n",
              "  </tbody>\n",
              "</table>\n",
              "</div>\n",
              "    <div class=\"colab-df-buttons\">\n",
              "\n",
              "  <div class=\"colab-df-container\">\n",
              "    <button class=\"colab-df-convert\" onclick=\"convertToInteractive('df-e415aceb-a5c3-4297-9bdf-7faf671a7b7c')\"\n",
              "            title=\"Convert this dataframe to an interactive table.\"\n",
              "            style=\"display:none;\">\n",
              "\n",
              "  <svg xmlns=\"http://www.w3.org/2000/svg\" height=\"24px\" viewBox=\"0 -960 960 960\">\n",
              "    <path d=\"M120-120v-720h720v720H120Zm60-500h600v-160H180v160Zm220 220h160v-160H400v160Zm0 220h160v-160H400v160ZM180-400h160v-160H180v160Zm440 0h160v-160H620v160ZM180-180h160v-160H180v160Zm440 0h160v-160H620v160Z\"/>\n",
              "  </svg>\n",
              "    </button>\n",
              "\n",
              "  <style>\n",
              "    .colab-df-container {\n",
              "      display:flex;\n",
              "      gap: 12px;\n",
              "    }\n",
              "\n",
              "    .colab-df-convert {\n",
              "      background-color: #E8F0FE;\n",
              "      border: none;\n",
              "      border-radius: 50%;\n",
              "      cursor: pointer;\n",
              "      display: none;\n",
              "      fill: #1967D2;\n",
              "      height: 32px;\n",
              "      padding: 0 0 0 0;\n",
              "      width: 32px;\n",
              "    }\n",
              "\n",
              "    .colab-df-convert:hover {\n",
              "      background-color: #E2EBFA;\n",
              "      box-shadow: 0px 1px 2px rgba(60, 64, 67, 0.3), 0px 1px 3px 1px rgba(60, 64, 67, 0.15);\n",
              "      fill: #174EA6;\n",
              "    }\n",
              "\n",
              "    .colab-df-buttons div {\n",
              "      margin-bottom: 4px;\n",
              "    }\n",
              "\n",
              "    [theme=dark] .colab-df-convert {\n",
              "      background-color: #3B4455;\n",
              "      fill: #D2E3FC;\n",
              "    }\n",
              "\n",
              "    [theme=dark] .colab-df-convert:hover {\n",
              "      background-color: #434B5C;\n",
              "      box-shadow: 0px 1px 3px 1px rgba(0, 0, 0, 0.15);\n",
              "      filter: drop-shadow(0px 1px 2px rgba(0, 0, 0, 0.3));\n",
              "      fill: #FFFFFF;\n",
              "    }\n",
              "  </style>\n",
              "\n",
              "    <script>\n",
              "      const buttonEl =\n",
              "        document.querySelector('#df-e415aceb-a5c3-4297-9bdf-7faf671a7b7c button.colab-df-convert');\n",
              "      buttonEl.style.display =\n",
              "        google.colab.kernel.accessAllowed ? 'block' : 'none';\n",
              "\n",
              "      async function convertToInteractive(key) {\n",
              "        const element = document.querySelector('#df-e415aceb-a5c3-4297-9bdf-7faf671a7b7c');\n",
              "        const dataTable =\n",
              "          await google.colab.kernel.invokeFunction('convertToInteractive',\n",
              "                                                    [key], {});\n",
              "        if (!dataTable) return;\n",
              "\n",
              "        const docLinkHtml = 'Like what you see? Visit the ' +\n",
              "          '<a target=\"_blank\" href=https://colab.research.google.com/notebooks/data_table.ipynb>data table notebook</a>'\n",
              "          + ' to learn more about interactive tables.';\n",
              "        element.innerHTML = '';\n",
              "        dataTable['output_type'] = 'display_data';\n",
              "        await google.colab.output.renderOutput(dataTable, element);\n",
              "        const docLink = document.createElement('div');\n",
              "        docLink.innerHTML = docLinkHtml;\n",
              "        element.appendChild(docLink);\n",
              "      }\n",
              "    </script>\n",
              "  </div>\n",
              "\n",
              "\n",
              "<div id=\"df-0398b325-e2b8-4940-9453-14debbf340a9\">\n",
              "  <button class=\"colab-df-quickchart\" onclick=\"quickchart('df-0398b325-e2b8-4940-9453-14debbf340a9')\"\n",
              "            title=\"Suggest charts\"\n",
              "            style=\"display:none;\">\n",
              "\n",
              "<svg xmlns=\"http://www.w3.org/2000/svg\" height=\"24px\"viewBox=\"0 0 24 24\"\n",
              "     width=\"24px\">\n",
              "    <g>\n",
              "        <path d=\"M19 3H5c-1.1 0-2 .9-2 2v14c0 1.1.9 2 2 2h14c1.1 0 2-.9 2-2V5c0-1.1-.9-2-2-2zM9 17H7v-7h2v7zm4 0h-2V7h2v10zm4 0h-2v-4h2v4z\"/>\n",
              "    </g>\n",
              "</svg>\n",
              "  </button>\n",
              "\n",
              "<style>\n",
              "  .colab-df-quickchart {\n",
              "      --bg-color: #E8F0FE;\n",
              "      --fill-color: #1967D2;\n",
              "      --hover-bg-color: #E2EBFA;\n",
              "      --hover-fill-color: #174EA6;\n",
              "      --disabled-fill-color: #AAA;\n",
              "      --disabled-bg-color: #DDD;\n",
              "  }\n",
              "\n",
              "  [theme=dark] .colab-df-quickchart {\n",
              "      --bg-color: #3B4455;\n",
              "      --fill-color: #D2E3FC;\n",
              "      --hover-bg-color: #434B5C;\n",
              "      --hover-fill-color: #FFFFFF;\n",
              "      --disabled-bg-color: #3B4455;\n",
              "      --disabled-fill-color: #666;\n",
              "  }\n",
              "\n",
              "  .colab-df-quickchart {\n",
              "    background-color: var(--bg-color);\n",
              "    border: none;\n",
              "    border-radius: 50%;\n",
              "    cursor: pointer;\n",
              "    display: none;\n",
              "    fill: var(--fill-color);\n",
              "    height: 32px;\n",
              "    padding: 0;\n",
              "    width: 32px;\n",
              "  }\n",
              "\n",
              "  .colab-df-quickchart:hover {\n",
              "    background-color: var(--hover-bg-color);\n",
              "    box-shadow: 0 1px 2px rgba(60, 64, 67, 0.3), 0 1px 3px 1px rgba(60, 64, 67, 0.15);\n",
              "    fill: var(--button-hover-fill-color);\n",
              "  }\n",
              "\n",
              "  .colab-df-quickchart-complete:disabled,\n",
              "  .colab-df-quickchart-complete:disabled:hover {\n",
              "    background-color: var(--disabled-bg-color);\n",
              "    fill: var(--disabled-fill-color);\n",
              "    box-shadow: none;\n",
              "  }\n",
              "\n",
              "  .colab-df-spinner {\n",
              "    border: 2px solid var(--fill-color);\n",
              "    border-color: transparent;\n",
              "    border-bottom-color: var(--fill-color);\n",
              "    animation:\n",
              "      spin 1s steps(1) infinite;\n",
              "  }\n",
              "\n",
              "  @keyframes spin {\n",
              "    0% {\n",
              "      border-color: transparent;\n",
              "      border-bottom-color: var(--fill-color);\n",
              "      border-left-color: var(--fill-color);\n",
              "    }\n",
              "    20% {\n",
              "      border-color: transparent;\n",
              "      border-left-color: var(--fill-color);\n",
              "      border-top-color: var(--fill-color);\n",
              "    }\n",
              "    30% {\n",
              "      border-color: transparent;\n",
              "      border-left-color: var(--fill-color);\n",
              "      border-top-color: var(--fill-color);\n",
              "      border-right-color: var(--fill-color);\n",
              "    }\n",
              "    40% {\n",
              "      border-color: transparent;\n",
              "      border-right-color: var(--fill-color);\n",
              "      border-top-color: var(--fill-color);\n",
              "    }\n",
              "    60% {\n",
              "      border-color: transparent;\n",
              "      border-right-color: var(--fill-color);\n",
              "    }\n",
              "    80% {\n",
              "      border-color: transparent;\n",
              "      border-right-color: var(--fill-color);\n",
              "      border-bottom-color: var(--fill-color);\n",
              "    }\n",
              "    90% {\n",
              "      border-color: transparent;\n",
              "      border-bottom-color: var(--fill-color);\n",
              "    }\n",
              "  }\n",
              "</style>\n",
              "\n",
              "  <script>\n",
              "    async function quickchart(key) {\n",
              "      const quickchartButtonEl =\n",
              "        document.querySelector('#' + key + ' button');\n",
              "      quickchartButtonEl.disabled = true;  // To prevent multiple clicks.\n",
              "      quickchartButtonEl.classList.add('colab-df-spinner');\n",
              "      try {\n",
              "        const charts = await google.colab.kernel.invokeFunction(\n",
              "            'suggestCharts', [key], {});\n",
              "      } catch (error) {\n",
              "        console.error('Error during call to suggestCharts:', error);\n",
              "      }\n",
              "      quickchartButtonEl.classList.remove('colab-df-spinner');\n",
              "      quickchartButtonEl.classList.add('colab-df-quickchart-complete');\n",
              "    }\n",
              "    (() => {\n",
              "      let quickchartButtonEl =\n",
              "        document.querySelector('#df-0398b325-e2b8-4940-9453-14debbf340a9 button');\n",
              "      quickchartButtonEl.style.display =\n",
              "        google.colab.kernel.accessAllowed ? 'block' : 'none';\n",
              "    })();\n",
              "  </script>\n",
              "</div>\n",
              "\n",
              "    </div>\n",
              "  </div>\n"
            ],
            "application/vnd.google.colaboratory.intrinsic+json": {
              "type": "dataframe",
              "variable_name": "df",
              "summary": "{\n  \"name\": \"df\",\n  \"rows\": 1338,\n  \"fields\": [\n    {\n      \"column\": \"age\",\n      \"properties\": {\n        \"dtype\": \"number\",\n        \"std\": 14,\n        \"min\": 18,\n        \"max\": 64,\n        \"num_unique_values\": 47,\n        \"samples\": [\n          21,\n          45,\n          36\n        ],\n        \"semantic_type\": \"\",\n        \"description\": \"\"\n      }\n    },\n    {\n      \"column\": \"sex\",\n      \"properties\": {\n        \"dtype\": \"category\",\n        \"num_unique_values\": 2,\n        \"samples\": [\n          \"male\",\n          \"female\"\n        ],\n        \"semantic_type\": \"\",\n        \"description\": \"\"\n      }\n    },\n    {\n      \"column\": \"bmi\",\n      \"properties\": {\n        \"dtype\": \"number\",\n        \"std\": 6.098186911679014,\n        \"min\": 15.96,\n        \"max\": 53.13,\n        \"num_unique_values\": 548,\n        \"samples\": [\n          23.18,\n          26.885\n        ],\n        \"semantic_type\": \"\",\n        \"description\": \"\"\n      }\n    },\n    {\n      \"column\": \"children\",\n      \"properties\": {\n        \"dtype\": \"number\",\n        \"std\": 1,\n        \"min\": 0,\n        \"max\": 5,\n        \"num_unique_values\": 6,\n        \"samples\": [\n          0,\n          1\n        ],\n        \"semantic_type\": \"\",\n        \"description\": \"\"\n      }\n    },\n    {\n      \"column\": \"smoker\",\n      \"properties\": {\n        \"dtype\": \"category\",\n        \"num_unique_values\": 2,\n        \"samples\": [\n          \"no\",\n          \"yes\"\n        ],\n        \"semantic_type\": \"\",\n        \"description\": \"\"\n      }\n    },\n    {\n      \"column\": \"region\",\n      \"properties\": {\n        \"dtype\": \"category\",\n        \"num_unique_values\": 4,\n        \"samples\": [\n          \"southeast\",\n          \"northeast\"\n        ],\n        \"semantic_type\": \"\",\n        \"description\": \"\"\n      }\n    },\n    {\n      \"column\": \"charges\",\n      \"properties\": {\n        \"dtype\": \"number\",\n        \"std\": 12110.011236694001,\n        \"min\": 1121.8739,\n        \"max\": 63770.42801,\n        \"num_unique_values\": 1337,\n        \"samples\": [\n          8688.85885,\n          5708.867\n        ],\n        \"semantic_type\": \"\",\n        \"description\": \"\"\n      }\n    }\n  ]\n}"
            }
          },
          "metadata": {},
          "execution_count": 170
        }
      ],
      "source": [
        "df = pd.read_csv(\"https://gmaaliki.github.io/dataset/insurance.csv\")\n",
        "df.head()"
      ]
    },
    {
      "cell_type": "markdown",
      "source": [
        "Dari tabel diatas, dapat dilihat bahwa data yang dimiliki oleh perusahaan terdiri dari 7 fitur yaitu:\n",
        "- age (umur)\n",
        "- sex (jenis kelamin)\n",
        "- bmi (berat/tinggi<sup>2</sup>)\n",
        "- children (jumlah anak yang dimiliki)\n",
        "- smoker (yes = perokok, no = bukan perokok)\n",
        "- region (daerah asal)\n",
        "- charges (biaya tagihan kesehatan)"
      ],
      "metadata": {
        "id": "0lS-5CkG5xoL"
      }
    },
    {
      "cell_type": "markdown",
      "source": [
        "Kita dapat melihat informasi mengenai dataset dengan menggunakan `df.info()`"
      ],
      "metadata": {
        "id": "DoGK_tZzeWto"
      }
    },
    {
      "cell_type": "code",
      "source": [
        "df.info()"
      ],
      "metadata": {
        "colab": {
          "base_uri": "https://localhost:8080/"
        },
        "id": "arflePhiLhfP",
        "outputId": "9266aa27-08c9-4943-c0e2-9f54a6bf0e2c"
      },
      "execution_count": null,
      "outputs": [
        {
          "output_type": "stream",
          "name": "stdout",
          "text": [
            "<class 'pandas.core.frame.DataFrame'>\n",
            "RangeIndex: 1338 entries, 0 to 1337\n",
            "Data columns (total 7 columns):\n",
            " #   Column    Non-Null Count  Dtype  \n",
            "---  ------    --------------  -----  \n",
            " 0   age       1338 non-null   int64  \n",
            " 1   sex       1338 non-null   object \n",
            " 2   bmi       1338 non-null   float64\n",
            " 3   children  1338 non-null   int64  \n",
            " 4   smoker    1338 non-null   object \n",
            " 5   region    1338 non-null   object \n",
            " 6   charges   1338 non-null   float64\n",
            "dtypes: float64(2), int64(2), object(3)\n",
            "memory usage: 73.3+ KB\n"
          ]
        }
      ]
    },
    {
      "cell_type": "code",
      "source": [
        "df.shape"
      ],
      "metadata": {
        "colab": {
          "base_uri": "https://localhost:8080/"
        },
        "id": "DxReOPD4MOlz",
        "outputId": "58b40649-775f-431a-8c20-5f282b32b50d"
      },
      "execution_count": null,
      "outputs": [
        {
          "output_type": "execute_result",
          "data": {
            "text/plain": [
              "(1338, 7)"
            ]
          },
          "metadata": {},
          "execution_count": 172
        }
      ]
    },
    {
      "cell_type": "markdown",
      "source": [
        "Untuk mengetahui jumlah data yang memiliki `null` value, dapat menggunakan `df.isnull().sum()`. Apabila terdapat data yang mempunyai nilai `null`, maka perlu dihandle pada tahap data preparation. Dalam kasus ini tidak perlu karena tidak ada `null` value."
      ],
      "metadata": {
        "id": "JybwMps_g-co"
      }
    },
    {
      "cell_type": "code",
      "source": [
        "df.isnull().sum()"
      ],
      "metadata": {
        "colab": {
          "base_uri": "https://localhost:8080/"
        },
        "id": "skmQ-e3OMXXg",
        "outputId": "5a742212-f597-4374-8520-2fa90a240ed6"
      },
      "execution_count": null,
      "outputs": [
        {
          "output_type": "execute_result",
          "data": {
            "text/plain": [
              "age         0\n",
              "sex         0\n",
              "bmi         0\n",
              "children    0\n",
              "smoker      0\n",
              "region      0\n",
              "charges     0\n",
              "dtype: int64"
            ],
            "text/html": [
              "<div>\n",
              "<style scoped>\n",
              "    .dataframe tbody tr th:only-of-type {\n",
              "        vertical-align: middle;\n",
              "    }\n",
              "\n",
              "    .dataframe tbody tr th {\n",
              "        vertical-align: top;\n",
              "    }\n",
              "\n",
              "    .dataframe thead th {\n",
              "        text-align: right;\n",
              "    }\n",
              "</style>\n",
              "<table border=\"1\" class=\"dataframe\">\n",
              "  <thead>\n",
              "    <tr style=\"text-align: right;\">\n",
              "      <th></th>\n",
              "      <th>0</th>\n",
              "    </tr>\n",
              "  </thead>\n",
              "  <tbody>\n",
              "    <tr>\n",
              "      <th>age</th>\n",
              "      <td>0</td>\n",
              "    </tr>\n",
              "    <tr>\n",
              "      <th>sex</th>\n",
              "      <td>0</td>\n",
              "    </tr>\n",
              "    <tr>\n",
              "      <th>bmi</th>\n",
              "      <td>0</td>\n",
              "    </tr>\n",
              "    <tr>\n",
              "      <th>children</th>\n",
              "      <td>0</td>\n",
              "    </tr>\n",
              "    <tr>\n",
              "      <th>smoker</th>\n",
              "      <td>0</td>\n",
              "    </tr>\n",
              "    <tr>\n",
              "      <th>region</th>\n",
              "      <td>0</td>\n",
              "    </tr>\n",
              "    <tr>\n",
              "      <th>charges</th>\n",
              "      <td>0</td>\n",
              "    </tr>\n",
              "  </tbody>\n",
              "</table>\n",
              "</div><br><label><b>dtype:</b> int64</label>"
            ]
          },
          "metadata": {},
          "execution_count": 173
        }
      ]
    },
    {
      "cell_type": "markdown",
      "source": [
        "Dengan menggunakan `df.describe()`, dapat ditampilkan nilai statistik dataset seperti standar deviasi dan kuartil."
      ],
      "metadata": {
        "id": "oz1nMB26icni"
      }
    },
    {
      "cell_type": "code",
      "source": [
        "df.describe()"
      ],
      "metadata": {
        "colab": {
          "base_uri": "https://localhost:8080/"
        },
        "id": "BLl5W2gQMYUO",
        "outputId": "388892a6-6635-441b-9291-73f7048a5ef0"
      },
      "execution_count": null,
      "outputs": [
        {
          "output_type": "execute_result",
          "data": {
            "text/plain": [
              "               age          bmi     children       charges\n",
              "count  1338.000000  1338.000000  1338.000000   1338.000000\n",
              "mean     39.207025    30.663397     1.094918  13270.422265\n",
              "std      14.049960     6.098187     1.205493  12110.011237\n",
              "min      18.000000    15.960000     0.000000   1121.873900\n",
              "25%      27.000000    26.296250     0.000000   4740.287150\n",
              "50%      39.000000    30.400000     1.000000   9382.033000\n",
              "75%      51.000000    34.693750     2.000000  16639.912515\n",
              "max      64.000000    53.130000     5.000000  63770.428010"
            ],
            "text/html": [
              "\n",
              "  <div id=\"df-910d2156-4813-45d2-aebe-cafd0006dcd2\" class=\"colab-df-container\">\n",
              "    <div>\n",
              "<style scoped>\n",
              "    .dataframe tbody tr th:only-of-type {\n",
              "        vertical-align: middle;\n",
              "    }\n",
              "\n",
              "    .dataframe tbody tr th {\n",
              "        vertical-align: top;\n",
              "    }\n",
              "\n",
              "    .dataframe thead th {\n",
              "        text-align: right;\n",
              "    }\n",
              "</style>\n",
              "<table border=\"1\" class=\"dataframe\">\n",
              "  <thead>\n",
              "    <tr style=\"text-align: right;\">\n",
              "      <th></th>\n",
              "      <th>age</th>\n",
              "      <th>bmi</th>\n",
              "      <th>children</th>\n",
              "      <th>charges</th>\n",
              "    </tr>\n",
              "  </thead>\n",
              "  <tbody>\n",
              "    <tr>\n",
              "      <th>count</th>\n",
              "      <td>1338.000000</td>\n",
              "      <td>1338.000000</td>\n",
              "      <td>1338.000000</td>\n",
              "      <td>1338.000000</td>\n",
              "    </tr>\n",
              "    <tr>\n",
              "      <th>mean</th>\n",
              "      <td>39.207025</td>\n",
              "      <td>30.663397</td>\n",
              "      <td>1.094918</td>\n",
              "      <td>13270.422265</td>\n",
              "    </tr>\n",
              "    <tr>\n",
              "      <th>std</th>\n",
              "      <td>14.049960</td>\n",
              "      <td>6.098187</td>\n",
              "      <td>1.205493</td>\n",
              "      <td>12110.011237</td>\n",
              "    </tr>\n",
              "    <tr>\n",
              "      <th>min</th>\n",
              "      <td>18.000000</td>\n",
              "      <td>15.960000</td>\n",
              "      <td>0.000000</td>\n",
              "      <td>1121.873900</td>\n",
              "    </tr>\n",
              "    <tr>\n",
              "      <th>25%</th>\n",
              "      <td>27.000000</td>\n",
              "      <td>26.296250</td>\n",
              "      <td>0.000000</td>\n",
              "      <td>4740.287150</td>\n",
              "    </tr>\n",
              "    <tr>\n",
              "      <th>50%</th>\n",
              "      <td>39.000000</td>\n",
              "      <td>30.400000</td>\n",
              "      <td>1.000000</td>\n",
              "      <td>9382.033000</td>\n",
              "    </tr>\n",
              "    <tr>\n",
              "      <th>75%</th>\n",
              "      <td>51.000000</td>\n",
              "      <td>34.693750</td>\n",
              "      <td>2.000000</td>\n",
              "      <td>16639.912515</td>\n",
              "    </tr>\n",
              "    <tr>\n",
              "      <th>max</th>\n",
              "      <td>64.000000</td>\n",
              "      <td>53.130000</td>\n",
              "      <td>5.000000</td>\n",
              "      <td>63770.428010</td>\n",
              "    </tr>\n",
              "  </tbody>\n",
              "</table>\n",
              "</div>\n",
              "    <div class=\"colab-df-buttons\">\n",
              "\n",
              "  <div class=\"colab-df-container\">\n",
              "    <button class=\"colab-df-convert\" onclick=\"convertToInteractive('df-910d2156-4813-45d2-aebe-cafd0006dcd2')\"\n",
              "            title=\"Convert this dataframe to an interactive table.\"\n",
              "            style=\"display:none;\">\n",
              "\n",
              "  <svg xmlns=\"http://www.w3.org/2000/svg\" height=\"24px\" viewBox=\"0 -960 960 960\">\n",
              "    <path d=\"M120-120v-720h720v720H120Zm60-500h600v-160H180v160Zm220 220h160v-160H400v160Zm0 220h160v-160H400v160ZM180-400h160v-160H180v160Zm440 0h160v-160H620v160ZM180-180h160v-160H180v160Zm440 0h160v-160H620v160Z\"/>\n",
              "  </svg>\n",
              "    </button>\n",
              "\n",
              "  <style>\n",
              "    .colab-df-container {\n",
              "      display:flex;\n",
              "      gap: 12px;\n",
              "    }\n",
              "\n",
              "    .colab-df-convert {\n",
              "      background-color: #E8F0FE;\n",
              "      border: none;\n",
              "      border-radius: 50%;\n",
              "      cursor: pointer;\n",
              "      display: none;\n",
              "      fill: #1967D2;\n",
              "      height: 32px;\n",
              "      padding: 0 0 0 0;\n",
              "      width: 32px;\n",
              "    }\n",
              "\n",
              "    .colab-df-convert:hover {\n",
              "      background-color: #E2EBFA;\n",
              "      box-shadow: 0px 1px 2px rgba(60, 64, 67, 0.3), 0px 1px 3px 1px rgba(60, 64, 67, 0.15);\n",
              "      fill: #174EA6;\n",
              "    }\n",
              "\n",
              "    .colab-df-buttons div {\n",
              "      margin-bottom: 4px;\n",
              "    }\n",
              "\n",
              "    [theme=dark] .colab-df-convert {\n",
              "      background-color: #3B4455;\n",
              "      fill: #D2E3FC;\n",
              "    }\n",
              "\n",
              "    [theme=dark] .colab-df-convert:hover {\n",
              "      background-color: #434B5C;\n",
              "      box-shadow: 0px 1px 3px 1px rgba(0, 0, 0, 0.15);\n",
              "      filter: drop-shadow(0px 1px 2px rgba(0, 0, 0, 0.3));\n",
              "      fill: #FFFFFF;\n",
              "    }\n",
              "  </style>\n",
              "\n",
              "    <script>\n",
              "      const buttonEl =\n",
              "        document.querySelector('#df-910d2156-4813-45d2-aebe-cafd0006dcd2 button.colab-df-convert');\n",
              "      buttonEl.style.display =\n",
              "        google.colab.kernel.accessAllowed ? 'block' : 'none';\n",
              "\n",
              "      async function convertToInteractive(key) {\n",
              "        const element = document.querySelector('#df-910d2156-4813-45d2-aebe-cafd0006dcd2');\n",
              "        const dataTable =\n",
              "          await google.colab.kernel.invokeFunction('convertToInteractive',\n",
              "                                                    [key], {});\n",
              "        if (!dataTable) return;\n",
              "\n",
              "        const docLinkHtml = 'Like what you see? Visit the ' +\n",
              "          '<a target=\"_blank\" href=https://colab.research.google.com/notebooks/data_table.ipynb>data table notebook</a>'\n",
              "          + ' to learn more about interactive tables.';\n",
              "        element.innerHTML = '';\n",
              "        dataTable['output_type'] = 'display_data';\n",
              "        await google.colab.output.renderOutput(dataTable, element);\n",
              "        const docLink = document.createElement('div');\n",
              "        docLink.innerHTML = docLinkHtml;\n",
              "        element.appendChild(docLink);\n",
              "      }\n",
              "    </script>\n",
              "  </div>\n",
              "\n",
              "\n",
              "<div id=\"df-c2b59e5d-c396-45af-a13e-cd2c75f5ab15\">\n",
              "  <button class=\"colab-df-quickchart\" onclick=\"quickchart('df-c2b59e5d-c396-45af-a13e-cd2c75f5ab15')\"\n",
              "            title=\"Suggest charts\"\n",
              "            style=\"display:none;\">\n",
              "\n",
              "<svg xmlns=\"http://www.w3.org/2000/svg\" height=\"24px\"viewBox=\"0 0 24 24\"\n",
              "     width=\"24px\">\n",
              "    <g>\n",
              "        <path d=\"M19 3H5c-1.1 0-2 .9-2 2v14c0 1.1.9 2 2 2h14c1.1 0 2-.9 2-2V5c0-1.1-.9-2-2-2zM9 17H7v-7h2v7zm4 0h-2V7h2v10zm4 0h-2v-4h2v4z\"/>\n",
              "    </g>\n",
              "</svg>\n",
              "  </button>\n",
              "\n",
              "<style>\n",
              "  .colab-df-quickchart {\n",
              "      --bg-color: #E8F0FE;\n",
              "      --fill-color: #1967D2;\n",
              "      --hover-bg-color: #E2EBFA;\n",
              "      --hover-fill-color: #174EA6;\n",
              "      --disabled-fill-color: #AAA;\n",
              "      --disabled-bg-color: #DDD;\n",
              "  }\n",
              "\n",
              "  [theme=dark] .colab-df-quickchart {\n",
              "      --bg-color: #3B4455;\n",
              "      --fill-color: #D2E3FC;\n",
              "      --hover-bg-color: #434B5C;\n",
              "      --hover-fill-color: #FFFFFF;\n",
              "      --disabled-bg-color: #3B4455;\n",
              "      --disabled-fill-color: #666;\n",
              "  }\n",
              "\n",
              "  .colab-df-quickchart {\n",
              "    background-color: var(--bg-color);\n",
              "    border: none;\n",
              "    border-radius: 50%;\n",
              "    cursor: pointer;\n",
              "    display: none;\n",
              "    fill: var(--fill-color);\n",
              "    height: 32px;\n",
              "    padding: 0;\n",
              "    width: 32px;\n",
              "  }\n",
              "\n",
              "  .colab-df-quickchart:hover {\n",
              "    background-color: var(--hover-bg-color);\n",
              "    box-shadow: 0 1px 2px rgba(60, 64, 67, 0.3), 0 1px 3px 1px rgba(60, 64, 67, 0.15);\n",
              "    fill: var(--button-hover-fill-color);\n",
              "  }\n",
              "\n",
              "  .colab-df-quickchart-complete:disabled,\n",
              "  .colab-df-quickchart-complete:disabled:hover {\n",
              "    background-color: var(--disabled-bg-color);\n",
              "    fill: var(--disabled-fill-color);\n",
              "    box-shadow: none;\n",
              "  }\n",
              "\n",
              "  .colab-df-spinner {\n",
              "    border: 2px solid var(--fill-color);\n",
              "    border-color: transparent;\n",
              "    border-bottom-color: var(--fill-color);\n",
              "    animation:\n",
              "      spin 1s steps(1) infinite;\n",
              "  }\n",
              "\n",
              "  @keyframes spin {\n",
              "    0% {\n",
              "      border-color: transparent;\n",
              "      border-bottom-color: var(--fill-color);\n",
              "      border-left-color: var(--fill-color);\n",
              "    }\n",
              "    20% {\n",
              "      border-color: transparent;\n",
              "      border-left-color: var(--fill-color);\n",
              "      border-top-color: var(--fill-color);\n",
              "    }\n",
              "    30% {\n",
              "      border-color: transparent;\n",
              "      border-left-color: var(--fill-color);\n",
              "      border-top-color: var(--fill-color);\n",
              "      border-right-color: var(--fill-color);\n",
              "    }\n",
              "    40% {\n",
              "      border-color: transparent;\n",
              "      border-right-color: var(--fill-color);\n",
              "      border-top-color: var(--fill-color);\n",
              "    }\n",
              "    60% {\n",
              "      border-color: transparent;\n",
              "      border-right-color: var(--fill-color);\n",
              "    }\n",
              "    80% {\n",
              "      border-color: transparent;\n",
              "      border-right-color: var(--fill-color);\n",
              "      border-bottom-color: var(--fill-color);\n",
              "    }\n",
              "    90% {\n",
              "      border-color: transparent;\n",
              "      border-bottom-color: var(--fill-color);\n",
              "    }\n",
              "  }\n",
              "</style>\n",
              "\n",
              "  <script>\n",
              "    async function quickchart(key) {\n",
              "      const quickchartButtonEl =\n",
              "        document.querySelector('#' + key + ' button');\n",
              "      quickchartButtonEl.disabled = true;  // To prevent multiple clicks.\n",
              "      quickchartButtonEl.classList.add('colab-df-spinner');\n",
              "      try {\n",
              "        const charts = await google.colab.kernel.invokeFunction(\n",
              "            'suggestCharts', [key], {});\n",
              "      } catch (error) {\n",
              "        console.error('Error during call to suggestCharts:', error);\n",
              "      }\n",
              "      quickchartButtonEl.classList.remove('colab-df-spinner');\n",
              "      quickchartButtonEl.classList.add('colab-df-quickchart-complete');\n",
              "    }\n",
              "    (() => {\n",
              "      let quickchartButtonEl =\n",
              "        document.querySelector('#df-c2b59e5d-c396-45af-a13e-cd2c75f5ab15 button');\n",
              "      quickchartButtonEl.style.display =\n",
              "        google.colab.kernel.accessAllowed ? 'block' : 'none';\n",
              "    })();\n",
              "  </script>\n",
              "</div>\n",
              "\n",
              "    </div>\n",
              "  </div>\n"
            ],
            "application/vnd.google.colaboratory.intrinsic+json": {
              "type": "dataframe",
              "summary": "{\n  \"name\": \"df\",\n  \"rows\": 8,\n  \"fields\": [\n    {\n      \"column\": \"age\",\n      \"properties\": {\n        \"dtype\": \"number\",\n        \"std\": 460.6106090399993,\n        \"min\": 14.049960379216154,\n        \"max\": 1338.0,\n        \"num_unique_values\": 8,\n        \"samples\": [\n          39.20702541106129,\n          39.0,\n          1338.0\n        ],\n        \"semantic_type\": \"\",\n        \"description\": \"\"\n      }\n    },\n    {\n      \"column\": \"bmi\",\n      \"properties\": {\n        \"dtype\": \"number\",\n        \"std\": 463.29524977918294,\n        \"min\": 6.098186911679014,\n        \"max\": 1338.0,\n        \"num_unique_values\": 8,\n        \"samples\": [\n          30.66339686098655,\n          30.4,\n          1338.0\n        ],\n        \"semantic_type\": \"\",\n        \"description\": \"\"\n      }\n    },\n    {\n      \"column\": \"children\",\n      \"properties\": {\n        \"dtype\": \"number\",\n        \"std\": 472.5368318870757,\n        \"min\": 0.0,\n        \"max\": 1338.0,\n        \"num_unique_values\": 7,\n        \"samples\": [\n          1338.0,\n          1.0949177877429,\n          2.0\n        ],\n        \"semantic_type\": \"\",\n        \"description\": \"\"\n      }\n    },\n    {\n      \"column\": \"charges\",\n      \"properties\": {\n        \"dtype\": \"number\",\n        \"std\": 20381.922846226596,\n        \"min\": 1121.8739,\n        \"max\": 63770.42801,\n        \"num_unique_values\": 8,\n        \"samples\": [\n          13270.422265141257,\n          9382.033,\n          1338.0\n        ],\n        \"semantic_type\": \"\",\n        \"description\": \"\"\n      }\n    }\n  ]\n}"
            }
          },
          "metadata": {},
          "execution_count": 174
        }
      ]
    },
    {
      "cell_type": "markdown",
      "source": [
        "Distribusi data dapat diketahui dengan menggunakan histogram. Pada histogram terdapat parameter `bins` yang dapat disesuaikan agar distribusi dapat lebih terlihat. Terdapat berbagai cara yang dapat dilakukan untuk menemukan jumlah `bins` optimal yang dapat dilihat pada [halaman ini](https://how2matplotlib.com/bin-size-in-matplotlib-histogram.html)"
      ],
      "metadata": {
        "id": "3HD7mCC-QvGG"
      }
    },
    {
      "cell_type": "code",
      "source": [
        "num_features = len(df.columns)\n",
        "\n",
        "ncols = 3\n",
        "nrows = math.ceil(num_features / ncols)\n",
        "\n",
        "fig, axes = plt.subplots(nrows=nrows, ncols=ncols, figsize=(8 * ncols, 4 * nrows))\n",
        "\n",
        "axes = axes.flatten()\n",
        "\n",
        "for i, column in enumerate(df.columns):\n",
        "    sns.histplot(df[column], bins=10, ax=axes[i], kde=False)\n",
        "    axes[i].set_title(f'Histogram of {column}')\n",
        "    axes[i].set_xlabel(column)\n",
        "    axes[i].set_ylabel('Frequency')\n",
        "\n",
        "# Delete empty subplots\n",
        "for j in range(i + 1, len(axes)):\n",
        "    fig.delaxes(axes[j])\n",
        "\n",
        "plt.tight_layout()\n",
        "plt.show()\n"
      ],
      "metadata": {
        "colab": {
          "base_uri": "https://localhost:8080/"
        },
        "id": "WUlA5tl1mFep",
        "outputId": "aa804ffb-e958-4c25-e5c2-a9b5af56e9d4"
      },
      "execution_count": null,
      "outputs": [
        {
          "output_type": "display_data",
          "data": {
            "text/plain": [
              "<Figure size 2400x1200 with 7 Axes>"
            ],
            "image/png": "[encoded data removed]"
          },
          "metadata": {}
        }
      ]
    },
    {
      "cell_type": "markdown",
      "source": [
        "#### Data Preparation"
      ],
      "metadata": {
        "id": "0oZgdZfAhzhH"
      }
    },
    {
      "cell_type": "markdown",
      "source": [
        "Data yang ada perlu dipersiapkah terlebih dahulu sebelum melalui tahap training. Tipe data kategorikal tidak bisa langsung dipakai untuk traning model, oleh karena itu fitur yang memuat data kategorikal harus diconvert menjadi numerik dengan menggunakan encoder."
      ],
      "metadata": {
        "id": "2WGIutjFOjyj"
      }
    },
    {
      "cell_type": "code",
      "source": [
        "df_train = df.copy()"
      ],
      "metadata": {
        "id": "UXQwoIaBQbd5"
      },
      "execution_count": null,
      "outputs": []
    },
    {
      "cell_type": "code",
      "source": [
        "label_encoder = LabelEncoder()\n",
        "df_train['sex'] = label_encoder.fit_transform(df['sex'])\n",
        "df_train['smoker'] = label_encoder.fit_transform(df['smoker'])\n",
        "\n",
        "df_train = pd.get_dummies(df_train, columns=['region'])\n",
        "\n",
        "columns_to_convert = ['sex',\n",
        "                      'smoker',\n",
        "                      'region_northwest',\n",
        "                      'region_northeast',\n",
        "                      'region_southeast',\n",
        "                      'region_southwest']\n",
        "\n",
        "df_train[columns_to_convert] = df_train[columns_to_convert].astype(int)"
      ],
      "metadata": {
        "id": "xfga6oJUirjn"
      },
      "execution_count": null,
      "outputs": []
    },
    {
      "cell_type": "markdown",
      "source": [
        "Bentuk akhir dataset yang akan dipakai adalah seperti berikut:"
      ],
      "metadata": {
        "id": "2rmcV7B_TrPf"
      }
    },
    {
      "cell_type": "code",
      "source": [
        "df_train.info()"
      ],
      "metadata": {
        "colab": {
          "base_uri": "https://localhost:8080/"
        },
        "id": "3qWL4HMXQo-C",
        "outputId": "27d6cd28-3e87-4a42-9484-cd1ca5b51ddd"
      },
      "execution_count": null,
      "outputs": [
        {
          "output_type": "stream",
          "name": "stdout",
          "text": [
            "<class 'pandas.core.frame.DataFrame'>\n",
            "RangeIndex: 1338 entries, 0 to 1337\n",
            "Data columns (total 10 columns):\n",
            " #   Column            Non-Null Count  Dtype  \n",
            "---  ------            --------------  -----  \n",
            " 0   age               1338 non-null   int64  \n",
            " 1   sex               1338 non-null   int64  \n",
            " 2   bmi               1338 non-null   float64\n",
            " 3   children          1338 non-null   int64  \n",
            " 4   smoker            1338 non-null   int64  \n",
            " 5   charges           1338 non-null   float64\n",
            " 6   region_northeast  1338 non-null   int64  \n",
            " 7   region_northwest  1338 non-null   int64  \n",
            " 8   region_southeast  1338 non-null   int64  \n",
            " 9   region_southwest  1338 non-null   int64  \n",
            "dtypes: float64(2), int64(8)\n",
            "memory usage: 104.7 KB\n"
          ]
        }
      ]
    },
    {
      "cell_type": "code",
      "source": [
        "df_train"
      ],
      "metadata": {
        "colab": {
          "base_uri": "https://localhost:8080/",
          "height": 443
        },
        "id": "XgEEXRznXawY",
        "outputId": "a9da991c-40f0-4398-87e9-221fe7dac89d"
      },
      "execution_count": null,
      "outputs": [
        {
          "output_type": "execute_result",
          "data": {
            "text/plain": [
              "      age  sex     bmi  children  smoker      charges  region_northeast  \\\n",
              "0      19    0  27.900         0       1  16884.92400                 0   \n",
              "1      18    1  33.770         1       0   1725.55230                 0   \n",
              "2      28    1  33.000         3       0   4449.46200                 0   \n",
              "3      33    1  22.705         0       0  21984.47061                 0   \n",
              "4      32    1  28.880         0       0   3866.85520                 0   \n",
              "...   ...  ...     ...       ...     ...          ...               ...   \n",
              "1333   50    1  30.970         3       0  10600.54830                 0   \n",
              "1334   18    0  31.920         0       0   2205.98080                 1   \n",
              "1335   18    0  36.850         0       0   1629.83350                 0   \n",
              "1336   21    0  25.800         0       0   2007.94500                 0   \n",
              "1337   61    0  29.070         0       1  29141.36030                 0   \n",
              "\n",
              "      region_northwest  region_southeast  region_southwest  \n",
              "0                    0                 0                 1  \n",
              "1                    0                 1                 0  \n",
              "2                    0                 1                 0  \n",
              "3                    1                 0                 0  \n",
              "4                    1                 0                 0  \n",
              "...                ...               ...               ...  \n",
              "1333                 1                 0                 0  \n",
              "1334                 0                 0                 0  \n",
              "1335                 0                 1                 0  \n",
              "1336                 0                 0                 1  \n",
              "1337                 1                 0                 0  \n",
              "\n",
              "[1338 rows x 10 columns]"
            ],
            "text/html": [
              "\n",
              "  <div id=\"df-36a00cbd-a761-443d-94e9-6edce2cca577\" class=\"colab-df-container\">\n",
              "    <div>\n",
              "<style scoped>\n",
              "    .dataframe tbody tr th:only-of-type {\n",
              "        vertical-align: middle;\n",
              "    }\n",
              "\n",
              "    .dataframe tbody tr th {\n",
              "        vertical-align: top;\n",
              "    }\n",
              "\n",
              "    .dataframe thead th {\n",
              "        text-align: right;\n",
              "    }\n",
              "</style>\n",
              "<table border=\"1\" class=\"dataframe\">\n",
              "  <thead>\n",
              "    <tr style=\"text-align: right;\">\n",
              "      <th></th>\n",
              "      <th>age</th>\n",
              "      <th>sex</th>\n",
              "      <th>bmi</th>\n",
              "      <th>children</th>\n",
              "      <th>smoker</th>\n",
              "      <th>charges</th>\n",
              "      <th>region_northeast</th>\n",
              "      <th>region_northwest</th>\n",
              "      <th>region_southeast</th>\n",
              "      <th>region_southwest</th>\n",
              "    </tr>\n",
              "  </thead>\n",
              "  <tbody>\n",
              "    <tr>\n",
              "      <th>0</th>\n",
              "      <td>19</td>\n",
              "      <td>0</td>\n",
              "      <td>27.900</td>\n",
              "      <td>0</td>\n",
              "      <td>1</td>\n",
              "      <td>16884.92400</td>\n",
              "      <td>0</td>\n",
              "      <td>0</td>\n",
              "      <td>0</td>\n",
              "      <td>1</td>\n",
              "    </tr>\n",
              "    <tr>\n",
              "      <th>1</th>\n",
              "      <td>18</td>\n",
              "      <td>1</td>\n",
              "      <td>33.770</td>\n",
              "      <td>1</td>\n",
              "      <td>0</td>\n",
              "      <td>1725.55230</td>\n",
              "      <td>0</td>\n",
              "      <td>0</td>\n",
              "      <td>1</td>\n",
              "      <td>0</td>\n",
              "    </tr>\n",
              "    <tr>\n",
              "      <th>2</th>\n",
              "      <td>28</td>\n",
              "      <td>1</td>\n",
              "      <td>33.000</td>\n",
              "      <td>3</td>\n",
              "      <td>0</td>\n",
              "      <td>4449.46200</td>\n",
              "      <td>0</td>\n",
              "      <td>0</td>\n",
              "      <td>1</td>\n",
              "      <td>0</td>\n",
              "    </tr>\n",
              "    <tr>\n",
              "      <th>3</th>\n",
              "      <td>33</td>\n",
              "      <td>1</td>\n",
              "      <td>22.705</td>\n",
              "      <td>0</td>\n",
              "      <td>0</td>\n",
              "      <td>21984.47061</td>\n",
              "      <td>0</td>\n",
              "      <td>1</td>\n",
              "      <td>0</td>\n",
              "      <td>0</td>\n",
              "    </tr>\n",
              "    <tr>\n",
              "      <th>4</th>\n",
              "      <td>32</td>\n",
              "      <td>1</td>\n",
              "      <td>28.880</td>\n",
              "      <td>0</td>\n",
              "      <td>0</td>\n",
              "      <td>3866.85520</td>\n",
              "      <td>0</td>\n",
              "      <td>1</td>\n",
              "      <td>0</td>\n",
              "      <td>0</td>\n",
              "    </tr>\n",
              "    <tr>\n",
              "      <th>...</th>\n",
              "      <td>...</td>\n",
              "      <td>...</td>\n",
              "      <td>...</td>\n",
              "      <td>...</td>\n",
              "      <td>...</td>\n",
              "      <td>...</td>\n",
              "      <td>...</td>\n",
              "      <td>...</td>\n",
              "      <td>...</td>\n",
              "      <td>...</td>\n",
              "    </tr>\n",
              "    <tr>\n",
              "      <th>1333</th>\n",
              "      <td>50</td>\n",
              "      <td>1</td>\n",
              "      <td>30.970</td>\n",
              "      <td>3</td>\n",
              "      <td>0</td>\n",
              "      <td>10600.54830</td>\n",
              "      <td>0</td>\n",
              "      <td>1</td>\n",
              "      <td>0</td>\n",
              "      <td>0</td>\n",
              "    </tr>\n",
              "    <tr>\n",
              "      <th>1334</th>\n",
              "      <td>18</td>\n",
              "      <td>0</td>\n",
              "      <td>31.920</td>\n",
              "      <td>0</td>\n",
              "      <td>0</td>\n",
              "      <td>2205.98080</td>\n",
              "      <td>1</td>\n",
              "      <td>0</td>\n",
              "      <td>0</td>\n",
              "      <td>0</td>\n",
              "    </tr>\n",
              "    <tr>\n",
              "      <th>1335</th>\n",
              "      <td>18</td>\n",
              "      <td>0</td>\n",
              "      <td>36.850</td>\n",
              "      <td>0</td>\n",
              "      <td>0</td>\n",
              "      <td>1629.83350</td>\n",
              "      <td>0</td>\n",
              "      <td>0</td>\n",
              "      <td>1</td>\n",
              "      <td>0</td>\n",
              "    </tr>\n",
              "    <tr>\n",
              "      <th>1336</th>\n",
              "      <td>21</td>\n",
              "      <td>0</td>\n",
              "      <td>25.800</td>\n",
              "      <td>0</td>\n",
              "      <td>0</td>\n",
              "      <td>2007.94500</td>\n",
              "      <td>0</td>\n",
              "      <td>0</td>\n",
              "      <td>0</td>\n",
              "      <td>1</td>\n",
              "    </tr>\n",
              "    <tr>\n",
              "      <th>1337</th>\n",
              "      <td>61</td>\n",
              "      <td>0</td>\n",
              "      <td>29.070</td>\n",
              "      <td>0</td>\n",
              "      <td>1</td>\n",
              "      <td>29141.36030</td>\n",
              "      <td>0</td>\n",
              "      <td>1</td>\n",
              "      <td>0</td>\n",
              "      <td>0</td>\n",
              "    </tr>\n",
              "  </tbody>\n",
              "</table>\n",
              "<p>1338 rows × 10 columns</p>\n",
              "</div>\n",
              "    <div class=\"colab-df-buttons\">\n",
              "\n",
              "  <div class=\"colab-df-container\">\n",
              "    <button class=\"colab-df-convert\" onclick=\"convertToInteractive('df-36a00cbd-a761-443d-94e9-6edce2cca577')\"\n",
              "            title=\"Convert this dataframe to an interactive table.\"\n",
              "            style=\"display:none;\">\n",
              "\n",
              "  <svg xmlns=\"http://www.w3.org/2000/svg\" height=\"24px\" viewBox=\"0 -960 960 960\">\n",
              "    <path d=\"M120-120v-720h720v720H120Zm60-500h600v-160H180v160Zm220 220h160v-160H400v160Zm0 220h160v-160H400v160ZM180-400h160v-160H180v160Zm440 0h160v-160H620v160ZM180-180h160v-160H180v160Zm440 0h160v-160H620v160Z\"/>\n",
              "  </svg>\n",
              "    </button>\n",
              "\n",
              "  <style>\n",
              "    .colab-df-container {\n",
              "      display:flex;\n",
              "      gap: 12px;\n",
              "    }\n",
              "\n",
              "    .colab-df-convert {\n",
              "      background-color: #E8F0FE;\n",
              "      border: none;\n",
              "      border-radius: 50%;\n",
              "      cursor: pointer;\n",
              "      display: none;\n",
              "      fill: #1967D2;\n",
              "      height: 32px;\n",
              "      padding: 0 0 0 0;\n",
              "      width: 32px;\n",
              "    }\n",
              "\n",
              "    .colab-df-convert:hover {\n",
              "      background-color: #E2EBFA;\n",
              "      box-shadow: 0px 1px 2px rgba(60, 64, 67, 0.3), 0px 1px 3px 1px rgba(60, 64, 67, 0.15);\n",
              "      fill: #174EA6;\n",
              "    }\n",
              "\n",
              "    .colab-df-buttons div {\n",
              "      margin-bottom: 4px;\n",
              "    }\n",
              "\n",
              "    [theme=dark] .colab-df-convert {\n",
              "      background-color: #3B4455;\n",
              "      fill: #D2E3FC;\n",
              "    }\n",
              "\n",
              "    [theme=dark] .colab-df-convert:hover {\n",
              "      background-color: #434B5C;\n",
              "      box-shadow: 0px 1px 3px 1px rgba(0, 0, 0, 0.15);\n",
              "      filter: drop-shadow(0px 1px 2px rgba(0, 0, 0, 0.3));\n",
              "      fill: #FFFFFF;\n",
              "    }\n",
              "  </style>\n",
              "\n",
              "    <script>\n",
              "      const buttonEl =\n",
              "        document.querySelector('#df-36a00cbd-a761-443d-94e9-6edce2cca577 button.colab-df-convert');\n",
              "      buttonEl.style.display =\n",
              "        google.colab.kernel.accessAllowed ? 'block' : 'none';\n",
              "\n",
              "      async function convertToInteractive(key) {\n",
              "        const element = document.querySelector('#df-36a00cbd-a761-443d-94e9-6edce2cca577');\n",
              "        const dataTable =\n",
              "          await google.colab.kernel.invokeFunction('convertToInteractive',\n",
              "                                                    [key], {});\n",
              "        if (!dataTable) return;\n",
              "\n",
              "        const docLinkHtml = 'Like what you see? Visit the ' +\n",
              "          '<a target=\"_blank\" href=https://colab.research.google.com/notebooks/data_table.ipynb>data table notebook</a>'\n",
              "          + ' to learn more about interactive tables.';\n",
              "        element.innerHTML = '';\n",
              "        dataTable['output_type'] = 'display_data';\n",
              "        await google.colab.output.renderOutput(dataTable, element);\n",
              "        const docLink = document.createElement('div');\n",
              "        docLink.innerHTML = docLinkHtml;\n",
              "        element.appendChild(docLink);\n",
              "      }\n",
              "    </script>\n",
              "  </div>\n",
              "\n",
              "\n",
              "<div id=\"df-55dfce64-fc6e-4267-a2e4-165e8a06b95f\">\n",
              "  <button class=\"colab-df-quickchart\" onclick=\"quickchart('df-55dfce64-fc6e-4267-a2e4-165e8a06b95f')\"\n",
              "            title=\"Suggest charts\"\n",
              "            style=\"display:none;\">\n",
              "\n",
              "<svg xmlns=\"http://www.w3.org/2000/svg\" height=\"24px\"viewBox=\"0 0 24 24\"\n",
              "     width=\"24px\">\n",
              "    <g>\n",
              "        <path d=\"M19 3H5c-1.1 0-2 .9-2 2v14c0 1.1.9 2 2 2h14c1.1 0 2-.9 2-2V5c0-1.1-.9-2-2-2zM9 17H7v-7h2v7zm4 0h-2V7h2v10zm4 0h-2v-4h2v4z\"/>\n",
              "    </g>\n",
              "</svg>\n",
              "  </button>\n",
              "\n",
              "<style>\n",
              "  .colab-df-quickchart {\n",
              "      --bg-color: #E8F0FE;\n",
              "      --fill-color: #1967D2;\n",
              "      --hover-bg-color: #E2EBFA;\n",
              "      --hover-fill-color: #174EA6;\n",
              "      --disabled-fill-color: #AAA;\n",
              "      --disabled-bg-color: #DDD;\n",
              "  }\n",
              "\n",
              "  [theme=dark] .colab-df-quickchart {\n",
              "      --bg-color: #3B4455;\n",
              "      --fill-color: #D2E3FC;\n",
              "      --hover-bg-color: #434B5C;\n",
              "      --hover-fill-color: #FFFFFF;\n",
              "      --disabled-bg-color: #3B4455;\n",
              "      --disabled-fill-color: #666;\n",
              "  }\n",
              "\n",
              "  .colab-df-quickchart {\n",
              "    background-color: var(--bg-color);\n",
              "    border: none;\n",
              "    border-radius: 50%;\n",
              "    cursor: pointer;\n",
              "    display: none;\n",
              "    fill: var(--fill-color);\n",
              "    height: 32px;\n",
              "    padding: 0;\n",
              "    width: 32px;\n",
              "  }\n",
              "\n",
              "  .colab-df-quickchart:hover {\n",
              "    background-color: var(--hover-bg-color);\n",
              "    box-shadow: 0 1px 2px rgba(60, 64, 67, 0.3), 0 1px 3px 1px rgba(60, 64, 67, 0.15);\n",
              "    fill: var(--button-hover-fill-color);\n",
              "  }\n",
              "\n",
              "  .colab-df-quickchart-complete:disabled,\n",
              "  .colab-df-quickchart-complete:disabled:hover {\n",
              "    background-color: var(--disabled-bg-color);\n",
              "    fill: var(--disabled-fill-color);\n",
              "    box-shadow: none;\n",
              "  }\n",
              "\n",
              "  .colab-df-spinner {\n",
              "    border: 2px solid var(--fill-color);\n",
              "    border-color: transparent;\n",
              "    border-bottom-color: var(--fill-color);\n",
              "    animation:\n",
              "      spin 1s steps(1) infinite;\n",
              "  }\n",
              "\n",
              "  @keyframes spin {\n",
              "    0% {\n",
              "      border-color: transparent;\n",
              "      border-bottom-color: var(--fill-color);\n",
              "      border-left-color: var(--fill-color);\n",
              "    }\n",
              "    20% {\n",
              "      border-color: transparent;\n",
              "      border-left-color: var(--fill-color);\n",
              "      border-top-color: var(--fill-color);\n",
              "    }\n",
              "    30% {\n",
              "      border-color: transparent;\n",
              "      border-left-color: var(--fill-color);\n",
              "      border-top-color: var(--fill-color);\n",
              "      border-right-color: var(--fill-color);\n",
              "    }\n",
              "    40% {\n",
              "      border-color: transparent;\n",
              "      border-right-color: var(--fill-color);\n",
              "      border-top-color: var(--fill-color);\n",
              "    }\n",
              "    60% {\n",
              "      border-color: transparent;\n",
              "      border-right-color: var(--fill-color);\n",
              "    }\n",
              "    80% {\n",
              "      border-color: transparent;\n",
              "      border-right-color: var(--fill-color);\n",
              "      border-bottom-color: var(--fill-color);\n",
              "    }\n",
              "    90% {\n",
              "      border-color: transparent;\n",
              "      border-bottom-color: var(--fill-color);\n",
              "    }\n",
              "  }\n",
              "</style>\n",
              "\n",
              "  <script>\n",
              "    async function quickchart(key) {\n",
              "      const quickchartButtonEl =\n",
              "        document.querySelector('#' + key + ' button');\n",
              "      quickchartButtonEl.disabled = true;  // To prevent multiple clicks.\n",
              "      quickchartButtonEl.classList.add('colab-df-spinner');\n",
              "      try {\n",
              "        const charts = await google.colab.kernel.invokeFunction(\n",
              "            'suggestCharts', [key], {});\n",
              "      } catch (error) {\n",
              "        console.error('Error during call to suggestCharts:', error);\n",
              "      }\n",
              "      quickchartButtonEl.classList.remove('colab-df-spinner');\n",
              "      quickchartButtonEl.classList.add('colab-df-quickchart-complete');\n",
              "    }\n",
              "    (() => {\n",
              "      let quickchartButtonEl =\n",
              "        document.querySelector('#df-55dfce64-fc6e-4267-a2e4-165e8a06b95f button');\n",
              "      quickchartButtonEl.style.display =\n",
              "        google.colab.kernel.accessAllowed ? 'block' : 'none';\n",
              "    })();\n",
              "  </script>\n",
              "</div>\n",
              "\n",
              "  <div id=\"id_52d6d3fb-c98f-4fdd-a195-6095f3333bf0\">\n",
              "    <style>\n",
              "      .colab-df-generate {\n",
              "        background-color: #E8F0FE;\n",
              "        border: none;\n",
              "        border-radius: 50%;\n",
              "        cursor: pointer;\n",
              "        display: none;\n",
              "        fill: #1967D2;\n",
              "        height: 32px;\n",
              "        padding: 0 0 0 0;\n",
              "        width: 32px;\n",
              "      }\n",
              "\n",
              "      .colab-df-generate:hover {\n",
              "        background-color: #E2EBFA;\n",
              "        box-shadow: 0px 1px 2px rgba(60, 64, 67, 0.3), 0px 1px 3px 1px rgba(60, 64, 67, 0.15);\n",
              "        fill: #174EA6;\n",
              "      }\n",
              "\n",
              "      [theme=dark] .colab-df-generate {\n",
              "        background-color: #3B4455;\n",
              "        fill: #D2E3FC;\n",
              "      }\n",
              "\n",
              "      [theme=dark] .colab-df-generate:hover {\n",
              "        background-color: #434B5C;\n",
              "        box-shadow: 0px 1px 3px 1px rgba(0, 0, 0, 0.15);\n",
              "        filter: drop-shadow(0px 1px 2px rgba(0, 0, 0, 0.3));\n",
              "        fill: #FFFFFF;\n",
              "      }\n",
              "    </style>\n",
              "    <button class=\"colab-df-generate\" onclick=\"generateWithVariable('df_train')\"\n",
              "            title=\"Generate code using this dataframe.\"\n",
              "            style=\"display:none;\">\n",
              "\n",
              "  <svg xmlns=\"http://www.w3.org/2000/svg\" height=\"24px\"viewBox=\"0 0 24 24\"\n",
              "       width=\"24px\">\n",
              "    <path d=\"M7,19H8.4L18.45,9,17,7.55,7,17.6ZM5,21V16.75L18.45,3.32a2,2,0,0,1,2.83,0l1.4,1.43a1.91,1.91,0,0,1,.58,1.4,1.91,1.91,0,0,1-.58,1.4L9.25,21ZM18.45,9,17,7.55Zm-12,3A5.31,5.31,0,0,0,4.9,8.1,5.31,5.31,0,0,0,1,6.5,5.31,5.31,0,0,0,4.9,4.9,5.31,5.31,0,0,0,6.5,1,5.31,5.31,0,0,0,8.1,4.9,5.31,5.31,0,0,0,12,6.5,5.46,5.46,0,0,0,6.5,12Z\"/>\n",
              "  </svg>\n",
              "    </button>\n",
              "    <script>\n",
              "      (() => {\n",
              "      const buttonEl =\n",
              "        document.querySelector('#id_52d6d3fb-c98f-4fdd-a195-6095f3333bf0 button.colab-df-generate');\n",
              "      buttonEl.style.display =\n",
              "        google.colab.kernel.accessAllowed ? 'block' : 'none';\n",
              "\n",
              "      buttonEl.onclick = () => {\n",
              "        google.colab.notebook.generateWithVariable('df_train');\n",
              "      }\n",
              "      })();\n",
              "    </script>\n",
              "  </div>\n",
              "\n",
              "    </div>\n",
              "  </div>\n"
            ],
            "application/vnd.google.colaboratory.intrinsic+json": {
              "type": "dataframe",
              "variable_name": "df_train",
              "summary": "{\n  \"name\": \"df_train\",\n  \"rows\": 1338,\n  \"fields\": [\n    {\n      \"column\": \"age\",\n      \"properties\": {\n        \"dtype\": \"number\",\n        \"std\": 14,\n        \"min\": 18,\n        \"max\": 64,\n        \"num_unique_values\": 47,\n        \"samples\": [\n          21,\n          45,\n          36\n        ],\n        \"semantic_type\": \"\",\n        \"description\": \"\"\n      }\n    },\n    {\n      \"column\": \"sex\",\n      \"properties\": {\n        \"dtype\": \"number\",\n        \"std\": 0,\n        \"min\": 0,\n        \"max\": 1,\n        \"num_unique_values\": 2,\n        \"samples\": [\n          1,\n          0\n        ],\n        \"semantic_type\": \"\",\n        \"description\": \"\"\n      }\n    },\n    {\n      \"column\": \"bmi\",\n      \"properties\": {\n        \"dtype\": \"number\",\n        \"std\": 6.098186911679014,\n        \"min\": 15.96,\n        \"max\": 53.13,\n        \"num_unique_values\": 548,\n        \"samples\": [\n          23.18,\n          26.885\n        ],\n        \"semantic_type\": \"\",\n        \"description\": \"\"\n      }\n    },\n    {\n      \"column\": \"children\",\n      \"properties\": {\n        \"dtype\": \"number\",\n        \"std\": 1,\n        \"min\": 0,\n        \"max\": 5,\n        \"num_unique_values\": 6,\n        \"samples\": [\n          0,\n          1\n        ],\n        \"semantic_type\": \"\",\n        \"description\": \"\"\n      }\n    },\n    {\n      \"column\": \"smoker\",\n      \"properties\": {\n        \"dtype\": \"number\",\n        \"std\": 0,\n        \"min\": 0,\n        \"max\": 1,\n        \"num_unique_values\": 2,\n        \"samples\": [\n          0,\n          1\n        ],\n        \"semantic_type\": \"\",\n        \"description\": \"\"\n      }\n    },\n    {\n      \"column\": \"charges\",\n      \"properties\": {\n        \"dtype\": \"number\",\n        \"std\": 12110.011236694001,\n        \"min\": 1121.8739,\n        \"max\": 63770.42801,\n        \"num_unique_values\": 1337,\n        \"samples\": [\n          8688.85885,\n          5708.867\n        ],\n        \"semantic_type\": \"\",\n        \"description\": \"\"\n      }\n    },\n    {\n      \"column\": \"region_northeast\",\n      \"properties\": {\n        \"dtype\": \"number\",\n        \"std\": 0,\n        \"min\": 0,\n        \"max\": 1,\n        \"num_unique_values\": 2,\n        \"samples\": [\n          1,\n          0\n        ],\n        \"semantic_type\": \"\",\n        \"description\": \"\"\n      }\n    },\n    {\n      \"column\": \"region_northwest\",\n      \"properties\": {\n        \"dtype\": \"number\",\n        \"std\": 0,\n        \"min\": 0,\n        \"max\": 1,\n        \"num_unique_values\": 2,\n        \"samples\": [\n          1,\n          0\n        ],\n        \"semantic_type\": \"\",\n        \"description\": \"\"\n      }\n    },\n    {\n      \"column\": \"region_southeast\",\n      \"properties\": {\n        \"dtype\": \"number\",\n        \"std\": 0,\n        \"min\": 0,\n        \"max\": 1,\n        \"num_unique_values\": 2,\n        \"samples\": [\n          1,\n          0\n        ],\n        \"semantic_type\": \"\",\n        \"description\": \"\"\n      }\n    },\n    {\n      \"column\": \"region_southwest\",\n      \"properties\": {\n        \"dtype\": \"number\",\n        \"std\": 0,\n        \"min\": 0,\n        \"max\": 1,\n        \"num_unique_values\": 2,\n        \"samples\": [\n          0,\n          1\n        ],\n        \"semantic_type\": \"\",\n        \"description\": \"\"\n      }\n    }\n  ]\n}"
            }
          },
          "metadata": {},
          "execution_count": 179
        }
      ]
    },
    {
      "cell_type": "markdown",
      "source": [
        "Lalu tipe data numerikal yang ada memiliki nilai yang beragam. Contohnya adalah pada kolom `charges` yang memiliki nilai puluhan ribu. Oleh karena itu, perlu dilakukan normalisasi untuk menghindari ketidakseimbangan bobot fitur pada beberapa algoritma tertentu. Untuk membuktikan pengaruh normalisasi terhadap hasil akhir model, percobaan ini akan menggunakan 3 metode yaitu:\n",
        "1. Tanpa normalisasi\n",
        "2. Menggunakan standard scaler\n",
        "3. Menggunakan min max scaler"
      ],
      "metadata": {
        "id": "Y_0S85RgT35C"
      }
    },
    {
      "cell_type": "code",
      "source": [
        "# Tanpa normalisasi\n",
        "df_train_no_norm = df_train.copy()\n",
        "\n",
        "# Menggunakan standard scaler\n",
        "standard_scaler = StandardScaler()\n",
        "df_train_standard = df_train.copy()\n",
        "df_train_standard = pd.DataFrame(standard_scaler.fit_transform(df_train), columns=df_train.columns)\n",
        "\n",
        "# Menggunakan min max scaler\n",
        "min_max_scaler = MinMaxScaler()\n",
        "df_train_minmax = df_train.copy()\n",
        "df_train_minmax = pd.DataFrame(min_max_scaler.fit_transform(df_train), columns=df_train.columns)\n"
      ],
      "metadata": {
        "id": "DqQI0B07T2Iz"
      },
      "execution_count": null,
      "outputs": []
    },
    {
      "cell_type": "markdown",
      "source": [
        "#### Modelling"
      ],
      "metadata": {
        "id": "o6SSqXAih5b7"
      }
    },
    {
      "cell_type": "markdown",
      "source": [
        "##### Menggunakan Data Tanpa Normalisasi"
      ],
      "metadata": {
        "id": "HAk_OlNFcS-7"
      }
    },
    {
      "cell_type": "markdown",
      "source": [
        "Dataset yang ada perlu dibagi menjadi data training dan validation. Kode dibawah membagi data dengan proporsi 80% data training dan 20% data validation, dimana adalah proporsi yang sering dipakai untuk pembagian data training."
      ],
      "metadata": {
        "id": "pdeCdw77y5dT"
      }
    },
    {
      "cell_type": "code",
      "source": [
        "x_train, x_val, y_train, y_val = train_test_split(df_train_no_norm.drop('charges', axis=1), df_train_no_norm['charges'], test_size=0.2, random_state=1)"
      ],
      "metadata": {
        "id": "hm3_bOaxTbfj"
      },
      "execution_count": null,
      "outputs": []
    },
    {
      "cell_type": "markdown",
      "source": [
        "Untuk menyimpan hasil evaluasi setelah training model, dibuat sebuah array `results`."
      ],
      "metadata": {
        "id": "Yg97R-oRdZiU"
      }
    },
    {
      "cell_type": "code",
      "source": [
        "results_no_norm = []"
      ],
      "metadata": {
        "id": "bWm4l6SJZnxB"
      },
      "execution_count": null,
      "outputs": []
    },
    {
      "cell_type": "markdown",
      "source": [
        "###### Linear Regression"
      ],
      "metadata": {
        "id": "bAthUh0pi8m7"
      }
    },
    {
      "cell_type": "code",
      "source": [
        "model = LinearRegression()\n",
        "model.fit(x_train, y_train)\n",
        "\n",
        "y_pred = model.predict(x_val)\n",
        "\n",
        "res = {\n",
        "    'model': 'Linear Regression',\n",
        "    'rmse': np.sqrt(mean_squared_error(y_val, y_pred)),\n",
        "    'mae': mean_absolute_error(y_val, y_pred),\n",
        "    'mape': np.mean(np.abs((y_val - y_pred) / y_val)) * 100,\n",
        "    'r2': r2_score(y_val, y_pred)\n",
        "}\n",
        "\n",
        "results_no_norm.append(res)"
      ],
      "metadata": {
        "id": "NTgjuSk0kmFN"
      },
      "execution_count": null,
      "outputs": []
    },
    {
      "cell_type": "markdown",
      "source": [
        "###### Support Vector Regression (SVR)"
      ],
      "metadata": {
        "id": "70rcqfrsjBOO"
      }
    },
    {
      "cell_type": "code",
      "source": [
        "model = SVR()\n",
        "model.fit(x_train, y_train)\n",
        "\n",
        "y_pred = model.predict(x_val)\n",
        "\n",
        "res = {\n",
        "    'model': 'Support Vector Regression',\n",
        "    'rmse': np.sqrt(mean_squared_error(y_val, y_pred)),\n",
        "    'mae': mean_absolute_error(y_val, y_pred),\n",
        "    'mape': np.mean(np.abs((y_val - y_pred) / y_val)) * 100,\n",
        "    'r2': r2_score(y_val, y_pred)\n",
        "}\n",
        "\n",
        "results_no_norm.append(res)"
      ],
      "metadata": {
        "id": "CnkaF_Afi8Ci"
      },
      "execution_count": null,
      "outputs": []
    },
    {
      "cell_type": "markdown",
      "source": [
        "###### Random Forest Regression"
      ],
      "metadata": {
        "id": "pQh_mPI6jDQu"
      }
    },
    {
      "cell_type": "code",
      "source": [
        "model = RandomForestRegressor(random_state=1)\n",
        "model.fit(x_train, y_train)\n",
        "\n",
        "y_pred = model.predict(x_val)\n",
        "\n",
        "res = {\n",
        "    'model': 'Random Forest Regression',\n",
        "    'rmse': np.sqrt(mean_squared_error(y_val, y_pred)),\n",
        "    'mae': mean_absolute_error(y_val, y_pred),\n",
        "    'mape': np.mean(np.abs((y_val - y_pred) / y_val)) * 100,\n",
        "    'r2': r2_score(y_val, y_pred)\n",
        "}\n",
        "\n",
        "results_no_norm.append(res)"
      ],
      "metadata": {
        "id": "dkYpi-5Gi8Ao"
      },
      "execution_count": null,
      "outputs": []
    },
    {
      "cell_type": "markdown",
      "source": [
        "###### Gradient Boosting"
      ],
      "metadata": {
        "id": "h9BcYDwojGss"
      }
    },
    {
      "cell_type": "code",
      "source": [
        "model = GradientBoostingRegressor(random_state=1)\n",
        "model.fit(x_train, y_train)\n",
        "\n",
        "y_pred = model.predict(x_val)\n",
        "\n",
        "res = {\n",
        "    'model': 'Gradient Boosting Regressor',\n",
        "    'rmse': np.sqrt(mean_squared_error(y_val, y_pred)),\n",
        "    'mae': mean_absolute_error(y_val, y_pred),\n",
        "    'mape': np.mean(np.abs((y_val - y_pred) / y_val)) * 100,\n",
        "    'r2': r2_score(y_val, y_pred)\n",
        "}\n",
        "\n",
        "results_no_norm.append(res)"
      ],
      "metadata": {
        "id": "ykEQDot5i7u2"
      },
      "execution_count": null,
      "outputs": []
    },
    {
      "cell_type": "markdown",
      "source": [
        "##### Menggunakan Data Dengan Standard Scaler"
      ],
      "metadata": {
        "id": "kgT6VDojhx97"
      }
    },
    {
      "cell_type": "markdown",
      "source": [
        "Dataset yang ada perlu dibagi menjadi data training dan validation. Kode dibawah membagi data dengan proporsi 80% data training dan 20% data validation, dimana adalah proporsi yang sering dipakai untuk pembagian data training."
      ],
      "metadata": {
        "id": "qa_k-k14hx-F"
      }
    },
    {
      "cell_type": "code",
      "source": [
        "x_train, x_val, y_train, y_val = train_test_split(df_train_standard.drop('charges', axis=1), df_train_standard['charges'], test_size=0.2, random_state=1)"
      ],
      "metadata": {
        "id": "N8L986GGhx-F"
      },
      "execution_count": null,
      "outputs": []
    },
    {
      "cell_type": "markdown",
      "source": [
        "Untuk menyimpan hasil evaluasi setelah training model, dibuat sebuah array `results`."
      ],
      "metadata": {
        "id": "FWIIA0Qshx-G"
      }
    },
    {
      "cell_type": "code",
      "source": [
        "results_standard = []"
      ],
      "metadata": {
        "id": "mwhg7SSAhx-G"
      },
      "execution_count": null,
      "outputs": []
    },
    {
      "cell_type": "markdown",
      "source": [
        "###### Linear Regression"
      ],
      "metadata": {
        "id": "EwKBf5KDhx-G"
      }
    },
    {
      "cell_type": "code",
      "source": [
        "model = LinearRegression()\n",
        "model.fit(x_train, y_train)\n",
        "\n",
        "y_pred = model.predict(x_val)\n",
        "\n",
        "res = {\n",
        "    'model': 'Linear Regression',\n",
        "    'rmse': np.sqrt(mean_squared_error(y_val, y_pred)),\n",
        "    'mae': mean_absolute_error(y_val, y_pred),\n",
        "    'mape': np.mean(np.abs((y_val - y_pred) / y_val)) * 100,\n",
        "    'r2': r2_score(y_val, y_pred)\n",
        "}\n",
        "\n",
        "results_standard.append(res)"
      ],
      "metadata": {
        "id": "8kc1mLP9hx-G"
      },
      "execution_count": null,
      "outputs": []
    },
    {
      "cell_type": "markdown",
      "source": [
        "###### Support Vector Regression (SVR)"
      ],
      "metadata": {
        "id": "Bc3tUMslhx-G"
      }
    },
    {
      "cell_type": "code",
      "source": [
        "model = SVR()\n",
        "model.fit(x_train, y_train)\n",
        "\n",
        "y_pred = model.predict(x_val)\n",
        "\n",
        "res = {\n",
        "    'model': 'Support Vector Regression',\n",
        "    'rmse': np.sqrt(mean_squared_error(y_val, y_pred)),\n",
        "    'mae': mean_absolute_error(y_val, y_pred),\n",
        "    'mape': np.mean(np.abs((y_val - y_pred) / y_val)) * 100,\n",
        "    'r2': r2_score(y_val, y_pred)\n",
        "}\n",
        "\n",
        "results_standard.append(res)"
      ],
      "metadata": {
        "id": "sfUxPd89hx-G"
      },
      "execution_count": null,
      "outputs": []
    },
    {
      "cell_type": "markdown",
      "source": [
        "###### Random Forest Regression"
      ],
      "metadata": {
        "id": "Wwnkkf9Rhx-G"
      }
    },
    {
      "cell_type": "code",
      "source": [
        "model = RandomForestRegressor(random_state=1)\n",
        "model.fit(x_train, y_train)\n",
        "\n",
        "y_pred = model.predict(x_val)\n",
        "\n",
        "res = {\n",
        "    'model': 'Random Forest Regression',\n",
        "    'rmse': np.sqrt(mean_squared_error(y_val, y_pred)),\n",
        "    'mae': mean_absolute_error(y_val, y_pred),\n",
        "    'mape': np.mean(np.abs((y_val - y_pred) / y_val)) * 100,\n",
        "    'r2': r2_score(y_val, y_pred)\n",
        "}\n",
        "\n",
        "results_standard.append(res)"
      ],
      "metadata": {
        "id": "6DF5rkWWhx-H"
      },
      "execution_count": null,
      "outputs": []
    },
    {
      "cell_type": "markdown",
      "source": [
        "###### Gradient Boosting"
      ],
      "metadata": {
        "id": "X_pjVdkdhx-H"
      }
    },
    {
      "cell_type": "code",
      "source": [
        "model = GradientBoostingRegressor(random_state=1)\n",
        "model.fit(x_train, y_train)\n",
        "\n",
        "y_pred = model.predict(x_val)\n",
        "\n",
        "res = {\n",
        "    'model': 'Gradient Boosting Regressor',\n",
        "    'rmse': np.sqrt(mean_squared_error(y_val, y_pred)),\n",
        "    'mae': mean_absolute_error(y_val, y_pred),\n",
        "    'mape': np.mean(np.abs((y_val - y_pred) / y_val)) * 100,\n",
        "    'r2': r2_score(y_val, y_pred)\n",
        "}\n",
        "\n",
        "results_standard.append(res)"
      ],
      "metadata": {
        "id": "b2ja62I0hx-H"
      },
      "execution_count": null,
      "outputs": []
    },
    {
      "cell_type": "markdown",
      "source": [
        "##### Menggunakan Data Dengan Min Max Scaler"
      ],
      "metadata": {
        "id": "UHx0TzU1iUmX"
      }
    },
    {
      "cell_type": "markdown",
      "source": [
        "Dataset yang ada perlu dibagi menjadi data training dan validation. Kode dibawah membagi data dengan proporsi 80% data training dan 20% data validation, dimana adalah proporsi yang sering dipakai untuk pembagian data training."
      ],
      "metadata": {
        "id": "7Ns9s_FbiUmh"
      }
    },
    {
      "cell_type": "code",
      "source": [
        "x_train, x_val, y_train, y_val = train_test_split(df_train_minmax.drop('charges', axis=1), df_train_minmax['charges'], test_size=0.2, random_state=1)"
      ],
      "metadata": {
        "id": "tjiCBe6viUmi"
      },
      "execution_count": null,
      "outputs": []
    },
    {
      "cell_type": "markdown",
      "source": [
        "Untuk menyimpan hasil evaluasi setelah training model, dibuat sebuah array `results`."
      ],
      "metadata": {
        "id": "4krtqSjPiUmi"
      }
    },
    {
      "cell_type": "code",
      "source": [
        "results_minmax = []"
      ],
      "metadata": {
        "id": "x39S5Yy1iUmi"
      },
      "execution_count": null,
      "outputs": []
    },
    {
      "cell_type": "markdown",
      "source": [
        "###### Linear Regression"
      ],
      "metadata": {
        "id": "aOc2AaPviUmi"
      }
    },
    {
      "cell_type": "code",
      "source": [
        "model = LinearRegression()\n",
        "model.fit(x_train, y_train)\n",
        "\n",
        "y_pred = model.predict(x_val)\n",
        "\n",
        "res = {\n",
        "    'model': 'Linear Regression',\n",
        "    'rmse': np.sqrt(mean_squared_error(y_val, y_pred)),\n",
        "    'mae': mean_absolute_error(y_val, y_pred),\n",
        "    'mape': np.mean(np.abs((y_val - y_pred) / y_val)) * 100,\n",
        "    'r2': r2_score(y_val, y_pred)\n",
        "}\n",
        "\n",
        "results_minmax.append(res)"
      ],
      "metadata": {
        "id": "FETzy1mWiUmi"
      },
      "execution_count": null,
      "outputs": []
    },
    {
      "cell_type": "markdown",
      "source": [
        "###### Support Vector Regression (SVR)"
      ],
      "metadata": {
        "id": "RIhWszHFiUmj"
      }
    },
    {
      "cell_type": "code",
      "source": [
        "model = SVR()\n",
        "model.fit(x_train, y_train)\n",
        "\n",
        "y_pred = model.predict(x_val)\n",
        "\n",
        "res = {\n",
        "    'model': 'Support Vector Regression',\n",
        "    'rmse': np.sqrt(mean_squared_error(y_val, y_pred)),\n",
        "    'mae': mean_absolute_error(y_val, y_pred),\n",
        "    'mape': np.mean(np.abs((y_val - y_pred) / y_val)) * 100,\n",
        "    'r2': r2_score(y_val, y_pred)\n",
        "}\n",
        "\n",
        "results_minmax.append(res)"
      ],
      "metadata": {
        "id": "XuxPCAWmiUmj"
      },
      "execution_count": null,
      "outputs": []
    },
    {
      "cell_type": "markdown",
      "source": [
        "###### Random Forest Regression"
      ],
      "metadata": {
        "id": "z8posOyjiUmj"
      }
    },
    {
      "cell_type": "code",
      "source": [
        "model = RandomForestRegressor(random_state=1)\n",
        "model.fit(x_train, y_train)\n",
        "\n",
        "y_pred = model.predict(x_val)\n",
        "\n",
        "res = {\n",
        "    'model': 'Random Forest Regression',\n",
        "    'rmse': np.sqrt(mean_squared_error(y_val, y_pred)),\n",
        "    'mae': mean_absolute_error(y_val, y_pred),\n",
        "    'mape': np.mean(np.abs((y_val - y_pred) / y_val)) * 100,\n",
        "    'r2': r2_score(y_val, y_pred)\n",
        "}\n",
        "\n",
        "results_minmax.append(res)"
      ],
      "metadata": {
        "id": "_4Bhn_K6iUmj"
      },
      "execution_count": null,
      "outputs": []
    },
    {
      "cell_type": "markdown",
      "source": [
        "###### Gradient Boosting"
      ],
      "metadata": {
        "id": "fH3jlhEciUmj"
      }
    },
    {
      "cell_type": "code",
      "source": [
        "model = GradientBoostingRegressor(random_state=1)\n",
        "model.fit(x_train, y_train)\n",
        "\n",
        "y_pred = model.predict(x_val)\n",
        "\n",
        "res = {\n",
        "    'model': 'Gradient Boosting Regressor',\n",
        "    'rmse': np.sqrt(mean_squared_error(y_val, y_pred)),\n",
        "    'mae': mean_absolute_error(y_val, y_pred),\n",
        "    'mape': np.mean(np.abs((y_val - y_pred) / y_val)) * 100,\n",
        "    'r2': r2_score(y_val, y_pred)\n",
        "}\n",
        "\n",
        "results_minmax.append(res)"
      ],
      "metadata": {
        "id": "I9zWsnXdiUmk"
      },
      "execution_count": null,
      "outputs": []
    },
    {
      "cell_type": "markdown",
      "source": [
        "#### Evaluation"
      ],
      "metadata": {
        "id": "xNUK5Kqvh64p"
      }
    },
    {
      "cell_type": "markdown",
      "source": [
        "Hasil evaluasi menggunakan data tanpa normalisasi"
      ],
      "metadata": {
        "id": "BaQhPFhPhYIX"
      }
    },
    {
      "cell_type": "code",
      "source": [
        "for res in results_no_norm:\n",
        "    print(f\"{res['model']}\")\n",
        "    print(f\"RMSE: {res['rmse']}\")\n",
        "    print(f\"MAE: {res['mae']}\")\n",
        "    print(f\"MAPE: {res['mape']}\")\n",
        "    print(f\"R2: {res['r2']}\")\n",
        "    print(\"\")"
      ],
      "metadata": {
        "id": "H4OAbsvl2KHT",
        "colab": {
          "base_uri": "https://localhost:8080/"
        },
        "outputId": "754abfee-4275-4bf2-f869-69bfed00f6bf"
      },
      "execution_count": null,
      "outputs": [
        {
          "output_type": "stream",
          "name": "stdout",
          "text": [
            "Linear Regression\n",
            "RMSE: 5956.454717976427\n",
            "MAE: 4051.858766747045\n",
            "MAPE: 40.58073086862241\n",
            "R2: 0.7623311844057112\n",
            "\n",
            "Support Vector Regression\n",
            "RMSE: 12905.747941464324\n",
            "MAE: 8286.000543431963\n",
            "MAPE: 104.10896739337853\n",
            "R2: -0.11573965896431782\n",
            "\n",
            "Random Forest Regression\n",
            "RMSE: 4656.874987828774\n",
            "MAE: 2590.2428130989915\n",
            "MAPE: 29.657152365915056\n",
            "R2: 0.8547267434752479\n",
            "\n",
            "Gradient Boosting Regressor\n",
            "RMSE: 4297.796316822013\n",
            "MAE: 2317.7000184561143\n",
            "MAPE: 26.17175837687097\n",
            "R2: 0.8762662510749838\n",
            "\n"
          ]
        }
      ]
    },
    {
      "cell_type": "markdown",
      "source": [
        "Hasil evaluasi menggunakan data dengan standard scaler"
      ],
      "metadata": {
        "id": "kBDnjO1jhe8H"
      }
    },
    {
      "cell_type": "code",
      "source": [
        "for res in results_standard:\n",
        "    print(f\"{res['model']}\")\n",
        "    print(f\"RMSE: {res['rmse']}\")\n",
        "    print(f\"MAE: {res['mae']}\")\n",
        "    print(f\"MAPE: {res['mape']}\")\n",
        "    print(f\"R2: {res['r2']}\")\n",
        "    print(\"\")"
      ],
      "metadata": {
        "colab": {
          "base_uri": "https://localhost:8080/"
        },
        "id": "f5UZRVzghran",
        "outputId": "0402f7f7-5ac8-4e8c-db21-519614e48e2e"
      },
      "execution_count": null,
      "outputs": [
        {
          "output_type": "stream",
          "name": "stdout",
          "text": [
            "Linear Regression\n",
            "RMSE: 0.4923524980067462\n",
            "MAE: 0.335588467610322\n",
            "MAPE: 90.56008815063475\n",
            "R2: 0.7620349425988882\n",
            "\n",
            "Support Vector Regression\n",
            "RMSE: 0.37762066331147315\n",
            "MAE: 0.20184312608498634\n",
            "MAPE: 59.277975978541605\n",
            "R2: 0.8600179335439141\n",
            "\n",
            "Random Forest Regression\n",
            "RMSE: 0.38318816593054106\n",
            "MAE: 0.2133432546155111\n",
            "MAPE: 75.41232848790406\n",
            "R2: 0.855859814938957\n",
            "\n",
            "Gradient Boosting Regressor\n",
            "RMSE: 0.35741472924185874\n",
            "MAE: 0.19355534823266016\n",
            "MAPE: 77.31555079717423\n",
            "R2: 0.874597616553429\n",
            "\n"
          ]
        }
      ]
    },
    {
      "cell_type": "markdown",
      "source": [
        "Hasil evaluasi menggunakan data dengan min max scaler"
      ],
      "metadata": {
        "id": "oukt_7N6hhqm"
      }
    },
    {
      "cell_type": "code",
      "source": [
        "for res in results_minmax:\n",
        "    print(f\"{res['model']}\")\n",
        "    print(f\"RMSE: {res['rmse']}\")\n",
        "    print(f\"MAE: {res['mae']}\")\n",
        "    print(f\"MAPE: {res['mape']}\")\n",
        "    print(f\"R2: {res['r2']}\")\n",
        "    print(\"\")"
      ],
      "metadata": {
        "colab": {
          "base_uri": "https://localhost:8080/"
        },
        "id": "ZlwNDWrMhr-U",
        "outputId": "56032ad5-af45-4583-c2d7-ea77ad342c4c"
      },
      "execution_count": null,
      "outputs": [
        {
          "output_type": "stream",
          "name": "stdout",
          "text": [
            "Linear Regression\n",
            "RMSE: 0.09508537517724916\n",
            "MAE: 0.06443517007577122\n",
            "MAPE: 215.02279603837331\n",
            "R2: 0.7622907586199532\n",
            "\n",
            "Support Vector Regression\n",
            "RMSE: 0.10359561866095363\n",
            "MAE: 0.09693402979792147\n",
            "MAPE: 593.3339372063707\n",
            "R2: 0.7178361361186396\n",
            "\n",
            "Random Forest Regression\n",
            "RMSE: 0.07433459613278368\n",
            "MAE: 0.04146937485997806\n",
            "MAPE: 102.43107789749762\n",
            "R2: 0.8547217533950492\n",
            "\n",
            "Gradient Boosting Regressor\n",
            "RMSE: 0.0690832726760067\n",
            "MAE: 0.037468540023043236\n",
            "MAPE: 107.05331982231425\n",
            "R2: 0.8745229142325249\n",
            "\n"
          ]
        }
      ]
    },
    {
      "cell_type": "markdown",
      "source": [
        "Dengan melihat hasil diatas, dapat disimpulkan bahwa algoritma Gradient Boosting cenderung memiliki hasil yang lebih baik. Dengan melihat skor R2 dari masing-masing perlakuan data, Skor R2 Gradient Boosting pada data yang tidak dinormalisasi bernilai paling tinggi yaitu 0.8762662510749838.\n",
        "\n",
        "Perlu diingat bahwa tidak semua metrik evaluasi dapat dipakai untuk tiap skenario. Contohnya adalah MAPE yang digunakan diatas. Dapat dilihat bahwa untuk data yang dinormalisasi, MAPE nya melonjak tinggi. Hal ini dikarenakan MAPE tidak cocok digunakan untuk data yang memiliki nilai mendekati 0."
      ],
      "metadata": {
        "id": "vo1TFMBoKxyL"
      }
    },
    {
      "cell_type": "markdown",
      "source": [
        "#### Feature Selection"
      ],
      "metadata": {
        "id": "XLARcEt6js8v"
      }
    },
    {
      "cell_type": "markdown",
      "source": [
        "Kita dapat mengembangkan lagi modelnya dengan melakukan feature selection. Dengan mengurangi fitur yang tidak penting, model dapat lebih berfokus kepada fitur yang paling berpengaruh terhadap keputusan dan harapannya akan menghasilkan model yang lebih baik. Untuk penjelasan lebih lengkap mengenai feature selection dapat dilihat pada [halaman ini](https://www.stratascratch.com/blog/feature-selection-techniques-in-machine-learning/).\n",
        "\n",
        "Metode yang akan dipakai kali ini adalah menggunakan random forest importance untuk menentukan peringkat dari kepentingan fitur pada model."
      ],
      "metadata": {
        "id": "NStUQTzHL1dK"
      }
    },
    {
      "cell_type": "code",
      "source": [
        "x_train, x_val, y_train, y_val = train_test_split(df_train.drop('charges', axis=1), df_train_no_norm['charges'], test_size=0.2, random_state=1)\n",
        "model = RandomForestRegressor(n_estimators=100, random_state=1)\n",
        "model.fit(x_train, y_train)\n",
        "\n",
        "importance = model.feature_importances_\n",
        "indices = np.argsort(importance)[::-1]\n",
        "\n",
        "features = [\n",
        "    'age',\n",
        "    'bmi',\n",
        "    'children',\n",
        "    'sex',\n",
        "    'smoker',\n",
        "    'region_northeast',\n",
        "    'region_northwest',\n",
        "    'region_southeast',\n",
        "    'region_southwest'\n",
        "]\n",
        "\n",
        "print(\"Peringkat Feature Importance:\")\n",
        "for f in range(x_train.shape[1]):\n",
        "    print(f\"{f + 1}. {features[f]} ({importance[indices[f]]})\")"
      ],
      "metadata": {
        "colab": {
          "base_uri": "https://localhost:8080/"
        },
        "id": "si8OrpMxNWqR",
        "outputId": "f0574d06-842f-4437-b4a6-07d777b413b3"
      },
      "execution_count": null,
      "outputs": [
        {
          "output_type": "stream",
          "name": "stdout",
          "text": [
            "Peringkat Feature Importance:\n",
            "1. age (0.617874253545548)\n",
            "2. bmi (0.20585199543839577)\n",
            "3. children (0.1320319605587582)\n",
            "4. sex (0.018956330368287238)\n",
            "5. smoker (0.006399187030984094)\n",
            "6. region_northeast (0.006184488832321538)\n",
            "7. region_northwest (0.005241796569356769)\n",
            "8. region_southeast (0.0038911441511813114)\n",
            "9. region_southwest (0.0035688435051670067)\n"
          ]
        }
      ]
    },
    {
      "cell_type": "markdown",
      "source": [
        "Bisa dilihat bahwa beberapa fitur seperti `smoker` dan fitur region dinilai tidak terlalu penting oleh metode ini. Kemudian kita juga dapat menilai feature importance dengan melihat nilai korelasi antar fitur menggunakan heatmap."
      ],
      "metadata": {
        "id": "f-qeqpZlOgkT"
      }
    },
    {
      "cell_type": "code",
      "source": [
        "corr_matrix = df_train.corr()\n",
        "\n",
        "plt.figure(figsize=(10, 8))\n",
        "sns.heatmap(corr_matrix, annot=True, cmap='coolwarm', fmt='.2f', linewidths=0.5)\n",
        "plt.title('Correlation Heatmap')\n",
        "plt.show()"
      ],
      "metadata": {
        "colab": {
          "base_uri": "https://localhost:8080/",
          "height": 579
        },
        "id": "eNiK9EOTjy-W",
        "outputId": "f3e313d2-aa5a-42b0-c028-4d3f3bea0b3b"
      },
      "execution_count": null,
      "outputs": [
        {
          "output_type": "display_data",
          "data": {
            "text/plain": [
              "<Figure size 1000x800 with 2 Axes>"
            ],
            "image/png": "[encoded data removed]"
          },
          "metadata": {}
        }
      ]
    },
    {
      "cell_type": "markdown",
      "source": [
        "Bisa dilihat dari heatmap bahwa ternyata merokok atau tidaknya seseorang memiliki korelasi kuat dengan biaya kesehatan. Oleh karena itu meskipun fitur `smoker` dinilai tidak memiliki nilai hubungan yang tinggi pada metode sebelumnya, kita dapat melihat dari korelasi bahwa orang orang perokok cenderung memiliki biaya kesehatan yang tinggi.\n",
        "\n",
        "Maka dari itu, dapat disimpulkan bahwa fitur region aman untuk di drop. Kita dapat melihat hasilnya dibawah."
      ],
      "metadata": {
        "id": "mQDVtfHKPP_-"
      }
    },
    {
      "cell_type": "markdown",
      "source": [
        "#### Remodelling"
      ],
      "metadata": {
        "id": "GAY6rox4Q65B"
      }
    },
    {
      "cell_type": "code",
      "source": [
        "features_to_drop = [\n",
        "    'region_northwest',\n",
        "    'region_southeast',\n",
        "    'region_southwest',\n",
        "    'region_northeast',\n",
        "]\n",
        "\n",
        "df_train.drop(features_to_drop, axis=1, inplace=True)"
      ],
      "metadata": {
        "id": "LTe3diuORsWW"
      },
      "execution_count": null,
      "outputs": []
    },
    {
      "cell_type": "code",
      "source": [
        "# Tanpa normalisasi\n",
        "df_train_no_norm = df_train.copy()\n",
        "\n",
        "# Menggunakan standard scaler\n",
        "standard_scaler = StandardScaler()\n",
        "df_train_standard = df_train.copy()\n",
        "df_train_standard = pd.DataFrame(standard_scaler.fit_transform(df_train), columns=df_train.columns)\n",
        "\n",
        "# Menggunakan min max scaler\n",
        "min_max_scaler = MinMaxScaler()\n",
        "df_train_minmax = df_train.copy()\n",
        "df_train_minmax = pd.DataFrame(min_max_scaler.fit_transform(df_train), columns=df_train.columns)"
      ],
      "metadata": {
        "id": "7TII9wHlRkLb"
      },
      "execution_count": null,
      "outputs": []
    },
    {
      "cell_type": "markdown",
      "source": [
        "##### Menggunakan Data Tanpa Normalisasi"
      ],
      "metadata": {
        "id": "o4IkZ_TeQ65H"
      }
    },
    {
      "cell_type": "markdown",
      "source": [
        "Dataset yang ada perlu dibagi menjadi data training dan validation. Kode dibawah membagi data dengan proporsi 80% data training dan 20% data validation, dimana adalah proporsi yang sering dipakai untuk pembagian data training."
      ],
      "metadata": {
        "id": "3y6kpAKlQ65H"
      }
    },
    {
      "cell_type": "code",
      "source": [
        "x_train, x_val, y_train, y_val = train_test_split(df_train_no_norm.drop('charges', axis=1), df_train_no_norm['charges'], test_size=0.2, random_state=1)"
      ],
      "metadata": {
        "id": "29VSy5KJQ65H"
      },
      "execution_count": null,
      "outputs": []
    },
    {
      "cell_type": "markdown",
      "source": [
        "Untuk menyimpan hasil evaluasi setelah training model, dibuat sebuah array `results`."
      ],
      "metadata": {
        "id": "aItSP9EwQ65H"
      }
    },
    {
      "cell_type": "code",
      "source": [
        "results_no_norm = []"
      ],
      "metadata": {
        "id": "_igbnV4wQ65H"
      },
      "execution_count": null,
      "outputs": []
    },
    {
      "cell_type": "markdown",
      "source": [
        "###### Linear Regression"
      ],
      "metadata": {
        "id": "tHbI7W3YQ65H"
      }
    },
    {
      "cell_type": "code",
      "source": [
        "model = LinearRegression()\n",
        "model.fit(x_train, y_train)\n",
        "\n",
        "y_pred = model.predict(x_val)\n",
        "\n",
        "res = {\n",
        "    'model': 'Linear Regression',\n",
        "    'rmse': np.sqrt(mean_squared_error(y_val, y_pred)),\n",
        "    'mae': mean_absolute_error(y_val, y_pred),\n",
        "    'mape': np.mean(np.abs((y_val - y_pred) / y_val)) * 100,\n",
        "    'r2': r2_score(y_val, y_pred)\n",
        "}\n",
        "\n",
        "results_no_norm.append(res)"
      ],
      "metadata": {
        "id": "oCxs7V2dQ65H"
      },
      "execution_count": null,
      "outputs": []
    },
    {
      "cell_type": "markdown",
      "source": [
        "###### Support Vector Regression (SVR)"
      ],
      "metadata": {
        "id": "h6MN6g2PQ65H"
      }
    },
    {
      "cell_type": "code",
      "source": [
        "model = SVR()\n",
        "model.fit(x_train, y_train)\n",
        "\n",
        "y_pred = model.predict(x_val)\n",
        "\n",
        "res = {\n",
        "    'model': 'Support Vector Regression',\n",
        "    'rmse': np.sqrt(mean_squared_error(y_val, y_pred)),\n",
        "    'mae': mean_absolute_error(y_val, y_pred),\n",
        "    'mape': np.mean(np.abs((y_val - y_pred) / y_val)) * 100,\n",
        "    'r2': r2_score(y_val, y_pred)\n",
        "}\n",
        "\n",
        "results_no_norm.append(res)"
      ],
      "metadata": {
        "id": "qbcF-13YQ65H"
      },
      "execution_count": null,
      "outputs": []
    },
    {
      "cell_type": "markdown",
      "source": [
        "###### Random Forest Regression"
      ],
      "metadata": {
        "id": "D91Mmsd4Q65H"
      }
    },
    {
      "cell_type": "code",
      "source": [
        "model = RandomForestRegressor(random_state=1)\n",
        "model.fit(x_train, y_train)\n",
        "\n",
        "y_pred = model.predict(x_val)\n",
        "\n",
        "res = {\n",
        "    'model': 'Random Forest Regression',\n",
        "    'rmse': np.sqrt(mean_squared_error(y_val, y_pred)),\n",
        "    'mae': mean_absolute_error(y_val, y_pred),\n",
        "    'mape': np.mean(np.abs((y_val - y_pred) / y_val)) * 100,\n",
        "    'r2': r2_score(y_val, y_pred)\n",
        "}\n",
        "\n",
        "results_no_norm.append(res)"
      ],
      "metadata": {
        "id": "GDRI-XAAQ65I"
      },
      "execution_count": null,
      "outputs": []
    },
    {
      "cell_type": "markdown",
      "source": [
        "###### Gradient Boosting"
      ],
      "metadata": {
        "id": "DLBYn6CSQ65I"
      }
    },
    {
      "cell_type": "code",
      "source": [
        "model = GradientBoostingRegressor(random_state=1)\n",
        "model.fit(x_train, y_train)\n",
        "\n",
        "y_pred = model.predict(x_val)\n",
        "\n",
        "res = {\n",
        "    'model': 'Gradient Boosting Regressor',\n",
        "    'rmse': np.sqrt(mean_squared_error(y_val, y_pred)),\n",
        "    'mae': mean_absolute_error(y_val, y_pred),\n",
        "    'mape': np.mean(np.abs((y_val - y_pred) / y_val)) * 100,\n",
        "    'r2': r2_score(y_val, y_pred)\n",
        "}\n",
        "\n",
        "results_no_norm.append(res)"
      ],
      "metadata": {
        "id": "rsun6qkzQ65I"
      },
      "execution_count": null,
      "outputs": []
    },
    {
      "cell_type": "markdown",
      "source": [
        "##### Menggunakan Data Dengan Standard Scaler"
      ],
      "metadata": {
        "id": "HIHXOn7rQ65I"
      }
    },
    {
      "cell_type": "markdown",
      "source": [
        "Dataset yang ada perlu dibagi menjadi data training dan validation. Kode dibawah membagi data dengan proporsi 80% data training dan 20% data validation, dimana adalah proporsi yang sering dipakai untuk pembagian data training."
      ],
      "metadata": {
        "id": "7FGSfY6EQ65I"
      }
    },
    {
      "cell_type": "code",
      "source": [
        "x_train, x_val, y_train, y_val = train_test_split(df_train_standard.drop('charges', axis=1), df_train_standard['charges'], test_size=0.2, random_state=1)"
      ],
      "metadata": {
        "id": "johiT4-MQ65I"
      },
      "execution_count": null,
      "outputs": []
    },
    {
      "cell_type": "markdown",
      "source": [
        "Untuk menyimpan hasil evaluasi setelah training model, dibuat sebuah array `results`."
      ],
      "metadata": {
        "id": "ELWNbmm-Q65I"
      }
    },
    {
      "cell_type": "code",
      "source": [
        "results_standard = []"
      ],
      "metadata": {
        "id": "38fGkW2pQ65I"
      },
      "execution_count": null,
      "outputs": []
    },
    {
      "cell_type": "markdown",
      "source": [
        "###### Linear Regression"
      ],
      "metadata": {
        "id": "EkwAMEkwQ65I"
      }
    },
    {
      "cell_type": "code",
      "source": [
        "model = LinearRegression()\n",
        "model.fit(x_train, y_train)\n",
        "\n",
        "y_pred = model.predict(x_val)\n",
        "\n",
        "res = {\n",
        "    'model': 'Linear Regression',\n",
        "    'rmse': np.sqrt(mean_squared_error(y_val, y_pred)),\n",
        "    'mae': mean_absolute_error(y_val, y_pred),\n",
        "    'mape': np.mean(np.abs((y_val - y_pred) / y_val)) * 100,\n",
        "    'r2': r2_score(y_val, y_pred)\n",
        "}\n",
        "\n",
        "results_standard.append(res)"
      ],
      "metadata": {
        "id": "7iOiT4csQ65I"
      },
      "execution_count": null,
      "outputs": []
    },
    {
      "cell_type": "markdown",
      "source": [
        "###### Support Vector Regression (SVR)"
      ],
      "metadata": {
        "id": "S3tbgcPUQ65I"
      }
    },
    {
      "cell_type": "code",
      "source": [
        "model = SVR()\n",
        "model.fit(x_train, y_train)\n",
        "\n",
        "y_pred = model.predict(x_val)\n",
        "\n",
        "res = {\n",
        "    'model': 'Support Vector Regression',\n",
        "    'rmse': np.sqrt(mean_squared_error(y_val, y_pred)),\n",
        "    'mae': mean_absolute_error(y_val, y_pred),\n",
        "    'mape': np.mean(np.abs((y_val - y_pred) / y_val)) * 100,\n",
        "    'r2': r2_score(y_val, y_pred)\n",
        "}\n",
        "\n",
        "results_standard.append(res)"
      ],
      "metadata": {
        "id": "SGf4Rvb9Q65I"
      },
      "execution_count": null,
      "outputs": []
    },
    {
      "cell_type": "markdown",
      "source": [
        "###### Random Forest Regression"
      ],
      "metadata": {
        "id": "L-HlGTlsQ65I"
      }
    },
    {
      "cell_type": "code",
      "source": [
        "model = RandomForestRegressor(random_state=1)\n",
        "model.fit(x_train, y_train)\n",
        "\n",
        "y_pred = model.predict(x_val)\n",
        "\n",
        "res = {\n",
        "    'model': 'Random Forest Regression',\n",
        "    'rmse': np.sqrt(mean_squared_error(y_val, y_pred)),\n",
        "    'mae': mean_absolute_error(y_val, y_pred),\n",
        "    'mape': np.mean(np.abs((y_val - y_pred) / y_val)) * 100,\n",
        "    'r2': r2_score(y_val, y_pred)\n",
        "}\n",
        "\n",
        "results_standard.append(res)"
      ],
      "metadata": {
        "id": "MCET4JeEQ65J"
      },
      "execution_count": null,
      "outputs": []
    },
    {
      "cell_type": "markdown",
      "source": [
        "###### Gradient Boosting"
      ],
      "metadata": {
        "id": "gKe6D1oEQ65J"
      }
    },
    {
      "cell_type": "code",
      "source": [
        "model = GradientBoostingRegressor(random_state=1)\n",
        "model.fit(x_train, y_train)\n",
        "\n",
        "y_pred = model.predict(x_val)\n",
        "\n",
        "res = {\n",
        "    'model': 'Gradient Boosting Regressor',\n",
        "    'rmse': np.sqrt(mean_squared_error(y_val, y_pred)),\n",
        "    'mae': mean_absolute_error(y_val, y_pred),\n",
        "    'mape': np.mean(np.abs((y_val - y_pred) / y_val)) * 100,\n",
        "    'r2': r2_score(y_val, y_pred)\n",
        "}\n",
        "\n",
        "results_standard.append(res)"
      ],
      "metadata": {
        "id": "h1bG_WS-Q65J"
      },
      "execution_count": null,
      "outputs": []
    },
    {
      "cell_type": "markdown",
      "source": [
        "##### Menggunakan Data Dengan Min Max Scaler"
      ],
      "metadata": {
        "id": "i2rtues6Q65J"
      }
    },
    {
      "cell_type": "markdown",
      "source": [
        "Dataset yang ada perlu dibagi menjadi data training dan validation. Kode dibawah membagi data dengan proporsi 80% data training dan 20% data validation, dimana adalah proporsi yang sering dipakai untuk pembagian data training."
      ],
      "metadata": {
        "id": "Uo_vnAL-Q65J"
      }
    },
    {
      "cell_type": "code",
      "source": [
        "x_train, x_val, y_train, y_val = train_test_split(df_train_minmax.drop('charges', axis=1), df_train_minmax['charges'], test_size=0.2, random_state=1)"
      ],
      "metadata": {
        "id": "FPkagJ-fQ65J"
      },
      "execution_count": null,
      "outputs": []
    },
    {
      "cell_type": "markdown",
      "source": [
        "Untuk menyimpan hasil evaluasi setelah training model, dibuat sebuah array `results`."
      ],
      "metadata": {
        "id": "WJc47oE4Q65J"
      }
    },
    {
      "cell_type": "code",
      "source": [
        "results_minmax = []"
      ],
      "metadata": {
        "id": "vLa9uaLHQ65J"
      },
      "execution_count": null,
      "outputs": []
    },
    {
      "cell_type": "markdown",
      "source": [
        "###### Linear Regression"
      ],
      "metadata": {
        "id": "s-5kjA1EQ65J"
      }
    },
    {
      "cell_type": "code",
      "source": [
        "model = LinearRegression()\n",
        "model.fit(x_train, y_train)\n",
        "\n",
        "y_pred = model.predict(x_val)\n",
        "\n",
        "res = {\n",
        "    'model': 'Linear Regression',\n",
        "    'rmse': np.sqrt(mean_squared_error(y_val, y_pred)),\n",
        "    'mae': mean_absolute_error(y_val, y_pred),\n",
        "    'mape': np.mean(np.abs((y_val - y_pred) / y_val)) * 100,\n",
        "    'r2': r2_score(y_val, y_pred)\n",
        "}\n",
        "\n",
        "results_minmax.append(res)"
      ],
      "metadata": {
        "id": "dZg4CeHoQ65J"
      },
      "execution_count": null,
      "outputs": []
    },
    {
      "cell_type": "markdown",
      "source": [
        "###### Support Vector Regression (SVR)"
      ],
      "metadata": {
        "id": "51mbFOsFQ65J"
      }
    },
    {
      "cell_type": "code",
      "source": [
        "model = SVR()\n",
        "model.fit(x_train, y_train)\n",
        "\n",
        "y_pred = model.predict(x_val)\n",
        "\n",
        "res = {\n",
        "    'model': 'Support Vector Regression',\n",
        "    'rmse': np.sqrt(mean_squared_error(y_val, y_pred)),\n",
        "    'mae': mean_absolute_error(y_val, y_pred),\n",
        "    'mape': np.mean(np.abs((y_val - y_pred) / y_val)) * 100,\n",
        "    'r2': r2_score(y_val, y_pred)\n",
        "}\n",
        "\n",
        "results_minmax.append(res)"
      ],
      "metadata": {
        "id": "Q9zbZX4rQ65J"
      },
      "execution_count": null,
      "outputs": []
    },
    {
      "cell_type": "markdown",
      "source": [
        "###### Random Forest Regression"
      ],
      "metadata": {
        "id": "Qxeu-nG_Q65J"
      }
    },
    {
      "cell_type": "code",
      "source": [
        "model = RandomForestRegressor(random_state=1)\n",
        "model.fit(x_train, y_train)\n",
        "\n",
        "y_pred = model.predict(x_val)\n",
        "\n",
        "res = {\n",
        "    'model': 'Random Forest Regression',\n",
        "    'rmse': np.sqrt(mean_squared_error(y_val, y_pred)),\n",
        "    'mae': mean_absolute_error(y_val, y_pred),\n",
        "    'mape': np.mean(np.abs((y_val - y_pred) / y_val)) * 100,\n",
        "    'r2': r2_score(y_val, y_pred)\n",
        "}\n",
        "\n",
        "results_minmax.append(res)"
      ],
      "metadata": {
        "id": "W9xfQbeIQ65K"
      },
      "execution_count": null,
      "outputs": []
    },
    {
      "cell_type": "markdown",
      "source": [
        "###### Gradient Boosting"
      ],
      "metadata": {
        "id": "7Q51U8_jQ65K"
      }
    },
    {
      "cell_type": "code",
      "source": [
        "model = GradientBoostingRegressor(random_state=1)\n",
        "model.fit(x_train, y_train)\n",
        "\n",
        "y_pred = model.predict(x_val)\n",
        "\n",
        "res = {\n",
        "    'model': 'Gradient Boosting Regressor',\n",
        "    'rmse': np.sqrt(mean_squared_error(y_val, y_pred)),\n",
        "    'mae': mean_absolute_error(y_val, y_pred),\n",
        "    'mape': np.mean(np.abs((y_val - y_pred) / y_val)) * 100,\n",
        "    'r2': r2_score(y_val, y_pred)\n",
        "}\n",
        "\n",
        "results_minmax.append(res)"
      ],
      "metadata": {
        "id": "xLUhxoRIQ65K"
      },
      "execution_count": null,
      "outputs": []
    },
    {
      "cell_type": "markdown",
      "source": [
        "#### Evaluation"
      ],
      "metadata": {
        "id": "F1xx2_7nSBsf"
      }
    },
    {
      "cell_type": "markdown",
      "source": [
        "Hasil evaluasi menggunakan data tanpa normalisasi"
      ],
      "metadata": {
        "id": "LEN9xed_SBsl"
      }
    },
    {
      "cell_type": "code",
      "source": [
        "for res in results_no_norm:\n",
        "    print(f\"{res['model']}\")\n",
        "    print(f\"RMSE: {res['rmse']}\")\n",
        "    print(f\"MAE: {res['mae']}\")\n",
        "    print(f\"MAPE: {res['mape']}\")\n",
        "    print(f\"R2: {res['r2']}\")\n",
        "    print(\"\")"
      ],
      "metadata": {
        "colab": {
          "base_uri": "https://localhost:8080/"
        },
        "outputId": "c1a5a9a8-9642-46ec-f64a-d01c2e3bc3fe",
        "id": "djoQAtnESBsl"
      },
      "execution_count": null,
      "outputs": [
        {
          "output_type": "stream",
          "name": "stdout",
          "text": [
            "Linear Regression\n",
            "RMSE: 5974.884482775809\n",
            "MAE: 4037.952220017389\n",
            "MAPE: 40.66306253883092\n",
            "R2: 0.760858175073853\n",
            "\n",
            "Support Vector Regression\n",
            "RMSE: 12905.859076839222\n",
            "MAE: 8279.77156398549\n",
            "MAPE: 103.81616447923683\n",
            "R2: -0.11575887500351878\n",
            "\n",
            "Random Forest Regression\n",
            "RMSE: 4830.975896340594\n",
            "MAE: 2734.841527347836\n",
            "MAPE: 30.88411278185557\n",
            "R2: 0.8436613872236113\n",
            "\n",
            "Gradient Boosting Regressor\n",
            "RMSE: 4307.936658699544\n",
            "MAE: 2331.0043143920234\n",
            "MAPE: 27.223446099305455\n",
            "R2: 0.8756816804655169\n",
            "\n"
          ]
        }
      ]
    },
    {
      "cell_type": "markdown",
      "source": [
        "Hasil evaluasi menggunakan data dengan standard scaler"
      ],
      "metadata": {
        "id": "pDLC2pE_SBsl"
      }
    },
    {
      "cell_type": "code",
      "source": [
        "for res in results_standard:\n",
        "    print(f\"{res['model']}\")\n",
        "    print(f\"RMSE: {res['rmse']}\")\n",
        "    print(f\"MAE: {res['mae']}\")\n",
        "    print(f\"MAPE: {res['mape']}\")\n",
        "    print(f\"R2: {res['r2']}\")\n",
        "    print(\"\")"
      ],
      "metadata": {
        "colab": {
          "base_uri": "https://localhost:8080/"
        },
        "outputId": "ceffd02e-9381-4575-e7ee-a1014c472c75",
        "id": "UOSToOqASBsl"
      },
      "execution_count": null,
      "outputs": [
        {
          "output_type": "stream",
          "name": "stdout",
          "text": [
            "Linear Regression\n",
            "RMSE: 0.4935683696140902\n",
            "MAE: 0.33356385375465364\n",
            "MAPE: 86.84120993327171\n",
            "R2: 0.7608581750738531\n",
            "\n",
            "Support Vector Regression\n",
            "RMSE: 0.368660283211428\n",
            "MAE: 0.19034999667434302\n",
            "MAPE: 52.030338956117696\n",
            "R2: 0.8665822526577196\n",
            "\n",
            "Random Forest Regression\n",
            "RMSE: 0.3931480848126247\n",
            "MAE: 0.22274510716131468\n",
            "MAPE: 77.16664432490128\n",
            "R2: 0.8482693816777147\n",
            "\n",
            "Gradient Boosting Regressor\n",
            "RMSE: 0.3589655519285008\n",
            "MAE: 0.19546138620641576\n",
            "MAPE: 78.34631585317914\n",
            "R2: 0.8735070136047496\n",
            "\n"
          ]
        }
      ]
    },
    {
      "cell_type": "markdown",
      "source": [
        "Hasil evaluasi menggunakan data dengan min max scaler"
      ],
      "metadata": {
        "id": "nb8SPq88SBsl"
      }
    },
    {
      "cell_type": "code",
      "source": [
        "for res in results_minmax:\n",
        "    print(f\"{res['model']}\")\n",
        "    print(f\"RMSE: {res['rmse']}\")\n",
        "    print(f\"MAE: {res['mae']}\")\n",
        "    print(f\"MAPE: {res['mape']}\")\n",
        "    print(f\"R2: {res['r2']}\")\n",
        "    print(\"\")"
      ],
      "metadata": {
        "colab": {
          "base_uri": "https://localhost:8080/"
        },
        "outputId": "253f1baa-ba98-48ff-e3a7-111b983a178b",
        "id": "AoSqIQOISBsl"
      },
      "execution_count": null,
      "outputs": [
        {
          "output_type": "stream",
          "name": "stdout",
          "text": [
            "Linear Regression\n",
            "RMSE: 0.09537146655108665\n",
            "MAE: 0.06445403692681312\n",
            "MAPE: 241.3251518469548\n",
            "R2: 0.7608581750738531\n",
            "\n",
            "Support Vector Regression\n",
            "RMSE: 0.09978455676406321\n",
            "MAE: 0.09258103685849764\n",
            "MAPE: 587.2068256244065\n",
            "R2: 0.738214684141425\n",
            "\n",
            "Random Forest Regression\n",
            "RMSE: 0.07734520059974907\n",
            "MAE: 0.0438568989293056\n",
            "MAPE: 107.7420082941132\n",
            "R2: 0.8427157059051978\n",
            "\n",
            "Gradient Boosting Regressor\n",
            "RMSE: 0.06937036434239412\n",
            "MAE: 0.0377407536324609\n",
            "MAPE: 127.67913024536888\n",
            "R2: 0.8734778485856496\n",
            "\n"
          ]
        }
      ]
    },
    {
      "cell_type": "markdown",
      "source": [
        "Bisa dilihat bahwa tidak ada perubahan signifikan dari sebelumnya. Salah satu penyebab yang mungkin terjadi adalah seleksi fitur yang masih kurang tepat. Diperlukan percobaan lebih lanjut untuk menemukan perkembangan yang lebih bagus."
      ],
      "metadata": {
        "id": "h7RyTpj7Sbz-"
      }
    }
  ]
}